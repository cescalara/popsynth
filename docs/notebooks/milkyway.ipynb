{
 "cells": [
  {
   "cell_type": "markdown",
   "metadata": {},
   "source": [
    "# Fun with the Milk"
   ]
  },
  {
   "cell_type": "code",
   "execution_count": 1,
   "metadata": {
    "ExecuteTime": {
     "end_time": "2020-03-31T17:11:03.996033Z",
     "start_time": "2020-03-31T17:11:01.911775Z"
    }
   },
   "outputs": [
    {
     "name": "stderr",
     "output_type": "stream",
     "text": [
      "/Users/jburgess/coding/projects/popsynth/popsynth/distribution.py:7: TqdmExperimentalWarning: Using `tqdm.autonotebook.tqdm` in notebook mode. Use `tqdm.tqdm` instead to force console mode (e.g. in jupyter console)\n",
      "  from tqdm.autonotebook import tqdm as progress_bar\n"
     ]
    }
   ],
   "source": [
    "import popsynth\n",
    "from popsynth.populations.spatial_populations import MWRadialPopulation\n",
    "\n",
    "import ipyvolume as ipv\n",
    "import pythreejs\n",
    "\n",
    "import ipywidgets as widgets"
   ]
  },
  {
   "cell_type": "code",
   "execution_count": 2,
   "metadata": {},
   "outputs": [],
   "source": [
    "ld = popsynth.distributions.pareto_distribution.ParetoDistribution()\n",
    "ld.alpha =3\n",
    "ld.Lmin = 10"
   ]
  },
  {
   "cell_type": "code",
   "execution_count": 12,
   "metadata": {},
   "outputs": [],
   "source": [
    "synth = MWRadialPopulation(rho=.2, luminosity_distribution=ld)"
   ]
  },
  {
   "cell_type": "code",
   "execution_count": 13,
   "metadata": {},
   "outputs": [
    {
     "name": "stdout",
     "output_type": "stream",
     "text": [
      "The volume integral is 1935.351151\n"
     ]
    },
    {
     "data": {
      "application/vnd.jupyter.widget-view+json": {
       "model_id": "5d5c8df3f6b24a3fb06293878c87f2ae",
       "version_major": 2,
       "version_minor": 0
      },
      "text/plain": [
       "HBox(children=(FloatProgress(value=0.0, description='Drawing distances', max=1892.0, style=ProgressStyle(descr…"
      ]
     },
     "metadata": {},
     "output_type": "display_data"
    },
    {
     "name": "stdout",
     "output_type": "stream",
     "text": [
      "\n",
      "Expecting 1892 total objects\n",
      "Applying hard boundary\n",
      "No Selection! Added back all objects\n",
      "NO HIDDEN OBJECTS\n",
      "Deteced 1892 objects or to a distance of 19.97\n"
     ]
    }
   ],
   "source": [
    "population = synth.draw_survey(boundary=1E-2, hard_cut=True, flux_sigma= 0.1,verbose=True, no_selection=True)"
   ]
  },
  {
   "cell_type": "code",
   "execution_count": 14,
   "metadata": {
    "ExecuteTime": {
     "end_time": "2020-03-31T17:11:06.119147Z",
     "start_time": "2020-03-31T17:11:05.990771Z"
    }
   },
   "outputs": [
    {
     "data": {
      "application/vnd.jupyter.widget-view+json": {
       "model_id": "d2fe985a2bfe4ec48338af5d5e57209c",
       "version_major": 2,
       "version_minor": 0
      },
      "text/plain": [
       "VBox(children=(Figure(camera=PerspectiveCamera(fov=45.0, position=(0.0, 0.0, 2.0), quaternion=(0.0, 0.0, 0.0, …"
      ]
     },
     "metadata": {},
     "output_type": "display_data"
    }
   ],
   "source": [
    "fig = population.display_obs_fluxes_sphere(cmap='afmhot', background_color='black', size=.2)"
   ]
  },
  {
   "cell_type": "code",
   "execution_count": null,
   "metadata": {},
   "outputs": [],
   "source": []
  }
 ],
 "metadata": {
  "kernelspec": {
   "display_name": "popsynth",
   "language": "python",
   "name": "popsynth"
  },
  "language_info": {
   "codemirror_mode": {
    "name": "ipython",
    "version": 3
   },
   "file_extension": ".py",
   "mimetype": "text/x-python",
   "name": "python",
   "nbconvert_exporter": "python",
   "pygments_lexer": "ipython3",
   "version": "3.7.7"
  },
  "widgets": {
   "application/vnd.jupyter.widget-state+json": {
    "state": {
     "01bd531584934b378266cafd404c673f": {
      "model_module": "@jupyter-widgets/controls",
      "model_module_version": "1.5.0",
      "model_name": "HBoxModel",
      "state": {
       "children": [
        "IPY_MODEL_cd63a9625393410195285576a3f783e0",
        "IPY_MODEL_c23ba31c379244f59080259fb28cf46d"
       ],
       "layout": "IPY_MODEL_a59237e9247742bc89beaec0f3f3340e"
      }
     },
     "038bea89d62a4e2b9ea74c0fcba87865": {
      "model_module": "@jupyter-widgets/base",
      "model_module_version": "1.2.0",
      "model_name": "LayoutModel",
      "state": {}
     },
     "071d7741efcb4f7aa4b561acc596c112": {
      "model_module": "@jupyter-widgets/controls",
      "model_module_version": "1.5.0",
      "model_name": "LinkModel",
      "state": {
       "source": [
        "IPY_MODEL_8bc5256dfe5143ac8f4f86ab22eb5bfb",
        "autoRotate"
       ],
       "target": [
        "IPY_MODEL_5a65ccd3be4742459b3098fcab5b4de0",
        "value"
       ]
      }
     },
     "0b1faa9d48174937b1012ffb6203c615": {
      "model_module": "@jupyter-widgets/base",
      "model_module_version": "1.2.0",
      "model_name": "LayoutModel",
      "state": {}
     },
     "0b7fded3e6974f72bfa507e9b4452234": {
      "model_module": "@jupyter-widgets/controls",
      "model_module_version": "1.5.0",
      "model_name": "VBoxModel",
      "state": {
       "children": [
        "IPY_MODEL_32808032e28b4027a4c9022666bdcfa5"
       ],
       "layout": "IPY_MODEL_4bf04408c9994b7cbb6d637b2d5dc657"
      }
     },
     "0de127432cc647178158644db1c2b4cb": {
      "model_module": "bqplot",
      "model_module_version": "^0.5.6",
      "model_name": "LinearScaleModel",
      "state": {
       "max": 20,
       "min": -20,
       "stabilized": false
      }
     },
     "12e4a92f4d524700bbfa25c35ad617b2": {
      "model_module": "jupyter-threejs",
      "model_module_version": "^2.1.0",
      "model_name": "OrbitControlsModel",
      "state": {
       "_view_module": null,
       "_view_module_version": "",
       "autoRotate": true,
       "controlling": "IPY_MODEL_e008d43d50c048ee84ac3fa0b2446085",
       "maxAzimuthAngle": "inf",
       "maxDistance": "inf",
       "maxZoom": "inf",
       "minAzimuthAngle": "-inf"
      }
     },
     "17f9dabdeee0448a8bc5605252593e53": {
      "model_module": "@jupyter-widgets/controls",
      "model_module_version": "1.5.0",
      "model_name": "FloatProgressModel",
      "state": {
       "bar_style": "success",
       "description": "Drawing distances: 100%",
       "layout": "IPY_MODEL_ce189ac25020453fbc26ca9b1b99562a",
       "max": 937,
       "style": "IPY_MODEL_ec4d90efc3b142caaa57d9dfc668b6b2",
       "value": 937
      }
     },
     "1807c2cb9f2b46dab6a1d50ba991d9bd": {
      "model_module": "@jupyter-widgets/controls",
      "model_module_version": "1.5.0",
      "model_name": "DescriptionStyleModel",
      "state": {
       "description_width": ""
      }
     },
     "180930d467234d9f80d73efab0654c79": {
      "model_module": "jupyter-threejs",
      "model_module_version": "^2.1.0",
      "model_name": "OrbitControlsModel",
      "state": {
       "_view_module": null,
       "_view_module_version": "",
       "autoRotate": true,
       "controlling": "IPY_MODEL_f5fef17473054afea7568463e9a59fad",
       "maxAzimuthAngle": "inf",
       "maxDistance": "inf",
       "maxZoom": "inf",
       "minAzimuthAngle": "-inf"
      }
     },
     "18919ac1b0a340e18b3a3a4a96b56e89": {
      "model_module": "@jupyter-widgets/base",
      "model_module_version": "1.2.0",
      "model_name": "LayoutModel",
      "state": {}
     },
     "1b116b4efc6f43c38afc1a47780cc524": {
      "model_module": "@jupyter-widgets/controls",
      "model_module_version": "1.5.0",
      "model_name": "LinkModel",
      "state": {
       "source": [
        "IPY_MODEL_180930d467234d9f80d73efab0654c79",
        "autoRotate"
       ],
       "target": [
        "IPY_MODEL_1fef882646dd498cb491c22e63b9edea",
        "value"
       ]
      }
     },
     "1d841fa92a7c402eb9927d9d85d90eff": {
      "model_module": "@jupyter-widgets/controls",
      "model_module_version": "1.5.0",
      "model_name": "ToggleButtonModel",
      "state": {
       "description": "Rotate",
       "layout": "IPY_MODEL_1f157a8f026949f0899f7df691985e85",
       "style": "IPY_MODEL_fa030d603915403abfcf9b31083cbd5b",
       "value": true
      }
     },
     "1f157a8f026949f0899f7df691985e85": {
      "model_module": "@jupyter-widgets/base",
      "model_module_version": "1.2.0",
      "model_name": "LayoutModel",
      "state": {}
     },
     "1fef882646dd498cb491c22e63b9edea": {
      "model_module": "@jupyter-widgets/controls",
      "model_module_version": "1.5.0",
      "model_name": "ToggleButtonModel",
      "state": {
       "description": "Rotate",
       "layout": "IPY_MODEL_99a5abc30e93497ebbb41f46c3b8fa78",
       "style": "IPY_MODEL_ed8dae51832d45e3b5a8d6f306a39edb",
       "value": true
      }
     },
     "25c75e9749cb47f8b578a5a3f3262af1": {
      "model_module": "@jupyter-widgets/base",
      "model_module_version": "1.2.0",
      "model_name": "LayoutModel",
      "state": {}
     },
     "26d816d0075e4033a1c4ab4ea58e19ee": {
      "model_module": "jupyter-threejs",
      "model_module_version": "^2.1.0",
      "model_name": "OrbitControlsModel",
      "state": {
       "_view_module": null,
       "_view_module_version": "",
       "autoRotate": true,
       "controlling": "IPY_MODEL_6fcbca752cb648d7b2eb53af244e8bb4",
       "maxAzimuthAngle": "inf",
       "maxDistance": "inf",
       "maxZoom": "inf",
       "minAzimuthAngle": "-inf"
      }
     },
     "26e72556694b4c58bbd1e22148ee7005": {
      "model_module": "bqplot",
      "model_module_version": "^0.5.6",
      "model_name": "LinearScaleModel",
      "state": {
       "max": 20,
       "min": -20,
       "stabilized": false
      }
     },
     "2a2d00a902dc4e53a819a826adaa3541": {
      "model_module": "@jupyter-widgets/controls",
      "model_module_version": "1.5.0",
      "model_name": "DescriptionStyleModel",
      "state": {
       "description_width": ""
      }
     },
     "2a8efbb67ef941ec85e67c2e09bfaf0d": {
      "model_module": "bqplot",
      "model_module_version": "^0.5.6",
      "model_name": "LinearScaleModel",
      "state": {
       "max": 20,
       "min": -20,
       "stabilized": false
      }
     },
     "2c134995c7b64d889af5be052622117b": {
      "model_module": "jupyter-threejs",
      "model_module_version": "^2.1.0",
      "model_name": "SceneModel",
      "state": {
       "_view_module": null,
       "_view_module_version": "",
       "background": null
      }
     },
     "2e89d05b56fb4676ab53a37b025983d7": {
      "model_module": "@jupyter-widgets/base",
      "model_module_version": "1.2.0",
      "model_name": "LayoutModel",
      "state": {}
     },
     "32790da499644b89bdc87e121613ad49": {
      "model_module": "@jupyter-widgets/base",
      "model_module_version": "1.2.0",
      "model_name": "LayoutModel",
      "state": {}
     },
     "32808032e28b4027a4c9022666bdcfa5": {
      "model_module": "ipyvolume",
      "model_module_version": "~0.6.0-alpha.2",
      "model_name": "FigureModel",
      "state": {
       "_model_module_version": "~0.6.0-alpha.2",
       "_view_module_version": "~0.6.0-alpha.2",
       "camera": "IPY_MODEL_e77ccdbc78124354929b244f76b674cf",
       "controls": "IPY_MODEL_51e8a388bdda4444910ea73796d69bfa",
       "height": 600,
       "layout": "IPY_MODEL_2e89d05b56fb4676ab53a37b025983d7",
       "matrix_projection": [
        1.8106601717798212,
        0,
        0,
        0,
        0,
        2.414213562373095,
        0,
        0,
        0,
        0,
        -1.00010000500025,
        -1,
        0,
        0,
        -0.200010000500025,
        0
       ],
       "matrix_world": [
        -2.081668171172168e-18,
        0.02324258467908413,
        0.009207728136495117,
        0,
        -0.023843732019265623,
        -0.002767872934317769,
        0.006986796319696048,
        0,
        0.0075150810636643904,
        -0.008781864087713665,
        0.02216759842092684,
        0,
        -1.1102230246251563e-16,
        1.1102230246251563e-16,
        -1.2604988194467945,
        1
       ],
       "meshes": [],
       "render_continuous": true,
       "scales": {
        "x": "IPY_MODEL_830d085d87f54d4f948a2d0aed74d860",
        "y": "IPY_MODEL_26e72556694b4c58bbd1e22148ee7005",
        "z": "IPY_MODEL_2a8efbb67ef941ec85e67c2e09bfaf0d"
       },
       "scatters": [
        "IPY_MODEL_779575b2e0854cdbbdff9ebb76f97ede"
       ],
       "scene": "IPY_MODEL_3a638fe4d88a49f59a031fa6c9379576",
       "style": {
        "axes": {
         "color": "white",
         "label": {
          "color": "white"
         },
         "ticklabel": {
          "color": "white"
         },
         "visible": false
        },
        "background-color": "black",
        "box": {
         "visible": false
        }
       },
       "volumes": [],
       "width": 800
      }
     },
     "32d87ffa23b74086918d6a48ccc98611": {
      "model_module": "ipyvolume",
      "model_module_version": "~0.6.0-alpha.2",
      "model_name": "FigureModel",
      "state": {
       "_model_module_version": "~0.6.0-alpha.2",
       "_view_module_version": "~0.6.0-alpha.2",
       "camera": "IPY_MODEL_e008d43d50c048ee84ac3fa0b2446085",
       "controls": "IPY_MODEL_12e4a92f4d524700bbfa25c35ad617b2",
       "height": 500,
       "layout": "IPY_MODEL_4761577a02a04f03b50c616441693003",
       "matrix_projection": [
        3.0177669529663684,
        0,
        0,
        0,
        0,
        2.414213562373095,
        0,
        0,
        0,
        0,
        -1.00010000500025,
        -1,
        0,
        0,
        -0.200010000500025,
        0
       ],
       "matrix_world": [
        1.3877787807814458e-18,
        0.022136400641330586,
        0.011618079301093574,
        0,
        -0.015296659769955496,
        0.009189449210570735,
        -0.017509032614298425,
        0,
        -0.019774028418160654,
        -0.00710871224996763,
        0.013544519565674344,
        0,
        4.440892098500626e-16,
        1.1102230246251565e-16,
        -3.0146795390560284,
        1
       ],
       "meshes": [],
       "render_continuous": true,
       "scales": {
        "x": "IPY_MODEL_f80d058659c24bf587a525e198e11c7e",
        "y": "IPY_MODEL_f600d6f8636946bca2f2ea79f02bfc40",
        "z": "IPY_MODEL_cbedadb2cbe445ba8115813c60f38d06"
       },
       "scatters": [
        "IPY_MODEL_81a9d7e3fbf444729db08516aa63e076"
       ],
       "scene": "IPY_MODEL_637e1c55a76d49ca8978b109ce8145be",
       "style": {
        "axes": {
         "color": "white",
         "label": {
          "color": "white"
         },
         "ticklabel": {
          "color": "white"
         },
         "visible": false
        },
        "background-color": "black",
        "box": {
         "visible": false
        }
       },
       "volumes": [],
       "width": 400
      }
     },
     "3a367e69c08748ca83505e6b511ab66c": {
      "model_module": "bqplot",
      "model_module_version": "^0.5.6",
      "model_name": "LinearScaleModel",
      "state": {
       "max": 20,
       "min": -20,
       "stabilized": false
      }
     },
     "3a638fe4d88a49f59a031fa6c9379576": {
      "model_module": "jupyter-threejs",
      "model_module_version": "^2.1.0",
      "model_name": "SceneModel",
      "state": {
       "_view_module": null,
       "_view_module_version": "",
       "background": null
      }
     },
     "44271ad51a764949b80860d70e22d69f": {
      "model_module": "@jupyter-widgets/base",
      "model_module_version": "1.2.0",
      "model_name": "LayoutModel",
      "state": {}
     },
     "4761577a02a04f03b50c616441693003": {
      "model_module": "@jupyter-widgets/base",
      "model_module_version": "1.2.0",
      "model_name": "LayoutModel",
      "state": {}
     },
     "4a513e09b55c41f8ad9af3fed59ab0f4": {
      "model_module": "jupyter-threejs",
      "model_module_version": "^2.1.0",
      "model_name": "ShaderMaterialModel",
      "state": {
       "_view_module": null,
       "_view_module_version": ""
      }
     },
     "4a8e674e1af34727946977019b2935e8": {
      "model_module": "@jupyter-widgets/base",
      "model_module_version": "1.2.0",
      "model_name": "LayoutModel",
      "state": {}
     },
     "4b74ad17481b47d896d22e6aa6e2e992": {
      "model_module": "@jupyter-widgets/base",
      "model_module_version": "1.2.0",
      "model_name": "LayoutModel",
      "state": {}
     },
     "4bf04408c9994b7cbb6d637b2d5dc657": {
      "model_module": "@jupyter-widgets/base",
      "model_module_version": "1.2.0",
      "model_name": "LayoutModel",
      "state": {}
     },
     "4bf1a21a148d4a0e8bc9fd318dda2984": {
      "model_module": "@jupyter-widgets/controls",
      "model_module_version": "1.5.0",
      "model_name": "HBoxModel",
      "state": {
       "children": [
        "IPY_MODEL_17f9dabdeee0448a8bc5605252593e53",
        "IPY_MODEL_c9faefc7e41846cc8467ccf4320e05a8"
       ],
       "layout": "IPY_MODEL_18919ac1b0a340e18b3a3a4a96b56e89"
      }
     },
     "4db0431b7e8b418aa2bb7eb659001aca": {
      "model_module": "jupyter-threejs",
      "model_module_version": "^2.1.0",
      "model_name": "ShaderMaterialModel",
      "state": {
       "_view_module": null,
       "_view_module_version": ""
      }
     },
     "4f41c74eeb2b4f4d8c371bda4b260ea0": {
      "model_module": "@jupyter-widgets/controls",
      "model_module_version": "1.5.0",
      "model_name": "LinkModel",
      "state": {
       "source": [
        "IPY_MODEL_51e8a388bdda4444910ea73796d69bfa",
        "autoRotate"
       ],
       "target": [
        "IPY_MODEL_c3e3a0dbd5244c75bcf50961f5e2cfbb",
        "value"
       ]
      }
     },
     "51e8a388bdda4444910ea73796d69bfa": {
      "model_module": "jupyter-threejs",
      "model_module_version": "^2.1.0",
      "model_name": "OrbitControlsModel",
      "state": {
       "_view_module": null,
       "_view_module_version": "",
       "autoRotate": true,
       "controlling": "IPY_MODEL_e77ccdbc78124354929b244f76b674cf",
       "maxAzimuthAngle": "inf",
       "maxDistance": "inf",
       "maxZoom": "inf",
       "minAzimuthAngle": "-inf"
      }
     },
     "529aba5ff1cd4dbfa856869d641264f6": {
      "model_module": "@jupyter-widgets/controls",
      "model_module_version": "1.5.0",
      "model_name": "ProgressStyleModel",
      "state": {
       "description_width": "initial"
      }
     },
     "52db0bb9972f4123b44623e95cec8ed4": {
      "model_module": "@jupyter-widgets/controls",
      "model_module_version": "1.5.0",
      "model_name": "DescriptionStyleModel",
      "state": {
       "description_width": ""
      }
     },
     "54517c068d0a4d9ab9d959174bf191da": {
      "model_module": "@jupyter-widgets/controls",
      "model_module_version": "1.5.0",
      "model_name": "VBoxModel",
      "state": {
       "children": [
        "IPY_MODEL_ada525d9737143f59152ab4e23028fcd"
       ],
       "layout": "IPY_MODEL_4b74ad17481b47d896d22e6aa6e2e992"
      }
     },
     "5810f31dd6b14a63897aad71c4e8a967": {
      "model_module": "@jupyter-widgets/controls",
      "model_module_version": "1.5.0",
      "model_name": "VBoxModel",
      "state": {
       "children": [
        "IPY_MODEL_d636dd55e01f431884f53a98fe2b95d8"
       ],
       "layout": "IPY_MODEL_cea3e39f6adc4490a5150ad889cfa5df"
      }
     },
     "5a65ccd3be4742459b3098fcab5b4de0": {
      "model_module": "@jupyter-widgets/controls",
      "model_module_version": "1.5.0",
      "model_name": "ToggleButtonModel",
      "state": {
       "description": "Rotate",
       "layout": "IPY_MODEL_8f204a7d8fc6405abf7d946184957c5b",
       "style": "IPY_MODEL_f03b6faf0be240529c7fb2a672670cd2",
       "value": true
      }
     },
     "5d5c8df3f6b24a3fb06293878c87f2ae": {
      "model_module": "@jupyter-widgets/controls",
      "model_module_version": "1.5.0",
      "model_name": "HBoxModel",
      "state": {
       "children": [
        "IPY_MODEL_b567de8a6e964fbf853171f079f1565f",
        "IPY_MODEL_d995fd16c3da4e98a29be08f536b77bd"
       ],
       "layout": "IPY_MODEL_4a8e674e1af34727946977019b2935e8"
      }
     },
     "631026e514c54a80bed5bff0b96c4c2b": {
      "model_module": "@jupyter-widgets/controls",
      "model_module_version": "1.5.0",
      "model_name": "ToggleButtonModel",
      "state": {
       "description": "Rotate",
       "layout": "IPY_MODEL_038bea89d62a4e2b9ea74c0fcba87865",
       "style": "IPY_MODEL_1807c2cb9f2b46dab6a1d50ba991d9bd",
       "value": true
      }
     },
     "637e1c55a76d49ca8978b109ce8145be": {
      "model_module": "jupyter-threejs",
      "model_module_version": "^2.1.0",
      "model_name": "SceneModel",
      "state": {
       "_view_module": null,
       "_view_module_version": "",
       "background": null
      }
     },
     "64579096688b4d90a34332ab2b6fa43a": {
      "model_module": "bqplot",
      "model_module_version": "^0.5.6",
      "model_name": "LinearScaleModel",
      "state": {
       "max": 20,
       "min": -20,
       "stabilized": false
      }
     },
     "6cc4342c2b8e4e6e865cb4b76dd3793e": {
      "model_module": "jupyter-threejs",
      "model_module_version": "^2.1.0",
      "model_name": "ShaderMaterialModel",
      "state": {
       "_view_module": null,
       "_view_module_version": ""
      }
     },
     "6fcbca752cb648d7b2eb53af244e8bb4": {
      "model_module": "jupyter-threejs",
      "model_module_version": "^2.1.0",
      "model_name": "PerspectiveCameraModel",
      "state": {
       "_view_module": null,
       "_view_module_version": "",
       "aspect": 1.3333333333333333,
       "focus": 0.8802533373033068,
       "fov": 45,
       "matrix": [
        -2.220446049250313e-16,
        0.8061821607876989,
        0.591667409637946,
        0,
        0.9207477734951484,
        -0.23084397993598738,
        0.31453870116575566,
        0,
        0.3901583493964047,
        0.5447764500737806,
        -0.7422904295767814,
        0,
        0.3434381891329349,
        0.47954128826169373,
        -0.653403627883267,
        1
       ],
       "matrixWorld": [
        -2.220446049250313e-16,
        0.8061821607876989,
        0.591667409637946,
        0,
        0.9207477734951484,
        -0.23084397993598738,
        0.31453870116575566,
        0,
        0.3901583493964047,
        0.5447764500737806,
        -0.7422904295767814,
        0,
        0.3434381891329349,
        0.47954128826169373,
        -0.653403627883267,
        1
       ],
       "matrixWorldInverse": [
        -1.1102230246251565e-16,
        0.9207477734951485,
        0.3901583493964048,
        0,
        0.8061821607876989,
        -0.23084397993598726,
        0.5447764500737807,
        0,
        0.591667409637946,
        0.31453870116575566,
        -0.7422904295767815,
        0,
        -5.551115123125783e-17,
        -4.227971558728843e-18,
        -0.880253337303307,
        1.0000000000000002
       ],
       "position": [
        0.3434381891329349,
        0.47954128826169373,
        -0.653403627883267
       ],
       "projectionMatrix": [
        1.8106601717798212,
        0,
        0,
        0,
        0,
        2.414213562373095,
        0,
        0,
        0,
        0,
        -1.00010000500025,
        -1,
        0,
        0,
        -0.200010000500025,
        0
       ],
       "quaternion": [
        0.7023415140643419,
        0.6147044919391744,
        0.34948302904404605,
        -0.08195363092510177
       ],
       "rotation": [
        -2.5084670997162175,
        0.4008035655611954,
        -1.5707963267948968,
        "XYZ"
       ],
       "up": [
        1,
        0,
        0
       ]
      }
     },
     "70daf5f3b74f47ba9fc4abdec8a74c79": {
      "buffers": [
       {
        "data": "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",
        "encoding": "base64",
        "path": [
         "color",
         0,
         "data"
        ]
       },
       {
        "data": "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",
        "encoding": "base64",
        "path": [
         "x",
         0,
         "data"
        ]
       },
       {
        "data": "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",
        "encoding": "base64",
        "path": [
         "y",
         0,
         "data"
        ]
       },
       {
        "data": "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",
        "encoding": "base64",
        "path": [
         "z",
         0,
         "data"
        ]
       }
      ],
      "model_module": "ipyvolume",
      "model_module_version": "~0.6.0-alpha.2",
      "model_name": "ScatterModel",
      "state": {
       "_model_module_version": "~0.6.0-alpha.2",
       "_view_module_version": "~0.6.0-alpha.2",
       "aux": null,
       "aux_scale": null,
       "color": [
        {
         "dtype": "float32",
         "shape": [
          1892,
          4
         ]
        }
       ],
       "geo": "sphere",
       "line_material": "IPY_MODEL_c38e15bc176f4841944f117f6917ffdb",
       "material": "IPY_MODEL_d6e5dd6ff4954f1b8242d57e698b239b",
       "size": 0.2,
       "size_selected": 2.6,
       "size_x_scale": null,
       "size_y_scale": null,
       "size_z_scale": null,
       "texture": null,
       "vx": null,
       "vy": null,
       "vz": null,
       "x": [
        {
         "dtype": "float32",
         "shape": [
          1892
         ]
        }
       ],
       "y": [
        {
         "dtype": "float32",
         "shape": [
          1892
         ]
        }
       ],
       "z": [
        {
         "dtype": "float32",
         "shape": [
          1892
         ]
        }
       ]
      }
     },
     "70eedf9c65ae43da950b95b6e5f1b1c8": {
      "model_module": "jupyter-threejs",
      "model_module_version": "^2.1.0",
      "model_name": "ShaderMaterialModel",
      "state": {
       "_view_module": null,
       "_view_module_version": ""
      }
     },
     "779575b2e0854cdbbdff9ebb76f97ede": {
      "buffers": [
       {
        "data": "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",
        "encoding": "base64",
        "path": [
         "color",
         0,
         "data"
        ]
       },
       {
        "data": "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",
        "encoding": "base64",
        "path": [
         "x",
         0,
         "data"
        ]
       },
       {
        "data": "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",
        "encoding": "base64",
        "path": [
         "y",
         0,
         "data"
        ]
       },
       {
        "data": "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",
        "encoding": "base64",
        "path": [
         "z",
         0,
         "data"
        ]
       }
      ],
      "model_module": "ipyvolume",
      "model_module_version": "~0.6.0-alpha.2",
      "model_name": "ScatterModel",
      "state": {
       "_model_module_version": "~0.6.0-alpha.2",
       "_view_module_version": "~0.6.0-alpha.2",
       "aux": null,
       "aux_scale": null,
       "color": [
        {
         "dtype": "float32",
         "shape": [
          937,
          4
         ]
        }
       ],
       "geo": "sphere",
       "line_material": "IPY_MODEL_4a513e09b55c41f8ad9af3fed59ab0f4",
       "material": "IPY_MODEL_b728ac8e46b8489388f1e13c916241a3",
       "size": 0.5,
       "size_selected": 2.6,
       "size_x_scale": null,
       "size_y_scale": null,
       "size_z_scale": null,
       "texture": null,
       "vx": null,
       "vy": null,
       "vz": null,
       "x": [
        {
         "dtype": "float32",
         "shape": [
          937
         ]
        }
       ],
       "y": [
        {
         "dtype": "float32",
         "shape": [
          937
         ]
        }
       ],
       "z": [
        {
         "dtype": "float32",
         "shape": [
          937
         ]
        }
       ]
      }
     },
     "7cae2f41c77f40a4ae97fc905d396c6c": {
      "model_module": "@jupyter-widgets/base",
      "model_module_version": "1.2.0",
      "model_name": "LayoutModel",
      "state": {}
     },
     "7d592c6630394b94be33cfb1da36d674": {
      "model_module": "jupyter-threejs",
      "model_module_version": "^2.1.0",
      "model_name": "ShaderMaterialModel",
      "state": {
       "_view_module": null,
       "_view_module_version": ""
      }
     },
     "8109cd2623074c748b1980302e96d883": {
      "model_module": "bqplot",
      "model_module_version": "^0.5.6",
      "model_name": "LinearScaleModel",
      "state": {
       "max": 20,
       "min": -20,
       "stabilized": false
      }
     },
     "81a9d7e3fbf444729db08516aa63e076": {
      "buffers": [
       {
        "data": "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",
        "encoding": "base64",
        "path": [
         "color",
         0,
         "data"
        ]
       },
       {
        "data": "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",
        "encoding": "base64",
        "path": [
         "x",
         0,
         "data"
        ]
       },
       {
        "data": "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",
        "encoding": "base64",
        "path": [
         "y",
         0,
         "data"
        ]
       },
       {
        "data": "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",
        "encoding": "base64",
        "path": [
         "z",
         0,
         "data"
        ]
       }
      ],
      "model_module": "ipyvolume",
      "model_module_version": "~0.6.0-alpha.2",
      "model_name": "ScatterModel",
      "state": {
       "_model_module_version": "~0.6.0-alpha.2",
       "_view_module_version": "~0.6.0-alpha.2",
       "aux": null,
       "aux_scale": null,
       "color": [
        {
         "dtype": "float32",
         "shape": [
          937,
          4
         ]
        }
       ],
       "geo": "sphere",
       "line_material": "IPY_MODEL_fdab73f696494f52a95bf8f421ec7b02",
       "material": "IPY_MODEL_7d592c6630394b94be33cfb1da36d674",
       "size": 0.5,
       "size_selected": 2.6,
       "size_x_scale": null,
       "size_y_scale": null,
       "size_z_scale": null,
       "texture": null,
       "vx": null,
       "vy": null,
       "vz": null,
       "x": [
        {
         "dtype": "float32",
         "shape": [
          937
         ]
        }
       ],
       "y": [
        {
         "dtype": "float32",
         "shape": [
          937
         ]
        }
       ],
       "z": [
        {
         "dtype": "float32",
         "shape": [
          937
         ]
        }
       ]
      }
     },
     "830d085d87f54d4f948a2d0aed74d860": {
      "model_module": "bqplot",
      "model_module_version": "^0.5.6",
      "model_name": "LinearScaleModel",
      "state": {
       "max": 20,
       "min": -20,
       "stabilized": false
      }
     },
     "84ef0b54dbea4cdaa9a35076ceeec728": {
      "model_module": "@jupyter-widgets/controls",
      "model_module_version": "1.5.0",
      "model_name": "DescriptionStyleModel",
      "state": {
       "description_width": ""
      }
     },
     "84fc1c105e5340c4811910d0f7672b79": {
      "model_module": "@jupyter-widgets/controls",
      "model_module_version": "1.5.0",
      "model_name": "ProgressStyleModel",
      "state": {
       "description_width": "initial"
      }
     },
     "877caff5a7d5487e89583729de2192ae": {
      "model_module": "jupyter-threejs",
      "model_module_version": "^2.1.0",
      "model_name": "PerspectiveCameraModel",
      "state": {
       "_view_module": null,
       "_view_module_version": "",
       "aspect": 0.8,
       "focus": 1.9999999999979954,
       "fov": 45,
       "matrix": [
        0,
        0.9631625667977193,
        -0.2689198206150469,
        0,
        0.94213212397977,
        0.09015316331412226,
        0.32289234755538065,
        0,
        0.33524179477709454,
        -0.25335800177631285,
        -0.9074263947949426,
        0,
        0.6704835895535171,
        -0.5067160035521177,
        -1.8148527895880655,
        1
       ],
       "matrixWorld": [
        0,
        0.9631625667977193,
        -0.2689198206150469,
        0,
        0.94213212397977,
        0.09015316331412226,
        0.32289234755538065,
        0,
        0.33524179477709454,
        -0.25335800177631285,
        -0.9074263947949426,
        0,
        0.6704835895535171,
        -0.5067160035521177,
        -1.8148527895880655,
        1
       ],
       "matrixWorldInverse": [
        3.1918911957973236e-16,
        0.9421321239797698,
        0.3352417947770943,
        0,
        0.9631625667977193,
        0.09015316331412258,
        -0.25335800177631274,
        0,
        -0.2689198206150467,
        0.32289234755538043,
        -0.9074263947949419,
        0,
        0,
        -2.220446049250312e-16,
        -1.999999999997995,
        1
       ],
       "position": [
        0.6704835895535171,
        -0.5067160035521177,
        -1.8148527895880655
       ],
       "projectionMatrix": [
        3.0177669529663684,
        0,
        0,
        0,
        0,
        2.414213562373095,
        0,
        0,
        0,
        0,
        -1.00010000500025,
        -1,
        0,
        0,
        -0.200010000500025,
        0
       ],
       "quaternion": [
        0.6740313849296671,
        0.7066787739328713,
        0.02459899332765052,
        0.21373275867258887
       ],
       "rotation": [
        2.869321290278905,
        0.34186186474344427,
        -1.5707963267948966,
        "XYZ"
       ],
       "up": [
        1,
        0,
        0
       ]
      }
     },
     "87ab38e981244b109e18506c2d674aad": {
      "model_module": "jupyter-threejs",
      "model_module_version": "^2.1.0",
      "model_name": "ShaderMaterialModel",
      "state": {
       "_view_module": null,
       "_view_module_version": ""
      }
     },
     "8986cc1b9a07492cb9f4a4f5d4530e44": {
      "model_module": "@jupyter-widgets/base",
      "model_module_version": "1.2.0",
      "model_name": "LayoutModel",
      "state": {}
     },
     "8bc5256dfe5143ac8f4f86ab22eb5bfb": {
      "model_module": "jupyter-threejs",
      "model_module_version": "^2.1.0",
      "model_name": "OrbitControlsModel",
      "state": {
       "_view_module": null,
       "_view_module_version": "",
       "autoRotate": true,
       "controlling": "IPY_MODEL_edd24607d9974e7c8206d7abb84882ab",
       "maxAzimuthAngle": "inf",
       "maxDistance": "inf",
       "maxZoom": "inf",
       "minAzimuthAngle": "-inf"
      }
     },
     "8e5abfba2ec04a16b0b2967b715975ab": {
      "model_module": "@jupyter-widgets/base",
      "model_module_version": "1.2.0",
      "model_name": "LayoutModel",
      "state": {}
     },
     "8f204a7d8fc6405abf7d946184957c5b": {
      "model_module": "@jupyter-widgets/base",
      "model_module_version": "1.2.0",
      "model_name": "LayoutModel",
      "state": {}
     },
     "952bba95157d45f29a20c4a56dfda022": {
      "model_module": "jupyter-threejs",
      "model_module_version": "^2.1.0",
      "model_name": "ShaderMaterialModel",
      "state": {
       "_view_module": null,
       "_view_module_version": ""
      }
     },
     "954818bf81d24caf8bc7eeb84027a606": {
      "model_module": "@jupyter-widgets/base",
      "model_module_version": "1.2.0",
      "model_name": "LayoutModel",
      "state": {}
     },
     "96b14ea065094162afb389297d644101": {
      "model_module": "bqplot",
      "model_module_version": "^0.5.6",
      "model_name": "LinearScaleModel",
      "state": {
       "max": 20,
       "min": -20,
       "stabilized": false
      }
     },
     "99a5abc30e93497ebbb41f46c3b8fa78": {
      "model_module": "@jupyter-widgets/base",
      "model_module_version": "1.2.0",
      "model_name": "LayoutModel",
      "state": {}
     },
     "9b050bc0b1d04d67a3800207dd45fe76": {
      "model_module": "@jupyter-widgets/controls",
      "model_module_version": "1.5.0",
      "model_name": "LinkModel",
      "state": {
       "source": [
        "IPY_MODEL_26d816d0075e4033a1c4ab4ea58e19ee",
        "autoRotate"
       ],
       "target": [
        "IPY_MODEL_631026e514c54a80bed5bff0b96c4c2b",
        "value"
       ]
      }
     },
     "9b7461fd9130446c984c77b8cd35e844": {
      "model_module": "@jupyter-widgets/controls",
      "model_module_version": "1.5.0",
      "model_name": "ToggleButtonModel",
      "state": {
       "description": "Rotate",
       "layout": "IPY_MODEL_8e5abfba2ec04a16b0b2967b715975ab",
       "style": "IPY_MODEL_ad91364e92fd4354990f0b2d6e988bff",
       "value": true
      }
     },
     "9d4403b65cbb4aca9757de07431681a9": {
      "model_module": "jupyter-threejs",
      "model_module_version": "^2.1.0",
      "model_name": "OrbitControlsModel",
      "state": {
       "_view_module": null,
       "_view_module_version": "",
       "autoRotate": true,
       "controlling": "IPY_MODEL_877caff5a7d5487e89583729de2192ae",
       "maxAzimuthAngle": "inf",
       "maxDistance": "inf",
       "maxZoom": "inf",
       "minAzimuthAngle": "-inf"
      }
     },
     "a081bdd770264df5a15804557b36b253": {
      "model_module": "bqplot",
      "model_module_version": "^0.5.6",
      "model_name": "LinearScaleModel",
      "state": {
       "max": 20,
       "min": -20,
       "stabilized": false
      }
     },
     "a0dd941a72944aac8f033b98dffa76a7": {
      "buffers": [
       {
        "data": "eHi4PlBQwD51ePg+AACAPzMzMz4vMzM+XVJ5PgAAgD9ra2s+ZWtrPinFoz4AAIA/t7Y2PrK2Nj7dNX4+AACAPx4eHj4aHh4+Yv1bPgAAgD8CAoI+/wGCPmfhtD4AAIA/zMtLPsfLSz5sxY0+AACAP05Ojj5LTo4+pf3FPgAAgD/9/Pw+QkMPP31+Hj8AAIA/vr09Prm9PT5u/oM+AACAP+HgYD7b4GA+6m+cPgAAgD95eXk+c3l5PiiMrT4AAIA/qaioPpKSqj6lqOg+AACAPxcXFz4TFxc+YzZSPgAAgD9ISEg+Q0hIPq1Tiz4AAIA/GBjYPsvL6z4KDAw/AACAPy8vDz81NiY/Li8vPwAAgD/T0tI9zdLSPeyoEj4AAIA/Tk6OPktOjj6l/cU+AACAP+7trT7R0bE+6u3tPgAAgD8lJSU+ISUlPmDEZT4AAIA/AgKCPv8Bgj5n4bQ+AACAPzMzMz4vMzM+XVJ5PgAAgD9AQIA+PUCAPqdvsj4AAIA/oqGhPZ2hoT3h4OA9AACAP1xcnD5YXJw+oovZPgAAgD+ioSE+naEhPuHgYD4AAIA/m5oaPpeaGj7iGVc+AACAP09Pzz63t98+pqcHPwAAgD9WVtY+YGHpPikrCz8AAIA/QEAAP62tET8/QCA/AACAPzo6Oj41Ojo+royBPgAAgD/h4OA92+DgPepvHD4AAIA/e3sbPx4fNz96ezs/AACAPx4eHj4aHh4+Yv1bPgAAgD/FxMQ9wMTEPe3hCD4AAIA/R0eHPkRHhz6mNrw+AACAP3h4uD5QUMA+dXj4PgAAgD9ISEg+Q0hIPq1Tiz4AAIA/6OfnPeLn5z1qUyE+AACAPyUlJT4hJSU+YMRlPgAAgD9jY6M+X2OjPqFS4z4AAIA/oqGhPZ2hoT3h4OA9AACAP6KhIT6doSE+4eBgPgAAgD/9/Hw+9/x8Puj9rz4AAIA/EBCQPgwQkD5kb8g+AACAP7Cvrz2rr6893m70PQAAgD9ycnI+bHJyPqmoqD4AAIA/SEhIPkNISD6tU4s+AACAP+fmpj4oKKg+4+bmPgAAgD/29fU98PX1PWgaKz4AAIA/vr09Prm9PT5u/oM+AACAPwICgj7/AYI+Z+G0PgAAgD8JCYk+BgmJPmaovj4AAIA/9vX1PfD19T1oGis+AACAP6qp6T75+QE/09QUPwAAgD9VVZU+UlWVPqPEzz4AAIA/lJMTPpCTEz7kUk0+AACAP2Rk5D60tPw+MTISPwAAgD/S0ZE+ztGRPiThyj4AAIA/AACAPwAAgD8AAIA/AACAPzMzMz4vMzM+XVJ5PgAAgD8lJaU+vr2lPiEl5T4AAIA/xcREPsDERD7t4Yg+AACAP5STkz2Qk5M95FLNPQAAgD8XFxc+ExcXPmM2Uj4AAIA/zMtLPsfLSz5sxY0+AACAP7e2tj2ytrY93TX+PQAAgD+GhYU+goWFPubEuT4AAIA/CQkJPgYJCT5mqD4+AACAP9LRkT7O0ZE+JOHKPgAAgD/FxEQ+wMREPu3hiD4AAIA/Tk6OPktOjj6l/cU+AACAPx8f3z50dfU+jo8PPwAAgD/v7m4+6e5uPuk2pj4AAIA/Hh4ePhoeHj5i/Vs+AACAP+Dfnz7c358+IW/ePgAAgD/9/Pw99/z8Pej9Lz4AAIA/AgKCPv8Bgj5n4bQ+AACAP9nYmD7V2Jg+I6jUPgAAgD+/vv4+eHgQP15fHz8AAIA/eHi4PlBQwD51ePg+AACAPwICAj7/AQI+Z+E0PgAAgD9dXV0+WF1dPiv+mT4AAIA/qaioPpKSqj6lqOg+AACAPywsrD5nZ68+KCzsPgAAgD++vb09ub29PW7+Az4AAIA/xMMDP4KCFj/CwyM/AACAP9LRkT7O0ZE+JOHKPgAAgD8CAgI+/wECPmfhND4AAIA/09JSPs3SUj7sqJI+AACAP+Hg4Dzb4OA86m8cPQAAgD94eLg+UFDAPnV4+D4AAIA/7+5uPunubj7pNqY+AACAP+Dfnz7c358+IW/ePgAAgD+Ojc0+TE3dPsXGBj8AAIA/MzMzPi8zMz5dUnk+AACAPyUlpT6+vaU+ISXlPgAAgD+pqCg+pKgoPuCnaj4AAIA/jYwMPomMDD7li0M+AACAP9PSUj7N0lI+7KiSPgAAgD9VVZU+UlWVPqPEzz4AAIA/amqqPv38rD5mauo+AACAP9PSUj3N0lI97KiSPQAAgD/T0tI9zdLSPeyoEj4AAIA/9fS0Pnt7uz7x9PQ+AACAP1ZW1j5gYek+KSsLPwAAgD/My0s+x8tLPmzFjT4AAIA/zMtLPsfLSz5sxY0+AACAPxcXlz4TF5c+YzbSPgAAgD8lJSU+ISUlPmDEZT4AAIA/9vX1Pm5uCj/5+ho/AACAP5STkz2Qk5M95FLNPQAAgD/9/Hw99/x8Pej9rz0AAIA/09JSPs3SUj7sqJI+AACAP3Jy8j4DBAg/ODkZPwAAgD+pqCg+pKgoPuCnaj4AAIA/09LSPc3S0j3sqBI+AACAP769vT25vb09bv4DPgAAgD/T0tI9zdLSPeyoEj4AAIA/JSUlPiElJT5gxGU+AACAP11dXT5YXV0+K/6ZPgAAgD9/f78++fnJPnx//z4AAIA/2tnZPdTZ2T1rjBc+AACAP8zLyz3Hy8s9bMUNPgAAgD8sLCw+KCwsPl+Lbz4AAIA/a2trPmVraz4pxaM+AACAPwMDwz7Ozs4+gIEBPwAAgD8eHp4+Gh6ePmL92z4AAIA/m5oaPZeaGj3iGVc9AACAP6moKD6kqCg+4KdqPgAAgD+HhsY+o6PTPkFDAz8AAIA/Hh6ePhoenj5i/ds+AACAP+jn5z3i5+c9alMhPgAAgD9kZOQ+tLT8PjEyEj8AAIA/lJOTPpCTkz7kUs0+AACAPy8vDz81NiY/Li8vPwAAgD/T0tI+jIzkPmhpCT8AAIA/m5oaP+npNT+amjo/AACAP5uaGj6Xmho+4hlXPgAAgD/T0lI+zdJSPuyokj4AAIA/09LSPc3S0j3sqBI+AACAP39/vz75+ck+fH//PgAAgD8zM7M+ERG5Pi8z8z4AAIA/QUHBPmRkzD6foAA/AACAP9PS0j3N0tI97KgSPgAAgD+Uk5M+kJOTPuRSzT4AAIA/qaioPpKSqj6lqOg+AACAP5uaGj6Xmho+4hlXPgAAgD/h4OA92+DgPepvHD4AAIA/zMvLPcfLyz1sxQ0+AACAP0FBwT5kZMw+n6AAPwAAgD8XFxc+ExcXPmM2Uj4AAIA/SEhIPkNISD6tU4s+AACAP8TDgz7Aw4M+J1O3PgAAgD8QEBA/amsnPw8QMD8AAIA/amqqPv38rD5mauo+AACAP4aFhT6ChYU+5sS5PgAAgD/Lyoo+x8qKPiUawT4AAIA/QUFBPjxBQT4tcIY+AACAP39/vz75+ck+fH//PgAAgD+ioaE+naGhPuHg4D4AAIA/09JSPs3SUj7sqJI+AACAPywsrD5nZ68+KCzsPgAAgD9BQUE+PEFBPi1whj4AAIA/lJMTPpCTEz7kUk0+AACAP3Jy8j4DBAg/ODkZPwAAgD+pqKg9pKioPeCn6j0AAIA/VVWVPlJVlT6jxM8+AACAPxcXFz4TFxc+YzZSPgAAgD+bmpo+l5qaPuIZ1z4AAIA/0tGRPs7RkT4k4co+AACAP2RkZD5fZGQ+quGePgAAgD9/f78++fnJPnx//z4AAIA/jo3NPkxN3T7FxgY/AACAP4aFBT6ChQU+5sQ5PgAAgD9AQIA+PUCAPqdvsj4AAIA/R0eHPkRHhz6mNrw+AACAP8zLyz7i4to+5OUFPwAAgD+ioaE9naGhPeHg4D0AAIA/7+5uPenubj3pNqY9AACAP8TDgz7Aw4M+J1O3PgAAgD9ra2s+ZWtrPinFoz4AAIA/Hh6ePhoenj5i/ds+AACAP09PTz5KT08+LDeQPgAAgD+3tjY+srY2Pt01fj4AAIA/xcREPsDERD7t4Yg+AACAP6Oi4j5JSvo+UFERPwAAgD/Z2Jg+1diYPiOo1D4AAIA/jYwMPYmMDD3li0M9AACAP1ZW1j5gYek+KSsLPwAAgD+pqKg+kpKqPqWo6D4AAIA/T09PPkpPTz4sN5A+AACAP+HgYD3b4GA96m+cPQAAgD8DA8M+zs7OPoCBAT8AAIA/T09PPkpPTz4sN5A+AACAP6KhIT6doSE+4eBgPgAAgD8zMzM+LzMzPl1SeT4AAIA/QECAPj1AgD6nb7I+AACAP3FxsT6mprY+bXHxPgAAgD9VVZU+UlWVPqPEzz4AAIA/lZTUPvb25j5JSgo/AACAP39/vz75+ck+fH//PgAAgD/9/Hw+9/x8Puj9rz4AAIA/Y2OjPl9joz6hUuM+AACAP2traz5la2s+KcWjPgAAgD+sqws/YGEhP6qrKz8AAIA/zMvLPuLi2j7k5QU/AACAP7OyEj8KCys/srIyPwAAgD+jouI+SUr6PlBRET8AAIA/hoUFPoKFBT7mxDk+AACAPxgY2D7Ly+s+CgwMPwAAgD/u7a0+0dGxPurt7T4AAIA/SEhIPkNISD6tU4s+AACAPzMzMz4vMzM+XVJ5PgAAgD/u7a0+0dGxPurt7T4AAIA/AgKCPv8Bgj5n4bQ+AACAP5uaGj6Xmho+4hlXPgAAgD+wr68+PDy0Pqyv7z4AAIA/qaioPaSoqD3gp+o9AACAP2RkZD5fZGQ+quGePgAAgD9ycnI+bHJyPqmoqD4AAIA/QECAPj1AgD6nb7I+AACAP8zLSz7Hy0s+bMWNPgAAgD/h4OA82+DgPOpvHD0AAIA/Hh6ePhoenj5i/ds+AACAP8zLSz7Hy0s+bMWNPgAAgD++vT0+ub09Pm7+gz4AAIA/09LSPc3S0j3sqBI+AACAP/b1dT7w9XU+aBqrPgAAgD/FxMQ9wMTEPe3hCD4AAIA/y8qKPsfKij4lGsE+AACAP3Jycj5scnI+qaioPgAAgD8CAgI+/wECPmfhND4AAIA//fz8Pff8/D3o/S8+AACAPwMDwz7Ozs4+gIEBPwAAgD/My8s9x8vLPWzFDT4AAIA/oqEhP5KTPz+hoUE/AACAP7e2Nj6ytjY+3TV+PgAAgD8zM7M+ERG5Pi8z8z4AAIA/0tGRPs7RkT4k4co+AACAP0BAAD+trRE/P0AgPwAAgD8mJuY+Hh//PhETEz8AAIA/JSWlPr69pT4hJeU+AACAP8zLyz3Hy8s9bMUNPgAAgD+pqCg8pKgoPOCnajwAAIA/7u2tPtHRsT7q7e0+AACAP8zLyz3Hy8s9bMUNPgAAgD/a2Vk+1NlZPmuMlz4AAIA/xcTEPcDExD3t4Qg+AACAP+Dfnz7c358+IW/ePgAAgD/h4OA92+DgPepvHD4AAIA/oqEhPp2hIT7h4GA+AACAP9nYmD7V2Jg+I6jUPgAAgD8CAoI+/wGCPmfhtD4AAIA/CQmJPgYJiT5mqL4+AACAP09Pzz63t98+pqcHPwAAgD8vLw8/NTYmPy4vLz8AAIA/2tlZPtTZWT5rjJc+AACAP8TDgz7Aw4M+J1O3PgAAgD+3tjY+srY2Pt01fj4AAIA/AgICPv8BAj5n4TQ+AACAPwICgj7/AYI+Z+G0PgAAgD/v7m496e5uPek2pj0AAIA/jYyMPYmMjD3li8M9AACAP2traz5la2s+KcWjPgAAgD8QEBA+DBAQPmRvSD4AAIA/SEhIPkNISD6tU4s+AACAP8TDgz7Aw4M+J1O3PgAAgD8XF5c+ExeXPmM20j4AAIA/7+5uPunubj7pNqY+AACAP3t7Gz8eHzc/ens7PwAAgD9dXV0+WF1dPiv+mT4AAIA/zMtLPsfLSz5sxY0+AACAP1ZW1j5gYek+KSsLPwAAgD/FxMQ9wMTEPe3hCD4AAIA/y8qKPsfKij4lGsE+AACAP2traz5la2s+KcWjPgAAgD8fH98+dHX1Po6PDz8AAIA/QECAPj1AgD6nb7I+AACAP8XExD45OdE+YWICPwAAgD/My8s9x8vLPWzFDT4AAIA/4eBgPtvgYD7qb5w+AACAP/b19T3w9fU9aBorPgAAgD/v7u496e7uPek2Jj4AAIA/2tnZPdTZ2T1rjBc+AACAPxAQkD4MEJA+ZG/IPgAAgD/FxEQ+wMREPu3hiD4AAIA/a2trPmVraz4pxaM+AACAP9rZ2T41Nu4+6+wMPwAAgD/h4GA+2+BgPupvnD4AAIA/eXl5PnN5eT4ojK0+AACAP05Ojj5LTo4+pf3FPgAAgD+GhYU+goWFPubEuT4AAIA/vr29Pbm9vT1u/gM+AACAP0BAgD49QIA+p2+yPgAAgD/29fU98PX1PWgaKz4AAIA/vr29Po+Pxz66vf0+AACAP8zLyz3Hy8s9bMUNPgAAgD8XFxc+ExcXPmM2Uj4AAIA/FxeXPhMXlz5jNtI+AACAP7e2tj7l5b0+s7b2PgAAgD+pqKg+kpKqPqWo6D4AAIA/4N8fPygpPT/f3z8/AACAP09Pzz63t98+pqcHPwAAgD8eHh4+Gh4ePmL9Wz4AAIA/XFycPlhcnD6ii9k+AACAP3FxsT6mprY+bXHxPgAAgD+GhQU+goUFPubEOT4AAIA/R0eHPkRHhz6mNrw+AACAP9nYmD7V2Jg+I6jUPgAAgD86Ojo+NTo6Pq6MgT4AAIA/9vX1PfD19T1oGis+AACAP1xcnD5YXJw+oovZPgAAgD9cXJw+WFycPqKL2T4AAIA/09JSPs3SUj7sqJI+AACAP5uamj6Xmpo+4hnXPgAAgD/FxMQ+OTnRPmFiAj8AAIA/9vX1Pm5uCj/5+ho/AACAP7i39z6jows/2tsbPwAAgD++vT0+ub09Pm7+gz4AAIA/4eBgPtvgYD7qb5w+AACAP9rZ2T41Nu4+6+wMPwAAgD+bmpo9l5qaPeIZ1z0AAIA/2tnZPdTZ2T1rjBc+AACAP6KhIT6doSE+4eBgPgAAgD/9/Pw99/z8Pej9Lz4AAIA/9fS0Pnt7uz7x9PQ+AACAP+Dfnz7c358+IW/ePgAAgD+ioaE9naGhPeHg4D0AAIA/09JSPc3SUj3sqJI9AACAP09Pzz63t98+pqcHPwAAgD9OTo4+S06OPqX9xT4AAIA/xcTEPcDExD3t4Qg+AACAP42MjD2JjIw95YvDPQAAgD/o5+c94ufnPWpTIT4AAIA/4eDgPNvg4Dzqbxw9AACAPyUlpT6+vaU+ISXlPgAAgD8XFxc+ExcXPmM2Uj4AAIA/t7Y2PrK2Nj7dNX4+AACAP+Hg4D3b4OA96m8cPgAAgD+ioaE9naGhPeHg4D0AAIA/lJOTPpCTkz7kUs0+AACAPwICAj7/AQI+Z+E0PgAAgD+bmpo9l5qaPeIZ1z0AAIA/CgrKPnh42D4DBQU/AACAP8XERD7AxEQ+7eGIPgAAgD+VlNQ+9vbmPklKCj8AAIA/eXl5PnN5eT4ojK0+AACAPwMDwz7Ozs4+gIEBPwAAgD/h4OA+39/3Pm9wED8AAIA/FxeXPhMXlz5jNtI+AACAPwICAj7/AQI+Z+E0PgAAgD/o5+c94ufnPWpTIT4AAIA/4+ICP0xNFT/i4iI/AACAP3FxsT6mprY+bXHxPgAAgD9BQUE+PEFBPi1whj4AAIA/nJvbPqCg8D7MzQ0/AACAP+jnZz7i52c+alOhPgAAgD9BQUE+PEFBPi1whj4AAIA/AgICPv8BAj5n4TQ+AACAP+jn5z3i5+c9alMhPgAAgD9BQcE+ZGTMPp+gAD8AAIA/xcREPsDERD7t4Yg+AACAP9rZ2T3U2dk9a4wXPgAAgD9ISEg+Q0hIPq1Tiz4AAIA/5+amPigoqD7j5uY+AACAP/38/D33/Pw96P0vPgAAgD/29fU+bm4KP/n6Gj8AAIA/qaioPKSoqDzgp+o8AACAP769PT65vT0+bv6DPgAAgD+lpAQ/t7cXP6OkJD8AAIA/zMvLPcfLyz1sxQ0+AACAP7CvLz6rry8+3m50PgAAgD/9/Hw+9/x8Puj9rz4AAIA/xcREPsDERD7t4Yg+AACAP42MDD6JjAw+5YtDPgAAgD9xcbE+pqa2Pm1x8T4AAIA/CgrKPnh42D4DBQU/AACAP9PSUj7N0lI+7KiSPgAAgD/9/Hw+9/x8Puj9rz4AAIA/QUHBPmRkzD6foAA/AACAP/X0tD57e7s+8fT0PgAAgD/FxEQ+wMREPu3hiD4AAIA/LCwsPigsLD5fi28+AACAP+rpCT/29h4/6ekpPwAAgD9BQUE+PEFBPi1whj4AAIA/zMvLPcfLyz1sxQ0+AACAP1ZWVj5RVlY+qxqVPgAAgD9/f78++fnJPnx//z4AAIA/09JSPc3SUj3sqJI9AACAP5WU1D729uY+SUoKPwAAgD/o5+c+xMQAP/LzEz8AAIA/LCwsPigsLD5fi28+AACAPywsLD4oLCw+X4tvPgAAgD9AQIA+PUCAPqdvsj4AAIA/FxeXPhMXlz5jNtI+AACAP0BAgD49QIA+p2+yPgAAgD9kZGQ+X2RkPqrhnj4AAIA/XV1dPlhdXT4r/pk+AACAP/b1dT7w9XU+aBqrPgAAgD95eXk+c3l5PiiMrT4AAIA/m5oaPpeaGj7iGVc+AACAP6yrCz9gYSE/qqsrPwAAgD9dXV0+WF1dPiv+mT4AAIA/Y2OjPl9joz6hUuM+AACAP+/ubj7p7m4+6TamPgAAgD/Z2Jg+1diYPiOo1D4AAIA/lJMTPpCTEz7kUk0+AACAP6KhoT6doaE+4eDgPgAAgD9mZgY/ISIaP2VmJj8AAIA/zMtLPsfLSz5sxY0+AACAP769vT25vb09bv4DPgAAgD/My0s+x8tLPmzFjT4AAIA/QUFBPjxBQT4tcIY+AACAP6KhIT6doSE+4eBgPgAAgD8CAoI+/wGCPmfhtD4AAIA/09LSPc3S0j3sqBI+AACAP+Hg4D3b4OA96m8cPgAAgD+ioSE+naEhPuHgYD4AAIA//fx8Pff8fD3o/a89AACAPyUlpT6+vaU+ISXlPgAAgD8zMzM+LzMzPl1SeT4AAIA/QUFBPjxBQT4tcIY+AACAP7Cvrz48PLQ+rK/vPgAAgD/FxEQ9wMREPe3hiD0AAIA/QECAPj1AgD6nb7I+AACAP42MjD6JjIw+5YvDPgAAgD/9/Pw99/z8Pej9Lz4AAIA/f3+/Pvn5yT58f/8+AACAP/38/D33/Pw96P0vPgAAgD/19LQ+e3u7PvH09D4AAIA/XFycPlhcnD6ii9k+AACAP/38fD73/Hw+6P2vPgAAgD++vT0+ub09Pm7+gz4AAIA/Ly8PPzU2Jj8uLy8/AACAP2RkZD5fZGQ+quGePgAAgD8zM7M+ERG5Pi8z8z4AAIA/Hh4ePhoeHj5i/Vs+AACAPzY2Fj/f3y8/NTY2PwAAgD/Z2Jg+1diYPiOo1D4AAIA//fx8Pvf8fD7o/a8+AACAPzo6Oj41Ojo+royBPgAAgD/9/Hw+9/x8Puj9rz4AAIA/2tnZPdTZ2T1rjBc+AACAP2RkZD5fZGQ+quGePgAAgD9cXJw+WFycPqKL2T4AAIA/hoWFPoKFhT7mxLk+AACAPwkJiT4GCYk+Zqi+PgAAgD8lJSU+ISUlPmDEZT4AAIA/2tlZPtTZWT5rjJc+AACAP09PTz5KT08+LDeQPgAAgD8zMzM+LzMzPl1SeT4AAIA/2tlZPtTZWT5rjJc+AACAPz09HT+IiTk/PD09PwAAgD9xcbE+pqa2Pm1x8T4AAIA/ZGRkPl9kZD6q4Z4+AACAP+jn5z3i5+c9alMhPgAAgD+bmpo+l5qaPuIZ1z4AAIA/a2trPmVraz4pxaM+AACAP11dXT5YXV0+K/6ZPgAAgD9kZGQ+X2RkPqrhnj4AAIA/SEhIPkNISD6tU4s+AACAPyUlpT6+vaU+ISXlPgAAgD9dXV0+WF1dPiv+mT4AAIA/ZGRkPl9kZD6q4Z4+AACAPzMzMz4vMzM+XVJ5PgAAgD/T0lI+zdJSPuyokj4AAIA/FxeXPhMXlz5jNtI+AACAP6qp6T75+QE/09QUPwAAgD9AQIA+PUCAPqdvsj4AAIA/2tnZPjU27j7r7Aw/AACAP4eGxj6jo9M+QUMDPwAAgD9HR4c+REeHPqY2vD4AAIA/xcTEPjk50T5hYgI/AACAP8XERD7AxEQ+7eGIPgAAgD80NPQ+OTkJPxkaGj8AAIA/CQmJPgYJiT5mqL4+AACAP6KhoT6doaE+4eDgPgAAgD/8+7s+JSXFPvj7+z4AAIA//Pu7PiUlxT74+/s+AACAP6KhIT6doSE+4eBgPgAAgD8XF5c+ExeXPmM20j4AAIA/cXGxPqamtj5tcfE+AACAP/b19T3w9fU9aBorPgAAgD/9/Hw99/x8Pej9rz0AAIA/R0eHPkRHhz6mNrw+AACAP5WU1D729uY+SUoKPwAAgD94eLg+UFDAPnV4+D4AAIA/4+ICP0xNFT/i4iI/AACAP9nYmD7V2Jg+I6jUPgAAgD9dXd0+CgvzPq2uDj8AAIA/qqnpPvn5AT/T1BQ/AACAP3Jycj5scnI+qaioPgAAgD/Z2Jg+1diYPiOo1D4AAIA/jYwMPomMDD7li0M+AACAP+jnZz7i52c+alOhPgAAgD8JCYk+BgmJPmaovj4AAIA/vr29Pbm9vT1u/gM+AACAP5uaGj6Xmho+4hlXPgAAgD8CAoI+/wGCPmfhtD4AAIA/6OdnPuLnZz5qU6E+AACAP6moqD6Skqo+pajoPgAAgD+pqCg+pKgoPuCnaj4AAIA/Ozv7Pg0ODj+cnR0/AACAP3l5eT5zeXk+KIytPgAAgD/9/Pw99/z8Pej9Lz4AAIA/6ukJP/b2Hj/p6Sk/AACAP6moKD6kqCg+4KdqPgAAgD9qaqo+/fysPmZq6j4AAIA/LS3tPmRkBD+VlhY/AACAPwICgj7/AYI+Z+G0PgAAgD+4t/c+o6MLP9rbGz8AAIA/Tk6OPktOjj6l/cU+AACAP/38fD73/Hw+6P2vPgAAgD/T0lI+zdJSPuyokj4AAIA/CQmJPgYJiT5mqL4+AACAP5uaGj6Xmho+4hlXPgAAgD9WVlY+UVZWPqsalT4AAIA/09JSPs3SUj7sqJI+AACAP769PT65vT0+bv6DPgAAgD/T0tI9zdLSPeyoEj4AAIA/Hh6ePhoenj5i/ds+AACAP9PSUj3N0lI97KiSPQAAgD8CAgI+/wECPmfhND4AAIA/AgICPv8BAj5n4TQ+AACAP+/ubj7p7m4+6TamPgAAgD95eXk+c3l5PiiMrT4AAIA/jYyMPomMjD7li8M+AACAP09Pzz63t98+pqcHPwAAgD+pqKg+kpKqPqWo6D4AAIA/R0eHPkRHhz6mNrw+AACAP/b19T3w9fU9aBorPgAAgD+pqCg+pKgoPuCnaj4AAIA//fx8Pvf8fD7o/a8+AACAPxAQkD4MEJA+ZG/IPgAAgD8zMzM+LzMzPl1SeT4AAIA/amqqPv38rD5mauo+AACAPx4eHj4aHh4+Yv1bPgAAgD9kZGQ+X2RkPqrhnj4AAIA/qagoPqSoKD7gp2o+AACAP7++/j54eBA/Xl8fPwAAgD+wr689q6+vPd5u9D0AAIA/lJOTPZCTkz3kUs09AACAPx4enj4aHp4+Yv3bPgAAgD/g358+3N+fPiFv3j4AAIA//fz8Pff8/D3o/S8+AACAP/38fD73/Hw+6P2vPgAAgD++vT0+ub09Pm7+gz4AAIA/4eBgPtvgYD7qb5w+AACAP7CvLz6rry8+3m50PgAAgD/v7m496e5uPek2pj0AAIA/EBCQPgwQkD5kb8g+AACAP0hIyD4NDtY+IiQEPwAAgD86Ojo+NTo6Pq6MgT4AAIA/2diYPtXYmD4jqNQ+AACAPwkJiT4GCYk+Zqi+PgAAgD++vT0+ub09Pm7+gz4AAIA/VlZWPlFWVj6rGpU+AACAP09PTz5KT08+LDeQPgAAgD9xcbE+pqa2Pm1x8T4AAIA/ERHRPiEi4j6HiAg/AACAPzY2Fj/f3y8/NTY2PwAAgD9HR4c+REeHPqY2vD4AAIA/0tGRPs7RkT4k4co+AACAP9LRkT7O0ZE+JOHKPgAAgD+wry8+q68vPt5udD4AAIA/2diYPtXYmD4jqNQ+AACAPxcXFz4TFxc+YzZSPgAAgD+bmpo9l5qaPeIZ1z0AAIA/4eBgPtvgYD7qb5w+AACAP3h4uD5QUMA+dXj4PgAAgD+wry8+q68vPt5udD4AAIA/cnJyPmxycj6pqKg+AACAP3Jycj5scnI+qaioPgAAgD95eXk+c3l5PiiMrT4AAIA/vr09Prm9PT5u/oM+AACAP9LRkT7O0ZE+JOHKPgAAgD9WVlY+UVZWPqsalT4AAIA/eXn5PtjYDD+7vBw/AACAP6KhIT6doSE+4eBgPgAAgD8JCYk+BgmJPmaovj4AAIA/QUFBPjxBQT4tcIY+AACAP9nYmD7V2Jg+I6jUPgAAgD8lJSU+ISUlPmDEZT4AAIA//fz8PPf8/Dzo/S89AACAP/b1dT7w9XU+aBqrPgAAgD/h4GA+2+BgPupvnD4AAIA/Hh6ePhoenj5i/ds+AACAPx4enj4aHp4+Yv3bPgAAgD9ycnI+bHJyPqmoqD4AAIA/Hh6ePhoenj5i/ds+AACAP9PS0j3N0tI97KgSPgAAgD/T0tI9zdLSPeyoEj4AAIA/KCgIP4yMHD8nKCg/AACAP+/ubj7p7m4+6TamPgAAgD/h4OA92+DgPepvHD4AAIA/lJOTPpCTkz7kUs0+AACAP3h4uD5QUMA+dXj4PgAAgD9OTo4+S06OPqX9xT4AAIA/R0eHPkRHhz6mNrw+AACAP9rZ2T41Nu4+6+wMPwAAgD9OTo4+S06OPqX9xT4AAIA/jYwMPomMDD7li0M+AACAPx4enj4aHp4+Yv3bPgAAgD+wr68+PDy0Pqyv7z4AAIA/cXGxPqamtj5tcfE+AACAPwICgj7/AYI+Z+G0PgAAgD9jYyM//f1BP2JjQz8AAIA/lJOTPZCTkz3kUs09AACAP6moKD6kqCg+4KdqPgAAgD/h4GA92+BgPepvnD0AAIA/LCysPmdnrz4oLOw+AACAPxcXFz4TFxc+YzZSPgAAgD/T0tI9zdLSPeyoEj4AAIA/R0eHPkRHhz6mNrw+AACAP+jnZz7i52c+alOhPgAAgD+xsPA+zs4GP1dYGD8AAIA/JSWlPr69pT4hJeU+AACAP9PSUj7N0lI+7KiSPgAAgD86Ojo+NTo6Pq6MgT4AAIA/JSWlPr69pT4hJeU+AACAP1VVlT5SVZU+o8TPPgAAgD9PT08+Sk9PPiw3kD4AAIA/R0eHPkRHhz6mNrw+AACAP3t7Gz8eHzc/ens7PwAAgD8JCQk+BgkJPmaoPj4AAIA/lZTUPvb25j5JSgo/AACAP7CvLz6rry8+3m50PgAAgD/g358+3N+fPiFv3j4AAIA/hoWFPoKFhT7mxLk+AACAP7++/j54eBA/Xl8fPwAAgD+bmpo+l5qaPuIZ1z4AAIA/7+5uPunubj7pNqY+AACAPwkJCT4GCQk+Zqg+PgAAgD+pqKg9pKioPeCn6j0AAIA/m5oaPpeaGj7iGVc+AACAP+fmpj4oKKg+4+bmPgAAgD/S0ZE+ztGRPiThyj4AAIA/m5oaPpeaGj7iGVc+AACAP/38fD73/Hw+6P2vPgAAgD+NjIw+iYyMPuWLwz4AAIA/9vV1PvD1dT5oGqs+AACAP6moKD6kqCg+4KdqPgAAgD/h4OA+39/3Pm9wED8AAIA/QUFBPjxBQT4tcIY+AACAP8XExD3AxMQ97eEIPgAAgD/FxMQ+OTnRPmFiAj8AAIA/jYyMPYmMjD3li8M9AACAPwkJiT4GCYk+Zqi+PgAAgD9ycnI+bHJyPqmoqD4AAIA/JSUlPiElJT5gxGU+AACAP+PiAj9MTRU/4uIiPwAAgD94eLg+UFDAPnV4+D4AAIA/LCysPmdnrz4oLOw+AACAP6KhoT6doaE+4eDgPgAAgD8XFxc+ExcXPmM2Uj4AAIA/+PcXP0lKMj/39zc/AACAP/38/D33/Pw96P0vPgAAgD+ioSE+naEhPuHgYD4AAIA/AgKCPv8Bgj5n4bQ+AACAP9PSUj7N0lI+7KiSPgAAgD/o52c+4udnPmpToT4AAIA/AwPDPs7Ozj6AgQE/AACAP3Jycj5scnI+qaioPgAAgD+ioaE9naGhPeHg4D0AAIA/FxeXPhMXlz5jNtI+AACAP0BAgD49QIA+p2+yPgAAgD9WVlY+UVZWPqsalT4AAIA/t7a2PuXlvT6ztvY+AACAP3FxsT6mprY+bXHxPgAAgD+NjAw+iYwMPuWLQz4AAIA/QECAPj1AgD6nb7I+AACAPwkJCT/BwR0/CAkpPwAAgD+wr68+PDy0Pqyv7z4AAIA/lJMTPpCTEz7kUk0+AACAP4aFBT/s7Bg/hIUlPwAAgD8fH98+dHX1Po6PDz8AAIA/AAAAAAAAAAAAAAAAAACAPwkJCT4GCQk+Zqg+PgAAgD/g358+3N+fPiFv3j4AAIA/ERHRPiEi4j6HiAg/AACAP5uamj6Xmpo+4hnXPgAAgD+UkxM+kJMTPuRSTT4AAIA/Ozv7Pg0ODj+cnR0/AACAP/b1dT7w9XU+aBqrPgAAgD9ISEg+Q0hIPq1Tiz4AAIA/CgrKPnh42D4DBQU/AACAP6moqD2kqKg94KfqPQAAgD+ioSE+naEhPuHgYD4AAIA/xMODPsDDgz4nU7c+AACAP+/u7j3p7u496TYmPgAAgD/My0s+x8tLPmzFjT4AAIA/T0/PPre33z6mpwc/AACAP5uaGj6Xmho+4hlXPgAAgD9cXJw+WFycPqKL2T4AAIA/XV3dPgoL8z6trg4/AACAPywsLD4oLCw+X4tvPgAAgD9WVlY+UVZWPqsalT4AAIA/9vV1PvD1dT5oGqs+AACAP0hISD5DSEg+rVOLPgAAgD/a2dk91NnZPWuMFz4AAIA/R0eHPkRHhz6mNrw+AACAP42MDD6JjAw+5YtDPgAAgD/v7m4+6e5uPuk2pj4AAIA/xcREPsDERD7t4Yg+AACAP5uamj6Xmpo+4hnXPgAAgD86Ojo+NTo6Pq6MgT4AAIA/EBCQPgwQkD5kb8g+AACAPzo6uj66usI+Njr6PgAAgD/8+7s+JSXFPvj7+z4AAIA/QECAPj1AgD6nb7I+AACAP0BAgD49QIA+p2+yPgAAgD/9/Hw+9/x8Puj9rz4AAIA/Ozv7Pg0ODj+cnR0/AACAP09PTz5KT08+LDeQPgAAgD+GhYU+goWFPubEuT4AAIA/09LSPoyM5D5oaQk/AACAP+/u7j3p7u496TYmPgAAgD8lJSU+ISUlPmDEZT4AAIA/0tGRPs7RkT4k4co+AACAP7e2Nj2ytjY93TV+PQAAgD8XFxc+ExcXPmM2Uj4AAIA/qqnpPvn5AT/T1BQ/AACAP0BAgD49QIA+p2+yPgAAgD9AQIA+PUCAPqdvsj4AAIA/t7Y2PrK2Nj7dNX4+AACAP0dHhz5ER4c+pja8PgAAgD+pqCg+pKgoPuCnaj4AAIA/Ojo6PjU6Oj6ujIE+AACAP5uamj6Xmpo+4hnXPgAAgD/v7u496e7uPek2Jj4AAIA/m5qaPpeamj7iGdc+AACAPzo6uj66usI+Njr6PgAAgD9dXV0+WF1dPiv+mT4AAIA/QUFBPjxBQT4tcIY+AACAP05Ojj5LTo4+pf3FPgAAgD/29XU+8PV1Pmgaqz4AAIA/CQkJPgYJCT5mqD4+AACAP3FxsT6mprY+bXHxPgAAgD+3trY+5eW9PrO29j4AAIA/7u2tPtHRsT7q7e0+AACAP9PSUj7N0lI+7KiSPgAAgD+UkxM+kJMTPuRSTT4AAIA/qagoPaSoKD3gp2o9AACAP5uaGj6Xmho+4hlXPgAAgD+wry8+q68vPt5udD4AAIA/2tnZPdTZ2T1rjBc+AACAP7e2Nj6ytjY+3TV+PgAAgD+bmho+l5oaPuIZVz4AAIA/y8oKPyssID/Kyio/AACAP9LRkT7O0ZE+JOHKPgAAgD9/f78++fnJPnx//z4AAIA/qagoPqSoKD7gp2o+AACAP6moKD6kqCg+4KdqPgAAgD+pqCg+pKgoPuCnaj4AAIA/sK8vPquvLz7ebnQ+AACAP5uamj6Xmpo+4hnXPgAAgD+3tjY+srY2Pt01fj4AAIA/oqEhPp2hIT7h4GA+AACAP2traz5la2s+KcWjPgAAgD/My0s+x8tLPmzFjT4AAIA/jYwMPomMDD7li0M+AACAP3Jycj5scnI+qaioPgAAgD+Vlk4/YGBgP2BgYD8AAIA/sK+vPjw8tD6sr+8+AACAPywsrD5nZ68+KCzsPgAAgD/Ew4M+wMODPidTtz4AAIA/hoWFPoKFhT7mxLk+AACAP11dXT5YXV0+K/6ZPgAAgD/29fU98PX1PWgaKz4AAIA/2tnZPjU27j7r7Aw/AACAP2Njoz5fY6M+oVLjPgAAgD+3tjY+srY2Pt01fj4AAIA/oqEhPp2hIT7h4GA+AACAP+Hg4D3b4OA96m8cPgAAgD9ra2s+ZWtrPinFoz4AAIA/jYwMPYmMDD3li0M9AACAP+/ubj7p7m4+6TamPgAAgD/o5+c94ufnPWpTIT4AAIA/lJMTPpCTEz7kUk0+AACAP769vT6Pj8c+ur39PgAAgD9kZGQ+X2RkPqrhnj4AAIA/y8qKPsfKij4lGsE+AACAP09PTz5KT08+LDeQPgAAgD/T0lI+zdJSPuyokj4AAIA/hoWFPoKFhT7mxLk+AACAP9LRkT7O0ZE+JOHKPgAAgD8sLCw+KCwsPl+Lbz4AAIA/qaioPpKSqj6lqOg+AACAP+/u7j3p7u496TYmPgAAgD/Z2Jg+1diYPiOo1D4AAIA/FxcXPhMXFz5jNlI+AACAPzo6Oj41Ojo+royBPgAAgD/9/Pw99/z8Pej9Lz4AAIA/hoUFPoKFBT7mxDk+AACAP769vT25vb09bv4DPgAAgD8REdE+ISLiPoeICD8AAIA/hoUFPoKFBT7mxDk+AACAP2pqqj79/Kw+ZmrqPgAAgD/FxMQ9wMTEPe3hCD4AAIA/AgICPxcYFD8BAiI/AACAP+fmpj4oKKg+4+bmPgAAgD/My0s+x8tLPmzFjT4AAIA/T09PPkpPTz4sN5A+AACAP8zLyz7i4to+5OUFPwAAgD+bmho+l5oaPuIZVz4AAIA/t7Y2PrK2Nj7dNX4+AACAP5uamj6Xmpo+4hnXPgAAgD9qaqo+/fysPmZq6j4AAIA/9fS0Pnt7uz7x9PQ+AACAP7Cvrz2rr6893m70PQAAgD9xcbE+pqa2Pm1x8T4AAIA/Ojo6PjU6Oj6ujIE+AACAP+jn5z7ExAA/8vMTPwAAgD9HR4c+REeHPqY2vD4AAIA/xcTEPjk50T5hYgI/AACAP21tDT/LyyM/bG0tPwAAgD/29XU+8PV1Pmgaqz4AAIA/f3+/Pvn5yT58f/8+AACAPzMzsz4REbk+LzPzPgAAgD/FxMQ+OTnRPmFiAj8AAIA/jYyMPYmMjD3li8M9AACAPzo6Oj41Ojo+royBPgAAgD+ioSE+naEhPuHgYD4AAIA/9vV1PvD1dT5oGqs+AACAP/b1dT7w9XU+aBqrPgAAgD9AQIA+PUCAPqdvsj4AAIA/6OdnPuLnZz5qU6E+AACAP5STkz2Qk5M95FLNPQAAgD/v7u496e7uPek2Jj4AAIA/amqqPv38rD5mauo+AACAPyUlpT6+vaU+ISXlPgAAgD8XF5c+ExeXPmM20j4AAIA/GBjYPsvL6z4KDAw/AACAP5uaGj6Xmho+4hlXPgAAgD90dBQ/dHUtP3N0ND8AAIA/cnJyPmxycj6pqKg+AACAP+/ubj7p7m4+6TamPgAAgD9cXJw+WFycPqKL2T4AAIA/0tGRPs7RkT4k4co+AACAPxAQkD4MEJA+ZG/IPgAAgD9dXd0+CgvzPq2uDj8AAIA//Pu7PiUlxT74+/s+AACAPzMzMz4vMzM+XVJ5PgAAgD/T0lI+zdJSPuyokj4AAIA/CgrKPnh42D4DBQU/AACAP+Hg4D3b4OA96m8cPgAAgD8lJSU+ISUlPmDEZT4AAIA/4+ICP0xNFT/i4iI/AACAP+jn5z3i5+c9alMhPgAAgD/9/Hw+9/x8Puj9rz4AAIA/JSUlPiElJT5gxGU+AACAP9rZ2T3U2dk9a4wXPgAAgD8eHh4+Gh4ePmL9Wz4AAIA/XFycPlhcnD6ii9k+AACAPyUlpT6+vaU+ISXlPgAAgD/h4GA+2+BgPupvnD4AAIA/sbDwPs7OBj9XWBg/AACAPwkJiT4GCYk+Zqi+PgAAgD/Ew4M+wMODPidTtz4AAIA/eXl5PnN5eT4ojK0+AACAP42MDD6JjAw+5YtDPgAAgD/FxMQ+OTnRPmFiAj8AAIA/VVWVPlJVlT6jxM8+AACAP1VVlT5SVZU+o8TPPgAAgD/T0lI+zdJSPuyokj4AAIA/AgKCPv8Bgj5n4bQ+AACAP+HgYD7b4GA+6m+cPgAAgD/Z2Jg+1diYPiOo1D4AAIA/4eDgPdvg4D3qbxw+AACAPzo6Oj41Ojo+royBPgAAgD9jY6M+X2OjPqFS4z4AAIA/zMvLPcfLyz1sxQ0+AACAP9rZ2T3U2dk9a4wXPgAAgD+wry8+q68vPt5udD4AAIA/JibmPh4f/z4RExM/AACAP/38fD73/Hw+6P2vPgAAgD+VlNQ+9vbmPklKCj8AAIA/2tnZPjU27j7r7Aw/AACAPxAQED4MEBA+ZG9IPgAAgD94eLg+UFDAPnV4+D4AAIA/2tnZPdTZ2T1rjBc+AACAP9nYmD7V2Jg+I6jUPgAAgD+pqCg+pKgoPuCnaj4AAIA/4N+fPtzfnz4hb94+AACAP8XExD45OdE+YWICPwAAgD/u7a0+0dGxPurt7T4AAIA/Hh4ePhoeHj5i/Vs+AACAP5uamj6Xmpo+4hnXPgAAgD94eLg+UFDAPnV4+D4AAIA/09LSPc3S0j3sqBI+AACAP+Hg4D3b4OA96m8cPgAAgD+pqKg+kpKqPqWo6D4AAIA/a2trPmVraz4pxaM+AACAP+/u7j3p7u496TYmPgAAgD9AQAA/ra0RPz9AID8AAIA/QUHBPmRkzD6foAA/AACAPxcXlz4TF5c+YzbSPgAAgD+pqKg+kpKqPqWo6D4AAIA/hoWFPoKFhT7mxLk+AACAP+jnZz7i52c+alOhPgAAgD/9/Hw+9/x8Puj9rz4AAIA/QECAPj1AgD6nb7I+AACAP/38fD33/Hw96P2vPQAAgD94eLg+UFDAPnV4+D4AAIA/MzOzPhERuT4vM/M+AACAP0hISD5DSEg+rVOLPgAAgD/g358+3N+fPiFv3j4AAIA/hoUFPoKFBT7mxDk+AACAP+7trT7R0bE+6u3tPgAAgD+pqKg+kpKqPqWo6D4AAIA/sK+vPjw8tD6sr+8+AACAP7CvLz6rry8+3m50PgAAgD/v7u496e7uPek2Jj4AAIA/xMODPsDDgz4nU7c+AACAPywsLD4oLCw+X4tvPgAAgD9BQUE+PEFBPi1whj4AAIA/y8oKPyssID/Kyio/AACAPxAQED4MEBA+ZG9IPgAAgD/Ew4M+wMODPidTtz4AAIA/cnJyPmxycj6pqKg+AACAP42MjDyJjIw85YvDPAAAgD+wr689q6+vPd5u9D0AAIA/zMtLPsfLSz5sxY0+AACAP2traz5la2s+KcWjPgAAgD9OTo4+S06OPqX9xT4AAIA/09JSPs3SUj7sqJI+AACAPwICgj7/AYI+Z+G0PgAAgD+VlNQ+9vbmPklKCj8AAIA//Pu7PiUlxT74+/s+AACAP/b1dT7w9XU+aBqrPgAAgD/FxEQ+wMREPu3hiD4AAIA/5+amPigoqD7j5uY+AACAP769vT25vb09bv4DPgAAgD/8+7s+JSXFPvj7+z4AAIA/4eDgPdvg4D3qbxw+AACAPw==",
        "encoding": "base64",
        "path": [
         "color",
         0,
         "data"
        ]
       },
       {
        "data": "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",
        "encoding": "base64",
        "path": [
         "x",
         0,
         "data"
        ]
       },
       {
        "data": "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",
        "encoding": "base64",
        "path": [
         "y",
         0,
         "data"
        ]
       },
       {
        "data": "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",
        "encoding": "base64",
        "path": [
         "z",
         0,
         "data"
        ]
       }
      ],
      "model_module": "ipyvolume",
      "model_module_version": "~0.6.0-alpha.2",
      "model_name": "ScatterModel",
      "state": {
       "_model_module_version": "~0.6.0-alpha.2",
       "_view_module_version": "~0.6.0-alpha.2",
       "aux": null,
       "aux_scale": null,
       "color": [
        {
         "dtype": "float32",
         "shape": [
          937,
          4
         ]
        }
       ],
       "geo": "sphere",
       "line_material": "IPY_MODEL_a69785ccd3b44a87865d6d3cd683b813",
       "material": "IPY_MODEL_4db0431b7e8b418aa2bb7eb659001aca",
       "size": 0.3,
       "size_selected": 2.6,
       "size_x_scale": null,
       "size_y_scale": null,
       "size_z_scale": null,
       "texture": null,
       "vx": null,
       "vy": null,
       "vz": null,
       "x": [
        {
         "dtype": "float32",
         "shape": [
          937
         ]
        }
       ],
       "y": [
        {
         "dtype": "float32",
         "shape": [
          937
         ]
        }
       ],
       "z": [
        {
         "dtype": "float32",
         "shape": [
          937
         ]
        }
       ]
      }
     },
     "a32836ccef86480faae7682bd25553bc": {
      "model_module": "bqplot",
      "model_module_version": "^0.5.6",
      "model_name": "LinearScaleModel",
      "state": {
       "max": 20,
       "min": -20,
       "stabilized": false
      }
     },
     "a59237e9247742bc89beaec0f3f3340e": {
      "model_module": "@jupyter-widgets/base",
      "model_module_version": "1.2.0",
      "model_name": "LayoutModel",
      "state": {}
     },
     "a65f4e383db24393a992c75a33c6a1b4": {
      "model_module": "@jupyter-widgets/controls",
      "model_module_version": "1.5.0",
      "model_name": "VBoxModel",
      "state": {
       "children": [
        "IPY_MODEL_fc8a7a01b4d344389a9831628cf642f2"
       ],
       "layout": "IPY_MODEL_8986cc1b9a07492cb9f4a4f5d4530e44"
      }
     },
     "a69785ccd3b44a87865d6d3cd683b813": {
      "model_module": "jupyter-threejs",
      "model_module_version": "^2.1.0",
      "model_name": "ShaderMaterialModel",
      "state": {
       "_view_module": null,
       "_view_module_version": ""
      }
     },
     "ac54da6193a44091b3f33bc18ebd6983": {
      "model_module": "@jupyter-widgets/base",
      "model_module_version": "1.2.0",
      "model_name": "LayoutModel",
      "state": {}
     },
     "ad91364e92fd4354990f0b2d6e988bff": {
      "model_module": "@jupyter-widgets/controls",
      "model_module_version": "1.5.0",
      "model_name": "DescriptionStyleModel",
      "state": {
       "description_width": ""
      }
     },
     "ada525d9737143f59152ab4e23028fcd": {
      "model_module": "ipyvolume",
      "model_module_version": "~0.6.0-alpha.2",
      "model_name": "FigureModel",
      "state": {
       "_model_module_version": "~0.6.0-alpha.2",
       "_view_module_version": "~0.6.0-alpha.2",
       "camera": "IPY_MODEL_edd24607d9974e7c8206d7abb84882ab",
       "controls": "IPY_MODEL_8bc5256dfe5143ac8f4f86ab22eb5bfb",
       "height": 480,
       "layout": "IPY_MODEL_e9b3822aee474b858a3fe9ca8aa4abe4",
       "matrix_projection": [
        1.8106601717798212,
        0,
        0,
        0,
        0,
        2.414213562373095,
        0,
        0,
        0,
        0,
        -1.00010000500025,
        -1,
        0,
        0,
        -0.200010000500025,
        0
       ],
       "matrix_world": [
        -2.7755575615628923e-18,
        0.023132075280308563,
        0.009481935099236746,
        0,
        -0.014694631307289714,
        0.007671046634848923,
        -0.01871424201694512,
        0,
        -0.02022542485938976,
        -0.005573341614517336,
        0.013596692704664185,
        0,
        2.2204460492503136e-16,
        -2.775557561562892e-17,
        -1.5475618749926343,
        1
       ],
       "meshes": [],
       "render_continuous": true,
       "scales": {
        "x": "IPY_MODEL_f80882c1592a4ce3a07bd204c4715495",
        "y": "IPY_MODEL_0de127432cc647178158644db1c2b4cb",
        "z": "IPY_MODEL_3a367e69c08748ca83505e6b511ab66c"
       },
       "scatters": [
        "IPY_MODEL_d61d04ffe2d14b05bfdba5294d8b1f41"
       ],
       "scene": "IPY_MODEL_2c134995c7b64d889af5be052622117b",
       "style": {
        "axes": {
         "color": "white",
         "label": {
          "color": "white"
         },
         "ticklabel": {
          "color": "white"
         },
         "visible": false
        },
        "background-color": "black",
        "box": {
         "visible": false
        }
       },
       "volumes": [],
       "width": 640
      }
     },
     "af627951a6e247eebd23be058da36e7a": {
      "model_module": "bqplot",
      "model_module_version": "^0.5.6",
      "model_name": "LinearScaleModel",
      "state": {
       "max": 20,
       "min": -20,
       "stabilized": false
      }
     },
     "afb4ee1d14df40eba88bf58609690451": {
      "model_module": "bqplot",
      "model_module_version": "^0.5.6",
      "model_name": "LinearScaleModel",
      "state": {
       "max": 20,
       "min": -20,
       "stabilized": false
      }
     },
     "b02194783d4642bd8cd3598afbff30d3": {
      "model_module": "ipyvolume",
      "model_module_version": "~0.6.0-alpha.2",
      "model_name": "FigureModel",
      "state": {
       "_model_module_version": "~0.6.0-alpha.2",
       "_view_module_version": "~0.6.0-alpha.2",
       "camera": "IPY_MODEL_6fcbca752cb648d7b2eb53af244e8bb4",
       "controls": "IPY_MODEL_26d816d0075e4033a1c4ab4ea58e19ee",
       "height": 480,
       "layout": "IPY_MODEL_b74d0863e4b24e1aad665340d4bc0f3d",
       "matrix_projection": [
        1.8106601717798212,
        0,
        0,
        0,
        0,
        2.414213562373095,
        0,
        0,
        0,
        0,
        -1.00010000500025,
        -1,
        0,
        0,
        -0.200010000500025,
        0
       ],
       "matrix_world": [
        -2.7755575615628915e-18,
        0.023018694337378715,
        0.00975395873491012,
        0,
        0.020154554019692475,
        -0.005771099498399682,
        0.013619411251844519,
        0,
        0.014791685240948649,
        0.007863467529143893,
        -0.01855726073941954,
        0,
        -5.551115123125783e-17,
        -4.227971558728843e-18,
        -0.880253337303307,
        1.0000000000000002
       ],
       "meshes": [],
       "render_continuous": true,
       "scales": {
        "x": "IPY_MODEL_a081bdd770264df5a15804557b36b253",
        "y": "IPY_MODEL_64579096688b4d90a34332ab2b6fa43a",
        "z": "IPY_MODEL_afb4ee1d14df40eba88bf58609690451"
       },
       "scatters": [
        "IPY_MODEL_70daf5f3b74f47ba9fc4abdec8a74c79"
       ],
       "scene": "IPY_MODEL_cff6a3dd6173485787b594f048623ced",
       "style": {
        "axes": {
         "color": "white",
         "label": {
          "color": "white"
         },
         "ticklabel": {
          "color": "white"
         },
         "visible": false
        },
        "background-color": "black",
        "box": {
         "visible": false
        }
       },
       "volumes": [],
       "width": 640
      }
     },
     "b0941e954dcf4a31b6bdfadd77d914eb": {
      "model_module": "jupyter-threejs",
      "model_module_version": "^2.1.0",
      "model_name": "SceneModel",
      "state": {
       "_view_module": null,
       "_view_module_version": "",
       "background": null
      }
     },
     "b30b570a251347e8b6cb4ddf4000d7e8": {
      "model_module": "@jupyter-widgets/controls",
      "model_module_version": "1.5.0",
      "model_name": "LinkModel",
      "state": {
       "source": [
        "IPY_MODEL_9d4403b65cbb4aca9757de07431681a9",
        "autoRotate"
       ],
       "target": [
        "IPY_MODEL_9b7461fd9130446c984c77b8cd35e844",
        "value"
       ]
      }
     },
     "b567de8a6e964fbf853171f079f1565f": {
      "model_module": "@jupyter-widgets/controls",
      "model_module_version": "1.5.0",
      "model_name": "FloatProgressModel",
      "state": {
       "bar_style": "success",
       "description": "Drawing distances: 100%",
       "layout": "IPY_MODEL_32790da499644b89bdc87e121613ad49",
       "max": 1892,
       "style": "IPY_MODEL_529aba5ff1cd4dbfa856869d641264f6",
       "value": 1892
      }
     },
     "b728ac8e46b8489388f1e13c916241a3": {
      "model_module": "jupyter-threejs",
      "model_module_version": "^2.1.0",
      "model_name": "ShaderMaterialModel",
      "state": {
       "_view_module": null,
       "_view_module_version": ""
      }
     },
     "b74d0863e4b24e1aad665340d4bc0f3d": {
      "model_module": "@jupyter-widgets/base",
      "model_module_version": "1.2.0",
      "model_name": "LayoutModel",
      "state": {}
     },
     "bc3976231f4749f9a710160080bdaba3": {
      "model_module": "@jupyter-widgets/base",
      "model_module_version": "1.2.0",
      "model_name": "LayoutModel",
      "state": {}
     },
     "bd20326105c949ca8c23655f72451733": {
      "model_module": "bqplot",
      "model_module_version": "^0.5.6",
      "model_name": "LinearScaleModel",
      "state": {
       "max": 20,
       "min": -20,
       "stabilized": false
      }
     },
     "c1ada53b5d1e4084ac5405df4d0ec713": {
      "model_module": "jupyter-threejs",
      "model_module_version": "^2.1.0",
      "model_name": "SceneModel",
      "state": {
       "_view_module": null,
       "_view_module_version": "",
       "background": null
      }
     },
     "c23ba31c379244f59080259fb28cf46d": {
      "model_module": "@jupyter-widgets/controls",
      "model_module_version": "1.5.0",
      "model_name": "HTMLModel",
      "state": {
       "layout": "IPY_MODEL_25c75e9749cb47f8b578a5a3f3262af1",
       "style": "IPY_MODEL_84ef0b54dbea4cdaa9a35076ceeec728",
       "value": " 4770/4770 [00:10&lt;00:00, 466.92it/s]"
      }
     },
     "c38e15bc176f4841944f117f6917ffdb": {
      "model_module": "jupyter-threejs",
      "model_module_version": "^2.1.0",
      "model_name": "ShaderMaterialModel",
      "state": {
       "_view_module": null,
       "_view_module_version": ""
      }
     },
     "c3e3a0dbd5244c75bcf50961f5e2cfbb": {
      "model_module": "@jupyter-widgets/controls",
      "model_module_version": "1.5.0",
      "model_name": "ToggleButtonModel",
      "state": {
       "description": "Rotate",
       "layout": "IPY_MODEL_7cae2f41c77f40a4ae97fc905d396c6c",
       "style": "IPY_MODEL_ef6344879fda44c2a9e33e751e1bb016",
       "value": true
      }
     },
     "c9faefc7e41846cc8467ccf4320e05a8": {
      "model_module": "@jupyter-widgets/controls",
      "model_module_version": "1.5.0",
      "model_name": "HTMLModel",
      "state": {
       "layout": "IPY_MODEL_0b1faa9d48174937b1012ffb6203c615",
       "style": "IPY_MODEL_2a2d00a902dc4e53a819a826adaa3541",
       "value": " 937/937 [00:04&lt;00:00, 195.37it/s]"
      }
     },
     "cb8f8920424d48f8b02b6fcbae4e5ed9": {
      "model_module": "@jupyter-widgets/controls",
      "model_module_version": "1.5.0",
      "model_name": "LinkModel",
      "state": {
       "source": [
        "IPY_MODEL_12e4a92f4d524700bbfa25c35ad617b2",
        "autoRotate"
       ],
       "target": [
        "IPY_MODEL_1d841fa92a7c402eb9927d9d85d90eff",
        "value"
       ]
      }
     },
     "cbedadb2cbe445ba8115813c60f38d06": {
      "model_module": "bqplot",
      "model_module_version": "^0.5.6",
      "model_name": "LinearScaleModel",
      "state": {
       "max": 20,
       "min": -20,
       "stabilized": false
      }
     },
     "cd63a9625393410195285576a3f783e0": {
      "model_module": "@jupyter-widgets/controls",
      "model_module_version": "1.5.0",
      "model_name": "FloatProgressModel",
      "state": {
       "bar_style": "success",
       "description": "Drawing distances: 100%",
       "layout": "IPY_MODEL_ac54da6193a44091b3f33bc18ebd6983",
       "max": 4770,
       "style": "IPY_MODEL_84fc1c105e5340c4811910d0f7672b79",
       "value": 4770
      }
     },
     "ce189ac25020453fbc26ca9b1b99562a": {
      "model_module": "@jupyter-widgets/base",
      "model_module_version": "1.2.0",
      "model_name": "LayoutModel",
      "state": {}
     },
     "cea3e39f6adc4490a5150ad889cfa5df": {
      "model_module": "@jupyter-widgets/base",
      "model_module_version": "1.2.0",
      "model_name": "LayoutModel",
      "state": {}
     },
     "cff6a3dd6173485787b594f048623ced": {
      "model_module": "jupyter-threejs",
      "model_module_version": "^2.1.0",
      "model_name": "SceneModel",
      "state": {
       "_view_module": null,
       "_view_module_version": "",
       "background": null
      }
     },
     "d2fe985a2bfe4ec48338af5d5e57209c": {
      "model_module": "@jupyter-widgets/controls",
      "model_module_version": "1.5.0",
      "model_name": "VBoxModel",
      "state": {
       "children": [
        "IPY_MODEL_b02194783d4642bd8cd3598afbff30d3"
       ],
       "layout": "IPY_MODEL_f6c636388b76407c8874af15b0516e69"
      }
     },
     "d61d04ffe2d14b05bfdba5294d8b1f41": {
      "buffers": [
       {
        "data": "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",
        "encoding": "base64",
        "path": [
         "color",
         0,
         "data"
        ]
       },
       {
        "data": "NG0QPRRfdD06jDQ+5WQKvo+YQr/zW228CEOAPv3hPL646Lu+9wkEvhzDez5Y7NG+wAAzPjQ+gb5/MXo9nft7vSVuZr1YCpe9ML4mvpYzPr1oO4c9YylQvtnlCL+CS0m9DEfdvAA7kj1BBgm/WCfZvYn3KL/i87O+Fuy4vqwzB7xhc8W7prvlPUZczz0paxq+YxhmvQvgCr7gxZM+7+erPhADv77O/Ye9TDXNPmaP/L2s1pW+rIw3vHuQ/L04drm8dMOZPU/hPT6WciY+4OYnvpu/vz99I+m8VsWcvRRri749N1u+1SwZPkM57T2PVAc+hjXOvqlDYzxAu+s8PJ6XPbNmY72aNp65LZUfP6QSFr1BW4W9HQ2fu3QqF75/3TQ9wTV7PlM3BD9mVJu7hgTPviXHyb0JFwI/5c+8OhYAt72zQ1o+dLc+PbeVG765qsA+/o8ePFxUdT1yKz296sDePvGNQ75CLlg9iy6fPg58aT7YVgM+aGBevqLyLL4tmni+5cAJvtCsL74gu+47u0KfPpFEtD4F2Lw9G97IPiIpF75drsE+OjFgvuH1hjxUjLW94ua6PCmoyTzuWJW9H7SoPvpTkD4SIA0/3KbaPpEGCz4unuc+LtLyuqeFdzxCGhC9XtuZPNlpPb3G6YQ+TpCvvWAgID7ifPI9RkGevfntXL4eyhY+Nwq8PWOa+L6yLly+INo1vW+OcDw+Pa090n08Pmjbkb2LyyA+44tNvmrzQD4b7MI9G5yUO+X9Bz/Wgc29MmwJu2KNTj7jqdE+JinMPJ80uL4Dxbm9+mZUPZ9HpDvLmI+8vIM0PrQ2grxl6zG+si9TO2BXF74UMSG+L2zqviWopjwYI4g+sl3qvu0N5zxpwEQ+dgWJvld6VT6v6ZQ9hIyWvX6Vvz0Eggi+9kAOv02wdL6zuwU9hEDVOuOclDxDrZ0+6QTAvHe50r5STmU9j+j/ve0UQz/Z0hi95V1Cvahsx745GsU9KrojPg2Rojye4bu7KZPAPJXMK756KoS8JKpPPO8wgj0eloc+ysRNvq8ZNb5mue69NbYNvE3mlbuxLKm9oBeJvZWN4j7wdVk+BEeCPq61Nz+yT729a0EcPV8iOb4IwL48reETvwRizjyHf2u8KCcnvjNoHT1kV4k98nPnPu4mFzv6/gE+VBz2PawTR77AZLy6W0FJPVTmGT7VIN6+s1ABPZiskr2keAU8OUorPQeJwz0R1YS9F7mZvQTI+b0W8Z++MKTNO14X4z2ulJi/aVO+vQgjgDy9RNu9NzaBPQxELj+Cf3g6bwl4PlMehj0Ud3M8ZDnOvT2HLr5FQhC+gP4rvBG7Nj2L5lk8VGNCvjNy/D00lx48UjCMvQYXsz6BH6M+TjZWPq/wGz62YFM8gnQiPbxKZj6/Zoo+CQ0rPbmmKD52MwK/5BEuvQizez0Q1bG+Z00rPWS6x7s436A9zVYQPzgScj/w7ic9x8JfPp/ABzz20Zu8kt9sOx5ikr72ryO+/AEePaJ7OL35SqY+sHkxPuEyCD2iDiO9dzUhvAdQWT4/5my8OUOuPcmthjsBqnA+4dP+PNlxuz54Q3o88C3AvfvW3ju8h4e+eCyRvSKMrj2slA89Obkfv5SKHr4WR5o9X4tNPh6PpLwYW9m8bo2DPJTsMb//bwY/fn29PVvzMr6f9yG+nyIAP/c6EL5kmII+z6sxPsqC8jynshE9O5w0P+bHvz41tQu+qOoiPewdG76JjBa/LgoWvjJ61btQPGg997sAPELOQ74A3ii9hs21PZz+jbw1Mp6/cl1EPuXmer2sQ84+T2uVvlyHrbzz/6g+NAtKvVbxvLwlFH88kG1HP5u4HDnZyRW9iQC6vabIr7yv6Uc9Uvg3PRoOQj42IeG9T17+O67Ucj1EpkY9h3dePm2Wqj5KcpM9KooHuz/1ZjzOqBK8tKf1PJZ9ab40/ua+G6yfPokFNTyRDG+9fje/PapVrLzFJIC9GFsBvZUUHj4u9wW/RMWGPLBuDrwE+UU+dsC/PXMVBL30Al09EbJCvz9A9b61n4+9ccisvUQOP70+rm898gj4vBU0/rrSz2G/XnJ7vP/plL7lQRc+ssInPi9xgz3pZyi6CnSBud8PAD3uFlu9wWknvIBXHb5/9LI94mKhvdOld7607mm8F3QVPiGXr75BBJI8CQCUP+C3UTpH+0c8E4f3vZIgF78yvDE+bvFqvXEzHj+4ZJK93dBAPR/66j2XuYe+8CnPuvxL9TzNnPI+rd4iPxOcS72DnfQ9iCXIvkhqmL3QJhu/6Nq4vXogKj7wn/C9RSjxvSyT7z046U0+ih/0vWzUdj5eBDS8zq45vnGIxr2ylAK+Q6PKvsrAoT6fpFU+3R4VP2RAAj5VBY498kXSvT5uj71W0wg7vM7wO4el774C9W8+dJJqPidagrsKYs29zlm7PeHlBz0WKMg9z+bavhjFCD51ztY+Ob4YPqCrSb6X9Sm6gXs9vrEy/r55Ako+uawDPwiss77F+mU95PervrlQZ76oBLM+Ub59vRH1aL+6iMM+5+YOPUYgfr4ppNA8Kj0VvvQmCz8yBMC9gsnZvsaqgT07HIM8vanZPtk6Zj2Y0HC7sCsXP+hyrDzWAiw8o+sOvhVWjb7Fbdw8boNYPgJ+p765urE+6HUFPO087T6airU9wvWfPoie0b3rmou+/BplP/EATj0qapG+EeS2PvPZA78yg/Q71ZWSvaGExT5JjS2+AKmFu3Ed/b4dv269lMMMPoP+gL1PM+S83iDfvR90Jz4b3KQ8ZS9xu9jKFT4321A+3uS+Ozo7cT3mKts9RPxsPxs61TsfOhO9wauHvfGACr/2s6m88l8/Pbh3qb5nWIa93oBfPmye1b1K25I8EsQMPZuL4D5dz18+09coPh+aCj4VUdG9E2gXPU84DbzbGn49LmyPvioARD+f3fk8ZQKWPDd3hDzs2UU+y8jUukVAXL60k44/z3J0vhQeGT+juR+8kmSuvp72jj7HEsW+FIWuvdzNDDze2RI/NBhYPi+aSLww60K+DFdRvv+ahr0Gwo+/TyK/PQaSo72zkR0+ly3UvYZ/SL72t508+mKjO8sHWT0UJOm9e708umkFCbuuaJE/Yv+EPkMwDb0ohxC+35ESvhtW1j2Q4Z4+PtRLPsOXmr4/B1e+2gIqPuM1Z7s3Em09Wy5fvXoMOr+4tbm+17fUPqUeLz+z5vY+Va1jvvIlNjuyfYy9uvHEPZHuDL4EzR++g9Mbvg3+KT+iSwM6q3MRvb5Asr1b/+A9kuOLvplGPj+F7be9uDGEPnbZn72QwYA9LeIHvoSOEDxLXpu+UqRmvitenD56vTE+1IjKvbnKq799pTo/4SRaPPY9HL5ShNy9DFmaPpauqLqYpi88kSsjvT3O4j10AgO//QkkPgySnb9OCrq9ZI0EP0Y4070RI0y9UZ7bPd6XQbx86Tc9Xg6pOeaUgT19RbW9vBHAvma7bj/HQJm7rw1XOpBO0r5n9Km9MFHrPv8wBz2TpqI8spMwvwYxAbr7Zqu8RovbPXXzt74LVVw+Rb4gO5mJNT02Ujm+WarYvYtrM72Cv3O8J7IuPzRD8rzvDF+/wp9NO2t5lj7akRE+yI6Dvf5HYr0tTEM/z6gKP3eqwT00Qo+9TiMCPsNWlz2CpYW+rV2BPPPstj3Ws8a9mgICPuQmrz6slmw+8zyGu0Avjr3iMKS7zVMbv7rnFrx5KUG9iUOfvUx7njz50KG673hIvqJvs72x3H+9BKx/vfZqOT+oOwm+5DbSPcfKNj23xPa9lQlWvoQGhr6lL5m9Vg2xvLLNCr5DtEI8ze7wvdrXGL1xO0e89RcLP4HJsD2EXYi+OYICvveN/b2FkVq9SHMMP6JtvD3rN5U9dkC7vvuXTz5HxR494z0HvbzFsDtUzmw9CyxAP98tKT2Pe7U+/zETvbshwr5Nuh28h0WQvfslKbyg3g49W+nIPIyKn70IqoK8ti3Suzwx9b1ryIS+1fdfO/XK6bpkPNe9blYAPHmnMT6k1nU9kRUnPlDBELwEIQW/7ZQnO6eqQbyp+Na9shpVPU2l6r3TlG69tG+hvKYGgb25seo8MuFxu8e0hj5tkVA8gWAGO5mcZL6fz8u8/SalPVBER74c2ju9hqeCvtjYJj42guo+K9rFPKpDJL7qDO+6Hoe+vsngSz61P/K9CUaAPoQpMj3JoJw9R38tP45KOb1QlGu977coP3976Lw4Xtq+kVA5PnBaHj4/SyA+D/nTO8dX+r41kX88ar5nvry/FD38XOC+zIKzPkUnkDwBfIc+QTmJPfYqEj46kHc9EmaGvE3bFr9GLnW9UxDNPnn1iz2csbk+A1d7vpoSzT07VIk+yBATvJDUjr74dKu9yC7YPqgzJz8zmYI9Xu8PPtRHlD6MhY6+5E8iPo3OfzwUn/M8sQHZvbfPbr0245++hT/6vEbMV72ctuQ8UY4Pvx+vmb2dh1i/9XEmvvPHvj2jnSW/K8wXPYZh4L4y1nA9CORXPTNEp776dbk+LTyIvC5tNj1JhyM9ybe2PKM6mbwJ4Ok99Ep+vxbLtLpw7zu9A2aEvfiM7D5Wbog9rcvkPhYCPz8S7YG9S/kxvdI7yb0Ayl4+Eg3PvsoQRb380VE+/5Kpu0J95ryp6CO/WEi/PTBScb4PMEu+Cc5Avg/ugr733cO8FbWevnh9mzzBWdM9cYZQvrKyabz3ZI294vYKPqEuwj3dcZg+0BgSPcDiYr53ple+1I0wPTZVsTz8Pqo9xiGXPZYOYD094Hi8CeYovdXZGr621pM9wV+oPREhnT4/mEm8HTyIvNnTIz5E2LA9L91Zu6F8g73KoJE9MWsLv2ufqLm1UMe91pOovSqdab3BpEI+f1wmP4oB4j015xW+r4tKP0TKjD5g/bI9nNvAvlOQFr5A0S0+WY/XvisQgr2QDyw/9wGgvYmPOr6Cw66+mIHvPc/xZLxmyza+h4kfPvz2Ob0mAx2+2A6pvg==",
        "encoding": "base64",
        "path": [
         "x",
         0,
         "data"
        ]
       },
       {
        "data": "+h44QJowaEBVUB5BVc4sQaDLGcH1AhNAriKRQNeGtUDktmnA3NxJwVRa9D9leSdBJeCWP2kaFkHFuBLB4oRMwLkqj78nnSZBPOYnQaxVe8B+1BNBzkbHwGbRKsE7Tx/BtYvXwNqBKsFNrSHBJqqhwLWBakBrpVZAB5cjQAlAPUFpScZAwYm3P1rIk0CjfzxBJFpoP2yte0A/LilB9sJbQcxd7cCzBubAEIJqQdetG0Bdv2nBQmnpP8w48j9bsenAl23HQGSa0cBYumxB/2JBQbNQ5cBFS5PAKt4fQU4aWECpptLAS7D3wM7UqUCua81AxwQ4v2RK4cBBWUs/F0APwVMuAEHuQT4+S8I7QQWQZEEZlSpB1mMcwH+/EcF2pSXBKnHAQKvsNMAEl26/dGVcQZQFzUDqACvB9AFkv/TqjEBlwYI/YQ21P86rKsFi2CRB0KfOwPFrrsB5syxBgLvJv89G3MAPYRtBN+3TQEKzIUGKRue/wRMiQZb/30DKnpjACFkZQbHNR0DV7ri+lstwwCs6iUBIaYzAve0gwBkpUcGKZfbAswi0QHgHbUD3T1VA42srwSbe18BOikZBj9iDwMqzMcH8sYNBGFHVwM9dEEB8GQ/BNww0wPXeSL65J5FAHzfSQDiazsCc1E1AYc8CwTS1UcEFWydB6F03wC0nIECrpKrAbLxawbpb1EAAq8TAjQu0QBXDbMEtW1XAMgDoP5q/ur9/wgRAvC8Vv33x8sD9r+NAOU5VwN+/u8AuxQi/HmV4vYyVG0H/79BAzexAv3/fJkEwmQLBhcwuQcDnaj+3E/2/JwK6QIrD48DjFR9Ak4WXPF2AosAUt41APv0KwV6m2T4fq4lAR+PqQNL9w0C9fx1BkW0sQTOtT8BWPApB6FOpvwV7HcAZfunAaKiPQFS9EcGGdgG/VhaFv5F3iMBBm6bAFm0KQVIZWUBY3mPBlM1gQYNVH0EacIrAGocrQasNDUFnoNJAIPAcwa0LB8BzLmjAbPgSwVjAX8CdO+1A5bfjwCuVNMHhgFNA+7UgQQW2U0GThylBGZMYQWb+60BxI7dA2m+PwPuHbMDujBpBvDpywKEXIkGckmdA6tsqwEOEDsDV9T2+PKkrwaYz5MD1abi/J6KRQMhKOcFFF1Q/Lc7yQM71jT5bJrPAugA6QXphKMHRLpk/ivyUwEMKk0BSSJDBl/rVQBaM08BQzs1A1YCRQAitksBA2JdAZB8hwfRrCsHjnSFBiHhUwDX3jMCFUWpBk1EFP0lWKj+ZMJBAvM9MwAE8scCXG6u/N5fiQHV7B0AK2ajA3Uv0wH3Ya8FPcynBLANmQIUHlz/lTlrAsrqXQKQy88AsOqW/YrwMweXrYUBFLjDAW50cQYb/JcFwll++NpT4wJj8sED2xZvAI2RCwE31qUD/PVJBA6+/wFz/bMFnbKjA+J1PwLzxo79PoVrAfSobQexPcMDFmkBBj3QawKKmAcCvUExAypfCQCV/XECUTldB0UW7wIZ7yT/OclPBAPBGwRxMrsCGrtTAXfAPwKPLrkDsEmk/HuqWQOo3acAqjORAlwYnwFALGkGtw8rAJ99eQDzSM0FCczRBZ4GsP8iBX8D2ovPARiVSPw2AV8DrzpVAf4PUwNjior8zmgRBvZtgQOjRoUDjVyhBjofePx7/dL+BvCpB/MAYQTD1IcFrHCNA20ycQMgpE0AzQyxBXiYGQapzU8AZjhPBhAVdwJawE8HxlFhBtIBmwF8VNcAqY45Aw0vVvyF+isCpIyVBcXE5Qe/yD0GF4XvBFgptQZ5OYsDv9CFBRfplwd6yWUCgyllBcsPeQPPPEsARre9AkPZxwIaRejtJuoPAzhcVQd7AO7/fHwXAoVLCwLuURsGfqAlBFOKUvqp/DECEoibBDATvv5m30MDsRCrBW3FNwJGX5cA/HuU+/3CSQHVWE0H5WRxBpRbTv1GrKEGEgETAes/9QGE/J7+5Veo+mk4tQR99lkDwrRVBsr0IwPcNA8DQeORAqb0VPzWlDcGkcWe/MbkTQUfp7cCUhCzBZzImwZNiC0ATc6HAmLVZwUL4gz4Qdm7A6/YnQUwDPEAeBL4/FT4pQQHUpT+QbBo912G0P/Q62kDfGRHBlpzCP+meIkHPfx7BGYpvQP+NcMBPv4RAgUHqQOWLHMHjmAu/1O4fwZpy278+4jDA8cnpwCU1aMExWa/AsaPKQBucZcF0Ufo/e0Oqv/YI3MB4tSpB3gTtPqPvmMBGeifBrFUjQbNGWUAOvAtARhzhwL+Tp0AhW/xA3CgiwOlfYcE8Pp7AvKHgPzwNGsA5y4pAKfI8wADDZ8HMqW8+wD6dwLWSpb8b5sa/SxQFQWXsB0HtzPVA8a9tQeZgd0DRcSfBfYiSQBKPykDELQ/AZde+v2V6K8F15RJA9E6ZQLDbH0AECBLACdRxQBsBOMH5Q+JAFTcLQViXH0GhbR5B7KEaQUCunkC2YlLAkh/fQE6iG8FdPCzB8qMlwSC/IUDRYqXABPrjQOPSEkDiTSPBrvZAQKRFK0EhfZFARSFOQOw+5cBizgBAmEjswO18RkG3Yg/As14XQSPtEsAowpXAclcPQYwmfT/aoZW/m3FmwCAcJUDClGU/C2VbQMplKUEqOzFALDX0QE9kp0CucfBADd+XwOANJ0EqMClBFWEHQcIWp7+o9ApB61BDQL8mB8D8mCbBS6DdP6xAKUFA7B9A1OozQMhn6kARRvY/WWt6v35y7UBSfeXAMobnwETsA8EXmV/BDKXXwH2FmEC+pCfAg5YJQLWeJcFebbxAveffwMz3qUBv4s5ADnfWwFMMbMA3jrm/nOkOwLg8bMGwFm4/DB30QH8rp8AOX9hAnjYlwNwaNsBR4JbApsyFQKVwYUDicm3BoscxQI6tWEAliF3AEzxkQQjISEDabCvBADa1wC6pCsFLxUlBkMDpwPvukMDpU3pAWyFOQKyz50Cn8ydB/KYrwZ8KGMG8HZ1AeEmDQJBXUkDQev3ABMNewJnUJz/xJRhBiySswObxYEDTtiZBmeoZQbg+vj7qoSXBrtjDwDOkL0BdCxfBCO88wG2SKMHuiBs/X7L8v262J0FAeBjAw/X4P+69lL7XAypBoFj9QJlOiUAdIRNBK4gXQJbfhUBdpxBBoHEVQL0xFUGfnVFB/ZqLv1Drh8DFgmRBd7ksv+aa3sCji/DASm5TQQcBb8CJCCbBtp6bwJhzdkBHunbAx7JKwJuSqcCFkKK/RzwgQbKKY8FXRTpBXL3Jv+ZJukDz2iDBFLHowD0mCEF/tzxAq8nywPrBNUD4hRi/HLy1wPa/fL+GGPDA4+oCwH0C7L+0+GTBZ9i0QIFqI8HhMa5AEBqev+XYxL+0AgNA4q+1QM7KCL+fyWXB/TvqQOgKt0CpecY/Brq4wAS8JUHZesjACt3YQOr6JkEEQ5y/iz0mwUUu1MBX/rxA9fAtwD+vo8AYzRPAm20pwahPXUDXfIK+kSlSP0jo6cAmdgnB3NgTQKyF40BDDOFAxyzRwDbcS0BlUGRAHuIvwA3LCUEOQwRB/Rqavwm7FMFtkIrA1QDTwOmMwsCyY01BWBnuQJ1EPT/8753Avr4NQU1tNUBXjSRAtldbwVC4KEH20fdAYx0dQLbVrcB+JDHBs8W2wJci5b8zbi9BGZERPxP3iUFTMxXBl8vcQJta/cA7XQFB0qcYPyb76EC6WZg/DpRTQJQ97j9NEW5BbwcBQZEiS8D7P2ZAbJbzQOhQJcGpSq5AmjVLP7SB4MDskEjBJb/tQLkyyUDAAARANdHNQM9ZccB2ncU/M+BvwGcqGMDjGeNARUNTQE1UFUEUr20/t2/jQFC+l8BYD2nBeBOTwMGUKEE36rvAzWgfwdO05sDtiilBj6DtQEYLvkDdFcy/x37jQHW6zT5+Y9c/oK0nQT8oWcAs8NLA3VlrQUTs4EAf5cY+4mfPvwEOHsC3I8dAcW1uQVLjK8GXan3AowhUQV9KOkC2r7DAyQx4PY13lr+4/N6/jXDAQI5+vMBCnZNApAPQwJdD/j3tRSPBeKj5QAd9gcCE7hxBCh+4wL68kUCigKA/VyJbwPaghz/wBvnAfMBFwK7AJkE3TgJA20D4PrOdrcCwV8lANGQBQSAgP8C9gJBAqnXZwF5ZeEB5U2xBd6P1Pz8cE8C2QTZAQsHBwClZEEGWn0XAV9gIwHhw+EDFUA5B/GGZQNrUZUG99ZtA0JQmQaMjAsEsObNA7xTnQJIobEHkUVlAau4JwIIgfEAWif4/VdU1QHZNa8ARjCDBocKcQKQMmMC9tCHBpcYrQYplqcA7ba+/hEmXwEHELkFXNWLAMRUqQWglMkA7/PVA/8XeQG2aesCtvCDBvy1twRAKnkDshJDAz91ZwSxWvcDmmopAd3Fpwff39sAKcHdAfLoEwXz8isClsoVA4YydwKgp6cDwBLDAWFcBPwRz9cBLcR8+50giwRtqBsCzqilB2y3SwLSIasAmtYFAOI5zP+a5+EAMCv+/dS1wQPO/RcEQxylBoUuJP5aUZ0HV7BNAnUhAQeJMSMDh5CLBCaJsQXQhBr2FM3RA03NWP28l8UDUb4W/6UDnwC8gFsHvwSZAwgPkvvIxrsDq8mZAZU6CwJxDfz8o3fpAZiQ/waTs3L/t2qjAotmxwNz6WcEgjjVBcBAHwFcP60CNfoBAXfdGwKeN9j854aS/kYwAwcl8Wz9MACdByQLlwEBK8L8cjlNA+nxFQKwRH0H2IJFAs0tIwdQml0AduZ0/wKQGQRBlJcHw7Fy/FT2QPxfQq78/m0DA8HLTQAJ6IkEqgKU+gEYjPzRAY0G2PQVAvzB0QH/CAMF122i/wPNswXIwhD2caYtA0kUeQDvVQ0HuFgbBaKdQQb3wJUFg1yNBBsQJQLiRnsAwgLhAgNnnwJqKhkFgF0FBWa8iwY5PVkA1msbAGHPoQMrGmkAF04JAiEdywENCH8GuFirBbQRSQCBs2T/lAY1AjhQtwQ==",
        "encoding": "base64",
        "path": [
         "y",
         0,
         "data"
        ]
       },
       {
        "data": "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",
        "encoding": "base64",
        "path": [
         "z",
         0,
         "data"
        ]
       }
      ],
      "model_module": "ipyvolume",
      "model_module_version": "~0.6.0-alpha.2",
      "model_name": "ScatterModel",
      "state": {
       "_model_module_version": "~0.6.0-alpha.2",
       "_view_module_version": "~0.6.0-alpha.2",
       "aux": null,
       "aux_scale": null,
       "color": [
        {
         "dtype": "float32",
         "shape": [
          937,
          4
         ]
        }
       ],
       "geo": "sphere",
       "line_material": "IPY_MODEL_87ab38e981244b109e18506c2d674aad",
       "material": "IPY_MODEL_70eedf9c65ae43da950b95b6e5f1b1c8",
       "size": 0.5,
       "size_selected": 2.6,
       "size_x_scale": null,
       "size_y_scale": null,
       "size_z_scale": null,
       "texture": null,
       "vx": null,
       "vy": null,
       "vz": null,
       "x": [
        {
         "dtype": "float32",
         "shape": [
          937
         ]
        }
       ],
       "y": [
        {
         "dtype": "float32",
         "shape": [
          937
         ]
        }
       ],
       "z": [
        {
         "dtype": "float32",
         "shape": [
          937
         ]
        }
       ]
      }
     },
     "d636dd55e01f431884f53a98fe2b95d8": {
      "model_module": "ipyvolume",
      "model_module_version": "~0.6.0-alpha.2",
      "model_name": "FigureModel",
      "state": {
       "_model_module_version": "~0.6.0-alpha.2",
       "_view_module_version": "~0.6.0-alpha.2",
       "camera": "IPY_MODEL_877caff5a7d5487e89583729de2192ae",
       "controls": "IPY_MODEL_9d4403b65cbb4aca9757de07431681a9",
       "height": 500,
       "layout": "IPY_MODEL_44271ad51a764949b80860d70e22d69f",
       "matrix_projection": [
        3.0177669529663684,
        0,
        0,
        0,
        0,
        2.414213562373095,
        0,
        0,
        0,
        0,
        -1.00010000500025,
        -1,
        0,
        0,
        -0.200010000500025,
        0
       ],
       "matrix_world": [
        7.979727989493309e-18,
        0.023553303099494244,
        0.008381044869427359,
        0,
        0.024079064169942984,
        0.002253829082853065,
        -0.006333950044407819,
        0,
        -0.006722995515376168,
        0.00807230868888451,
        -0.02268565986987355,
        0,
        0,
        -2.220446049250312e-16,
        -1.999999999997995,
        1
       ],
       "meshes": [],
       "render_continuous": true,
       "scales": {
        "x": "IPY_MODEL_96b14ea065094162afb389297d644101",
        "y": "IPY_MODEL_fb03cebb36d8451a90000c1bd3dfa36c",
        "z": "IPY_MODEL_a32836ccef86480faae7682bd25553bc"
       },
       "scatters": [
        "IPY_MODEL_e9943eea75514ec8a69243a06b73de59"
       ],
       "scene": "IPY_MODEL_c1ada53b5d1e4084ac5405df4d0ec713",
       "style": {
        "axes": {
         "color": "white",
         "label": {
          "color": "white"
         },
         "ticklabel": {
          "color": "white"
         },
         "visible": false
        },
        "background-color": "black",
        "box": {
         "visible": false
        }
       },
       "volumes": [],
       "width": 400
      }
     },
     "d6e5dd6ff4954f1b8242d57e698b239b": {
      "model_module": "jupyter-threejs",
      "model_module_version": "^2.1.0",
      "model_name": "ShaderMaterialModel",
      "state": {
       "_view_module": null,
       "_view_module_version": ""
      }
     },
     "d995fd16c3da4e98a29be08f536b77bd": {
      "model_module": "@jupyter-widgets/controls",
      "model_module_version": "1.5.0",
      "model_name": "HTMLModel",
      "state": {
       "layout": "IPY_MODEL_954818bf81d24caf8bc7eeb84027a606",
       "style": "IPY_MODEL_52db0bb9972f4123b44623e95cec8ed4",
       "value": " 1892/1892 [00:00&lt;00:00, 11221.42it/s]"
      }
     },
     "d9b2da8cc70a4bf6925cbbb8db2d20d2": {
      "model_module": "@jupyter-widgets/controls",
      "model_module_version": "1.5.0",
      "model_name": "VBoxModel",
      "state": {
       "children": [
        "IPY_MODEL_32d87ffa23b74086918d6a48ccc98611"
       ],
       "layout": "IPY_MODEL_ebf70332cb484a3ea7114ed3362c45a0"
      }
     },
     "e008d43d50c048ee84ac3fa0b2446085": {
      "model_module": "jupyter-threejs",
      "model_module_version": "^2.1.0",
      "model_name": "PerspectiveCameraModel",
      "state": {
       "_view_module": null,
       "_view_module_version": "",
       "aspect": 0.8,
       "focus": 3.0146795390560284,
       "fov": 45,
       "matrix": [
        0,
        -0.6118663907982198,
        -0.7909611367264261,
        0,
        0.8854560256532233,
        0.3675779684228294,
        -0.2843484899987051,
        0,
        0.4647231720437429,
        -0.700361304571937,
        0.5417807826269737,
        0,
        1.4009914380854862,
        -2.111364894839606,
        1.6332954400392996,
        1
       ],
       "matrixWorld": [
        0,
        -0.6118663907982198,
        -0.7909611367264261,
        0,
        0.8854560256532233,
        0.3675779684228294,
        -0.2843484899987051,
        0,
        0.4647231720437429,
        -0.700361304571937,
        0.5417807826269737,
        0,
        1.4009914380854862,
        -2.111364894839606,
        1.6332954400392996,
        1
       ],
       "matrixWorldInverse": [
        5.551115123125783e-17,
        0.8854560256532233,
        0.4647231720437429,
        0,
        -0.6118663907982198,
        0.36757796842282936,
        -0.700361304571937,
        0,
        -0.7909611367264261,
        -0.28434848999870516,
        0.5417807826269737,
        0,
        4.440892098500626e-16,
        1.1102230246251565e-16,
        -3.0146795390560284,
        1
       ],
       "position": [
        1.4009914380854862,
        -2.111364894839606,
        1.6332954400392996
       ],
       "projectionMatrix": [
        3.0177669529663684,
        0,
        0,
        0,
        0,
        2.414213562373095,
        0,
        0,
        0,
        0,
        -1.00010000500025,
        -1,
        0,
        0,
        -0.200010000500025,
        0
       ],
       "quaternion": [
        0.15053342564875494,
        0.45436691830387904,
        -0.5418031963278143,
        0.6908977404525585
       ],
       "rotation": [
        0.9123782341927761,
        0.4833219467060931,
        -1.5707963267948966,
        "XYZ"
       ],
       "up": [
        1,
        0,
        0
       ]
      }
     },
     "e77ccdbc78124354929b244f76b674cf": {
      "model_module": "jupyter-threejs",
      "model_module_version": "^2.1.0",
      "model_name": "PerspectiveCameraModel",
      "state": {
       "_view_module": null,
       "_view_module_version": "",
       "aspect": 1.3333333333333333,
       "focus": 1.2604988194467943,
       "fov": 45,
       "matrix": [
        0,
        -0.9537492807706253,
        0.3006032425465756,
        0,
        0.9297033871633652,
        -0.11071491737271089,
        -0.3512745635085466,
        0,
        0.3683091254598046,
        0.2794718527878419,
        0.8867039368370735,
        0,
        0.4642532178335649,
        0.352273940507683,
        1.1176892655819561,
        1
       ],
       "matrixWorld": [
        0,
        -0.9537492807706253,
        0.3006032425465756,
        0,
        0.9297033871633652,
        -0.11071491737271089,
        -0.3512745635085466,
        0,
        0.3683091254598046,
        0.2794718527878419,
        0.8867039368370735,
        0,
        0.4642532178335649,
        0.352273940507683,
        1.1176892655819561,
        1
       ],
       "matrixWorldInverse": [
        -8.326672684688672e-17,
        0.9297033871633651,
        0.36830912545980465,
        0,
        -0.9537492807706249,
        -0.11071491737271076,
        0.2794718527878419,
        0,
        0.3006032425465756,
        -0.3512745635085466,
        0.8867039368370735,
        0,
        -1.1102230246251563e-16,
        1.1102230246251563e-16,
        -1.2604988194467945,
        1
       ],
       "position": [
        0.4642532178335649,
        0.352273940507683,
        1.1176892655819561
       ],
       "projectionMatrix": [
        1.8106601717798212,
        0,
        0,
        0,
        0,
        2.414213562373095,
        0,
        0,
        0,
        0,
        -1.00010000500025,
        -1,
        0,
        0,
        -0.200010000500025,
        0
       ],
       "quaternion": [
        -0.2366489914069133,
        0.0254024890031261,
        -0.7066503474508776,
        0.6663311900744935
       ],
       "rotation": [
        -0.30532508696459393,
        0.3771896392937276,
        -1.5707963267948966,
        "XYZ"
       ],
       "up": [
        1,
        0,
        0
       ]
      }
     },
     "e9943eea75514ec8a69243a06b73de59": {
      "buffers": [
       {
        "data": "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",
        "encoding": "base64",
        "path": [
         "color",
         0,
         "data"
        ]
       },
       {
        "data": "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",
        "encoding": "base64",
        "path": [
         "x",
         0,
         "data"
        ]
       },
       {
        "data": "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",
        "encoding": "base64",
        "path": [
         "y",
         0,
         "data"
        ]
       },
       {
        "data": "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",
        "encoding": "base64",
        "path": [
         "z",
         0,
         "data"
        ]
       }
      ],
      "model_module": "ipyvolume",
      "model_module_version": "~0.6.0-alpha.2",
      "model_name": "ScatterModel",
      "state": {
       "_model_module_version": "~0.6.0-alpha.2",
       "_view_module_version": "~0.6.0-alpha.2",
       "aux": null,
       "aux_scale": null,
       "color": [
        {
         "dtype": "float32",
         "shape": [
          937,
          4
         ]
        }
       ],
       "geo": "sphere",
       "line_material": "IPY_MODEL_6cc4342c2b8e4e6e865cb4b76dd3793e",
       "material": "IPY_MODEL_952bba95157d45f29a20c4a56dfda022",
       "size": 0.5,
       "size_selected": 2.6,
       "size_x_scale": null,
       "size_y_scale": null,
       "size_z_scale": null,
       "texture": null,
       "vx": null,
       "vy": null,
       "vz": null,
       "x": [
        {
         "dtype": "float32",
         "shape": [
          937
         ]
        }
       ],
       "y": [
        {
         "dtype": "float32",
         "shape": [
          937
         ]
        }
       ],
       "z": [
        {
         "dtype": "float32",
         "shape": [
          937
         ]
        }
       ]
      }
     },
     "e9b3822aee474b858a3fe9ca8aa4abe4": {
      "model_module": "@jupyter-widgets/base",
      "model_module_version": "1.2.0",
      "model_name": "LayoutModel",
      "state": {}
     },
     "ebf70332cb484a3ea7114ed3362c45a0": {
      "model_module": "@jupyter-widgets/base",
      "model_module_version": "1.2.0",
      "model_name": "LayoutModel",
      "state": {}
     },
     "ec4d90efc3b142caaa57d9dfc668b6b2": {
      "model_module": "@jupyter-widgets/controls",
      "model_module_version": "1.5.0",
      "model_name": "ProgressStyleModel",
      "state": {
       "description_width": "initial"
      }
     },
     "ed8dae51832d45e3b5a8d6f306a39edb": {
      "model_module": "@jupyter-widgets/controls",
      "model_module_version": "1.5.0",
      "model_name": "DescriptionStyleModel",
      "state": {
       "description_width": ""
      }
     },
     "edd24607d9974e7c8206d7abb84882ab": {
      "model_module": "jupyter-threejs",
      "model_module_version": "^2.1.0",
      "model_name": "PerspectiveCameraModel",
      "state": {
       "_view_module": null,
       "_view_module_version": "",
       "aspect": 1.3333333333333333,
       "focus": 1.5475618749926339,
       "fov": 45,
       "matrix": [
        0,
        -0.5877852522915884,
        -0.8090169943755902,
        0,
        0.9252830112123424,
        0.30684186539395686,
        -0.22293366458069352,
        0,
        0.37927740396946963,
        -0.7485696806778047,
        0.5438677081865673,
        0,
        0.5869552504293312,
        -1.1584578985923806,
        0.8416689302291509,
        1
       ],
       "matrixWorld": [
        0,
        -0.5877852522915884,
        -0.8090169943755902,
        0,
        0.9252830112123424,
        0.30684186539395686,
        -0.22293366458069352,
        0,
        0.37927740396946963,
        -0.7485696806778047,
        0.5438677081865673,
        0,
        0.5869552504293312,
        -1.1584578985923806,
        0.8416689302291509,
        1
       ],
       "matrixWorldInverse": [
        -1.1102230246251568e-16,
        0.9252830112123425,
        0.3792774039694698,
        0,
        -0.5877852522915885,
        0.3068418653939569,
        -0.7485696806778048,
        0,
        -0.8090169943755904,
        -0.22293366458069344,
        0.5438677081865674,
        0,
        2.2204460492503136e-16,
        -2.775557561562892e-17,
        -1.5475618749926343,
        1
       ],
       "position": [
        0.5869552504293312,
        -1.1584578985923806,
        0.8416689302291509
       ],
       "projectionMatrix": [
        1.8106601717798212,
        0,
        0,
        0,
        0,
        2.414213562373095,
        0,
        0,
        0,
        0,
        -1.00010000500025,
        -1,
        0,
        0,
        -0.200010000500025,
        0
       ],
       "quaternion": [
        0.1931905965746494,
        0.43674195963045204,
        -0.5561083174150092,
        0.6802039351511655
       ],
       "rotation": [
        0.9424777960780315,
        0.38901522539814837,
        -1.5707963267948966,
        "XYZ"
       ],
       "up": [
        1,
        0,
        0
       ]
      }
     },
     "ef6344879fda44c2a9e33e751e1bb016": {
      "model_module": "@jupyter-widgets/controls",
      "model_module_version": "1.5.0",
      "model_name": "DescriptionStyleModel",
      "state": {
       "description_width": ""
      }
     },
     "f03b6faf0be240529c7fb2a672670cd2": {
      "model_module": "@jupyter-widgets/controls",
      "model_module_version": "1.5.0",
      "model_name": "DescriptionStyleModel",
      "state": {
       "description_width": ""
      }
     },
     "f5fef17473054afea7568463e9a59fad": {
      "model_module": "jupyter-threejs",
      "model_module_version": "^2.1.0",
      "model_name": "PerspectiveCameraModel",
      "state": {
       "_view_module": null,
       "_view_module_version": "",
       "aspect": 1.3333333333333333,
       "focus": 0.8362406704336507,
       "fov": 45,
       "matrix": [
        1.1102230246251565e-16,
        -0.9955248323797689,
        -0.0945003074875069,
        0,
        0.9171868202429007,
        0.037654351226963145,
        -0.39667428276407557,
        0,
        0.3984574466272619,
        -0.08667443653644274,
        0.9130822554832466,
        0,
        0.3332063223068621,
        -0.07248068891869383,
        0.7635565174863801,
        1
       ],
       "matrixWorld": [
        1.1102230246251565e-16,
        -0.9955248323797689,
        -0.0945003074875069,
        0,
        0.9171868202429007,
        0.037654351226963145,
        -0.39667428276407557,
        0,
        0.3984574466272619,
        -0.08667443653644274,
        0.9130822554832466,
        0,
        0.3332063223068621,
        -0.07248068891869383,
        0.7635565174863801,
        1
       ],
       "matrixWorldInverse": [
        4.8572257327350586e-17,
        0.9171868202429004,
        0.39845744662726185,
        0,
        -0.9955248323797685,
        0.037654351226963215,
        -0.08667443653644277,
        0,
        -0.09450030748750682,
        -0.3966742827640755,
        0.9130822554832466,
        0,
        -4.163336342344336e-17,
        -6.28586994585301e-17,
        -0.8362406704336507,
        1
       ],
       "position": [
        0.3332063223068621,
        -0.07248068891869383,
        0.7635565174863801
       ],
       "projectionMatrix": [
        1.8106601717798212,
        0,
        0,
        0,
        0,
        2.414213562373095,
        0,
        0,
        0,
        0,
        -1.00010000500025,
        -1,
        0,
        0,
        -0.200010000500025,
        0
       ],
       "quaternion": [
        -0.1109767918190446,
        0.1764738619057483,
        -0.6847313166958781,
        0.6983438634924435
       ],
       "rotation": [
        0.09464152855376887,
        0.4098343992542488,
        -1.5707963267948963,
        "XYZ"
       ],
       "up": [
        1,
        0,
        0
       ]
      }
     },
     "f600d6f8636946bca2f2ea79f02bfc40": {
      "model_module": "bqplot",
      "model_module_version": "^0.5.6",
      "model_name": "LinearScaleModel",
      "state": {
       "max": 20,
       "min": -20,
       "stabilized": false
      }
     },
     "f6c636388b76407c8874af15b0516e69": {
      "model_module": "@jupyter-widgets/base",
      "model_module_version": "1.2.0",
      "model_name": "LayoutModel",
      "state": {}
     },
     "f80882c1592a4ce3a07bd204c4715495": {
      "model_module": "bqplot",
      "model_module_version": "^0.5.6",
      "model_name": "LinearScaleModel",
      "state": {
       "max": 20,
       "min": -20,
       "stabilized": false
      }
     },
     "f80d058659c24bf587a525e198e11c7e": {
      "model_module": "bqplot",
      "model_module_version": "^0.5.6",
      "model_name": "LinearScaleModel",
      "state": {
       "max": 20,
       "min": -20,
       "stabilized": false
      }
     },
     "fa030d603915403abfcf9b31083cbd5b": {
      "model_module": "@jupyter-widgets/controls",
      "model_module_version": "1.5.0",
      "model_name": "DescriptionStyleModel",
      "state": {
       "description_width": ""
      }
     },
     "fb03cebb36d8451a90000c1bd3dfa36c": {
      "model_module": "bqplot",
      "model_module_version": "^0.5.6",
      "model_name": "LinearScaleModel",
      "state": {
       "max": 20,
       "min": -20,
       "stabilized": false
      }
     },
     "fc8a7a01b4d344389a9831628cf642f2": {
      "model_module": "ipyvolume",
      "model_module_version": "~0.6.0-alpha.2",
      "model_name": "FigureModel",
      "state": {
       "_model_module_version": "~0.6.0-alpha.2",
       "_view_module_version": "~0.6.0-alpha.2",
       "camera": "IPY_MODEL_f5fef17473054afea7568463e9a59fad",
       "controls": "IPY_MODEL_180930d467234d9f80d73efab0654c79",
       "height": 480,
       "layout": "IPY_MODEL_bc3976231f4749f9a710160080bdaba3",
       "matrix_projection": [
        1.8106601717798212,
        0,
        0,
        0,
        0,
        2.414213562373095,
        0,
        0,
        0,
        0,
        -1.00010000500025,
        -1,
        0,
        0,
        -0.200010000500025,
        0
       ],
       "matrix_world": [
        1.2143064331837647e-18,
        0.022929670506072513,
        0.009961436165681547,
        0,
        -0.024888120809494214,
        0.0009413587806740804,
        -0.0021668609134110695,
        0,
        -0.0023625076871876707,
        -0.009916857069101889,
        0.022827056387081168,
        0,
        -4.163336342344336e-17,
        -6.28586994585301e-17,
        -0.8362406704336507,
        1
       ],
       "meshes": [],
       "render_continuous": true,
       "scales": {
        "x": "IPY_MODEL_8109cd2623074c748b1980302e96d883",
        "y": "IPY_MODEL_bd20326105c949ca8c23655f72451733",
        "z": "IPY_MODEL_af627951a6e247eebd23be058da36e7a"
       },
       "scatters": [
        "IPY_MODEL_a0dd941a72944aac8f033b98dffa76a7"
       ],
       "scene": "IPY_MODEL_b0941e954dcf4a31b6bdfadd77d914eb",
       "style": {
        "axes": {
         "color": "white",
         "label": {
          "color": "white"
         },
         "ticklabel": {
          "color": "white"
         },
         "visible": false
        },
        "background-color": "black",
        "box": {
         "visible": false
        }
       },
       "volumes": [],
       "width": 640
      }
     },
     "fdab73f696494f52a95bf8f421ec7b02": {
      "model_module": "jupyter-threejs",
      "model_module_version": "^2.1.0",
      "model_name": "ShaderMaterialModel",
      "state": {
       "_view_module": null,
       "_view_module_version": ""
      }
     }
    },
    "version_major": 2,
    "version_minor": 0
   }
  }
 },
 "nbformat": 4,
 "nbformat_minor": 4
}
