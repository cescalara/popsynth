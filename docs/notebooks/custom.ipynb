{
 "cells": [
  {
   "cell_type": "markdown",
   "metadata": {},
   "source": [
    "# Custom populations\n",
    "\n",
    "Custom populations can be created either by piecing together existing populations (spatial and luminosity populations) or building them from scratch with distributions.\n",
    "\n",
    "**popsynth** comes loaded with many combinations of typical population distributions. However, we demonstrate here how to create your own."
   ]
  },
  {
   "cell_type": "markdown",
   "metadata": {},
   "source": [
    "## Creating distributions\n",
    "\n",
    "The population samplers rely on distributions. Each population has an internal spatial and luminosity distribution. For example, lets look at a simple spatial distribution:\n"
   ]
  },
  {
   "cell_type": "code",
   "execution_count": 2,
   "metadata": {
    "ExecuteTime": {
     "end_time": "2019-08-19T16:25:17.613327Z",
     "start_time": "2019-08-19T16:25:17.605023Z"
    }
   },
   "outputs": [],
   "source": [
    "%matplotlib notebook\n",
    "\n",
    "\n",
    "import matplotlib.pyplot as plt\n",
    "from jupyterthemes import jtplot\n",
    "jtplot.style(context='notebook', fscale=1, grid=False)\n",
    "green = \"#1DEBA6\"\n",
    "red = \"#FF0059\"\n",
    "yellow = \"#F6EF5B\"\n",
    "\n",
    "\n",
    "import popsynth\n",
    "\n",
    "import warnings\n",
    "warnings.simplefilter('ignore')"
   ]
  },
  {
   "cell_type": "code",
   "execution_count": 3,
   "metadata": {
    "ExecuteTime": {
     "end_time": "2019-08-19T16:31:52.697931Z",
     "start_time": "2019-08-19T16:31:52.692451Z"
    }
   },
   "outputs": [],
   "source": [
    "from popsynth.distribution import SpatialDistribution\n",
    "\n",
    "\n",
    "class SphericalDistribution(SpatialDistribution):\n",
    "    def __init__(self, r_max=10, seed=1234, name=\"sphere\", form=None, truth={}):\n",
    "\n",
    "        \n",
    "         # the latex formula for the ditribution\n",
    "        form = r\"4 \\pi r2\"\n",
    "        super(SphericalDistribution, self).__init__(\n",
    "            r_max=r_max, seed=seed, name=name, form=form, truth=truth\n",
    "        )\n",
    "\n",
    "    def differential_volume(self, r):\n",
    "\n",
    "        return 4 * np.pi * r * r\n",
    "\n",
    "    def transform(self, L, r):\n",
    "\n",
    "        return L / (4.0 * np.pi * r * r)\n"
   ]
  },
  {
   "cell_type": "markdown",
   "metadata": {},
   "source": [
    "We simply define the differential volume and how luminosity is transformed to flux in the metric. Here, we have a simple sphere out to some *r_max*. We can of course subclass this object and add a normalization.\n",
    "\n",
    "\n",
    "Now we define a luminosity distribution."
   ]
  },
  {
   "cell_type": "code",
   "execution_count": 4,
   "metadata": {
    "ExecuteTime": {
     "end_time": "2019-08-19T16:32:09.434001Z",
     "start_time": "2019-08-19T16:32:09.426805Z"
    }
   },
   "outputs": [],
   "source": [
    "from popsynth.distribution import LuminosityDistribution\n",
    "\n",
    "\n",
    "class ParetoDistribution(LuminosityDistribution):\n",
    "    def __init__(self, Lmin, alpha, seed=1234, name=\"pareto\"):\n",
    "\n",
    "        # the truth parameters for storage\n",
    "        truth = dict(Lmin=Lmin, alpha=alpha)\n",
    "\n",
    "        # the latex formula for the ditribution\n",
    "        lf_form = r\"\\frac{\\alpha L_{\\rm min}^{\\alpha}}{L^{\\alpha+1}}\"\n",
    "        \n",
    "        \n",
    "        super(ParetoDistribution, self).__init__(\n",
    "            seed=seed, name=name, form=lf_form, truth=truth\n",
    "        )\n",
    "\n",
    "        # since we have extra parameters, we need to tell the class about them\n",
    "        self._construct_distribution_params(Lmin=Lmin, alpha=alpha)\n",
    "\n",
    "    def phi(self, L):\n",
    "        \n",
    "        # the actual function, only for plotting \n",
    "\n",
    "        out = np.zeros_like(L)\n",
    "\n",
    "        idx = L >= self.Lmin\n",
    "\n",
    "        out[idx] = self.alpha * self.Lmin ** self.alpha / L[idx] ** (self.alpha + 1)\n",
    "\n",
    "        return out\n",
    "\n",
    "    def draw_luminosity(self, size=1):\n",
    "        # how to sample the latent parameters\n",
    "        return (np.random.pareto(self._params[\"alpha\"], size) + 1) * self._params[\n",
    "            \"Lmin\"\n",
    "        ]"
   ]
  },
  {
   "cell_type": "code",
   "execution_count": null,
   "metadata": {},
   "outputs": [],
   "source": []
  }
 ],
 "metadata": {
  "kernelspec": {
   "display_name": "popsynth",
   "language": "python",
   "name": "popsynth"
  },
  "language_info": {
   "codemirror_mode": {
    "name": "ipython",
    "version": 3
   },
   "file_extension": ".py",
   "mimetype": "text/x-python",
   "name": "python",
   "nbconvert_exporter": "python",
   "pygments_lexer": "ipython3",
   "version": "3.7.3"
  }
 },
 "nbformat": 4,
 "nbformat_minor": 2
}
