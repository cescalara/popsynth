{
 "cells": [
  {
   "cell_type": "markdown",
   "metadata": {},
   "source": [
    "# Custom populations\n",
    "\n",
    "Custom populations can be created either by piecing together existing populations (spatial and luminosity populations) or building them from scratch with distributions.\n",
    "\n",
    "**popsynth** comes loaded with many combinations of typical population distributions. However, we demonstrate here how to create your own."
   ]
  },
  {
   "cell_type": "markdown",
   "metadata": {},
   "source": [
    "## Creating distributions\n",
    "\n",
    "The population samplers rely on distributions. Each population has an internal spatial and luminosity distribution. For example, lets look at a simple spatial distribution:\n"
   ]
  },
  {
   "cell_type": "code",
   "execution_count": 1,
   "metadata": {
    "ExecuteTime": {
     "end_time": "2020-03-31T18:06:01.277753Z",
     "start_time": "2020-03-31T18:05:59.861338Z"
    }
   },
   "outputs": [
    {
     "name": "stderr",
     "output_type": "stream",
     "text": [
      "/Users/jburgess/coding/projects/popsynth/popsynth/distribution.py:7: TqdmExperimentalWarning: Using `tqdm.autonotebook.tqdm` in notebook mode. Use `tqdm.tqdm` instead to force console mode (e.g. in jupyter console)\n",
      "  from tqdm.autonotebook import tqdm as progress_bar\n"
     ]
    }
   ],
   "source": [
    "%matplotlib notebook\n",
    "\n",
    "import numpy as np\n",
    "import matplotlib.pyplot as plt\n",
    "from jupyterthemes import jtplot\n",
    "jtplot.style(context='notebook', fscale=1, grid=False)\n",
    "green = \"#1DEBA6\"\n",
    "red = \"#FF0059\"\n",
    "yellow = \"#F6EF5B\"\n",
    "\n",
    "\n",
    "import popsynth\n",
    "\n",
    "import warnings\n",
    "warnings.simplefilter('ignore')"
   ]
  },
  {
   "cell_type": "code",
   "execution_count": 2,
   "metadata": {
    "ExecuteTime": {
     "end_time": "2020-03-31T18:06:01.286741Z",
     "start_time": "2020-03-31T18:06:01.280147Z"
    }
   },
   "outputs": [],
   "source": [
    "from popsynth.distribution import SpatialDistribution\n",
    "\n",
    "\n",
    "class SphericalDistribution(SpatialDistribution):\n",
    "    def __init__(self, r_max=10, seed=1234, form=None, truth={}):\n",
    "\n",
    "        \n",
    "         # the latex formula for the ditribution\n",
    "        form = r\"4 \\pi r2\"\n",
    "        \n",
    "        # we do not need a \"truth\" dict here because\n",
    "        # there are no parameters\n",
    "        \n",
    "        super(SphericalDistribution, self).__init__(\n",
    "            r_max=r_max, seed=seed, name='sphere', form=form, truth={}\n",
    "        )\n",
    "\n",
    "    def differential_volume(self, r):\n",
    "\n",
    "        # the differential volume of a sphere\n",
    "        return 4 * np.pi * r * r\n",
    "\n",
    "    def transform(self, L, r):\n",
    "\n",
    "        # luminosity to flux\n",
    "        return L / (4.0 * np.pi * r * r)\n",
    "    \n",
    "    def dNdV(self, r):\n",
    "        \n",
    "        # define some crazy change in the number/volume for fun\n",
    "        \n",
    "        return 10./(r+1)**2\n"
   ]
  },
  {
   "cell_type": "markdown",
   "metadata": {},
   "source": [
    "We simply define the differential volume and how luminosity is transformed to flux in the metric. Here, we have a simple sphere out to some *r_max*. We can of course subclass this object and add a normalization.\n",
    "\n",
    "\n",
    "Now we define a luminosity distribution."
   ]
  },
  {
   "cell_type": "code",
   "execution_count": 3,
   "metadata": {
    "ExecuteTime": {
     "end_time": "2020-03-31T18:06:01.296187Z",
     "start_time": "2020-03-31T18:06:01.289332Z"
    }
   },
   "outputs": [],
   "source": [
    "from popsynth.distribution import LuminosityDistribution\n",
    "\n",
    "\n",
    "class ParetoDistribution(LuminosityDistribution):\n",
    "    def __init__(self, Lmin, alpha, seed=1234, name=\"pareto\"):\n",
    "\n",
    "        # the truth parameters for storage\n",
    "        truth = dict(Lmin=Lmin, alpha=alpha)\n",
    "\n",
    "        # the latex formula for the ditribution\n",
    "        lf_form = r\"\\frac{\\alpha L_{\\rm min}^{\\alpha}}{L^{\\alpha+1}}\"\n",
    "        \n",
    "        \n",
    "        super(ParetoDistribution, self).__init__(\n",
    "            seed=seed, name='pareto', form=lf_form, truth=truth\n",
    "        )\n",
    "\n",
    "        # since we have extra parameters, we need to tell the class about them\n",
    "        self._construct_distribution_params(Lmin=Lmin, alpha=alpha)\n",
    "\n",
    "    def phi(self, L):\n",
    "        \n",
    "        # the actual function, only for plotting \n",
    "\n",
    "        out = np.zeros_like(L)\n",
    "\n",
    "        idx = L >= self.Lmin\n",
    "\n",
    "        out[idx] = self.alpha * self.Lmin ** self.alpha / L[idx] ** (self.alpha + 1)\n",
    "\n",
    "        return out\n",
    "\n",
    "    def draw_luminosity(self, size=1):\n",
    "        # how to sample the latent parameters\n",
    "        return (np.random.pareto(self._params[\"alpha\"], size) + 1) * self._params[\n",
    "            \"Lmin\"\n",
    "        ]"
   ]
  },
  {
   "cell_type": "markdown",
   "metadata": {},
   "source": [
    "## Creating a population synthesizer\n",
    "\n",
    "Now that we have defined our distributions, we can create a population synthesizer that encapsulated them"
   ]
  },
  {
   "cell_type": "code",
   "execution_count": 4,
   "metadata": {
    "ExecuteTime": {
     "end_time": "2020-03-31T18:06:01.302735Z",
     "start_time": "2020-03-31T18:06:01.298313Z"
    }
   },
   "outputs": [],
   "source": [
    "from popsynth.population_synth import PopulationSynth\n",
    "\n",
    "class MyPopulation(PopulationSynth):\n",
    "    def __init__(self, Lmin, alpha, r_max=5, seed=1234):\n",
    "        \n",
    "        # instantiate the distributions\n",
    "        luminosity_distribution = ParetoDistribution(Lmin=Lmin, alpha=alpha, seed=seed)\n",
    "        spatial_distribution = SphericalDistribution(r_max=r_max)\n",
    "\n",
    "        # pass to the super class\n",
    "        super(MyPopulation, self).__init__(         \n",
    "            spatial_distribution=spatial_distribution,\n",
    "            luminosity_distribution=luminosity_distribution,\n",
    "            seed=seed\n",
    "        )"
   ]
  },
  {
   "cell_type": "code",
   "execution_count": 5,
   "metadata": {
    "ExecuteTime": {
     "end_time": "2020-03-31T18:06:01.403710Z",
     "start_time": "2020-03-31T18:06:01.304443Z"
    }
   },
   "outputs": [
    {
     "name": "stdout",
     "output_type": "stream",
     "text": [
      "The volume integral is 768.219980\n"
     ]
    },
    {
     "data": {
      "application/vnd.jupyter.widget-view+json": {
       "model_id": "278caa33ef8a4cd1b0cd255cee9ef1a7",
       "version_major": 2,
       "version_minor": 0
      },
      "text/plain": [
       "HBox(children=(FloatProgress(value=0.0, description='Drawing distances', max=741.0, style=ProgressStyle(descri…"
      ]
     },
     "metadata": {},
     "output_type": "display_data"
    },
    {
     "name": "stdout",
     "output_type": "stream",
     "text": [
      "\n",
      "Expecting 741 total objects\n",
      "Applying soft boundary\n"
     ]
    },
    {
     "data": {
      "application/vnd.jupyter.widget-view+json": {
       "model_id": "047fe7a742b24663ba00a5605df53701",
       "version_major": 2,
       "version_minor": 0
      },
      "text/plain": [
       "HBox(children=(FloatProgress(value=0.0, description='samping detection probability', max=741.0, style=Progress…"
      ]
     },
     "metadata": {},
     "output_type": "display_data"
    },
    {
     "name": "stdout",
     "output_type": "stream",
     "text": [
      "\n",
      "Deteced 373 objects or to a distance of 9.96\n"
     ]
    }
   ],
   "source": [
    "my_pop_gen = MyPopulation(Lmin=1,alpha=1,r_max=10)\n",
    "\n",
    "population = my_pop_gen.draw_survey(boundary=1.E-2)"
   ]
  },
  {
   "cell_type": "code",
   "execution_count": 6,
   "metadata": {
    "ExecuteTime": {
     "end_time": "2020-03-31T18:06:01.553688Z",
     "start_time": "2020-03-31T18:06:01.405797Z"
    }
   },
   "outputs": [
    {
     "data": {
      "application/vnd.jupyter.widget-view+json": {
       "model_id": "8ce3901587c94b04a30495e85c1587be",
       "version_major": 2,
       "version_minor": 0
      },
      "text/plain": [
       "VBox(children=(Figure(camera=PerspectiveCamera(fov=46.0, position=(0.0, 0.0, 2.0), quaternion=(0.0, 0.0, 0.0, …"
      ]
     },
     "metadata": {},
     "output_type": "display_data"
    }
   ],
   "source": [
    "population.display_obs_fluxes_sphere(cmap='viridis',s=50);"
   ]
  }
 ],
 "metadata": {
  "kernelspec": {
   "display_name": "popsynth",
   "language": "python",
   "name": "popsynth"
  },
  "language_info": {
   "codemirror_mode": {
    "name": "ipython",
    "version": 3
   },
   "file_extension": ".py",
   "mimetype": "text/x-python",
   "name": "python",
   "nbconvert_exporter": "python",
   "pygments_lexer": "ipython3",
   "version": "3.7.7"
  },
  "widgets": {
   "application/vnd.jupyter.widget-state+json": {
    "state": {
     "01f0b50d9bab43fb97e42bfcf966d244": {
      "model_module": "@jupyter-widgets/base",
      "model_module_version": "1.2.0",
      "model_name": "LayoutModel",
      "state": {}
     },
     "047fe7a742b24663ba00a5605df53701": {
      "model_module": "@jupyter-widgets/controls",
      "model_module_version": "1.5.0",
      "model_name": "HBoxModel",
      "state": {
       "children": [
        "IPY_MODEL_b082d3986fd944f5a2d0dc23ede00e31",
        "IPY_MODEL_066a8d5b8691451e967461a242380476"
       ],
       "layout": "IPY_MODEL_3dfb1a0d2a9548118e053025bd009e2c"
      }
     },
     "066a8d5b8691451e967461a242380476": {
      "model_module": "@jupyter-widgets/controls",
      "model_module_version": "1.5.0",
      "model_name": "HTMLModel",
      "state": {
       "layout": "IPY_MODEL_2e60de7feab146c89c74163bc510dca0",
       "style": "IPY_MODEL_c60436cf865b4d34ac10c8544ed06a37",
       "value": " 741/741 [00:00&lt;00:00, 3612.14it/s]"
      }
     },
     "278caa33ef8a4cd1b0cd255cee9ef1a7": {
      "model_module": "@jupyter-widgets/controls",
      "model_module_version": "1.5.0",
      "model_name": "HBoxModel",
      "state": {
       "children": [
        "IPY_MODEL_8d8c7cffc1174f52ba6aa3cce2755d44",
        "IPY_MODEL_60a6cd3b88cf43f6a26250679442aac7"
       ],
       "layout": "IPY_MODEL_01f0b50d9bab43fb97e42bfcf966d244"
      }
     },
     "2e60de7feab146c89c74163bc510dca0": {
      "model_module": "@jupyter-widgets/base",
      "model_module_version": "1.2.0",
      "model_name": "LayoutModel",
      "state": {}
     },
     "32b09962c98949ae88817e082d78f9cd": {
      "model_module": "@jupyter-widgets/base",
      "model_module_version": "1.2.0",
      "model_name": "LayoutModel",
      "state": {}
     },
     "3342317a0c8c47f0a304e82b3ae754d1": {
      "buffers": [
       {
        "data": "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",
        "encoding": "base64",
        "path": [
         "color",
         0,
         "data"
        ]
       },
       {
        "data": "GJiFwOueZsCOM9zAuoMUPyVXbj9b7apAeb7aQH/zw78ORZ1AH+wNwILek0BgWY2+vW/jP0I6hj8jLAg/qcwfQC1+gkCu/vJAI2NBQJaSgL+Xd+M/4nAdQOUlcUC7X7s/6M+OwAavA0GgJcM9S/qVQFV4pLznQIPA22gPQTf1LUCmrBC/gW6Lvn2Noj891EQ/n9MWQCYwyz/85Ko/WTjqwGpA5L9tgWG/iFLfv5Z6q0ADcKE+sxelPWeMJ8ApXbY/D96wwIN3dkD6YtNAqF2/P6Drtz/8mtI/EgLRPlpEUEDWIjDAVkGGQBxihr+9mQm/ttInP078c0CKUh8+utM0QCpJS8C35VS/Ft3twIWLFEDpBinA396ewCITwz6J3ArAam5LwMeyC8CBPZM/bFJ4wN8H1z5XKKe+UGnGwMhzS0DZsvtAPIzTPdFM+cCkFGLAhdXcv5md8D4dBIY+YjDaPyTjwj4WYMfA3KwRvnbq4D+cN6G/sGK5wD1ElL4eRKrA0plqvyyfnz8f6x4+YIvXPwmzAMC32zXACkQrwEg/Jj9s/rLA5ZUNPLeqnb8tfZe+5O5BwMLO1T4CB3s/WlnfvwWhUz+QKcC/EDTPwGMUNsBxZrfA8121PtbwwUBX1KtAZAODQGc/7z/xmYFAIGtxv263L8AvbVHAI9snQGbKM0BDspA+pmEEQDTymjvSOphAf4WKv79sRsBIj+S/+YgovMV2isA4trE/rhDZQK9nxj8OL04/Zbnfvv/6S8BxiA1A0dA8wHo4AcEEDzvAgiXuO/iamT+RFAZA1YrnP4elicAIDfo/xXw/P1aZ/L9xmkc+0T9RwGjWJD8YQWXAXFARP6NdaMC7UbFAoTZGwG+Agr5J4UnAbmCzwATHN77frBdA/beMv/AvyT+F5dE+/uekwDHIfDwf6qHAc51LP7g/wr+JpYK/SHsDQZyX7kBhvJY/2KO9wLw+UEB6I1VApX9GwHZO8744N2fAzKejwAvW0z9akKTAGBHsPjgwlj1i574/Mr60v621xD6S/yHA3ydDQF4ScL75UFJAWY8kwCGh+sCB24tALLW2wAnjtsDvKFNArwgbQO9XokBWQaO97sfcP7ZHVMB3g34/CzQiP0/rLcCCzwq+UtiEwIwQd0AZwQDAqwKYPzl+ZkAAOeC+zUQ6wEbrTL87J50/yfpjvgBqkj8ucNW/H2K9P4/gyjyZ8oBAUN6Fv+wgfr9YNfjA2SESv0kAkEBWtWy+W0K8P9GATMCC6UVAFkv0wL3cx7/MZZA/PV8dv+znNMAOCJw/NutZP6XkC8BZGGNAS0RmP10d3ECkESBAfbpCwFt+Fb8sQUDA1UEWQCnnAsDf0tI/wMQvwNBqRED0jaw/eHMIwdiyvzxo51/AZ2FAQN2Aqj/4elg/VmZxP3MHWj+xXxbAVL1Ku+toy77f0zrA0uA4wKXlikA9PkM/GuywwB5UFT5QVY4/qcLfv9PnEb+EJhDAg0GRwCSyk7+FRl2+gvdQwPPNTcD9o5e/HKAgvJQtasAYirc+Te8awAklM79YL0BAd0kAQA4QNEDMLbG/UqKPQFVbhUB4PAO/1OEdP12yX0DHP4BAPMWwPw2w9D60ipxA29oav/KFoECnWKE/u8dVwCAbfz6y75xAt0qMQJr0gUCbMjLAOwg6wKOIf786du2/er7IQKUElsBRoDjAE3YEwOz7Z0Adax+/y76cwFevHL4elRC/GAI8v7rUEkDRL9U/mNr8vjBJDL9jc+C+8d+mPHC/Qr8+B7q/+7ZqPlh4Ij/vAebAwQmTQGOOjD+52sY/zHggQMp3dEC2GGI/NlsKP48ehL8ASwW/04N8QE9iVj81qAzAhg9DP9JGOEAbDnbA2tbLPxry/L+Kk7K+Q12tvac+f0C9zOC/ZSQrQOR4pT6Kjfi+BT6uPWbA7z+2f/HArgGzwL50FMA54YhASjpUwK94uD7ZX+nAJMANQGQEsr6vpWDAY2O7wA==",
        "encoding": "base64",
        "path": [
         "x",
         0,
         "data"
        ]
       },
       {
        "data": "33K4wPIYc0AnQZfAm9geQLzOo0DbvZk/Adu7wDm3gr/6zQPAF9cfQEYWc8BKOzxAxTw9v3vW9b4Q5WJAQq4IwD03dT8/wTrAJ45IQJHKc0DElDdA3bg/v5u087+C9he/bj/sQGmOZMBkxoS+YdNlQB+YA7+lAz/AsUQcv7/PSD1Psy4+GSTPQFUIBsFkUqc/YUrBwNifJUDkci/An/8bP63NBz+HXEC/GfnDv+zFDUA4z6q9VTWlQMWZpr8Vm3tAkkfWP1v2rkA96y5ACb/Yv0m29EDB3DnA8RWnQKAzqcDw6LY/xxN5QDYsUT57SFM/fjioP3aLAsBiJTU+C8Z2QLh9/j68p4A/WnRSwAP2OUCoado/0xsZwDIJb0BteNI+iZHXwHYuG8CoPyZAarfDv44Ujj99dQ/AWJHav3wqykBYLGA/CN/WQJq6Or5t89K/e1OTv0RJNr85z/fAML3WQMBrhUDQYt3A66ScPy5JTkC85Ss+Udx2v3cCskCgtNy/e/oQQJ2Mp0BTIwm9BgeeP6hDaD9JBt2/wUjFP/FUHb+3vszAYVr0P4iF874r1vO+d3uQP3KDKECOh+I+WLevwG+Rib8txmo/ElqVwNpP3j9fUxVAyo2iPhUJ4L86hl2/4ZpuwGEQvz8nggTAV3d9wEzGpj54CDY/SgQDv4XNnT8XZp5AY0U5v7+XIz/ZT43AOe+RPxfgOsAcS8e/zkWKQM3aoMCqRgc/XJcKwMKC+0DX7QPAOTmiP4K99MAMwdc/0SaSQA0aoj8OJbE/WuWovgQbAUAN21c+dpyfwMwvyr8HJVa/0m5Lvz6ljj5LxSTANe3vP2G3bcA0nPE/85tgQNdZJkApvYzAtpclQJIZaMA1K5S/8iPhwB8TWD5jiQJA2JG3QCa3pMA7OjNAzUxgwMYrSj8t9B2+7tIRv05U2783ZydAxt3dv4129j8PeY+90XB3vtwIYr5H18HAiBuJP3Zn5UCwPkm/ydIAQQEujEAopTs/GiD5P/wQiL8eWAzBrQdjv95ghzpFJknA8WaGwBZhvj5GgINAEHu2wNG1esAuAofAqJHlP9Cxd0Bs5BnADMY8QPV0eEAtA0o/zOSMQCBQ9r8sIRg/oG7WPkDHEEAVWmg/YHnZwKlC1b/iXYfAkmoqwNO8XkCQfA3AnUkgPJTgBz6g8Wo/17eDQOidBUCg3DnAAwHlQF9dib4VmjlAv0r/v+ydiUDZ0MS9FjsTPsXZbj4wR9hABerlPyzNCEC9GQNAaaUtwO2fycBIJ87A5Z2DPlc60MAP4SPAIVfsP6+9oz+/1g1AWyMtvz9nNT591pK/RRiIwNQ7B0Dg1mxAekO4QHwqeMChkBM/KsnvP458qsC8jKk/HiIRwPC4gr+jODVAMjPEwPd4ob5kGO8/PuntPzQf5zuqUnNAdTF8QI/Fnb/ChWBAEcjAwP0TGT9nHRlA/uCLQMf5m78Or7DAvDKBwIRHfkDDC9TA9O20vpmoo0Aa3oA+g2TTPwgl5D+xbT/AKO4FwO6HNMBFyca/OjUMQUd0EECtmy7AGjpPwMkQekC+M8I9EAx1v4J+xsBzdyZA1FeWvdG3YECbCjpAvSicPxdsLkAjQnNAg+dVv8fGbkBDSA6/TJTYPxDblL/zfIRA1GQ5QLFJM0DK8INA4B+jP2uDC7/ePZM+vUCsvWDeDz/xTBLAJdAsP1i7S8CK04nANnoWwMe6Oj+93UXAyHTtQIHYzD/UTWg+KUkaQCCd97+sDQfAmmYaQMXPWkDt4QbAWPLKv1tVMj/uE3RAWSadPqWj7T8k0t49xD0QwS6+YsCPzbK/2L0nQOTEAz8GRFW/KmZpQPH8MkCtmGxAkDS5PVQP7kA+D4PAGQYTPrIhYMCmE9w8g5+CP6FHqMBlYt2/VxgbQHSBiT4UpM3AyHI4v0xnjEBCxltAjAdMQID+p0BTmD7AUFj8v36JgT/Pg4NAqZhnPgz8wD+FWLfA2tG/wA==",
        "encoding": "base64",
        "path": [
         "y",
         0,
         "data"
        ]
       },
       {
        "data": "MoNUQP5ZwsCVtinA9gSKQK7cm0Ce0J2/9oecP8YIyj0W/1w+L2mQQEeThT9WOLDAXjW1vtjGnT4N3ZRA3HSHQL7XjsAaNtk/sc8CP9C1R0CV3+7A/WGeQMtPCEEDUI8/g1FNQB+dOb8aiPO+E9GUvQRonj81+CPA2VIjP+cq9j+SeWg/1LcmwFJiAsBm6EVAAF5gwOD2BkD7jUrA1Tf+vzRHhD8EDIFA6gHtv04BvUA7NIc+x1xBQCEZCL/aDpNAKX+dQGdShUBLp66/gjiVQBVcW0DNdxhAQ0OeQMt/TkALfpA/0nrzvh/B1D8ShZ2/pe7yQAYthEAbdgq/5ab4vyoxHj93kfC+vvunQEcRXcBdAj9Ack6gwIBeTMCBgb+/+dyRv+TJ+UBsC4u/Amu9wGdwOz7nrdNAZqyGQAP2FUAaE9y/BnXWv3U8psD2btk/9TUcP+rgy7/8eijAakJhv0ENbMB5WEHA/W3Wv7N96r8FotC7d+zzP5c5qUBiL/e/z4KLPy/KZUCKhxy/mKydP5xcWcD/65pA7sA9v0twMD/xytW/CbyYvhfk9j6GFD0/ly0RwJvt1cCpbz/A+TLAQHJu/b//UQTAcYS6QOEXj7+QJl/AGP8hQJTkm0BjdrM+ETP6v0SZhr9dZkG/yZv9PiB5dMAEeiS+e2FQwCVpbr9qB69AUb3/wBEOET2fp9bAHcogv5k1EcDHH72/5TJMvyQBK0Dl4QpAFsJnQKRqpcCuCfA/c9q7v7qxeEAsYahACEpnQKrPQUAYyee/AWMUQEAqmbw1HN6/jkobwOSf98AbrgjApmGTPtYXaMAWPMk94xTHwPXzub9mK8/AIIoSwP3luMCjfZ5A4gKTQOTCDz+oLg5AqoqIwPszvEDbVilAFNynP0L8hr84LEA+bpyUQHjPPL3I+Km/tB0xQJA5B8Aq8xLAupmCQPDGPL8lP6VAhtqtQHrhbr9PZfi/yd7GQL8smcAkOWG/NiI3QLOva7+dtMbAdNQYPmPFtT885f4/Tp4hv+BPET06vI/AP62YvKJjBD+m+sjAmwmXQPv3hsCgtEtATCRKwEl0NcBVwya7pxMBvv6Q3sCVTF+/RMMuvyhZRsDD9M28CqgAwPOQLkDpgQNAgjsMQI76Or+gVrfAuTCwvxBywr7WBINATEa7PmNYMz9JoxpACWILQHfWo0DOTni/5FgIwMNTncA3N5U/gqp0v1EIYUDfrgZAex0DwD7/1D819MI/J9PsvUVXxcDVB8e9pkJKwBJit0Br0J/Ag7v0PzFsC0C+Vqe+HaqMQMEUVb+ii2U/VxWpv5U4v8Bv8bBAKN17QFgnIr/7JzBAt25mQIHHe7+Ap5NARfGGvpAd579Hgvk+3SwaQO29+D6AogxAEnKYQKCRVECjOEO/lFGWQCVAl0DnrfFAuNRzQN1eCj+fIKfA1zL3P7FVCcFLXEa+QQqrQAFDnb+h8Ta/ZXPMQAvl7j4pnIDAcduhP5uJjr+je4m+vAcuQLmx/zxurnVAm2IxQFjnAUBIygg+m6McPzvfqkCwk4XAPk4sP2zu/cCJb1A/HCdUwMlNbb8tLabAUy5nwEo7TkDiQodAtiHhP3ejk77u51nATFa5P+QyasBFqwpALGaJQMFrET2zNn7A8HUHvhYSSUCQBIE/fLIrwIDbNb8nXek/x//5P6Lhtz4g4VfAMjyOQO5cNkDySyQ8hhKwv++xmj8Y6VHAbC1WwLX7jb9zsrLA9lNnPxSpoEDGlkQ/FvGEwGTAsb9I+dJAOU4JQHD8vr6tuAu/G2yKv3vYJ7+2rd2/eRqVv4xCpEDBPYo/wFylPltvyj+5lcc/zmQAwCp9d765ZUo/VtuXPOevH8Bn02+/QPpPPpPLg0DB7XO+iwCTvtTJtMD3avK/xzaCwKhQvz+pJi1A8kV+QAKnRUDcW64/GnPBQFvQNL97lzbAK1XXv43yLz9Zw6JAug4zQLQKu7+hT9W+HvgKQA==",
        "encoding": "base64",
        "path": [
         "z",
         0,
         "data"
        ]
       }
      ],
      "model_module": "ipyvolume",
      "model_module_version": "~0.5.2",
      "model_name": "ScatterModel",
      "state": {
       "color": [
        {
         "dtype": "float32",
         "shape": [
          373,
          4
         ]
        }
       ],
       "geo": "sphere",
       "line_material": "IPY_MODEL_401638798467427db3cb1479c03227fd",
       "material": "IPY_MODEL_445182f174dd4f20a89cc75fd703d0fc",
       "size": 2,
       "size_selected": 2.6,
       "texture": null,
       "vx": null,
       "vy": null,
       "vz": null,
       "x": [
        {
         "dtype": "float32",
         "shape": [
          373
         ]
        }
       ],
       "y": [
        {
         "dtype": "float32",
         "shape": [
          373
         ]
        }
       ],
       "z": [
        {
         "dtype": "float32",
         "shape": [
          373
         ]
        }
       ]
      }
     },
     "3dfb1a0d2a9548118e053025bd009e2c": {
      "model_module": "@jupyter-widgets/base",
      "model_module_version": "1.2.0",
      "model_name": "LayoutModel",
      "state": {}
     },
     "401638798467427db3cb1479c03227fd": {
      "model_module": "jupyter-threejs",
      "model_module_version": "^2.1.0",
      "model_name": "ShaderMaterialModel",
      "state": {
       "_view_module": null,
       "_view_module_version": ""
      }
     },
     "445182f174dd4f20a89cc75fd703d0fc": {
      "model_module": "jupyter-threejs",
      "model_module_version": "^2.1.0",
      "model_name": "ShaderMaterialModel",
      "state": {
       "_view_module": null,
       "_view_module_version": ""
      }
     },
     "60a6cd3b88cf43f6a26250679442aac7": {
      "model_module": "@jupyter-widgets/controls",
      "model_module_version": "1.5.0",
      "model_name": "HTMLModel",
      "state": {
       "layout": "IPY_MODEL_8b083ccee7274da4abc6380893a5775d",
       "style": "IPY_MODEL_a3239244a2b54f468843136231feff6e",
       "value": " 741/741 [00:00&lt;00:00, 23876.31it/s]"
      }
     },
     "705f010162714fe09268771823f74bae": {
      "model_module": "@jupyter-widgets/base",
      "model_module_version": "1.2.0",
      "model_name": "LayoutModel",
      "state": {}
     },
     "8077bf2d97be4a0882cbebabc1ca709d": {
      "model_module": "jupyter-threejs",
      "model_module_version": "^2.1.0",
      "model_name": "SceneModel",
      "state": {
       "_view_module": null,
       "_view_module_version": "",
       "background": null
      }
     },
     "8b083ccee7274da4abc6380893a5775d": {
      "model_module": "@jupyter-widgets/base",
      "model_module_version": "1.2.0",
      "model_name": "LayoutModel",
      "state": {}
     },
     "8ce3901587c94b04a30495e85c1587be": {
      "model_module": "@jupyter-widgets/controls",
      "model_module_version": "1.5.0",
      "model_name": "VBoxModel",
      "state": {
       "children": [
        "IPY_MODEL_e6fefca2e3a14df9901e0afb8f5534de"
       ],
       "layout": "IPY_MODEL_705f010162714fe09268771823f74bae"
      }
     },
     "8d8c7cffc1174f52ba6aa3cce2755d44": {
      "model_module": "@jupyter-widgets/controls",
      "model_module_version": "1.5.0",
      "model_name": "FloatProgressModel",
      "state": {
       "bar_style": "success",
       "description": "Drawing distances: 100%",
       "layout": "IPY_MODEL_32b09962c98949ae88817e082d78f9cd",
       "max": 741,
       "style": "IPY_MODEL_b3570d23e93d4f2fb637da01a55dc112",
       "value": 741
      }
     },
     "a3239244a2b54f468843136231feff6e": {
      "model_module": "@jupyter-widgets/controls",
      "model_module_version": "1.5.0",
      "model_name": "DescriptionStyleModel",
      "state": {
       "description_width": ""
      }
     },
     "a35980c97fe2405b90b69d058d38bf11": {
      "model_module": "@jupyter-widgets/base",
      "model_module_version": "1.2.0",
      "model_name": "LayoutModel",
      "state": {}
     },
     "b082d3986fd944f5a2d0dc23ede00e31": {
      "model_module": "@jupyter-widgets/controls",
      "model_module_version": "1.5.0",
      "model_name": "FloatProgressModel",
      "state": {
       "bar_style": "success",
       "description": "samping detection probability: 100%",
       "layout": "IPY_MODEL_dcccd3d69f1243c8bd585132d9fe1bc2",
       "max": 741,
       "style": "IPY_MODEL_bc36945c7c24496a890f6e97ad0d8cc3",
       "value": 741
      }
     },
     "b3570d23e93d4f2fb637da01a55dc112": {
      "model_module": "@jupyter-widgets/controls",
      "model_module_version": "1.5.0",
      "model_name": "ProgressStyleModel",
      "state": {
       "description_width": "initial"
      }
     },
     "bc36945c7c24496a890f6e97ad0d8cc3": {
      "model_module": "@jupyter-widgets/controls",
      "model_module_version": "1.5.0",
      "model_name": "ProgressStyleModel",
      "state": {
       "description_width": "initial"
      }
     },
     "c60436cf865b4d34ac10c8544ed06a37": {
      "model_module": "@jupyter-widgets/controls",
      "model_module_version": "1.5.0",
      "model_name": "DescriptionStyleModel",
      "state": {
       "description_width": ""
      }
     },
     "dcccd3d69f1243c8bd585132d9fe1bc2": {
      "model_module": "@jupyter-widgets/base",
      "model_module_version": "1.2.0",
      "model_name": "LayoutModel",
      "state": {}
     },
     "e6fefca2e3a14df9901e0afb8f5534de": {
      "model_module": "ipyvolume",
      "model_module_version": "~0.5.2",
      "model_name": "FigureModel",
      "state": {
       "camera": "IPY_MODEL_fa47e0c499a84906a59a7ef651f4246e",
       "capture_fps": null,
       "height": 500,
       "layout": "IPY_MODEL_a35980c97fe2405b90b69d058d38bf11",
       "matrix_projection": [
        2.9448154572796907,
        0,
        0,
        0,
        0,
        2.3558523658237527,
        0,
        0,
        0,
        0,
        -1.00010000500025,
        -1,
        0,
        0,
        -0.200010000500025,
        0
       ],
       "matrix_world": [
        0.05,
        0,
        0,
        0,
        0,
        0.05,
        3.061616997868383e-18,
        0,
        0,
        -3.061616997868383e-18,
        0.05,
        0,
        0,
        0,
        -2,
        1
       ],
       "meshes": [],
       "scatters": [
        "IPY_MODEL_3342317a0c8c47f0a304e82b3ae754d1"
       ],
       "scene": "IPY_MODEL_8077bf2d97be4a0882cbebabc1ca709d",
       "style": {
        "axes": {
         "color": "white",
         "label": {
          "color": "white"
         },
         "ticklabel": {
          "color": "white"
         },
         "visible": false
        },
        "background-color": "white",
        "box": {
         "visible": false
        }
       },
       "volumes": [],
       "width": 400,
       "xlim": [
        -10,
        10
       ],
       "ylim": [
        -10,
        10
       ],
       "zlim": [
        -10,
        10
       ]
      }
     },
     "fa47e0c499a84906a59a7ef651f4246e": {
      "model_module": "jupyter-threejs",
      "model_module_version": "^2.1.0",
      "model_name": "PerspectiveCameraModel",
      "state": {
       "_view_module": null,
       "_view_module_version": "",
       "aspect": 0.8,
       "fov": 46,
       "matrix": [
        1,
        0,
        0,
        0,
        0,
        1,
        -6.123233995736766e-17,
        0,
        0,
        6.123233995736766e-17,
        1,
        0,
        0,
        1.2246467991473532e-16,
        2,
        1
       ],
       "matrixWorld": [
        1,
        0,
        0,
        0,
        0,
        1,
        -6.123233995736766e-17,
        0,
        0,
        6.123233995736766e-17,
        1,
        0,
        0,
        1.2246467991473532e-16,
        2,
        1
       ],
       "matrixWorldInverse": [
        1,
        0,
        0,
        0,
        0,
        1,
        6.123233995736766e-17,
        0,
        0,
        -6.123233995736766e-17,
        1,
        0,
        0,
        0,
        -2,
        1
       ],
       "matrixWorldNeedsUpdate": true,
       "position": [
        0,
        1.2246467991473532e-16,
        2
       ],
       "projectionMatrix": [
        2.9448154572796907,
        0,
        0,
        0,
        0,
        2.3558523658237527,
        0,
        0,
        0,
        0,
        -1.00010000500025,
        -1,
        0,
        0,
        -0.200010000500025,
        0
       ],
       "quaternion": [
        -3.061616997868383e-17,
        0,
        0,
        1
       ],
       "rotation": [
        -6.123233995736766e-17,
        0,
        0,
        "XYZ"
       ],
       "up": [
        0,
        1,
        -6.123233995736766e-17
       ]
      }
     }
    },
    "version_major": 2,
    "version_minor": 0
   }
  }
 },
 "nbformat": 4,
 "nbformat_minor": 2
}
