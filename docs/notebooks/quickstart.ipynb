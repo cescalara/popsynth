{
 "cells": [
  {
   "cell_type": "markdown",
   "metadata": {},
   "source": [
    "# Quick start\n",
    "\n",
    "A simple example of simulating a population via the built-in populations provided."
   ]
  },
  {
   "cell_type": "code",
   "execution_count": 1,
   "metadata": {
    "ExecuteTime": {
     "end_time": "2020-04-06T08:08:32.428410Z",
     "start_time": "2020-04-06T08:08:30.913588Z"
    }
   },
   "outputs": [
    {
     "name": "stderr",
     "output_type": "stream",
     "text": [
      "/Users/jburgess/.environs/popsynth/lib/python3.7/site-packages/popsynth-0.3.3+1.g31c9fe7.dirty-py3.7.egg/popsynth/distribution.py:7: TqdmExperimentalWarning: Using `tqdm.autonotebook.tqdm` in notebook mode. Use `tqdm.tqdm` instead to force console mode (e.g. in jupyter console)\n"
     ]
    }
   ],
   "source": [
    "%matplotlib notebook\n",
    "\n",
    "\n",
    "import matplotlib.pyplot as plt\n",
    "from jupyterthemes import jtplot\n",
    "jtplot.style(context='notebook', fscale=1, grid=False)\n",
    "green = \"#1DEBA6\"\n",
    "red = \"#FF0059\"\n",
    "yellow = \"#F6EF5B\"\n",
    "\n",
    "\n",
    "import popsynth\n",
    "import networkx as nx\n",
    "\n",
    "import warnings\n",
    "warnings.simplefilter('ignore')"
   ]
  },
  {
   "cell_type": "markdown",
   "metadata": {},
   "source": [
    "## A spherically homogenous population with a pareto luminosity function\n",
    "\n",
    "**popsynth** comes with several types of populations preloaded. To create a population synthesizer, one simply instantiates the population form the **popsynth.populations** module."
   ]
  },
  {
   "cell_type": "code",
   "execution_count": 2,
   "metadata": {
    "ExecuteTime": {
     "end_time": "2020-04-06T08:08:33.619368Z",
     "start_time": "2020-04-06T08:08:33.599292Z"
    },
    "scrolled": true
   },
   "outputs": [
    {
     "data": {
      "text/markdown": [
       "## Luminosity Function"
      ],
      "text/plain": [
       "<IPython.core.display.Markdown object>"
      ]
     },
     "metadata": {},
     "output_type": "display_data"
    },
    {
     "data": {
      "text/latex": [
       "$\\displaystyle \\frac{\\alpha L_{\\rm min}^{\\alpha}}{L^{\\alpha+1}}$"
      ],
      "text/plain": [
       "<IPython.core.display.Math object>"
      ]
     },
     "metadata": {},
     "output_type": "display_data"
    },
    {
     "data": {
      "text/html": [
       "<div>\n",
       "<style scoped>\n",
       "    .dataframe tbody tr th:only-of-type {\n",
       "        vertical-align: middle;\n",
       "    }\n",
       "\n",
       "    .dataframe tbody tr th {\n",
       "        vertical-align: top;\n",
       "    }\n",
       "\n",
       "    .dataframe thead th {\n",
       "        text-align: right;\n",
       "    }\n",
       "</style>\n",
       "<table border=\"1\" class=\"dataframe\">\n",
       "  <thead>\n",
       "    <tr style=\"text-align: right;\">\n",
       "      <th></th>\n",
       "      <th>parameter</th>\n",
       "      <th>value</th>\n",
       "    </tr>\n",
       "  </thead>\n",
       "  <tbody>\n",
       "    <tr>\n",
       "      <th>0</th>\n",
       "      <td>Lmin</td>\n",
       "      <td>1.0</td>\n",
       "    </tr>\n",
       "    <tr>\n",
       "      <th>1</th>\n",
       "      <td>alpha</td>\n",
       "      <td>2.0</td>\n",
       "    </tr>\n",
       "  </tbody>\n",
       "</table>\n",
       "</div>"
      ],
      "text/plain": [
       "  parameter  value\n",
       "0      Lmin    1.0\n",
       "1     alpha    2.0"
      ]
     },
     "metadata": {},
     "output_type": "display_data"
    },
    {
     "data": {
      "text/markdown": [
       "## Spatial Function"
      ],
      "text/plain": [
       "<IPython.core.display.Markdown object>"
      ]
     },
     "metadata": {},
     "output_type": "display_data"
    },
    {
     "data": {
      "text/latex": [
       "$\\displaystyle \\Lambda$"
      ],
      "text/plain": [
       "<IPython.core.display.Math object>"
      ]
     },
     "metadata": {},
     "output_type": "display_data"
    },
    {
     "data": {
      "text/html": [
       "<div>\n",
       "<style scoped>\n",
       "    .dataframe tbody tr th:only-of-type {\n",
       "        vertical-align: middle;\n",
       "    }\n",
       "\n",
       "    .dataframe tbody tr th {\n",
       "        vertical-align: top;\n",
       "    }\n",
       "\n",
       "    .dataframe thead th {\n",
       "        text-align: right;\n",
       "    }\n",
       "</style>\n",
       "<table border=\"1\" class=\"dataframe\">\n",
       "  <thead>\n",
       "    <tr style=\"text-align: right;\">\n",
       "      <th></th>\n",
       "      <th>parameter</th>\n",
       "      <th>value</th>\n",
       "    </tr>\n",
       "  </thead>\n",
       "  <tbody>\n",
       "    <tr>\n",
       "      <th>0</th>\n",
       "      <td>Lambda</td>\n",
       "      <td>0.25</td>\n",
       "    </tr>\n",
       "  </tbody>\n",
       "</table>\n",
       "</div>"
      ],
      "text/plain": [
       "  parameter  value\n",
       "0    Lambda   0.25"
      ]
     },
     "metadata": {},
     "output_type": "display_data"
    }
   ],
   "source": [
    "homo_pareto_synth = popsynth.populations.ParetoHomogeneousSphericalPopulation(Lambda=0.25, # the density normalization\n",
    "                                                                              Lmin=1, # lower bound on the LF\n",
    "                                                                              alpha=2.) # index of the LF\n",
    "homo_pareto_synth.display()\n",
    "\n",
    "\n",
    "# we can also display a graph of the object\n",
    "\n",
    "\n",
    "options = {\n",
    "'node_color':green,\n",
    "'node_size': 2000,\n",
    "'width': .5}\n",
    "\n",
    "#pos = nx.spring_layout(g,k=5, iterations=300)\n"
   ]
  },
  {
   "cell_type": "code",
   "execution_count": 3,
   "metadata": {
    "ExecuteTime": {
     "end_time": "2020-04-06T08:08:34.522927Z",
     "start_time": "2020-04-06T08:08:34.444049Z"
    }
   },
   "outputs": [
    {
     "ename": "ImportError",
     "evalue": "('requires pygraphviz ', 'http://pygraphviz.github.io/')",
     "output_type": "error",
     "traceback": [
      "\u001b[0;31m---------------------------------------------------------------------------\u001b[0m",
      "\u001b[0;31mModuleNotFoundError\u001b[0m                       Traceback (most recent call last)",
      "\u001b[0;32m~/.environs/popsynth/lib/python3.7/site-packages/networkx-2.4-py3.7.egg/networkx/drawing/nx_agraph.py\u001b[0m in \u001b[0;36mpygraphviz_layout\u001b[0;34m(G, prog, root, args)\u001b[0m\n\u001b[1;32m    282\u001b[0m     \u001b[0;32mtry\u001b[0m\u001b[0;34m:\u001b[0m\u001b[0;34m\u001b[0m\u001b[0;34m\u001b[0m\u001b[0m\n\u001b[0;32m--> 283\u001b[0;31m         \u001b[0;32mimport\u001b[0m \u001b[0mpygraphviz\u001b[0m\u001b[0;34m\u001b[0m\u001b[0;34m\u001b[0m\u001b[0m\n\u001b[0m\u001b[1;32m    284\u001b[0m     \u001b[0;32mexcept\u001b[0m \u001b[0mImportError\u001b[0m\u001b[0;34m:\u001b[0m\u001b[0;34m\u001b[0m\u001b[0;34m\u001b[0m\u001b[0m\n",
      "\u001b[0;31mModuleNotFoundError\u001b[0m: No module named 'pygraphviz'",
      "\nDuring handling of the above exception, another exception occurred:\n",
      "\u001b[0;31mImportError\u001b[0m                               Traceback (most recent call last)",
      "\u001b[0;32m<ipython-input-3-7db42adadf2b>\u001b[0m in \u001b[0;36m<module>\u001b[0;34m\u001b[0m\n\u001b[1;32m      1\u001b[0m pos=nx.drawing.nx_agraph.graphviz_layout(\n\u001b[0;32m----> 2\u001b[0;31m         \u001b[0mhomo_pareto_synth\u001b[0m\u001b[0;34m.\u001b[0m\u001b[0mgraph\u001b[0m\u001b[0;34m,\u001b[0m \u001b[0mprog\u001b[0m\u001b[0;34m=\u001b[0m\u001b[0;34m'dot'\u001b[0m\u001b[0;34m\u001b[0m\u001b[0;34m\u001b[0m\u001b[0m\n\u001b[0m\u001b[1;32m      3\u001b[0m     )\n\u001b[1;32m      4\u001b[0m \u001b[0;34m\u001b[0m\u001b[0m\n\u001b[1;32m      5\u001b[0m \u001b[0mnx\u001b[0m\u001b[0;34m.\u001b[0m\u001b[0mdraw\u001b[0m\u001b[0;34m(\u001b[0m\u001b[0mhomo_pareto_synth\u001b[0m\u001b[0;34m.\u001b[0m\u001b[0mgraph\u001b[0m\u001b[0;34m,\u001b[0m \u001b[0mwith_labels\u001b[0m\u001b[0;34m=\u001b[0m\u001b[0;32mTrue\u001b[0m\u001b[0;34m,\u001b[0m\u001b[0mpos\u001b[0m\u001b[0;34m=\u001b[0m\u001b[0mpos\u001b[0m\u001b[0;34m,\u001b[0m \u001b[0;34m**\u001b[0m\u001b[0moptions\u001b[0m\u001b[0;34m)\u001b[0m\u001b[0;34m\u001b[0m\u001b[0;34m\u001b[0m\u001b[0m\n",
      "\u001b[0;32m~/.environs/popsynth/lib/python3.7/site-packages/networkx-2.4-py3.7.egg/networkx/drawing/nx_agraph.py\u001b[0m in \u001b[0;36mgraphviz_layout\u001b[0;34m(G, prog, root, args)\u001b[0m\n\u001b[1;32m    241\u001b[0m     \u001b[0mThis\u001b[0m \u001b[0;32mis\u001b[0m \u001b[0ma\u001b[0m \u001b[0mwrapper\u001b[0m \u001b[0;32mfor\u001b[0m \u001b[0mpygraphviz_layout\u001b[0m\u001b[0;34m.\u001b[0m\u001b[0;34m\u001b[0m\u001b[0;34m\u001b[0m\u001b[0m\n\u001b[1;32m    242\u001b[0m     \"\"\"\n\u001b[0;32m--> 243\u001b[0;31m     \u001b[0;32mreturn\u001b[0m \u001b[0mpygraphviz_layout\u001b[0m\u001b[0;34m(\u001b[0m\u001b[0mG\u001b[0m\u001b[0;34m,\u001b[0m \u001b[0mprog\u001b[0m\u001b[0;34m=\u001b[0m\u001b[0mprog\u001b[0m\u001b[0;34m,\u001b[0m \u001b[0mroot\u001b[0m\u001b[0;34m=\u001b[0m\u001b[0mroot\u001b[0m\u001b[0;34m,\u001b[0m \u001b[0margs\u001b[0m\u001b[0;34m=\u001b[0m\u001b[0margs\u001b[0m\u001b[0;34m)\u001b[0m\u001b[0;34m\u001b[0m\u001b[0;34m\u001b[0m\u001b[0m\n\u001b[0m\u001b[1;32m    244\u001b[0m \u001b[0;34m\u001b[0m\u001b[0m\n\u001b[1;32m    245\u001b[0m \u001b[0;34m\u001b[0m\u001b[0m\n",
      "\u001b[0;32m~/.environs/popsynth/lib/python3.7/site-packages/networkx-2.4-py3.7.egg/networkx/drawing/nx_agraph.py\u001b[0m in \u001b[0;36mpygraphviz_layout\u001b[0;34m(G, prog, root, args)\u001b[0m\n\u001b[1;32m    284\u001b[0m     \u001b[0;32mexcept\u001b[0m \u001b[0mImportError\u001b[0m\u001b[0;34m:\u001b[0m\u001b[0;34m\u001b[0m\u001b[0;34m\u001b[0m\u001b[0m\n\u001b[1;32m    285\u001b[0m         raise ImportError('requires pygraphviz ',\n\u001b[0;32m--> 286\u001b[0;31m                           'http://pygraphviz.github.io/')\n\u001b[0m\u001b[1;32m    287\u001b[0m     \u001b[0;32mif\u001b[0m \u001b[0mroot\u001b[0m \u001b[0;32mis\u001b[0m \u001b[0;32mnot\u001b[0m \u001b[0;32mNone\u001b[0m\u001b[0;34m:\u001b[0m\u001b[0;34m\u001b[0m\u001b[0;34m\u001b[0m\u001b[0m\n\u001b[1;32m    288\u001b[0m         \u001b[0margs\u001b[0m \u001b[0;34m+=\u001b[0m \u001b[0;34m\"-Groot=%s\"\u001b[0m \u001b[0;34m%\u001b[0m \u001b[0mroot\u001b[0m\u001b[0;34m\u001b[0m\u001b[0;34m\u001b[0m\u001b[0m\n",
      "\u001b[0;31mImportError\u001b[0m: ('requires pygraphviz ', 'http://pygraphviz.github.io/')"
     ]
    }
   ],
   "source": [
    "pos=nx.drawing.nx_agraph.graphviz_layout(\n",
    "        homo_pareto_synth.graph, prog='dot'\n",
    "    )\n",
    "    \n",
    "nx.draw(homo_pareto_synth.graph, with_labels=True,pos=pos, **options)\n",
    "\n"
   ]
  },
  {
   "cell_type": "markdown",
   "metadata": {},
   "source": [
    "## Creating a survey"
   ]
  },
  {
   "cell_type": "markdown",
   "metadata": {},
   "source": [
    "We can now sample from this population with the **draw_survey** function."
   ]
  },
  {
   "cell_type": "code",
   "execution_count": 4,
   "metadata": {
    "ExecuteTime": {
     "end_time": "2020-04-06T08:08:36.546328Z",
     "start_time": "2020-04-06T08:08:36.512020Z"
    }
   },
   "outputs": [
    {
     "name": "stdout",
     "output_type": "stream",
     "text": [
      "The volume integral is 130.899694\n"
     ]
    },
    {
     "data": {
      "application/vnd.jupyter.widget-view+json": {
       "model_id": "cdde4dedaf9046cf9ebe884807bdc444",
       "version_major": 2,
       "version_minor": 0
      },
      "text/plain": [
       "HBox(children=(FloatProgress(value=0.0, description='Drawing distances', max=119.0, style=ProgressStyle(descri…"
      ]
     },
     "metadata": {},
     "output_type": "display_data"
    },
    {
     "name": "stdout",
     "output_type": "stream",
     "text": [
      "\n",
      "Expecting 119 total objects\n",
      "Applying hard boundary\n",
      "Deteced 55 objects or to a distance of 4.96\n"
     ]
    }
   ],
   "source": [
    "population = homo_pareto_synth.draw_survey(boundary=1E-2, hard_cut=True, flux_sigma= 0.1,verbose=True)"
   ]
  },
  {
   "cell_type": "markdown",
   "metadata": {},
   "source": [
    "We now have created a population. How did we get here?\n",
    "\n",
    "* Once the spatial and luminosity functions are specified, we can integrate out to a given distance and compute the number of expected objects.\n",
    "\n",
    "* A Poisson draw with this mean is made to determine the number of total objects in the survey.\n",
    "\n",
    "* Next all quantities are sampled (distance, luminosity)\n",
    "\n",
    "* If needed, the luminosity is converted to a flux with a given observational error\n",
    "\n",
    "* The selection function (in this case a hard cutoff) is applied\n",
    "\n",
    "* A population object is created\n",
    "\n",
    "We could have specified a soft cutoff (an inverse logit) with logarithmic with as well:"
   ]
  },
  {
   "cell_type": "code",
   "execution_count": 5,
   "metadata": {
    "ExecuteTime": {
     "end_time": "2020-04-06T08:08:37.668815Z",
     "start_time": "2020-04-06T08:08:37.611666Z"
    }
   },
   "outputs": [
    {
     "name": "stdout",
     "output_type": "stream",
     "text": [
      "The volume integral is 130.899694\n"
     ]
    },
    {
     "data": {
      "application/vnd.jupyter.widget-view+json": {
       "model_id": "6d652ed1639a48928e615e309a268da7",
       "version_major": 2,
       "version_minor": 0
      },
      "text/plain": [
       "HBox(children=(FloatProgress(value=0.0, description='Drawing distances', max=119.0, style=ProgressStyle(descri…"
      ]
     },
     "metadata": {},
     "output_type": "display_data"
    },
    {
     "name": "stdout",
     "output_type": "stream",
     "text": [
      "\n",
      "Expecting 119 total objects\n",
      "Applying soft boundary\n"
     ]
    },
    {
     "data": {
      "application/vnd.jupyter.widget-view+json": {
       "model_id": "2427ab4d3fcd44af95f64d5ba73b1a30",
       "version_major": 2,
       "version_minor": 0
      },
      "text/plain": [
       "HBox(children=(FloatProgress(value=0.0, description='samping detection probability', max=119.0, style=Progress…"
      ]
     },
     "metadata": {},
     "output_type": "display_data"
    },
    {
     "name": "stdout",
     "output_type": "stream",
     "text": [
      "\n",
      "Deteced 54 objects or to a distance of 4.96\n"
     ]
    }
   ],
   "source": [
    "population = homo_pareto_synth.draw_survey(boundary=1E-2, strength=10, flux_sigma= 0.1,verbose=True)"
   ]
  },
  {
   "cell_type": "markdown",
   "metadata": {},
   "source": [
    "## The Population Object\n",
    "\n",
    "The population object stores all the information about the sampled survey. This includes information on the latent parameters, measured parameters, and distances for both the selected and non-selected objects."
   ]
  },
  {
   "cell_type": "markdown",
   "metadata": {},
   "source": [
    "We can have a look at the flux-distance distribution from the survey. Here, pink dots are the *latent* flux value, i.e., without observational noise, and green dots are the *measured values for the *selected* objects. Arrows point from the latent to measured values. "
   ]
  },
  {
   "cell_type": "code",
   "execution_count": 6,
   "metadata": {
    "ExecuteTime": {
     "end_time": "2020-04-06T08:08:39.087328Z",
     "start_time": "2020-04-06T08:08:39.042995Z"
    }
   },
   "outputs": [
    {
     "data": {
      "application/javascript": [
       "/* Put everything inside the global mpl namespace */\n",
       "window.mpl = {};\n",
       "\n",
       "\n",
       "mpl.get_websocket_type = function() {\n",
       "    if (typeof(WebSocket) !== 'undefined') {\n",
       "        return WebSocket;\n",
       "    } else if (typeof(MozWebSocket) !== 'undefined') {\n",
       "        return MozWebSocket;\n",
       "    } else {\n",
       "        alert('Your browser does not have WebSocket support. ' +\n",
       "              'Please try Chrome, Safari or Firefox ≥ 6. ' +\n",
       "              'Firefox 4 and 5 are also supported but you ' +\n",
       "              'have to enable WebSockets in about:config.');\n",
       "    };\n",
       "}\n",
       "\n",
       "mpl.figure = function(figure_id, websocket, ondownload, parent_element) {\n",
       "    this.id = figure_id;\n",
       "\n",
       "    this.ws = websocket;\n",
       "\n",
       "    this.supports_binary = (this.ws.binaryType != undefined);\n",
       "\n",
       "    if (!this.supports_binary) {\n",
       "        var warnings = document.getElementById(\"mpl-warnings\");\n",
       "        if (warnings) {\n",
       "            warnings.style.display = 'block';\n",
       "            warnings.textContent = (\n",
       "                \"This browser does not support binary websocket messages. \" +\n",
       "                    \"Performance may be slow.\");\n",
       "        }\n",
       "    }\n",
       "\n",
       "    this.imageObj = new Image();\n",
       "\n",
       "    this.context = undefined;\n",
       "    this.message = undefined;\n",
       "    this.canvas = undefined;\n",
       "    this.rubberband_canvas = undefined;\n",
       "    this.rubberband_context = undefined;\n",
       "    this.format_dropdown = undefined;\n",
       "\n",
       "    this.image_mode = 'full';\n",
       "\n",
       "    this.root = $('<div/>');\n",
       "    this._root_extra_style(this.root)\n",
       "    this.root.attr('style', 'display: inline-block');\n",
       "\n",
       "    $(parent_element).append(this.root);\n",
       "\n",
       "    this._init_header(this);\n",
       "    this._init_canvas(this);\n",
       "    this._init_toolbar(this);\n",
       "\n",
       "    var fig = this;\n",
       "\n",
       "    this.waiting = false;\n",
       "\n",
       "    this.ws.onopen =  function () {\n",
       "            fig.send_message(\"supports_binary\", {value: fig.supports_binary});\n",
       "            fig.send_message(\"send_image_mode\", {});\n",
       "            if (mpl.ratio != 1) {\n",
       "                fig.send_message(\"set_dpi_ratio\", {'dpi_ratio': mpl.ratio});\n",
       "            }\n",
       "            fig.send_message(\"refresh\", {});\n",
       "        }\n",
       "\n",
       "    this.imageObj.onload = function() {\n",
       "            if (fig.image_mode == 'full') {\n",
       "                // Full images could contain transparency (where diff images\n",
       "                // almost always do), so we need to clear the canvas so that\n",
       "                // there is no ghosting.\n",
       "                fig.context.clearRect(0, 0, fig.canvas.width, fig.canvas.height);\n",
       "            }\n",
       "            fig.context.drawImage(fig.imageObj, 0, 0);\n",
       "        };\n",
       "\n",
       "    this.imageObj.onunload = function() {\n",
       "        fig.ws.close();\n",
       "    }\n",
       "\n",
       "    this.ws.onmessage = this._make_on_message_function(this);\n",
       "\n",
       "    this.ondownload = ondownload;\n",
       "}\n",
       "\n",
       "mpl.figure.prototype._init_header = function() {\n",
       "    var titlebar = $(\n",
       "        '<div class=\"ui-dialog-titlebar ui-widget-header ui-corner-all ' +\n",
       "        'ui-helper-clearfix\"/>');\n",
       "    var titletext = $(\n",
       "        '<div class=\"ui-dialog-title\" style=\"width: 100%; ' +\n",
       "        'text-align: center; padding: 3px;\"/>');\n",
       "    titlebar.append(titletext)\n",
       "    this.root.append(titlebar);\n",
       "    this.header = titletext[0];\n",
       "}\n",
       "\n",
       "\n",
       "\n",
       "mpl.figure.prototype._canvas_extra_style = function(canvas_div) {\n",
       "\n",
       "}\n",
       "\n",
       "\n",
       "mpl.figure.prototype._root_extra_style = function(canvas_div) {\n",
       "\n",
       "}\n",
       "\n",
       "mpl.figure.prototype._init_canvas = function() {\n",
       "    var fig = this;\n",
       "\n",
       "    var canvas_div = $('<div/>');\n",
       "\n",
       "    canvas_div.attr('style', 'position: relative; clear: both; outline: 0');\n",
       "\n",
       "    function canvas_keyboard_event(event) {\n",
       "        return fig.key_event(event, event['data']);\n",
       "    }\n",
       "\n",
       "    canvas_div.keydown('key_press', canvas_keyboard_event);\n",
       "    canvas_div.keyup('key_release', canvas_keyboard_event);\n",
       "    this.canvas_div = canvas_div\n",
       "    this._canvas_extra_style(canvas_div)\n",
       "    this.root.append(canvas_div);\n",
       "\n",
       "    var canvas = $('<canvas/>');\n",
       "    canvas.addClass('mpl-canvas');\n",
       "    canvas.attr('style', \"left: 0; top: 0; z-index: 0; outline: 0\")\n",
       "\n",
       "    this.canvas = canvas[0];\n",
       "    this.context = canvas[0].getContext(\"2d\");\n",
       "\n",
       "    var backingStore = this.context.backingStorePixelRatio ||\n",
       "\tthis.context.webkitBackingStorePixelRatio ||\n",
       "\tthis.context.mozBackingStorePixelRatio ||\n",
       "\tthis.context.msBackingStorePixelRatio ||\n",
       "\tthis.context.oBackingStorePixelRatio ||\n",
       "\tthis.context.backingStorePixelRatio || 1;\n",
       "\n",
       "    mpl.ratio = (window.devicePixelRatio || 1) / backingStore;\n",
       "\n",
       "    var rubberband = $('<canvas/>');\n",
       "    rubberband.attr('style', \"position: absolute; left: 0; top: 0; z-index: 1;\")\n",
       "\n",
       "    var pass_mouse_events = true;\n",
       "\n",
       "    canvas_div.resizable({\n",
       "        start: function(event, ui) {\n",
       "            pass_mouse_events = false;\n",
       "        },\n",
       "        resize: function(event, ui) {\n",
       "            fig.request_resize(ui.size.width, ui.size.height);\n",
       "        },\n",
       "        stop: function(event, ui) {\n",
       "            pass_mouse_events = true;\n",
       "            fig.request_resize(ui.size.width, ui.size.height);\n",
       "        },\n",
       "    });\n",
       "\n",
       "    function mouse_event_fn(event) {\n",
       "        if (pass_mouse_events)\n",
       "            return fig.mouse_event(event, event['data']);\n",
       "    }\n",
       "\n",
       "    rubberband.mousedown('button_press', mouse_event_fn);\n",
       "    rubberband.mouseup('button_release', mouse_event_fn);\n",
       "    // Throttle sequential mouse events to 1 every 20ms.\n",
       "    rubberband.mousemove('motion_notify', mouse_event_fn);\n",
       "\n",
       "    rubberband.mouseenter('figure_enter', mouse_event_fn);\n",
       "    rubberband.mouseleave('figure_leave', mouse_event_fn);\n",
       "\n",
       "    canvas_div.on(\"wheel\", function (event) {\n",
       "        event = event.originalEvent;\n",
       "        event['data'] = 'scroll'\n",
       "        if (event.deltaY < 0) {\n",
       "            event.step = 1;\n",
       "        } else {\n",
       "            event.step = -1;\n",
       "        }\n",
       "        mouse_event_fn(event);\n",
       "    });\n",
       "\n",
       "    canvas_div.append(canvas);\n",
       "    canvas_div.append(rubberband);\n",
       "\n",
       "    this.rubberband = rubberband;\n",
       "    this.rubberband_canvas = rubberband[0];\n",
       "    this.rubberband_context = rubberband[0].getContext(\"2d\");\n",
       "    this.rubberband_context.strokeStyle = \"#000000\";\n",
       "\n",
       "    this._resize_canvas = function(width, height) {\n",
       "        // Keep the size of the canvas, canvas container, and rubber band\n",
       "        // canvas in synch.\n",
       "        canvas_div.css('width', width)\n",
       "        canvas_div.css('height', height)\n",
       "\n",
       "        canvas.attr('width', width * mpl.ratio);\n",
       "        canvas.attr('height', height * mpl.ratio);\n",
       "        canvas.attr('style', 'width: ' + width + 'px; height: ' + height + 'px;');\n",
       "\n",
       "        rubberband.attr('width', width);\n",
       "        rubberband.attr('height', height);\n",
       "    }\n",
       "\n",
       "    // Set the figure to an initial 600x600px, this will subsequently be updated\n",
       "    // upon first draw.\n",
       "    this._resize_canvas(600, 600);\n",
       "\n",
       "    // Disable right mouse context menu.\n",
       "    $(this.rubberband_canvas).bind(\"contextmenu\",function(e){\n",
       "        return false;\n",
       "    });\n",
       "\n",
       "    function set_focus () {\n",
       "        canvas.focus();\n",
       "        canvas_div.focus();\n",
       "    }\n",
       "\n",
       "    window.setTimeout(set_focus, 100);\n",
       "}\n",
       "\n",
       "mpl.figure.prototype._init_toolbar = function() {\n",
       "    var fig = this;\n",
       "\n",
       "    var nav_element = $('<div/>');\n",
       "    nav_element.attr('style', 'width: 100%');\n",
       "    this.root.append(nav_element);\n",
       "\n",
       "    // Define a callback function for later on.\n",
       "    function toolbar_event(event) {\n",
       "        return fig.toolbar_button_onclick(event['data']);\n",
       "    }\n",
       "    function toolbar_mouse_event(event) {\n",
       "        return fig.toolbar_button_onmouseover(event['data']);\n",
       "    }\n",
       "\n",
       "    for(var toolbar_ind in mpl.toolbar_items) {\n",
       "        var name = mpl.toolbar_items[toolbar_ind][0];\n",
       "        var tooltip = mpl.toolbar_items[toolbar_ind][1];\n",
       "        var image = mpl.toolbar_items[toolbar_ind][2];\n",
       "        var method_name = mpl.toolbar_items[toolbar_ind][3];\n",
       "\n",
       "        if (!name) {\n",
       "            // put a spacer in here.\n",
       "            continue;\n",
       "        }\n",
       "        var button = $('<button/>');\n",
       "        button.addClass('ui-button ui-widget ui-state-default ui-corner-all ' +\n",
       "                        'ui-button-icon-only');\n",
       "        button.attr('role', 'button');\n",
       "        button.attr('aria-disabled', 'false');\n",
       "        button.click(method_name, toolbar_event);\n",
       "        button.mouseover(tooltip, toolbar_mouse_event);\n",
       "\n",
       "        var icon_img = $('<span/>');\n",
       "        icon_img.addClass('ui-button-icon-primary ui-icon');\n",
       "        icon_img.addClass(image);\n",
       "        icon_img.addClass('ui-corner-all');\n",
       "\n",
       "        var tooltip_span = $('<span/>');\n",
       "        tooltip_span.addClass('ui-button-text');\n",
       "        tooltip_span.html(tooltip);\n",
       "\n",
       "        button.append(icon_img);\n",
       "        button.append(tooltip_span);\n",
       "\n",
       "        nav_element.append(button);\n",
       "    }\n",
       "\n",
       "    var fmt_picker_span = $('<span/>');\n",
       "\n",
       "    var fmt_picker = $('<select/>');\n",
       "    fmt_picker.addClass('mpl-toolbar-option ui-widget ui-widget-content');\n",
       "    fmt_picker_span.append(fmt_picker);\n",
       "    nav_element.append(fmt_picker_span);\n",
       "    this.format_dropdown = fmt_picker[0];\n",
       "\n",
       "    for (var ind in mpl.extensions) {\n",
       "        var fmt = mpl.extensions[ind];\n",
       "        var option = $(\n",
       "            '<option/>', {selected: fmt === mpl.default_extension}).html(fmt);\n",
       "        fmt_picker.append(option);\n",
       "    }\n",
       "\n",
       "    // Add hover states to the ui-buttons\n",
       "    $( \".ui-button\" ).hover(\n",
       "        function() { $(this).addClass(\"ui-state-hover\");},\n",
       "        function() { $(this).removeClass(\"ui-state-hover\");}\n",
       "    );\n",
       "\n",
       "    var status_bar = $('<span class=\"mpl-message\"/>');\n",
       "    nav_element.append(status_bar);\n",
       "    this.message = status_bar[0];\n",
       "}\n",
       "\n",
       "mpl.figure.prototype.request_resize = function(x_pixels, y_pixels) {\n",
       "    // Request matplotlib to resize the figure. Matplotlib will then trigger a resize in the client,\n",
       "    // which will in turn request a refresh of the image.\n",
       "    this.send_message('resize', {'width': x_pixels, 'height': y_pixels});\n",
       "}\n",
       "\n",
       "mpl.figure.prototype.send_message = function(type, properties) {\n",
       "    properties['type'] = type;\n",
       "    properties['figure_id'] = this.id;\n",
       "    this.ws.send(JSON.stringify(properties));\n",
       "}\n",
       "\n",
       "mpl.figure.prototype.send_draw_message = function() {\n",
       "    if (!this.waiting) {\n",
       "        this.waiting = true;\n",
       "        this.ws.send(JSON.stringify({type: \"draw\", figure_id: this.id}));\n",
       "    }\n",
       "}\n",
       "\n",
       "\n",
       "mpl.figure.prototype.handle_save = function(fig, msg) {\n",
       "    var format_dropdown = fig.format_dropdown;\n",
       "    var format = format_dropdown.options[format_dropdown.selectedIndex].value;\n",
       "    fig.ondownload(fig, format);\n",
       "}\n",
       "\n",
       "\n",
       "mpl.figure.prototype.handle_resize = function(fig, msg) {\n",
       "    var size = msg['size'];\n",
       "    if (size[0] != fig.canvas.width || size[1] != fig.canvas.height) {\n",
       "        fig._resize_canvas(size[0], size[1]);\n",
       "        fig.send_message(\"refresh\", {});\n",
       "    };\n",
       "}\n",
       "\n",
       "mpl.figure.prototype.handle_rubberband = function(fig, msg) {\n",
       "    var x0 = msg['x0'] / mpl.ratio;\n",
       "    var y0 = (fig.canvas.height - msg['y0']) / mpl.ratio;\n",
       "    var x1 = msg['x1'] / mpl.ratio;\n",
       "    var y1 = (fig.canvas.height - msg['y1']) / mpl.ratio;\n",
       "    x0 = Math.floor(x0) + 0.5;\n",
       "    y0 = Math.floor(y0) + 0.5;\n",
       "    x1 = Math.floor(x1) + 0.5;\n",
       "    y1 = Math.floor(y1) + 0.5;\n",
       "    var min_x = Math.min(x0, x1);\n",
       "    var min_y = Math.min(y0, y1);\n",
       "    var width = Math.abs(x1 - x0);\n",
       "    var height = Math.abs(y1 - y0);\n",
       "\n",
       "    fig.rubberband_context.clearRect(\n",
       "        0, 0, fig.canvas.width / mpl.ratio, fig.canvas.height / mpl.ratio);\n",
       "\n",
       "    fig.rubberband_context.strokeRect(min_x, min_y, width, height);\n",
       "}\n",
       "\n",
       "mpl.figure.prototype.handle_figure_label = function(fig, msg) {\n",
       "    // Updates the figure title.\n",
       "    fig.header.textContent = msg['label'];\n",
       "}\n",
       "\n",
       "mpl.figure.prototype.handle_cursor = function(fig, msg) {\n",
       "    var cursor = msg['cursor'];\n",
       "    switch(cursor)\n",
       "    {\n",
       "    case 0:\n",
       "        cursor = 'pointer';\n",
       "        break;\n",
       "    case 1:\n",
       "        cursor = 'default';\n",
       "        break;\n",
       "    case 2:\n",
       "        cursor = 'crosshair';\n",
       "        break;\n",
       "    case 3:\n",
       "        cursor = 'move';\n",
       "        break;\n",
       "    }\n",
       "    fig.rubberband_canvas.style.cursor = cursor;\n",
       "}\n",
       "\n",
       "mpl.figure.prototype.handle_message = function(fig, msg) {\n",
       "    fig.message.textContent = msg['message'];\n",
       "}\n",
       "\n",
       "mpl.figure.prototype.handle_draw = function(fig, msg) {\n",
       "    // Request the server to send over a new figure.\n",
       "    fig.send_draw_message();\n",
       "}\n",
       "\n",
       "mpl.figure.prototype.handle_image_mode = function(fig, msg) {\n",
       "    fig.image_mode = msg['mode'];\n",
       "}\n",
       "\n",
       "mpl.figure.prototype.updated_canvas_event = function() {\n",
       "    // Called whenever the canvas gets updated.\n",
       "    this.send_message(\"ack\", {});\n",
       "}\n",
       "\n",
       "// A function to construct a web socket function for onmessage handling.\n",
       "// Called in the figure constructor.\n",
       "mpl.figure.prototype._make_on_message_function = function(fig) {\n",
       "    return function socket_on_message(evt) {\n",
       "        if (evt.data instanceof Blob) {\n",
       "            /* FIXME: We get \"Resource interpreted as Image but\n",
       "             * transferred with MIME type text/plain:\" errors on\n",
       "             * Chrome.  But how to set the MIME type?  It doesn't seem\n",
       "             * to be part of the websocket stream */\n",
       "            evt.data.type = \"image/png\";\n",
       "\n",
       "            /* Free the memory for the previous frames */\n",
       "            if (fig.imageObj.src) {\n",
       "                (window.URL || window.webkitURL).revokeObjectURL(\n",
       "                    fig.imageObj.src);\n",
       "            }\n",
       "\n",
       "            fig.imageObj.src = (window.URL || window.webkitURL).createObjectURL(\n",
       "                evt.data);\n",
       "            fig.updated_canvas_event();\n",
       "            fig.waiting = false;\n",
       "            return;\n",
       "        }\n",
       "        else if (typeof evt.data === 'string' && evt.data.slice(0, 21) == \"data:image/png;base64\") {\n",
       "            fig.imageObj.src = evt.data;\n",
       "            fig.updated_canvas_event();\n",
       "            fig.waiting = false;\n",
       "            return;\n",
       "        }\n",
       "\n",
       "        var msg = JSON.parse(evt.data);\n",
       "        var msg_type = msg['type'];\n",
       "\n",
       "        // Call the  \"handle_{type}\" callback, which takes\n",
       "        // the figure and JSON message as its only arguments.\n",
       "        try {\n",
       "            var callback = fig[\"handle_\" + msg_type];\n",
       "        } catch (e) {\n",
       "            console.log(\"No handler for the '\" + msg_type + \"' message type: \", msg);\n",
       "            return;\n",
       "        }\n",
       "\n",
       "        if (callback) {\n",
       "            try {\n",
       "                // console.log(\"Handling '\" + msg_type + \"' message: \", msg);\n",
       "                callback(fig, msg);\n",
       "            } catch (e) {\n",
       "                console.log(\"Exception inside the 'handler_\" + msg_type + \"' callback:\", e, e.stack, msg);\n",
       "            }\n",
       "        }\n",
       "    };\n",
       "}\n",
       "\n",
       "// from http://stackoverflow.com/questions/1114465/getting-mouse-location-in-canvas\n",
       "mpl.findpos = function(e) {\n",
       "    //this section is from http://www.quirksmode.org/js/events_properties.html\n",
       "    var targ;\n",
       "    if (!e)\n",
       "        e = window.event;\n",
       "    if (e.target)\n",
       "        targ = e.target;\n",
       "    else if (e.srcElement)\n",
       "        targ = e.srcElement;\n",
       "    if (targ.nodeType == 3) // defeat Safari bug\n",
       "        targ = targ.parentNode;\n",
       "\n",
       "    // jQuery normalizes the pageX and pageY\n",
       "    // pageX,Y are the mouse positions relative to the document\n",
       "    // offset() returns the position of the element relative to the document\n",
       "    var x = e.pageX - $(targ).offset().left;\n",
       "    var y = e.pageY - $(targ).offset().top;\n",
       "\n",
       "    return {\"x\": x, \"y\": y};\n",
       "};\n",
       "\n",
       "/*\n",
       " * return a copy of an object with only non-object keys\n",
       " * we need this to avoid circular references\n",
       " * http://stackoverflow.com/a/24161582/3208463\n",
       " */\n",
       "function simpleKeys (original) {\n",
       "  return Object.keys(original).reduce(function (obj, key) {\n",
       "    if (typeof original[key] !== 'object')\n",
       "        obj[key] = original[key]\n",
       "    return obj;\n",
       "  }, {});\n",
       "}\n",
       "\n",
       "mpl.figure.prototype.mouse_event = function(event, name) {\n",
       "    var canvas_pos = mpl.findpos(event)\n",
       "\n",
       "    if (name === 'button_press')\n",
       "    {\n",
       "        this.canvas.focus();\n",
       "        this.canvas_div.focus();\n",
       "    }\n",
       "\n",
       "    var x = canvas_pos.x * mpl.ratio;\n",
       "    var y = canvas_pos.y * mpl.ratio;\n",
       "\n",
       "    this.send_message(name, {x: x, y: y, button: event.button,\n",
       "                             step: event.step,\n",
       "                             guiEvent: simpleKeys(event)});\n",
       "\n",
       "    /* This prevents the web browser from automatically changing to\n",
       "     * the text insertion cursor when the button is pressed.  We want\n",
       "     * to control all of the cursor setting manually through the\n",
       "     * 'cursor' event from matplotlib */\n",
       "    event.preventDefault();\n",
       "    return false;\n",
       "}\n",
       "\n",
       "mpl.figure.prototype._key_event_extra = function(event, name) {\n",
       "    // Handle any extra behaviour associated with a key event\n",
       "}\n",
       "\n",
       "mpl.figure.prototype.key_event = function(event, name) {\n",
       "\n",
       "    // Prevent repeat events\n",
       "    if (name == 'key_press')\n",
       "    {\n",
       "        if (event.which === this._key)\n",
       "            return;\n",
       "        else\n",
       "            this._key = event.which;\n",
       "    }\n",
       "    if (name == 'key_release')\n",
       "        this._key = null;\n",
       "\n",
       "    var value = '';\n",
       "    if (event.ctrlKey && event.which != 17)\n",
       "        value += \"ctrl+\";\n",
       "    if (event.altKey && event.which != 18)\n",
       "        value += \"alt+\";\n",
       "    if (event.shiftKey && event.which != 16)\n",
       "        value += \"shift+\";\n",
       "\n",
       "    value += 'k';\n",
       "    value += event.which.toString();\n",
       "\n",
       "    this._key_event_extra(event, name);\n",
       "\n",
       "    this.send_message(name, {key: value,\n",
       "                             guiEvent: simpleKeys(event)});\n",
       "    return false;\n",
       "}\n",
       "\n",
       "mpl.figure.prototype.toolbar_button_onclick = function(name) {\n",
       "    if (name == 'download') {\n",
       "        this.handle_save(this, null);\n",
       "    } else {\n",
       "        this.send_message(\"toolbar_button\", {name: name});\n",
       "    }\n",
       "};\n",
       "\n",
       "mpl.figure.prototype.toolbar_button_onmouseover = function(tooltip) {\n",
       "    this.message.textContent = tooltip;\n",
       "};\n",
       "mpl.toolbar_items = [[\"Home\", \"Reset original view\", \"fa fa-home icon-home\", \"home\"], [\"Back\", \"Back to previous view\", \"fa fa-arrow-left icon-arrow-left\", \"back\"], [\"Forward\", \"Forward to next view\", \"fa fa-arrow-right icon-arrow-right\", \"forward\"], [\"\", \"\", \"\", \"\"], [\"Pan\", \"Pan axes with left mouse, zoom with right\", \"fa fa-arrows icon-move\", \"pan\"], [\"Zoom\", \"Zoom to rectangle\", \"fa fa-square-o icon-check-empty\", \"zoom\"], [\"\", \"\", \"\", \"\"], [\"Download\", \"Download plot\", \"fa fa-floppy-o icon-save\", \"download\"]];\n",
       "\n",
       "mpl.extensions = [\"eps\", \"jpeg\", \"pdf\", \"png\", \"ps\", \"raw\", \"svg\", \"tif\"];\n",
       "\n",
       "mpl.default_extension = \"png\";var comm_websocket_adapter = function(comm) {\n",
       "    // Create a \"websocket\"-like object which calls the given IPython comm\n",
       "    // object with the appropriate methods. Currently this is a non binary\n",
       "    // socket, so there is still some room for performance tuning.\n",
       "    var ws = {};\n",
       "\n",
       "    ws.close = function() {\n",
       "        comm.close()\n",
       "    };\n",
       "    ws.send = function(m) {\n",
       "        //console.log('sending', m);\n",
       "        comm.send(m);\n",
       "    };\n",
       "    // Register the callback with on_msg.\n",
       "    comm.on_msg(function(msg) {\n",
       "        //console.log('receiving', msg['content']['data'], msg);\n",
       "        // Pass the mpl event to the overridden (by mpl) onmessage function.\n",
       "        ws.onmessage(msg['content']['data'])\n",
       "    });\n",
       "    return ws;\n",
       "}\n",
       "\n",
       "mpl.mpl_figure_comm = function(comm, msg) {\n",
       "    // This is the function which gets called when the mpl process\n",
       "    // starts-up an IPython Comm through the \"matplotlib\" channel.\n",
       "\n",
       "    var id = msg.content.data.id;\n",
       "    // Get hold of the div created by the display call when the Comm\n",
       "    // socket was opened in Python.\n",
       "    var element = $(\"#\" + id);\n",
       "    var ws_proxy = comm_websocket_adapter(comm)\n",
       "\n",
       "    function ondownload(figure, format) {\n",
       "        window.open(figure.imageObj.src);\n",
       "    }\n",
       "\n",
       "    var fig = new mpl.figure(id, ws_proxy,\n",
       "                           ondownload,\n",
       "                           element.get(0));\n",
       "\n",
       "    // Call onopen now - mpl needs it, as it is assuming we've passed it a real\n",
       "    // web socket which is closed, not our websocket->open comm proxy.\n",
       "    ws_proxy.onopen();\n",
       "\n",
       "    fig.parent_element = element.get(0);\n",
       "    fig.cell_info = mpl.find_output_cell(\"<div id='\" + id + \"'></div>\");\n",
       "    if (!fig.cell_info) {\n",
       "        console.error(\"Failed to find cell for figure\", id, fig);\n",
       "        return;\n",
       "    }\n",
       "\n",
       "    var output_index = fig.cell_info[2]\n",
       "    var cell = fig.cell_info[0];\n",
       "\n",
       "};\n",
       "\n",
       "mpl.figure.prototype.handle_close = function(fig, msg) {\n",
       "    var width = fig.canvas.width/mpl.ratio\n",
       "    fig.root.unbind('remove')\n",
       "\n",
       "    // Update the output cell to use the data from the current canvas.\n",
       "    fig.push_to_output();\n",
       "    var dataURL = fig.canvas.toDataURL();\n",
       "    // Re-enable the keyboard manager in IPython - without this line, in FF,\n",
       "    // the notebook keyboard shortcuts fail.\n",
       "    IPython.keyboard_manager.enable()\n",
       "    $(fig.parent_element).html('<img src=\"' + dataURL + '\" width=\"' + width + '\">');\n",
       "    fig.close_ws(fig, msg);\n",
       "}\n",
       "\n",
       "mpl.figure.prototype.close_ws = function(fig, msg){\n",
       "    fig.send_message('closing', msg);\n",
       "    // fig.ws.close()\n",
       "}\n",
       "\n",
       "mpl.figure.prototype.push_to_output = function(remove_interactive) {\n",
       "    // Turn the data on the canvas into data in the output cell.\n",
       "    var width = this.canvas.width/mpl.ratio\n",
       "    var dataURL = this.canvas.toDataURL();\n",
       "    this.cell_info[1]['text/html'] = '<img src=\"' + dataURL + '\" width=\"' + width + '\">';\n",
       "}\n",
       "\n",
       "mpl.figure.prototype.updated_canvas_event = function() {\n",
       "    // Tell IPython that the notebook contents must change.\n",
       "    IPython.notebook.set_dirty(true);\n",
       "    this.send_message(\"ack\", {});\n",
       "    var fig = this;\n",
       "    // Wait a second, then push the new image to the DOM so\n",
       "    // that it is saved nicely (might be nice to debounce this).\n",
       "    setTimeout(function () { fig.push_to_output() }, 1000);\n",
       "}\n",
       "\n",
       "mpl.figure.prototype._init_toolbar = function() {\n",
       "    var fig = this;\n",
       "\n",
       "    var nav_element = $('<div/>');\n",
       "    nav_element.attr('style', 'width: 100%');\n",
       "    this.root.append(nav_element);\n",
       "\n",
       "    // Define a callback function for later on.\n",
       "    function toolbar_event(event) {\n",
       "        return fig.toolbar_button_onclick(event['data']);\n",
       "    }\n",
       "    function toolbar_mouse_event(event) {\n",
       "        return fig.toolbar_button_onmouseover(event['data']);\n",
       "    }\n",
       "\n",
       "    for(var toolbar_ind in mpl.toolbar_items){\n",
       "        var name = mpl.toolbar_items[toolbar_ind][0];\n",
       "        var tooltip = mpl.toolbar_items[toolbar_ind][1];\n",
       "        var image = mpl.toolbar_items[toolbar_ind][2];\n",
       "        var method_name = mpl.toolbar_items[toolbar_ind][3];\n",
       "\n",
       "        if (!name) { continue; };\n",
       "\n",
       "        var button = $('<button class=\"btn btn-default\" href=\"#\" title=\"' + name + '\"><i class=\"fa ' + image + ' fa-lg\"></i></button>');\n",
       "        button.click(method_name, toolbar_event);\n",
       "        button.mouseover(tooltip, toolbar_mouse_event);\n",
       "        nav_element.append(button);\n",
       "    }\n",
       "\n",
       "    // Add the status bar.\n",
       "    var status_bar = $('<span class=\"mpl-message\" style=\"text-align:right; float: right;\"/>');\n",
       "    nav_element.append(status_bar);\n",
       "    this.message = status_bar[0];\n",
       "\n",
       "    // Add the close button to the window.\n",
       "    var buttongrp = $('<div class=\"btn-group inline pull-right\"></div>');\n",
       "    var button = $('<button class=\"btn btn-mini btn-primary\" href=\"#\" title=\"Stop Interaction\"><i class=\"fa fa-power-off icon-remove icon-large\"></i></button>');\n",
       "    button.click(function (evt) { fig.handle_close(fig, {}); } );\n",
       "    button.mouseover('Stop Interaction', toolbar_mouse_event);\n",
       "    buttongrp.append(button);\n",
       "    var titlebar = this.root.find($('.ui-dialog-titlebar'));\n",
       "    titlebar.prepend(buttongrp);\n",
       "}\n",
       "\n",
       "mpl.figure.prototype._root_extra_style = function(el){\n",
       "    var fig = this\n",
       "    el.on(\"remove\", function(){\n",
       "\tfig.close_ws(fig, {});\n",
       "    });\n",
       "}\n",
       "\n",
       "mpl.figure.prototype._canvas_extra_style = function(el){\n",
       "    // this is important to make the div 'focusable\n",
       "    el.attr('tabindex', 0)\n",
       "    // reach out to IPython and tell the keyboard manager to turn it's self\n",
       "    // off when our div gets focus\n",
       "\n",
       "    // location in version 3\n",
       "    if (IPython.notebook.keyboard_manager) {\n",
       "        IPython.notebook.keyboard_manager.register_events(el);\n",
       "    }\n",
       "    else {\n",
       "        // location in version 2\n",
       "        IPython.keyboard_manager.register_events(el);\n",
       "    }\n",
       "\n",
       "}\n",
       "\n",
       "mpl.figure.prototype._key_event_extra = function(event, name) {\n",
       "    var manager = IPython.notebook.keyboard_manager;\n",
       "    if (!manager)\n",
       "        manager = IPython.keyboard_manager;\n",
       "\n",
       "    // Check for shift+enter\n",
       "    if (event.shiftKey && event.which == 13) {\n",
       "        this.canvas_div.blur();\n",
       "        // select the cell after this one\n",
       "        var index = IPython.notebook.find_cell_index(this.cell_info[0]);\n",
       "        IPython.notebook.select(index + 1);\n",
       "    }\n",
       "}\n",
       "\n",
       "mpl.figure.prototype.handle_save = function(fig, msg) {\n",
       "    fig.ondownload(fig, null);\n",
       "}\n",
       "\n",
       "\n",
       "mpl.find_output_cell = function(html_output) {\n",
       "    // Return the cell and output element which can be found *uniquely* in the notebook.\n",
       "    // Note - this is a bit hacky, but it is done because the \"notebook_saving.Notebook\"\n",
       "    // IPython event is triggered only after the cells have been serialised, which for\n",
       "    // our purposes (turning an active figure into a static one), is too late.\n",
       "    var cells = IPython.notebook.get_cells();\n",
       "    var ncells = cells.length;\n",
       "    for (var i=0; i<ncells; i++) {\n",
       "        var cell = cells[i];\n",
       "        if (cell.cell_type === 'code'){\n",
       "            for (var j=0; j<cell.output_area.outputs.length; j++) {\n",
       "                var data = cell.output_area.outputs[j];\n",
       "                if (data.data) {\n",
       "                    // IPython >= 3 moved mimebundle to data attribute of output\n",
       "                    data = data.data;\n",
       "                }\n",
       "                if (data['text/html'] == html_output) {\n",
       "                    return [cell, data, j];\n",
       "                }\n",
       "            }\n",
       "        }\n",
       "    }\n",
       "}\n",
       "\n",
       "// Register the function which deals with the matplotlib target/channel.\n",
       "// The kernel may be null if the page has been refreshed.\n",
       "if (IPython.notebook.kernel != null) {\n",
       "    IPython.notebook.kernel.comm_manager.register_target('matplotlib', mpl.mpl_figure_comm);\n",
       "}\n"
      ],
      "text/plain": [
       "<IPython.core.display.Javascript object>"
      ]
     },
     "metadata": {},
     "output_type": "display_data"
    },
    {
     "data": {
      "text/html": [
       "<img src=\"data:image/png;base64,iVBORw0KGgoAAAANSUhEUgAAAyAAAAK8CAYAAAAXo9vkAAAAAXNSR0IArs4c6QAAAERlWElmTU0AKgAAAAgAAYdpAAQAAAABAAAAGgAAAAAAA6ABAAMAAAABAAEAAKACAAQAAAABAAADIKADAAQAAAABAAACvAAAAAAfPtSLAABAAElEQVR4AezdB5xcZb3/8e/MbC/ZTbLJpjdCGoE0SkBKIBKqBhAJCPYu16v3CigqoqJ/C6KgYOHasNyrIoLSm0BCSUJ6SEJI73WT7XXK/3lmM7szs7uzdWbnzHye12syp805z/M+k2R+52mugEkiIYAAAggggAACCCCAAAIJEHAn4BpcAgEEEEAAAQQQQAABBBAIChCA8EVAAAEEEEAAAQQQQACBhAkQgCSMmgshgAACCCCAAAIIIIAAAQjfAQQQQAABBBBAAAEEEEiYAAFIwqi5EAIIIIAAAggggAACCBCA8B1AAAEEEEAAAQQQQACBhAkQgCSMmgshgAACCCCAAAIIIIAAAQjfAQQQQAABBBBAAAEEEEiYAAFIwqi5EAIIIIAAAggggAACCBCA8B1AAAEEEEAAAQQQQACBhAkQgCSMmgshgAACCCCAAAIIIIAAAQjfAQQQQAABBBBAAAEEEEiYAAFIwqi5EAIIIIAAAggggAACCBCA8B1AAAEEEEAAAQQQQACBhAkQgCSMmgshgAACCCCAAAIIIIAAAQjfAQQQQAABBBBAAAEEEEiYAAFIwqi5EAIIIIAAAggggAACCBCA8B1AAAEEEEAAAQQQQACBhAkQgCSMmgshgAACCCCAAAIIIIAAAQjfAQQQQAABBBBAAAEEEEiYAAFIwqi5EAIIIIAAAggggAACCBCA8B1AAAEEEEAAAQQQQACBhAkQgCSMmgshgAACCCCAAAIIIIAAAQjfAQQQQAABBBBAAAEEEEiYAAFIwqi5EAIIIIAAAggggAACCBCA8B1AAAEEEEAAAQQQQACBhAkQgCSMmgshgAACCCCAAAIIIIAAAQjfAQQQQAABBBBAAAEEEEiYAAFIwqi5EAIIIIAAAggggAACCBCA8B1AAAEEEEAAAQQQQACBhAkQgCSMmgshgAACCCCAAAIIIIAAAQjfAQQQQAABBBBAAAEEEEiYAAFIwqi5EAIIIIAAAggggAACCBCA8B1AAAEEEEAAAQQQQACBhAkQgCSMmgshgAACCCCAAAIIIIAAAQjfAQQQQAABBBBAAAEEEEiYAAFIwqi5EAIIIIAAAggggAACCBCA8B1AAAEEEEAAAQQQQACBhAkQgCSMmgshgAACCCCAAAIIIIAAAQjfAQQQQAABBBBAAAEEEEiYAAFIwqi5EAIIIIAAAggggAACCBCA8B1AAAEEEEAAAQQQQACBhAkQgCSMmgshgAACCCCAAAIIIIAAAQjfAQQQQAABBBBAAAEEEEiYAAFIwqi5EAIIIIAAAggggAACCBCA8B1AAAEEEEAAAQQQQACBhAkQgCSMmgshgAACCCCAAAIIIIAAAQjfAQQQQAABBBBAAAEEEEiYAAFIwqi5EAIIIIAAAggggAACCBCA8B1AAAEEEEAAAQQQQACBhAkQgCSMmgshgAACCCCAAAIIIIAAAQjfAQQQQAABBBBAAAEEEEiYAAFIwqi5EAIIIIAAAggggAACCBCA8B1AAAEEEEAAAQQQQACBhAkQgCSMmgshgAACCCCAAAIIIIAAAQjfAQQQQAABBBBAAAEEEEiYAAFIwqi5EAIIIIAAAggggAACCBCA8B1AAAEEEEAAAQQQQACBhAkQgCSMmgshgAACCCCAAAIIIIAAAQjfAQQQQAABBBBAAAEEEEiYAAFIwqi5EAIIIIAAAggggAACCBCA8B1AAAEEEEAAAQQQQACBhAkQgCSMmgshgAACCCCAAAIIIIAAAQjfAQQQQAABBBBAAAEEEEiYAAFIwqi5EAIIIIAAAggggAACCBCA8B1AAAEEEEAAAQQQQACBhAkQgCSMmgshgAACCCCAAAIIIIAAAQjfAQQQQAABBBBAAAEEEEiYAAFIwqi5EAIIIIAAAggggAACCBCA8B1AAAEEEEAAAQQQQACBhAkQgCSMmgshgAACCCCAAAIIIIAAAQjfAQQQQAABBBBAAAEEEEiYAAFIwqi5EAIIIIAAAggggAACCBCA8B1AAAEEEEAAAQQQQACBhAkQgCSMmgshgAACCCCAAAIIIIAAAQjfAQQQQAABBBBAAAEEEEiYAAFIwqi5EAIIIIAAAggggAACCBCA8B1AAAEEEEAAAQQQQACBhAkQgCSMmgshgAACCCCAAAIIIIAAAQjfAQQQQAABBBBAAAEEEEiYAAFIwqi5EAIIIIAAAggggAACCBCA8B1AAAEEEEAAAQQQQACBhAlkJOxKXKhTgZtv+UbwmAyPp9NjOQABBBBAAAEEEEAg8QJeny940Qd+9O3EXzxFrkgNSIrcSIqBAAIIIIAAAggggIATBKgBSaK7FKr5uO8HdyZRrsgKAggggAACCCCAQEjgC1/+VmiR9x4KUAPSQzg+hgACCCCAAAIIIIAAAt0XIADpvhmfQAABBBBAAAEEEEAAgR4KEID0EI6PIYAAAggggAACCCCAQPcFCEC6b8YnEEAAAQQQQAABBBBAoIcCBCA9hONjCCCAAAIIIIAAAggg0H0BApDum/EJBBBAAAEEEEAAAQQQ6KEAAUgP4fgYAggggAACCCCAAAIIdF+AAKT7ZnwCAQQQQAABBBBAAAEEeihAANJDOD6GAAIIIIAAAggggAAC3RcgAOm+GZ9AAAEEEEAAAQQQQACBHgoQgPQQjo8hgAACCCCAAAIIIIBA9wUIQLpvxicQQAABBBBAAAEEEECghwIEID2E42MIIIAAAggggAACCCDQfQECkO6b8QkEEEAAAQQQQAABBBDooQABSA/h+BgCCCCAAAIIIIAAAgh0X4AApPtmfAIBBBBAAAEEEEAAAQR6KEAA0kM4PoYAAggggAACCCCAAALdFyAA6b4Zn0AAAQQQQAABBBBAAIEeCmT08HN8DAEEEEAAAQQQQACB1BEIBKSyKsm8aVCB5OE5fbxuLgFIvGQ5LwIIIIAAAggggIAzBJZtlZZukY7XNOc3P1uaPV66YKqU4XFGGRyUSwIQB90ssooAAggggAACCCDQxwJPrZaWb4s8aU2DtORtad8x6cZzqQ2J1On1GnVLvSbkBAgggAACCCCAAAKOFLABRnTwEV6Q7YeldbvDt7DcBwIEIH2AyCkQQAABBBBAAAEEHCiwckfnmV6xvfNjOKJbAgQg3eLiYAQQQAABBBBAAIGUEbCdzsNSVWO9Vh3ZFbbFLB6rjlxnrdcCBCC9JuQECCCAAAIIIIAAAo4UyMmKyHZ5Q61e3mv6foSnnMzwNZb7QIAApA8QOQUCCCCAAAIIIICAAwWmj+o809NHd34MR3RLgACkW1wcjAACCCCAAAIIIJAyAtNMAFJa1HFx7HC8Z57U8X729EiAAKRHbHwIAQQQQAABBBBAwPECdrLBD54njS1pW5SSQulD50uFuW33saVXAswD0is+PowAAggggAACCCDgaIGCHOmj86T9x6U31kheMzKWDUomDJVcLkcXLVkzTw1Ist4Z8oUAAggggAACCCCQOIERA01zq4mmNmSIdFIpwUcc5QlA4ojLqRFAAAEEEEAAAQQQQCBSgAAk0oM1BBBAAAEEEEAAAQQQiKMAAUgccTk1AggggAACCCCAAAIIRAoQgER6sIYAAggggAACCCCAAAJxFCAAiSMup0YAAQQQQAABBBBAAIFIAQKQSA/WEEAAAQQQQAABBBBAII4CBCBxxOXUCCCAAAIIIIAAAgggEClAABLpwRoCCCCAAAIIIIAAAgjEUYAAJI64nBoBBBBAAAEEEEAAAQQiBQhAIj1YQwABBBBAAAEEEEAAgTgKEIDEEZdTI4AAAggggAACCCCAQKQAAUikB2sIIIAAAggggAACCCAQRwECkDjicmoEEEAAAQQQQAABBBCIFCAAifRgDQEEEEAAAQQQQAABBOIoQAASR1xOjQACCCCAAAIIIIAAApECBCCRHqwhgAACCCCAAAIIIIBAHAUIQOKIy6kRQAABBBBAAAEEEEAgUoAAJNKDNQQQQAABBBBAAAEEEIijAAFIHHE5NQIIIIAAAggggAACCEQKEIBEerCGAAIIIIAAAggggAACcRQgAIkjLqdGAAEEEEAAAQQQQACBSAECkEgP1hBAAAEEEEAAAQQQQCCOAhlxPDenRgABBBBAAAEEEEAgqQVuueUWVVZWBvPo9Xp17Ngxvf3228F1v9+vBx54QNnZ2UldBqdljgDEaXeM/CKAAAIIIIAAAgj0mcCQIUP06KOPtnu+K6+8kuCjXZnebaQJVu/8+DQCCCCAAAIIIICAgwU+/vGPa+jQoW1KkJmZqUWLFrXZzobeCxCA9N6QMyCAAAIIIIAAAgg4VKCkpETz5s1rk/uzzjpL55xzTpvtbOi9AAFI7w05AwIIIIAAAggggICDBa696QPKzs+NKMGFV14asc5K3wkQgPSdJWdCAAEEEEAAAQQQcJjA295y3T3qiDLPnNyS8+ypY/To/IFa3HigZRsLfSdAANJ3lpwJAQQQQAABBBBAwEECVf4mfbNmpaoCTSpaeLbkdgVzX3jRTHnN8o9q12u7r3mELAcVK+mzSgCS9LeIDCKAAAIIIIAAAgjEQ+CFxn0m+PAGT11w7nTlzpqozFElGnjDhcFtPgX0r4bd8bh0Wp+TYXjT+vZTeAQQQAABBBBAIH0FVniPtBTe5XJpwILT1bDjoDy5rfN+rGhqPablYBZ6JUAA0is+PowAAggggAACCCDgVAFbwxGeiq86R/6GxvBN8kYdE7GTlR4J0ASrR2x8CAEEEEAAAQQQQMDpAlM8xRFFcGV45IkaDWuKpyjiGFZ6L0AA0ntDzoAAAggggAACCCDgQIFLs0bJo+aO5x1l/8rsMR3tYnsPBQhAegjHxxBAAAEEEEAAAQScLTDMk6cv5J2ijn4Qvz97vE7PHOLsQiZh7ukDkoQ3hSwhgAACCCCAAAIIJEZgftZIjXYX6PGGXVrhPSq/6fNhm2bZmo8zCD7ichMIQOLCykkRQAABBBBAAAEEnCIwKaNIX8o4zSnZdXw+O6pxcnzBKAACCCCAAAIIIIAAAggknwABSPLdE3KEAAIIIIAAAggggEDKChCApOytpWAIIIAAAggggAACCCSfAAFI8t0TcoQAAggggAACCCCAQMoKEICk7K2lYAgggAACCCCAAAIIJJ8AAUjy3RNyhAACCCCAAAIIIIBAygoQgKTsraVgCCCAAAIIIIAAAggknwABSPLdE3KEAAIIIIAAAggggEDKChCApOytpWAIIIAAAggggAACCCSfAAFI8t0TcoQAAggggAACCCCAQMoKEICk7K2lYAgggAACCCCAAAIIJJ8AAUjy3RNyhAACCCCAAAIIIIBAygoQgKTsraVgCCCAAAIIIIAAAggknwABSPLdE3KEAAIIIIAAAggggEDKChCApOytpWAIIIAAAggggAACCCSfAAFI8t0TcoQAAggggAACCCCAQMoKEICk7K2lYAgggAACCCCAAAIIJJ8AAUjy3RNyhAACCCCAAAIIIIBAygoQgKTsraVgCCCAAAIIIIAAAggknwABSPLdE3KEAAIIIIAAAggggEDKChCApOytpWAIIIAAAggggAACCCSfAAFI8t0TcoQAAggggAACCCCAQMoKEICk7K2lYAgggAACCCCAAAIIJJ8AAUjy3RNyhAACCCCAAAIIIIBAygoQgKTsraVgCCCAAAIIIIAAAggknwABSPLdE3KEAAIIIIAAAggggEDKChCApOytpWAIIIAAAggggAACCCSfAAFI8t0TcoQAAggggAACCCCAQMoKEICk7K2lYAgggAACCCCAAAIIJJ8AAUjy3RNyhAACCCCAAAIIIIBAygoQgKTsraVgCCCAAAIIIIAAAggknwABSPLdE3KEAAIIIIAAAggggEDKChCApOytpWAIIIAAAggggAACCCSfAAFI8t0TcoQAAggggAACCCCAQMoKEICk7K2lYAgggAACCCCAAAIIJJ8AAUjy3RNyhAACCCCAAAIIIIBAygoQgKTsraVgCCCAAAIIIIAAAggknwABSPLdE3KEAAIIIIAAAggggEDKChCApOytpWAIIIAAAggggAACCCSfAAFI8t0TcoQAAggggAACCCCAQMoKEICk7K2lYAgggAACCCCAAAIIJJ8AAUjy3RNyhAACCCCAAAIIIIBAygoQgKTsraVgCCCAAAIIIIAAAggknwABSPLdE3KEAAIIIIAAAggggEDKCmSkbMkoGAIIIIBAnwkc9tfpiYbder3pkOoCPo31FOiyrNE6N7NULperz67DiRBAAAEEUl+AACT17zElRAABBHolsNlbrm/UrFR1wNtynnLvMa01rwsyh+mWvNPkJghpsWEBAQQQQCC2AE2wYvuwFwEEEEhrgaaAX9+tWRMRfISDvNJ0UE807g7fxDICCCCAAAIxBQhAYvKwEwEEEEhvgTdMk6uyQENMBNs0KxAIxDyGnQgggAACCIQECEBCErwjgAACCLQR2OA9HrHNBhre8uqIbfv8taoINEZsYwUBBBBAAIGOBAhAOpJhOwIIIICA3GrtYB7w+nTwrj9p10fvVs3yzRE64cdF7GAFAQQQQACBKAECkCgQVhFAAAEEWgVmZZYEV3w1ddp764Oq+Ocbatp9RPvv+J0qnl4e3DfRM0AD3FmtH2IJAQQQQACBGAIEIDFw2IUAAgiku8DpGSUacqRBe//z56pZvL6Fw3e0Uge/9xeV/ekFXZU9tmU7CwgggAACCHQmwDC8nQmxHwEEEEhjATu87pnLyrTj1JNVe+q4oETd2h3KnTE+uDzuYJOmV2RKQ9IYiaIjgAACCHRLgACkW1wcjAACCKSfwOdu+qg+FvigXmo8oNfMqFiv3XG/rrntC8GJCCdmDEg/EEqMAAIIINArAQKQXvHxYQQQQCA9BHJcGbose3TwdVvmUH0+75T0KDilRAABBBDocwH6gPQ5KSdEAAEEEEAAAQQQQACBjgQIQDqSYTsCCCCAAAIIIIAAAgj0uQABSJ+TckIEEEAAAQQQQAABBBDoSIAApCMZtiOAAAIIIIAAAggggECfCxCA9DkpJ0QAAQQQQAABBBBAAIGOBAhAOpJhOwIIIIAAAggggAACCPS5AAFIn5NyQgQQQAABBBBAAAEEEOhIgACkIxm2I4AAAghECtTUS6t3Skcqpe2HpEAgcj9rCCCAAAIIdEGAiQi7gMQhCCCAQFoL+PzSs2ullTsku7z3mPSHJdLgQumq06XRg9Oah8IjgAACCHRPgBqQ7nlxNAIIIJB+Ao+vlJZvaw4+wktfViX90QQihyrCt7KMAAIIIIBATAECkJg87EQAAQTSXOCoaW61ZlfHCI1eafGmjvezBwEEEEAAgSgBmmBFgaTLan3Apxcb9+kF8zrmb9BAd7bmZ43UxVkjlOPia5Eu3wPKiUCnAuv2dHqI3t4v2UAki387OsfiCAQQQAAB/rdIw+9Alb9JX6t5U9t8pvnEiXTU16AtdZV6tmGPvltwhorcWaFdvCOAQDoL1Da0Kf380VMjt9l+IQ1NBCCRKqwhgAACCHQgQBOsDmBSefPP6zZGBB/hZd3hr9b9dRvCN7GMAALpLFCc16b0l4w5NXJbdqaUy0OLSBTWEEAAAQQ6EiAA6UgmRbfb5lavNZnhM2OkpU2HdcRfF+MIdiGAQNoIzBwneTr5r+K0MVKGJ21IKCgCCCCAQO8EOvlfpXcn59PJJ7DJe1w+RY7d76uLbGJhGlNok7c8+TJPjhBAIPECBTnSvGkdX7fI1JCcP6Xj/exBAAEEEEAgSoAAJAok1VfdckUU0VdVq92f+LG8lTUR211Rx0XsZAUBBNJL4DwTYLx3jjQwv7XcbvPfx7RR0sfmSYW5rdtZQgABBBBAoBMBOqF3ApRqu0/JGKgsudUoW88hHf2fp9Tw9h6V/epJld56XXBbpgk+TjXHkRBAAIEWgdnjpVnjpAOmdtSOeFViJiG0tSMkBBBAAAEEuilADUg3wZx++AAzutVFZqhdmxr2HlHlMyuCy5XPrVDDjua+IRdkDVexGZaXhAACCEQIuEwN6gjzcGLcEIKPCBhWEEAAAQS6I0AA0h2tFDn2k7lTNCNjULDWw1dmJhkzyXesWkd//aSmewbqM7lRQ2ymSLkpBgIIIIAAAggggED/CxCA9P89SHgOclweLdwYUMPL6yOubdffs75JuUxEGOHCCgIIIIAAAggggEDfCRCA9J2lY84UCAT0q1/+Ug21kUPtNtY36NcP/o/sfhICCCCAAAIIIIAAAvEQIACJh2qSn/Oxxx7TsmXLlJGR0ea1fPlyPfzww0leArKHAAIIIIAAAggg4FQBRsFy6p3rRb4XLFiguXPntpzhrrvu0h133NGyXlhoRrchIYAAAggggAACCCAQBwECkDigJvsp8/PzZV+hZJeHDx8eWuUdAQQQQAABBBBAAIG4CdAEK260nBgBBBBAAAEEEEAAAQSiBQhAokVYRwABBBBAAAEEEEAAgbgJEIDEjZYTI4AAAggggAACCCCAQLQAAUi0COsIIIAAAggggAACCCAQNwECkLjRcmIEEEAAAQQQQAABBBCIFiAAiRZhHQEEEEAAAQQQQAABBOImQAASN1pOjAACCCCAAAIIIIAAAtECBCDRIqwjgAACCCCAAAIIIIBA3AQIQOJGy4kRQAABBBBAAAEEEEAgWoAAJFqEdQQQQAABBBBAAAEEEIibAAFI3Gg5MQIIIIAAAggggAACCEQLEIBEi7COAAIIIIAAAggggAACcRMgAIkbLSdGAAEEEEAAAQQQQACBaAECkGgR1hFAAAEEEEAAAQQQQCBuAgQgcaPlxAgggAACCCCAAAIIIBAtQAASLcI6AggggAACCCCAAAIIxE2AACRutJwYAQQQQAABBBBAAAEEogUIQKJFWEcAAQQQQAABBBBAAIG4CRCAxI2WEyOAAAIIIIAAAggggEC0AAFItAjrCCCAAAIIIIAAAgggEDcBApC40XJiBBBAAAEEEEAAAQQQiBYgAIkWYR0BBBBAAAEEEEAAAQTiJkAAEjdaTowAAggggAACCCCAAALRAgQg0SKsI4AAAggggAACCCCAQNwECEDiRsuJEUAAAQQQQAABBBBAIFqAACRahHUEEEAAAQQQQAABBBCImwABSNxoOTECCCCAAAIIIIAAAghECxCARIuk0/rxaumlDdKeMunf5v2YWSchgAACCCCAAAIIIBBHgYw4nptTJ6tAICA9u05atlWyy2Um8Fi8SVrytnT6BOnymZLLlay5J18IIIAAAggggAACDhagBsTBN6/HWbeBxtItzcFH+ElsMPLmNunljeFbWUYAAQQQQAABBBBAoM8ECED6jNIhJ2rySm+Y4CNWWmaCkEZzHAkBBBBAAAEEEEAAgT4WIADpY9CkP93OI1JdY+xs1pv92w/FPoa9CCCAAAIIIIAAAgj0QIAApAdojv5Ik69N9m+aPLfNNrVzXNuD2IIAAggggAACCCCAQPcECEC65+X8o4cOaFOGGSVj2mxTaVHbbWxBAAEEEEAAAQQQQKCXAgQgvQR03MdLTAAyfmjsbI8pkYYSgMRGYi8CCCCAAAIIIIBATwQIQHqi5vTPXDlLys9uvxR5Zvt7Zre/j60IIIAAAggggAACCPRSgACkl4CO/PjgQumTF0lzxktZJ6aCyTTvs836Jy+UhrRtpuXIcpJpBBBAAAEEEEAAgaQTYCLCpLslCcpQcb6p6ZhjJh00tSENTVJ2puQhHk2QPpdBAAEEEEAAAQTSVoAAJG1v/YmC26DDNrsiIYAAAggggAACCCCQAAEeeScAmUsggAACCCCAAAIIIIBAswABCN8EBBBAAAEEEEAAAQQQSJgAAUgcqZcseV0/f+DBOF6BUyOAAAIIIIAAAggg4CwBApA43C+v16uf3vdz3f3Dn8Th7JwSAQQQQAABBBBAAAHnCtAJ/cS9Ky+v0DVXX69/PPoXFRe3TsLX2Nio+3/2S7380mL5/QGdf/679B//+Vnl5eV2eNddLpdmzZ7Z4X52IIAAAggggAACCCCQrgLUgJg7X3a0TPf/9Bfy+/xtvgc/v/9BrVixSt/81tf1gx/epa3btuvuH/y4zXHhGzwej8477xydPGli+GaWEUAAAQQQQAABBBBIe4G0rwG550f36fF/PdXuF6GqqlpPPvmMvvPdOzV7TnONxs03f1r/9cXbdPx4uQYOLG73c2xEAAEEEEAAAQQQQACB9gXSPgC56YM36L0Lr9Tmze/oRz+8N0Lprbc2KBAItAQfdue0U6bIk+HRmtVrdeDAQT333IsRnzn33HP0iU9+JGIbKwgggAACCCCAAAIIINAskPYBSGnpUNlXdXV1m+/E/n0HVFIyWJmZZpbwE8kuFxcVBWtAPnDjItkXCQEEEEAAAQQQQAABBLomQB+QGE61tbXKzm47S3hubq7sPhICCCCAAAIIIIAAAgh0TyDta0BicRUUFKi+oaHNIXZkrMLCgjbbozdcdtmC6E2sI4AAAggggAACCCCQ1gLUgMS4/bb51bFjx9TU1NRylNfrU5nZVlpa2rKNBQQQQAABBBBAAAEEEOiaAAFIDKeZs2ZIAWnt2vUtR62zy2bbjJmntWxjAQEEEEAAAQQQQAABBLomQAASw8k2s7r44ov003t/rrVr1mvZ0jf1g+/fo/e+9wrl5ubE+CS7EEAAAQQQQAABBBBAoD0B+oC0pxK27T+/+Dn9zExS+NXbvyE7weDFF8/XZ2/+ZNgRLCKAAAIIIIAAAggggEBXBQhATkjNMs2tXl78bBu3nJwc3XrbfwVfbXayAQEEEEAAAQQQQAABBLolQBOsbnFxMAIIIIAAAggggAACCPRGgACkN3p8FgEEEEAAAQQQQAABBLolQADSLS4ORgABBBBAAAEEEEAAgd4IEID0Ro/PIoAAAggggAACCCCAQLcECEC6xcXBCCCAAAIIIIAAAggg0BsBApDe6PFZBBBAAAEEEEAAAQQQ6JYAw/B2i4uDnSgQCAS0yltmXkflM8tTM4p1TmapMl3E3068n+QZAQQQQAABBJwtQADi7PtH7jsROOir1V01q7XTX91y5OONuzXIlaWv5s80wcjAlu0sIIAAAggggAACCMRfgEfA8TfmCv0k0Bjw6Y6alRHBRygrxwKNurN6lWyAQkIAAQQQQAABBBBInAABSOKsuVKCBV5pPKj9/o4DjBp59YSpDSEhgAACCCCAAAIIJE6AACRx1lwpwQKvNR3s9IqvNh7q9BgOQAABBBBAAAEEEOg7AfqA9J0lZ0oygTrTBMsm2wm95o2Nqnhimfy1DRpw8WwNuPQMuTxu1ZtaEBICCCCAAAIIIIBA4gQIQBJnzZUSLDDWU6DFf3pEFU8tV9O+o5I/oIB51a3ZqrKHnlf+3Cma9qWPJThXXA4BBBBAAAEEEEhvAQKQ9L7/KV36y7NH6/GrzlXxwnOC5Ww6cEzl/3xDQz5zRUu5L88d27LMAgIIIIAAAggggED8BegDEn9jrtBPAuM8hfpA8RS583KCL1dOllxZGS3r5xaN0QWZw/spd1wWAQQQQAABBBBITwFqQNLzvqdNqT+Ye7LG7K/XP6q2aePxSqm6XsN2VevKrNFaOHmG3C5X2lhQUAQQQAABBBBAIBkECECS4S6Qh/gJvPq2Lnhhsy4wV9jU4NYjW1z62qN+uWSG3z3NbLz6DIkgJH7+nBkBBBBAAAEEEIgSoAlWFAirKSRwxNR4vPBWS4EKm1zK8bpM8HGi1mOdCUI27mvZzwICCCCAAAIIIIBA/AUIQOJvzBX6S2DF9s6v3JVjOj8LRyCAAAIIIIAAAgh0UYAApItQHOZAgUMVEZnOcHtUlJUbsU0HyyPXWUMAAQQQQAABBBCIqwABSFx5OXm/CmR6Ii4/LK9InzzF9gYJS1HHhO1hEQEEEEAAAQQQQCAOAgQgcUDllEkiMGVE5xmZOrLzYzgCAQQQQAABBBBAoM8ECED6jJITJZ3AaWOkoryOs2XmBNFZEzvezx4EEEAAAQQQQACBPhcgAOlzUk6YNAKZJsD40HnSoIK2WcrNkm4wM6S3t6/t0WxBAAEEEEAAAQQQ6CMB5gHpI0hOk6QCgwul/1ggbT4gbT0o+QPS6MHSqaMlG6CQEEAAAQQQQAABBBIqwC+whHJzsX4RcJuKPtvXg/4e/cLPRRFAAAEEEEAAgXABmmCFa7CMAAIIIIAAAggggAACcRUgAIkrLydHAAEEEEAAAQQQQACBcAECkHANlhFAAAEEEEAAAQQQQCCuAgQgceXl5AgggAACCCCAAAIIIBAuQAASrsEyAggggAACCCCAAAIIxFWAACSuvJwcAQQQQAABBBBAAAEEwgUIQMI1WEYAAQQQQAABBBBAAIG4ChCAxJWXkyOAAAIIIIAAAggggEC4AAFIuAbLCCCAAAIIIIAAAgggEFcBApC48nJyBBBAAAEEEEAAAQQQCBcgAAnXYBkBBBBAAAEEEEAAAQTiKkAAEldeTo4AAggggAACCCCAAALhAgQg4RosI4AAAggggAACCCCAQFwFMuJ6dk6OAAII9FRg91HpcKWUZf6ZOnmYlJvV0zPxOQQQQAABBBBIIgECkCS6GWQFAQSMwP7j0j9XSIcqWjkyPNLpE6QFp0puKm5bYVhCAAEEEEDAeQIEIM67ZymV4/qATy817teSpoOqCTRphDtfl2aN0ozMwSlVTgrTRYEjpsbjocVSQ1PkB7w+aemW5u0LT4/cxxoCCCCAAAIIOEqAAMRRtyu1MnvYX6evV6/QPn9tS8G2+qq02AQjC7JG6j9zT5HL5WrZx0IaCCx5u23wEV7sNbukd02SSgaEb2UZAQQQQAABBBwkQFsGB92sVMvq/6tZExF8hJfvucZ9+meD+bGZDsnvlzbulZ5Y1fxav1vymW3plmwtx8Z9sUsdCEjr9sQ+hr0IIIAAAgggkNQCBCBJfXtSN3MbvMe1xWea28RI/2rcLb/9wZnK6bDp5/DTZ6W/LZVWbG9+PbJcuvdpad+xVC5527LZZlc2CAlLf3z79bC1E4s19W23sQUBBBBAAAEEHCNAAOKYW5VaGV3jLYsoUMDnk7/KNMUKCzgOmSZaB8KaZ0V8IBVW6hqlPyyRymvalqaqTvrTq5J9T5eUY0a5ys6MKO26MlMzFJ2K8qK3sI4AAggggAACDhKgD4iDblYqZdXGGfWb96j8H6+pcft+NR04Ll9NnTIHFylzxCDlzjxJxe8/X4HCVCp1VFlW75SqYzzNtwHKyh3SvGlRH0zRVY95HnLaGOnNbR0X0I6ANXNsx/vZgwACCCCAAAJJL0AAkvS3KDUzOD1joDIHFmrwlWe3FPDQr55Q6aevbF43P0ZLsvI13J3bsj/lFjZ10t/BFtj2iUiXAMSW97zJ0ub9UmUHNT/nmv0DqAGxVCQEEEAAAQScKkATLKfeOYfne4aKNL7CbWo8BrS83GaiuZb14gJduTNDHlcKf0WbIvs7rD6yS4/vWBN5Z5u8keupvmaDi4/NkyaPkBkCrbW0A0wgetlM6aJTWrexhAACCCCAAAKOFKAGxJG3zfmZdm3ar9sXS1+bJx1rp5Jj7j6X3r/CdNCeZX6A25mwUzENNUPJHizX0dyAnj7Jr+eP1qv6UI2OnOrT5dvcGlZjfoCXFqViyWOXqThfuuEcqcL0CTrwUnNAMmoQExDGVmMvAggggAACjhFI0V92jvFP34werdKYKpd+9pxHz04I6JUxftUUF2nmIZcu2e7SuXtccsvUENgfoUNSdM6HM07SsiM79f1z/Go0E31Xm8qPJtMf/ZEpAf1rkk//vcyt8+3s3+mabGfzQhOdjilJVwHKjQACCCCAQEoKEICk5G11QKGyzC9uk4obXFq0yb5MU6v8y6RXovKeqrUfppiHRubp+5dkqbG2bUf0JsNxz0WZGjemQKZbNgkBBBBAAAEEEEgZAQKQlLmVDivItFHSixsiht1tU4JRg6UUHnL16YY9OrrqbfnLqqTGJjVsPyjf8Wq57FC0WZlymbI/WTpZn81Lk1Gw2nwB2IAAAggggAACqShAAJKKd9UJZRpUIE0fLdlZv9tLtgPy+VPa25My2+xcKNknjVDltpWqf2tn8BUws6L7TDCSc+o4Fc6eqNVR86WkTOEpCAIIIIAAAgikrYBjApB1a9frtBmndnijnnvuRS1YML/D/exIQoGFc5prQN7aE5k52+zKjng0aXjk9hRbCyig7LGlGvLJy4Ml89qJGM1M4BlmeOJQMtOlkBBAAAEEEEAAgZQScEwA8sUv3KZr3rdQn/zUx5SdbWZMPpHKyo7pxz+6T2+8sZwAJITilPcM0w/k2rPMPBdTpbf2mpkJm6TBpmbETkYXNSO2U4rUnXxO8wzUVp9pfnUiZRSaTtdR6RQzXwoJAQQQQAABBBBIJQHT1dUZ6YYPvF+PPfq4PvGxz2r9etN3wKRnn3leH/3wp7T8zZX6yEdvckZByGVbgRIzypWdbO/SGZIZGSodgg+LcEX2GHkUNtdFlIzdc2UWXdCjWFhFAAEEEEAAAYcLOKYGxNZ8XDR/nu7+wU/0hf+8RRNPmqCtW7frlOlTdcutX9TYsfxQc/h3Me2yP8qTr8/nnqKf1r0lf1TpbfDx6dypmpiRokMQR5WXVQQQQAABBBBIHwHH1IDYW3KSCTref901cpvZsbds2abi4mLdett/EXykz/c15Up6cfZI3Vd4thZkjVSpO1dDXDm6KHO47imYq/eYGhISAggggAACCCCQagKOqQE5fOiwfvKT+7Vs6ZuaNGmi3vPeK/T73/3RNMn6nG68aZE+cOMiZWaa4UtJCDhMYIJngL6QN91huSa7CCCAAAIIIIBAzwQcE4B8+EOfks/n08c/8RHZ/iBut1sXzDtP9//sFyYQ+ZNeeOEl/fFPv+mZAp9CAAEEEEAAAQQQQACBhAg4JgAZP2Gcvvzl/9bYca3NUgoK8vWV22/RhRdeoHvMSFgkBBBwtsChQ4f0i1/8QllZWTrqr9fa7W/r03fdrmHuPGW7PBo1apQ+9KEPObuQ5B4BBBBAAIE0F3BMAHL/Az8O1nq0d7/OmnuGfvfQr9rbxTYEEHCQwNChQ7W/8rhe/OcTLbneuWZjcDl/yCD99ue/bNnOAgIIIIAAAgg4U8AxAcgzTz8fU9hOnH3Z5ZfEPIadCCCQ3AK7/TU6+uVLlLtns+pWbWnNrJkXpvDmK/TqlGyd3rqVJQQQQAABBBBwoIBjApC7f/iTdnldNvI4kQhAQhK895XALl+1tvgqlGHm65iZUaJid+skmH11Dc7TKvBw/XY1ZHs0/Jsf1J7PP6CmXYeCOwcumqfi95yt5xv36X3Z4zTaYyasJCGAAAIIIICAIwUcE4D8318figAO+AOqrKrSmtVr9cjfH9PtX7s1Yj8rCPRG4KCvVj+pfUtv+Y63nCZLbs3PGqFP5U5RlumP4OhUZmZgf3u/1OSTSoukycNl2jj2a5EaAz691tQccGSNLFHpl6/Tga/+TrkzT9LQzy9sydtLjQf0odyTW9ZZQAABBBBAAAFnCTgmABk2rLSN7HAN0+TJJ2v0mFH63W/+oFn339PmGDaklkAgENBqb5neMbUSdhbxMzKHaJynsE8LWe5v0Jerl+tooCHivI1musCnG/fqmNn/jYLZEfscs9LolR5bIW3aJxnLljQgV7r6DGn80JZNiV6oDXhljUOp4KypGvqla1Vw3nS5woKjykBj6BDeEUAAAQQQQMCBAo4JQGLZTpp0st7ZsjXWIexLAYHtvkr9oGat9vprW0rz+/otmpUxWLflnaYBfdQ86p8Nu9oEHy0XNAvLvEf0lveYpmcMCt/sjOWHl0pbDrbNa2Wd9L+vS5+4sLlGpO0Rcd9S4MpUngkra2VqZU6kosvPDC22vA9x57Qss4AAAggggAACzhPo3zYXfeT19FPPKi83r4/OxmmSUeCIv05frV4REXyE8mlrRL5Rs1L+8Cf6oZ09eH+x0TRN6iR15ZhOTpH43XvL2g8+QjlpMrUjr24OrSX8PcPl1oWmiVusZGu95ptZ40kIIIAAAggg4FwBx9SAvP99Nyq8w3mIvLa2TrW1tWY29OtDm3hPQQFbK1EVaOqwZFtM7chyUzMxN7P3TYiORzW9Ov7IEuVMHaPcaWNbrl/ud2AzoLf2tuS/w4WN5pirzDhTnv55NrEoZ4KWNR3usAbquuwJKqEGpMPbxw4EEEAAAQScIOCYAGT2nFkmAIkktQFJbm6uTjttuuZdeH7kTtZSSmBxYzvNhqJK+IrpnNwXAUiJK0eHA/XBs1c8u0KHf/qYMocWa9SPP6Os0UOC2we7s6Ou7oDV+rZB0y/W/1ufPfWi1sz7TB8MWxPiyWrdlsClwSa4+GHhWXqwdlMwoAz1CBli7sn7csbrPdljEpgbLoUAAggggAAC8RBwTABy+1dviUf5OadDBKpP1H54j1ep8qnlql27Xe68bOWfMVmFF8+WOytToWN6W6SLs0fqz/XbVL1skw7f83cFquvUaF77v/Y7jbrvs8oYWKgFWaN6e5nEf35Q26Frt1cejcxHgelfYebc6M9U6s7VHaaTv50Jfa+vxsyA7tZkT7Hc0U8g+jOTXBsBBBBAAAEEeiyQ1AHIqpVrulWw2XNmdut4DnaOwDB/tt782Z9Vv3G3XDlZ8h01o2ANKlTFM2+q4sllGnDxHA1f1DfN8N6TNVb/WveGtn3nf+Urq2xBqt+wU/tv/61ufOBbmpRhhq51Wpo1Tnp5k+QP1Su0U4DZ49WmqrGdwxKxyTa1orlVIqS5BgIIIIAAAokVSOoA5Ev//ZVgvw879KpNtslVaDnEFNpm3//98tOhzbynmMBl+eO06/NXS1VmtKbaRh3+zdMauPCcYNMo5ZvmUObJ/aXZfVMrkdHgVd33/6HczCy5xg6Vv75JLlMrYJ/A5xyu0pH/9xfpHjNkrdNSoRlq993TpefWtZ/zoSaoOof5NdrHYSsCCCCAAAII9JVAUgcgX7n9S/J4PCoZUqKDBw4pI6N5ua8Kz3mcI3CJe5iW7FilDbmRc3PI9lkwQ8guPFygCbMH9EmBbL+if/7j0eC5bDOgO7/9LS363Cd05pBxynH6BITnTJIKTTOrJWa0q8MVzV5Z5p+BGaaD/UWnSKZ2iYQAAggggAACCMRTIKkDkHt/8oA+/ZmP64J55+m/v/hlff+HdwU7nMcThHMnp0DWqt369nNN+tN0l14YH9DhE9kcVm0GbXrHrfdsPS6NKJeGFfdpAWwTINsn4dTMQc4PPkIyp5qO3PZ1zOAdXSLdcqVkgxASAggggAACCCCQAIGk/tUxadJE/fS+nwdftunVV267o2MSM0LWv1+iCVbHQA7fs2qHcnwufWKtRx9cH9A3d7r0/pc8muW3M0OcGB5t5Q7pilkOL2gCs287peeaGg+CjwSicykEEEAAAQQQSOoA5Gtfv03//vcrqqur1x8e+rPmv/tCjRwZe6IybmmKChyraSlYtt+l07JKNL4uw/TNCBub2T7RJyGAAAIIIIAAAggktUBSByBDS4fq+hveHwRcu3ad3nftVZoyxbRhJ6WfQI4ZGtbOT3Ei3TDprNBi67t9mk/qVKDc36BnG/fqdTPh36qmQ/pBzVpdnj1ap2YM6vSzHIAAAggggAACCPRWIKkDkPDC3Xvf3eGrLKebwKmjpdffiV1qewwppsBWb6XuqFmhyhPzqlQHvFrcdDD4ujp7rD6ROyXm59mJAAIIIIAAAgj0VsAxAUhvC8rnHS4wd6K0ZpcZgjdqFKxQsUaap/eThofWeG9HoCng16fu/44OvbJKLjO6nE2+imrt+sSPzVJA92Vnafh99+iKksnBffyBAAIIIIAAAgjEQ8Adj5NyTgT6XGBAnvTh86WSwrannjhMuuncpJlAr20Gk2PLq6amI/cj81V89bnyHilX3eqtatx+UHVv7VDmiBKN+N7H9Hz2seTILLlAAAEEEEAAgZQVoAYkZW9tChas1EyUd/MCaYcZhHefGXbXbTqgn2yCDzuBHqlTgXXe5uCi+L1nK/+sKTp099/UYAKQkk9cqqLLm/vUbPFVqt40y8px8U9Dp6AcgAACCCCAAAI9EuBXRo/Y+FC/CZjZyDWhtPnVb5lw/oUzSwdq5N2fkr+uQZ48MzEhCQEEEEAAAQQQSJAATbASBM1lEOhvgehRrlwmmIsOPk72DKD2o79vFNdHAAEEEEAgxQUIQFL8BlM8BEIC52aWarArO7Ta7vt7zUhYJAQQQAABBBBAIJ4CBCDx1OXcCCSRQJbLozvyZ6nQZeZUaSddZYKPi7KY6LMdGjYhgAACCCCAQB8K0AekDzE5FQLJLnByRpF+WfguPROciPCQGgI+jfcU6orsMUxEmOw3j/whgEDaC+zyVeuAv1b5ZqCQUzwDzVgspl8kCQEHChCAOPCmkeUECTSamdfX7Za2m1G3nl8vzTpZskP+Ovwf/GJ3tq7POSn4SpAkl0Gg1wL1Jlhe2XRENWaUtpGefJ2SMbDX5+QECDhFYIu3Qr+q26RNvoqWLA9x5egD5t/yBdmjWraxgIBTBAhAnHKnyGdiBbYckB55U6pvlI5USqt3SBtNIGKH/L3xXVKRmZeEhAACCRH4W/12PdKwQ9Um+AilMe583Zw3TdMzzCSkJARSWGC7GR799uo3VSdfRCmPBOp1X90G1Zvt9N+LoGHFAQL0AXHATSKLCRY4ZJ4w/XVpc/ARfenDZt8fl5gpxP3Re1hHAIE4CPypbqseqt8SEXzYy+z21+iO6pV6xzwZJiGQygK/r9vSJvgIL+8f7P6w4Dx8H8sIJKsAAUiy3hny1X8Cb7wjeSOfNEVk5miV9Pb+iE2sIIBA3wtU+BuDNR8dnblRfv2pfmtHu9mOgOMFjvkbtNp7NGY5bM3Iq42HYh7DTgSSTYAAJNnuCPnpf4FNXQguNu3r/3ySAwRSXGBx00HZICNWsj/Oys2PNBICqShQ5q9v8zeg4unlCgQCEcUtM82xSAg4SYAAxEl3i7wmRqApsvbj2pPmKD8jav6MqGMSkzGugkB6CUQHFk2Hj+vIz/8V8ePLhiflAdNXi4RACgoMNIOGhKfG/Ud1+N5HVf7oq+GbVezKilhnBYFkFyAASfY7RP4SL1BqOpqHpWmDRirLEzVeQ9QxYYeziAACfSRQ4s5pOVPTkQrtu/VBlf3mGR36wV9bghD7n9jATibYbDkJCwg4TMD+HZgRNtBC2YNPyXe0QuUPL5GvoTnwzpZb52aaERpJCDhIgADEQTeLrCZI4IwJsS/kNn9tZo+LfQx7EUCg1wLnZw2T/XHlPVoZDD7q39oVPGf5w4t16O6Hg0HI3MyhKnLz9LfX2JwgaQU+lHOysszfg7r1O1T57zXBfDa8s1fHHno+uLwoZ4IK3O1PMJu0hSJjaS9AAJL2XwEA2gjMHCtNHtFmc8uGS06TivNbVllAAIH4COS7MnVV7RDtvfVXqjc/vsJT+d9e1vF7/qEbsyeGb2YZgZQTmJJRrG8VzFHNb59XoKa1r0fV40u1qG6oFpm5QEgIOE0gql2J07JPfhGIg4Ct4Vg0V1q+TXpzu1RmRr2yafxQ6RwzGeHJw5vX+RMBBOIukL1ks848ZYa2TBkfHIq0ftNu5Uwdo8Gm2dUkb778u49IEwrjng8ugEB/Cux/Ybkq3tgQkYXG/WXa9svHpG/NitjOCgJOECAAccJdIo+JF7BByFwTbNiXnYzQY9Yz4/zXxT7ZKq+VckxV+mB+UCX+pnPFZBRYtGiR7MtvRv3Z4Duue758p+76zvc02lOQjNklTwj0uYDf79dvf/tbNTU1tTn3k08+qZtuukknn2z+ryIh4CCBOP+icpAEWUWgI4GcOLcvL6+Rnl/fPLdIaILD4QOlC6ZIU0Z2lCu2I5BWAm6XS6eazrhDTKdcgo+0uvVpX9iVK1cqLy9P8+bNC1ocOnRIpaWlLS4vvPACAUiLBgtOESAAccqdIp+pKWCDj9+8LFXVRZbvwPHm2dgXzpFmjovcxxoCCCCAQNoInHHGGfr973/fUt5bbrlFP/rRj1rWWUDAiQKmXQkJAQT6TeDfpk1vdPARyoydaOqZdVKTN7SFdwQQQAABBBBAwPECBCCOv4UUwLECtm/Jxn2xs2+P2bA39jHsRaCfBXb6qrS2qUz7fKZGj4QAAggggEAnAjTB6gSI3QjETaDSNLvyRs66/u+9G3XRqGmRlzzGj7pIENaSRWBV01E9VP+OtpoAJJSmeYr1sdxJmpph+jGREEAAAQQQaEeAGpB2UNiEgMyoI7L9MPYdkxrj1AQqt23n9qd2mc7o0SnXjIpFQiDJBJY1HdadNSsjgg+bxY2+cn21eoU2eM3fHxICCCCAAALtCFAD0g4Km9JYwPa7eP0dadlWydZQ2JRtAoAZY6R3nypl9eFfmcJcadwQaaeZx6CjZIcDPmVUR3vZjkC/CNghcR+se1smTG83NZo9/2P231t4drv72YgAAgggkN4C1ICk9/2n9NECT6wKDom7NqdGvznNp/+Z6dPioQ3yvmkCkj8s6fsO4fNMcysbZHSUTh8vDcjraC/bEegXgXXeYzrojxq5LSonW3yV2hHWNCtqN6sIIIAAAmks0IePc9NYkaKnhoBpbnV043bddbFPWyOarwc0yPzW+urrRzV19U7pzIl9V15bA3LdWdITq6VqMxFhKNmJD0+fIF1yWmgL7wgkjcDhqOAjYPoyHX94sQZeP08uM19HKNnjxnuYVDPkwTsCCCCAQLMAAQjfBAROCDSt3q6vXeDT3gFtSY6Z1lLfON+nn63epmF9GYDYS9nJBk8eLm3eL21/VrpiljTVbCvIaZsRtiCQBAJF7tb+Szb42P+Nh1T17Ao17DigYbff0BKEDHDRfykJbhdZQAABBJJOgAAk6W4JGeovgVc9xyKCD19tg+q37FX+jJOCWao1v6X+NbhSn4pHBm2NxzTT12NokXRG8/XicRnO2U0BOwjBUtP8bvshyXQP0tgSUwNm7s/4od08UWodPjujREUmuCj3NrQEH7aEFY+8av50mSDkeo3y5GuKGRGLhAACCCCAQLQAAUi0COtpK/BaaZPqzRNcX01zUyifmaW86lUzKpUNDkxymb4aSyaOj08AkrbqSVzwldubm8bZgQlCadM+yb7mT5fOmxLamnbvmS63bsgcrztu/0qw5iMcoOKRJSYEkb5y1/daakLC9/do2TwM0Mod0lt7zDBbe01/rMXSHNNEceqI2H2oenQxPoQAAgggEG8BApB4C3N+xwjUDcmXpzZftuaj6UCZvEfKlTWqRI27jyhr+EBlDBuk2qLWpieOKRgZ7b7A0UrpyTWm1iMs+Ag/y4tvNdeGjDE1ImmaMhdv1kTPAO26Yq68Ab8adx1S1thSZbk8GleTqcxVO6WzTdPC3iZ7L+wAEKFR6RrN3DnbDze/JpsA5Lq5LQ8JenspPo8AAgggkBgBApDEOHMVBwiMHjRUa+qPKHOQ6QRyyri2OXa7NLYofX9wtgVJ4S0rzNN2OxdMrLR8m5TGAcill14q+2oI+LS86Yge+Mq39YXv36kzMocow9SQ9Fn627LW4CP6pLbf1KubpQumRu9hHQEEEEAgiQX68H+JJC4lWUOgCwKX5Zi5PgYXNM/7EX18hsfsK9Sl+eOi97CeigJ7yjov1V7TP4SkbFPjcV7WMI02fT7Ozirt2+Bjh6npOFwRW3mFaSrn6yRYjH0G9iKAAAIIJFiAACTB4FwueQXGegp0Q+7JzUHIUFMLMiC3+WWDErN+Zu4wzc8yTT5IqS9gars6TV04pNNzcEBsgV1H2+xvw15lxsg+Vt3mODYggAACCCSvAE2wkvfekLN+ELgpd6IZvSdP/2jYczLOMwAAQABJREFUqW0ZVcEcDHHl6Irs0bo6e5w8fdm0pB/KxyW7KDBxmNRZLYg9hhRfgbA5RUIXumvuNaHF1vc2UUnrLpYQQAABBJJPgAAk+e4JOepngXmmlsO+yv1mBnQz9uogV7bc7fwQ6udscvl4CswZL73+jtTQ1P5V7MhodjheUnwFJpjhjl/aEHGNbE/Uf1vF+cHmkREHsYIAAgggkNQCNMFK6ttD5vpToNidrRJ3DsFHf96E/rq2nQTy+rM77g90rZm9fohppkeKr8DowdIo84qVzjKBIA8IYgmxDwEEEEg6gahHSUmXPzKEAAII9I+AnWzwC5dKq3dK2w61TkRoa0cKTf8gUmIE3m+CPTsMb1lzk8iIi84cK801/bZISSuw3ntMS5sOq96MljbOU6iLsoYr30xiSUIAgfQWIABJ7/tP6RFAIJZAXrb0rsnNr1jHJes+r5kzw47WZUeJKi2SbM2O01JRnvSZ+dK63WYiwr3NzeIGmYEhbCCY5jPSJ/OtrPQ36js1q7XBVx6Rzd/XvaMv5J2i800gQkIAgfQVIABJ33tPyRFAIAECW72VeqZxjw74a5XnytAFmcN1dubQ+A5oYCdQXPK2tGyrVNPQXErbb2XqSOmyGVK+wwKRTPNflZ353L5IjhC4ywQfG6OCD5vxevl0d+06DTJNXKdnDHJEWcgkAgj0vQABSN+bckYEuixw/Phxbd5sJlI7kQ4ePKilS5eGVjVkyBCddBKdnVtAHLbwq9pN+lejeXIfll43zVEmmqYo38o/XcXurLA9fbj4xCpppZlMMTzZWpC39kgHzRPpj18o5cbp2uHXZDktBdaZZlftBR8hDDtry9/rd2h6AQFIyIR3BNJNgAAk3e445U0qgYaGBt1+++3avbv1R+obb7wRzGNmZqbuvPNOApCkumNdz8zjDbvbBB+hT2/1VZmnwGv13YIzQpv67t0GGNHBR/jZj5q+FLZmZN608K0sI9BnAq83mj5TnaSV3qNqMP1C7ESWJAQQSD8Bd/oVmRIjkDwCw4YN05zbPiJXO01iSheep0sXtTPnQfJkPzlyUtcovWGGzP3jEumhxdKLb0kVtf2aN79pAvWYmUsmVlpjnhJv91XGOqRn+2yn+c5SV47p7BzsR6ADAdvMKpSajlbo4Pf/ot03/0yVL5qauRPJ1oI0BuyfJAQQSEcBakDS8a5T5qQRsE/JN509TIOun6ey3zzTkq/c2ROV96WF+l7NWv2w8MyW7SxECewtk/78mmSDkFDacbh5Do+Fp0unjQltTej7Xn+NDvrNDN2dpBVNRzXB08fD+UYFXw2+Jr2yb7MWjJnemht7jO0n0tvha6vrpaVbpLWmBm/tLunep6VZ45rnSKGJV6t3mi2NcxfIW1mjsl8/rcrnV8l3uLkjeu2bm1V+1usadMOFGv+uOSowfaJICCCQngLUgKTnfafUSSAQMD8A/3niKXnJZ65U/nmnBnOVMXywhn31A3JnZZoRZI7rHW9FEuQ2CbNQb4KO6OAjlE3b3+GxFdL+46EtCX33mwksw1PjwTLt+tiPVPlC6xNgu9+rODwBzjcjd4WlRp9Xrx80Ta7Ckz2mt8HH8WrpwRelV00fpioTbNkil9c0Txz465ckG5yQ0lJgftZINby2UZ7iAg287nyV/Md7lTNjgko+e6XyzMOVuvU7dH5DkfkKutLSh0IjgIDE4we+BQj0k8B+MyrSgRNPyV1ut4bfcaN2f+6nGvyRBcoeP6wlV7at9KQMM4QqKVJgjXniHl7zEblX8psf97avw9Vx6GcRfa2o9RHuPBWap7tVAa+ajlRo/22/Vv2GXWrcc1iuDI8K55mRqEya4imO+mQfrNpan1h9QOwlZozt/YVsgFfZQS2PnbPjqTXSdXN7fx3O4DiBQrfpv/a+j+nHtetbQuzGnYdV8tFLg2WZZr73NxY0P3BxXOHIMAII9IkAAUifMHISBLov4It6Sp4xeIDGPPhFZRSZOQ7CUvTT9LBd6b24NbKjq61Rsn0vPCaYa0lbD7YsJnIhy3SsXZA1Sn/dv077bn0wGHzY6/uOVevg9/4vGIRMPv9MzcroZJbvnmR67BBp8ghp8/72P23nApk7sf19Xd162NTK7Toa++i3zfUrTVOvAWYeD1LaCVyYNUKD3TnB0a5WmYcoNpW4snVp9mhdkz2Ozudp942gwAhECoT9Tx25gzUEEIivwHDzlLzYFTkUanTwYXMQl6fk8S1aYs5uazjC0oHact237oWwLWbRH9kUKnJnfNeuqC/RsVt+o3rT3CQ8+Y5W6tB3/qz5K2vi1wTFzh4+e7xMNBZ+aWmUCXg+cn7vg4J2mrblZkTNbm3vz0GaD0begPRaO83M8/Htgjn6e8GFusBTqt8NuEA35JxE8JFeXwNKi0C7AtSAtMvCRgTiL5DpcutS85T8Lw3bO7zYSBOkzI7HU/IOr+igHfbH9HbT4fxEsn2qff7W0XeCm0f14zwDjV7d+anPa533uFabJ8Cb//S0Rt+4QNMyinVGxhBNGzIqlPW+fzfNvPTeOdJFp5jO4aYZWrnpe/Lp+dLwgX1zrejAxpz122dd3fbc7RzX9iC2pKzAblPz8do7ytlyUFnr98r902ek0ydIZ5kaOPsdJXVPwAb+q8wDDfvv3t+WSqeONrWdZkb58Frf7p2RoxHoNwECkH6j58IISItyJmizr8L8QDWjOUWlIlembs+fGb+n5FHXc9zqHPOE/zXTAdp2OO8o2R86CUwrmo7o6YY92m1GwcrJ8+jcC6foc1mjgxMO3vbGfv3wmi8lMDfmUra51WljpedNH6K+Cj5sCSYMba5diWWfY2r3xpggkZSeAhv2So8sb+6LFRI4bgYpeH69ZJtP3vgugpCQS1fen1otLd/WfKQd9GGj8bWvEeahwk3nSnmRg0905ZQcg0B/CkTVz/dnVrg2AuknYPsKfDN/tr6Qe4ppalUU7Lhc6s7Vddnj9bPCczTezJhN6kCgyPQtuMoMtWue/jW5A9o6MKAjZlNNpqkKsencydLE1s78zRvj86ftf3Jv7Vu6s2aVlnqPyA4wsN1MNviH+q26ueo17TDLKZXsvDUzTWATK515kpSZEesI9qWqgB2h7p8rIoOP8LLaobLfMMM3k7omYIe6DgUf0Z+wtSL/eDN6K+sIJL0A/zsk/S0ig6kukGGaYi3IHhV8pXpZ+7p8/umj9Zch5XqiaruOHvDreJVfW6/z6KKcEfrYqKky8UhC0pONe/R84752r1UeaNRdNas12LYRS6V02Uwz1G5D+53d7Shb86amUmkpS3cE7LwwpglizGRHarMPCRiKNyZTcL6epaYZZaxkB9uwA0MMNTWdJAQcIkAA4pAbRTYRQKCtwE/MMJ//zjkg5eSaSTXMhH7myXzDkHw9rQptrX5T3y84Uzmmline6fEGMyRwjHTIDLfs99fHOMKBu2wb/hvOMaNhHWmeiNDO+zHA3IdZ46SR/dj3xoGUKZflQ+bHcFQqzo56HGDnjKlvkpiwMkoqavVIZfP8OlGb26yafjYEIG1U2JDEAgQgSXxzyBoCCHQssNF07n7s6Sfls0O9muSrqFHD5r06/o9Xg+vLzZ/P3jBcC3PHBdfj9cdxf4P2miZX4clr8uIpzJWd3yWUjgdMbUEqJjvsr32REAgJZLR+70Obvnr6laHF5ndb89HOcZEHsdbeSH5fnLGgLUw/jvjXNjNsQaBzAQKQzo04AgEEklDg2ca9yhpXquN/eVnVS9bLDm9rU+367So4e5qKr36XXvDu10KNC26P1x/mZ1QwBbw+VTy9XNUvr1Pd6q3KGDZQ+WdNVdH7zlX2KH6gx8s/oee1s7/vbJ7TQmNLpEEFCb28Yy42xcxD01GfhVAhTiqlj1DIItb7YPMdswM62H41J9KoAtPxPDr154h/0XlhHYEuCBCAdAGJQxBAIPkEbLOmnIkjNfzrN8p7rErH/vyifGZ0mEHXz1P2BDM0pUmHfB3M1N2HxSl2Z2tYVUCr7v6jAqbdu9uMRpM5qkRZY0vlPVKuIz9+RAMuP1MTzSRsJIcK1Jraq3+ulN4xzf1CfXnsE/yTzSAHC+cEm/45tGTxyfYEE1zYZnj7jrV/fmv3rknt72NrpIAdyGGW6VMVq9P+ENP8dLwZmY6EgIMECEAcdLPIKgIItAoMCJvEMWNQoYZ+/qrWnSeWBrijJsdrc0TfbLh26Ck6+O2PNJ/M/EDdf+dDGvGtD7d0sLXzuRQt+1ffXIyzJFbA1GzpD0vMpIrlkde1gYgNSOy+T1zI0/xIHekDpn/Q/77eNgixfYfeM5sfzNFesdbtfD77zGhXdl6V6JRvHmxce1b0VtYRSHoBApCkv0VkEAEE2hO4KGuEXmsy8wnESBeaYxKRLssere2NFXqq3IxWU2OelteZzrUHzA/WnEwNzi/U10tm6X7X44nICtfoa4H1e9oGH+HXsB2u15lRn+ZMCN/Ksh2q2QZmdtK8TWaEuCYTyJWaUZrs8M3MWdG974etBfnQedLqnZIdPeyYaQpoO++bUQB11klm8IeoDv7dOztHI9AvAgQg/cLORRFAoLcCZ5rZxKeauVM2mYkc20slpsnTFWYSwIQk0/Tq5r8e0bmNjXrG/A593DTXnmLmljx3j0/v3l2lwqvaz2NC8sZFeiewdlfnn7fDzhKAtHWyTa1sXw/7IvVOwNYcnWGCDfsiIZACAgQgKXATKQIC6SjgNj9uvlUwJzgB4NKmwwqfD32yCUxuyTvVzECeoH4Xr26W9pZphtyaYR74Htnv0o9eDP3zaprqPGb6D8SaNTwdb6BTymxrtMLSW2V7Vefz6oyh41q3Rh3TuoMlBBBAAIH2BEL/Q7a3j20IIIBAUgvkuzL1tfxZOuir1Urv0WAQYoOPSRkJnJDLb0KfVaZZRKxkR7A5buY9IDlPoMg0b7FzMZxIB2oqVNPUEBmA2PlPSAgggAACXRYgAOkyFQcigECyCgzz5OkKz5j+yZ6dgM++wtLgnPzmNTs2v+28bPuDlJl28Pc+bdptj5LOpN12GFdyL84aJ9mZpmOl2eYYEgIIIIBAlwUIQLpMxYEIIIBAOwK2g2hUun3Olc1NrmwHZjvjs022jZhdts21bGfSD53f3CnX7uvj9Oqrr6qiornfSV1dnbZv364nn3yy5Srz589XTo7pJEzqXGCqGchgghni1Hambi+NGyJNM0ElCQEEEECgywJt/+fs8kc5EAEEEEAgOBqN/RG680gkxi4zZGYo+LB7csL+ubV9Bh5eKt28oGWo3sgP927ttdde04MPPhhxErvNpjPPPFOXXHJJxD5WYgjY2exvOEd6fr20JqxDug087YhOC06VPOYYEgIIIIBAlwXC/kfs8mc4EAEEEEAgXODcyZINOEKT1Nl+IbbZVSgVmyZZNVH/3B6tan6qHocRgj77pS/o8XVLdWDpulAOgu/ZQwfqo3fcooyMqLxEHMVKGwEbbFw+S5o/3QSOZojlmlrpw5c3z1Dd5mA2IIAAAgh0JsBjm86E2I9AqgvY/guvbJIefFH6+fPSo29Ke8wYsqSuC0w0M2LbydXsUJk21ZpO503e5mXbifmUUeYheTv/3O7tYKbo5k/26M+ACYK+W7dOObdepYzSga3ncLtU9OF36zcjy3XAdNon9UAg20xsWVrc3HQux8zDQEIAAQQQ6JEAj8F6xMaHEEgRATN0rP5smubUmR/MoXTY9B2wcx+cP1WyM/CSuiYwe7yZ/GNEczMd22nZ1oAMGSAVmwDEpO+cdU3b85igoK/TGm+Z3vIdV/a4YRr88Ut16Ad/DfZHKZw/SwMXzVN1wKvHGnbqs3nT+vrSnA8BBBBAAIEuCbTzSK5Ln+MgBBBwuoB9Qv9/r0cGH+FlWmxqRewMxqSuC9gZns+ZJH3QzFpsR7o6EXzYE7RbAzKxtOvn7uKRrzSZ4OdEGvi+81S4YI6yJgxX6Veul8tODGfSK00HThzBGwIIIIAAAokXIABJvDlXRCA5BOwITZ1NoLZsa3Lk1Wm5sD/0554cO9fjzchKw8OaSMU+ust7qwOmj0JYKr3tOpV+eZEyigtattpaENtUi4RAuguU+xu021etmqi/N+nuQvkRiLcATbDiLcz5EUhWgehRm9rLp+1YbTtUt9d/ob3j2dYqcNZEM/eH6Wi+fFvrttDSMNOP4NozQ2t9+j7MHTkpXsaAfGWcbmplwpI9JlQbEraZRQTSRmCT97j+t36bVpsmizYUz5RL78ocpg/mTJSdV4iEAALxFSAAia8vZ0fA2QI8Je/d/bMjJ80cJ63cLh2rMaMmmU7M00dLdm6JOAV1l2aN1qMNu2Lm+5Is5q2ICcTOlBZY3XRU36pZpaZg6NFcVLv8smmauNp7VHcXnKWRHjNyHQkBBOImQAASN1pOjECSC4wtkdbtjp3JMeaYOP1Qjn3hFNo7wjSzGjEnYQUaZX44XZs9Xn9v2NHuNSd6BujK7DHt7mNjxwJH/fWq8DemVFMdv3nA0CCfcuRJmxoxW+af1m6ICD7C73qFaYr167rNurPAjGpHQgCBuAkQgMSNlhMjkOQCp5ofoS9uMEPGmknxOkpzTTMikuMEPpo7SaWmmdU/TBBywF8XzH+u+ZE5P2uEPmz25br4p7+rN/Vtb7n+WL9Fa73Hgs/Lq2vf0tj6TM3wVWm8p7Crp0mq4/b5avTw4Q1aXL8/GIAUKUsXDxinawZOVpE7tYcXXmVqOA4HzNDjMdIK7xHZgLPEnRPjKHYhgEBvBPhfqDd6fBYBJwtkmb/+doZnOwxvfdgwvKEy2cn1ptFUJ8ThtPfLs0frMtPUare/Rk0Bv2lSkkfg0c2buM4EHXdWr1SjTD+oE8n2F9hugo9bq5bp+wVnamKGGWo5wana36QXm/YF85FlAstzModqZsbgLtVivFN/TF/f/bJqvK1/5ytMfcDf6zbojeO79cMJ71ax24zmlqJpn/n7EJ4Cpo9b1ctrNeAi01zyRLJ3+4C/lgAkBMI7AnEQIACJAyqnRMAxAqMHSzdfLK3YLm02Q7N6fZLtIH3GBGnsEMcUg4y2L2A7mo/1tI5+1f5RXdtqRwt6omGPFpt28jVmFK2R7jxdaoKcC0zHXY8rNQdUfKB2Y0TwES5VZ5ou/apuk+4uPCt8c9yXFzce0L2mFqYhLCh6qnGPTjZN6+7Mn62BnQQPP975qmpMU7L20r7GKv166xu6ZdK89nanxLY80908lAI+vw588w+qfH6VGj66X0M+fUVol/LEz6MWDBYQiIMAf8PigMopEXCUQKEZNelCM+GgfZEQaEdglxmm9GvVb+p4oPWHa7mvURtqy/VyxgHdkT9LmSkWhLxlaj/2Rj0tj6bZ6CsPDuE6po+CvOjzR69vNCM33V27Liz0aD1ii69S3zQdq+8tmNthTci68v3aY57sx0qv+g7rk956FWWkZvOjuaa2KKvOrQZvk/Z//feqen5lkKPst88o4PVq6M0LNcoE1xMc2rwu1r1lHwLJJEAAkkx3g7wggAACSSZg5wv5Xs2aiOAjPIsrTZv6v5jhTD+Ye3L4Zscv7/e1/lAvf2KpAmbizsZdh+QzzRUDDU3yNzbPt/KXvP269bqPdPijvy8h/l6/o93gI3SNrSYIscPKzs40g0e0k3Yc2KvqVVtUs/IdmYlggnPB2HK5Ms0gtHaOSrdLRRefrj3Fh1Q0fGw7Z3D+pkJ3pi5zDdMDX/mmql9a01ogU/t77PfPBe/zLbffmZD72XpxlhBIPwECkPS755QYAQQQ6LKA7Xy9p5OagGca9+r6nJNSqhakwNXaVKd+w06V/21xhFnVv5YG13ddf41ci5pnmI84oI9XvKYfz5umc3Rn6fWmQx0GIFleKX/GScFX6Dz1uw4qZ+ywE6umh4uJRLK8tqdL6qahL2/XuIJB2vOes00hzUhgOw4qe7xpSmjmAhlXJg3ebP44bWTqAlAyBJJAgAAkCW4CWUAgZQVMG2tt2idtPWgmNDQ/akYNkmaYJ6vZrT/uUrbsKVKwDb7jbUrirapVRmHrZG3lpmnWftO0p6/6m7S5YD9smGNqEQrNaGFVpr+L/utKyT4tP1IZkROXme1+7G0fCNYkxHtiR6+p+2jtCm9+Njf5tP/Oh1Rw3nQVXdY6qWVDwPTj6iCdOWCkMqq2yxfWZSd3woiIo4fWujTR/BhP5XTVwoWyrzIz0tXixoP641e/p09+7+u6IGu48hghLpVvPWVLIoGwf4aSKFdkBQEEnC9w1PxYu/9Z6e/LpDVmYjw758hT5kfcj5+StpgO7yRHCLjNU+HwdPzvi7X7I3erYdfh8M3Bp8cRGxy+ku3ymPlUJqjWBCCVew9Jda39X4JFm1CqId+4Sa8EDmuFaYYW75RjfhiHZrkPmOZC+77+O1U9u0KH7n5YFeY9lGINDTx47EhddNT0+YqRrqkbInd+avb/iC72YDPM7tU543SS6cB/mRlQgeAjWoh1BOInQAASP1vOjED6Cph25frjq9LxyCEvgyCm/bz+apqvRD1NTl+s5C75bDO8ayhVL1mvIz9/XI07D+nAHb+Xt6L5/to5R0aYjruplq7NGR/skBz482KpOmzuiJwMDbzt/RpU2jxS3NNmdLBEpMvNLPd25Kb9xr76hVXBS/rNPTj8w7+ZkZxWmtk83Lq4k1nuPzf5XJ1zsG3jB7epoLxud67eM/ucRBSFayCAQJoLEICk+ReA4iMQFwFb21HR2om3zTXscL/LtrbZzIbkE5icUaypniLVbdqtg+aHrv3Ba5PtF3HAPIW3TYEWZo8x/Zcja0qSryQ9y5HnQLncizdFfNidlaXBk01TwhOps9GyQsf19v3yjJGqv/P/VPVc88hNofP5yqt16Ad/1TmvHpHtZB0rZQ0frK/NvFQ/2T9GC7d5dNFOl67flqX/KZuiD19wmekkkh61H7GM2NdzgRozk/wWb4X2mJHzSAjEEmj7GCTW0exDAAEEOhOwgcdSE1zYmo5YfT3e3i9dObuzs7E/CQQ+/v/Z+w7wOKqz66PeZdmSi1zl3nvFNrbB9A4JoSa0hHwJCen5+RICKbQUAmnkC4TQAiH03sHGvRdc5d4tW5as3sv/nh3NanZ2tkha1X3f51nNzJ07d+49M7u6576tuA8+/vVdqDkmzrkWKV2xHZEPvI5LH77AUtq1dg8//T5q8z0nU3VFZch/5mP0+u4VrsG2VWb56rIK3DzrPHwxYzq2im/O4beXIk38PwZFp7gczyfF9woO/B7JGHHObIyQSFign1Z0VHDXaS1FwAcCzBP0dMVufC55aszEnQMjk3BN/BAsiPX0M/LRhBaHGQJKQMLsgetwFYFWQ+CQ2MF/tg04IJF6NovPx2khIj2SgCEyKUp2WFWtsbrUtlqvOkbD1PjsF5+JKtlmpAC9u3WMfgXZi02fr8Ql0+bi2JQyMDxt3s796DtqGAZGJSGpJgL79+/H0KFDg2zNsxpXSt+sPIiV1SdBB+osyalxkWhUFsRktrtWJScnB3mLNnp2uOGoWEyg0m89H1FJCThTkjG2haSmpuJrN97ovtWPdv4U991yLxKiY91lTdqh1krJhwGZhFcGF0Xo65Mmv1sjMoEoNRIhOPskvHOeEIx0SXI5RPxl7FIkiS1/WrIGR5ljhr91/Mi7dSi2RPLWbEG+XHuVmDOqKAJWBJSAWNHQfUVAEWgeAvvESfeFFcY/HrZAwkH/D64cF5YDkwYCTHholT6daxJu7XqT9pftBFbsBsoqGy9jBnpqfzoJEbnuuusa+y57P/3pT/G7h37nUdacg43Vp/Cb0o0eWb131BZih0xa1sbk4ieJE9qVhHz00UcYM2IksocWulZ1a/KKEJ3eMAET7UHJ519gyMXzcH4Av4vmYBPMNdESICBWnOVVWoAAtUA5BcDD7wH0XTOFv1cXTgTG9DdLwm67qToPT1ZkCwEpdo+dCRpvjR+ByZZcMy9V7sPRKqlD7XelBUPJK8P/Bc9iN84WLUiaEBgVRcBEQAmIiYRuFQFFoHkI8B/4uxLdiqtepvTtDhzOlyOaeEj5HiEok7PMs8Z2evNWzD0b6eBHn24FlgoBscthMWV66nPg6wtEI+K9omiv3hWPKyS61ENlmz3Ih3WcS6pzMLaqOy4RbUh7yde+9jXwc7S2FPcJUVr1i8fQ91c3ubvDjNk/lyzwgfwu3BfoTsdDYPF2ISCFwFDLxJm9LJaFk1fWANfLNGlY22i4OhI4G2Rx4JelG1DL33CLkIzcK+X3yHs/LaYnaiU/zSdlh4FTQkAYat0qPC4qR3Wd1Ik/BgZ1UFEETASUgJhI6FYRUASah8BBMb3Ka1whczWSICYhw3ob+T9YwJWxUtEAJDWsgE0aJCuLXTzRFycwy3f5xpQmH58LOfnSDN91uvCZRWIrXsIcG37k3cpD7UpAzK71E1Ozx1Lm4LbolzAvbrBrSjY+ujumRmdoxmwTpM645XeQ2klfIhNnLBKCEoYE5PHynV7kw4SJpOSJ8mwXAWGenKLTBa6gFJWHc1F1PA+1kicoQkz7YjK6IbZ/T8QP7YvjyaJlcrDENdvUbfghoAaO4ffMdcSKQGgRcAi1u+jIDiPp4ARZve6eLPcTVTz/2WeKZuSyqcDl01w2wqHtSAdrjZHAOIHxJ9uPiF+I/0m4v8s787lsMbWyS02REWHLLD8kGdjLA5AUs25rb5lokDbwNyeMwC3y4epvaycfbO0xhX372yVJqtXsygmQo6LJtS+wONXrQmU7aiTAgXz3/Akjv22Xegl1EYgsrkBEQhziR/RH6vyJoKli2gUzkDRtJGL69JBEnbL2dNS2SOWvcT0XFggoAQmLx6yDVARaEYF477Cf7x78wrihRNvBRCEh80cBP7wY+OZCYIqo4btoyFYPlMX0IKAwApHVNyTgBV2nAv0XrFIsOUZy7n3WWuTatydC9KqgBYpAcxGwJ5eUdp7cvsS7tTJZPAkjyZUM8Vap2H0EJ/70Oip2iamVRU5JvbjKWsw5GYv4rD7uT/KM0e59lsf2SsOCHO//E5amdDcMEVATrDB86DpkRSCkCNDUiiZXDv/M3fchEcnq6T4Mi52UIOwNGGUnse0dM/fUSFSb+gr0iIjD8Oj2CQZADcL7VaIBapCCV5aibP0ulG89gIRxWa7SCdE9wIzkKopAqyBAlwVGp5OwymAUvz5p2Hk6x/NWXCzpZgug4Vmjyx2ZzuKl63ej4OUlKFmxDfWlFSh4dSmSZ49F2tXzkDR1OLpFyO++hFq/ZncM1vStQlXDV7W7hIa2yuwjERgSHZ6+blYcdN8TAdWAeOKhR4qAItBUBGJkHeNM0XD4kwVjwkPrYcWA5meRAX5iGWEntu3WgehY+p2i5fheyUr8Wpyqv1+yynW8XsrbWmZE93RlGed9S1fvQOmanagXEpv/n0XurlwZl+Xe1x1FIGQIUPP4+lrgI9HUHhPfBGo49gkRWSn+IDLR9pDh4oCemuhR1NUPxkV1R8LOHBS9uxrREiQj7bIzED9+sGvLY5Yn7MjBeFkgYBjnIf0H4JdLI5EhPM4qkULwmOjyx6uFmVATrqIIWBBou/98lpvqriKgCHQxBGaPMKJgLc32tKlmIsJzxsk/n0FdbMBBDIeTltnDgWWCiZPEy+ohTdPaSNZV57pIhz2qzf66Eol2s16i2kzBdNFKtJUwc/ovk6bi7tJ1WCerrKYvTMmyrajIPow7Ji7EjDbsT1uNW+/TARD4YLORq4hhYkkwTKUHnRXEnwHHTgOM5MfvKH+/QiB10jbf+c4g7Od3ppyL348SbBrk2D3PoPePrzYPcUfi+MbxyALUxH8ex1PvVIompB4HRakaJ8EPZx2NQJ9SGfPUwUC65D9SUQQsCCgBsYChu4qAItACBOaNBmYMBejYue9D4ApxNG/jFf4W9L51Lj1nvJENfsUuTxO1/umSB2Rym4bgZdQaO/kwBy3rwfinRL1pSwLCe2dGJeLr2fFYsXKn2RXUl5Rj1MtbcdXMr7vLdEcRCBkC1HBs2N/YXC8xDeouiQeZu6hEzlEYJnueLA6cNwHo1XwTxQMSsva1igNYXn1Cwk3Xop+Ebb4wdoAk2hzQ4fO3MHs5fy+eKt+F0/WNPjDdxeyKgRjOsmY3J7m4aR4i31qPWULeZh0zYHRpd+fK/4SzxzYU6EYRaERACUgjFrqnCCgCLUWAK4Z0Muc/7UlZLW2ta1xP87QzRBNCEw9GvOopE542TkDIqDaMWuNPjkgWY0a1GSPhZdtSXnj2OVRVSIhmi6z8bAn27t3b7OzqlqZ0VxHwRCD7uOQmIuW2CDW104YYocLXSE4jhgk/WzQfLSAfTOL3K8mXUYXGe/E79oQk9ltVcxK/Fu1fR08iuTCmL+YfANbv341Hc+vx/TWxmJo1AtHD+1rAa9gV/xncvtDQHp0oNExL6R9IbFUUAQcEAhgoO1yhRYqAIqAIKAJNQ0DspDEiExg3oM3JBztqRrWpkaRhp2rLsS/vOHb9+SUcyD2OwtoKCZMppicijGrTlrJlyxYsXrzY65aFhYV44oknvMq1wIIAQzwzhGyYRlGzING03WpLwtSGK68fMdPYY54i+mRx0tyC8NhV9bX4nSTZtJIPaye3CNF/udKihbGe7Cj7fLf+vQzRL6zEzJWn0O9UDWauyHMds9xn+GKark3OAsaKf5uSj47yNDtkP1QD0iEfi3ZKEVAEFIHQIcCoNpwUHakuQc3S7aj7v49EI3MCFbJ/4pvnoXjuWPSLSzWi2oTutgFbevzxxxEdHY3UVCNCTp1MqiMbHPeXLl2KnJwc9OnTJ2A7YVWBE0P6WtGMaOsR4PfvSIS5XsDckQbJDSswmjFYmlzZZHJP0XhYhe9gRvN9FpaJyVVhfbW1Ra/9DyuP4Nq4IYiK6ADrwDVCyrhIYpUPxUF/7wlrSeM+y+lHc6nkdFJRBJqJgBKQZgKnlykCioAi0FkQGBuZhvzSIlT/9R3Uv7veiPrDzotZWN0v/4vSS6ai/PbLMD5Notq0ofz+979HbW3jivTPf/5z3H///e4eJCSEV/hT98B97ZB8PLvU8FGw1mEI2f+I38LFkw1TIus53fdEgOHA6bPgL7ngKDExok9IM2VvbZHXlUzOF53eSH7y6iuRL5+eEe30jtMXhlG/Nh4wTM9oPjtBNLQMKELNxaaDXmPwKNh8CFgoZmrtEEbcox960GkRUALSaR+ddlwRUAQUgeAQ2FJ7GtGbDgMpCYi4YZ7rovqVuxBxhkw2KGITX7v5IKoyKxDfhpP++HjPSV5MTAySksQhWMUZgVV7vMmHWZNmdO+L/8JomTwneeJqVtGtIMBIVAyQ8ZwQOSczq1jRBJw/oUVQRcNTq1G59zhO/uk1DPjzHR7txtjqeZxszYNiSZL6r8XAaYtfWEUVsGYvsE20anPkd4FaEYuYZpruIp4/KMR3dD93ke4oAk1BQAlIU9DSuoqAIqAIdEIEsk8fR8YQibwzqj9yJTqwK2GYTIrqblmAWHEl6CXzkJSqCBzbewBDxo32P0JOVDhxczLb8H+lnm0pAuv2+W+BztVc0Z47yn+9cD87QKLQff0sYMlOYMdRwymdq/7MVVEgvlrdWpb3Y6aEj37F4uNR8NZKVGw7gGrRgsQ0aEFGRnWDmfCvzR/He0JUreTD2oFSCQjx0RZriWv/rikXe5WhTkiviiLQTASUgDQTOL1MEVAEFIHOgkBkFQNq1qNM5lh1sgAc8W9Z/V2yAxFbDqF+7EAUiu9tUnU9oio8Vz09xsfQpHIN9oj9N1dJ//CuMWFjuFJdcfeAqlUOSPoKPTO99UlsNOlx3zO32L2rO34QYISrL4vzOc3aKuWTICZIUaK5WPSCn4uCO8VIcmOi0rC9tgD14tdUJkk2awtKXZnEe95uTOS/FJcVXGOhrkXtByOB+ZMK8V+pETKbLD8MDdIzUczWrEI/mf5ta7Jpvb3ud34EPPWEnX88OgJFQBFQBBQBGwLTkzORL6bmJTLHcvmAPLXImGDc/xrqD+aiUpaiiuXcgFQfE4pdMmF5+nNgd4400LDqSU3I6j1iyiHl9uzRtvvrYQgQiJZ/1w0O+mZrP5h0vsyZbf/GGcVJJXgEYgQv+nuQfIRQfp40CcOiUlGy+AtU7hLCLkIiwrvcFj8Cc2LbKbgCQ+Qygpo/iZeVikBO+CNbriny1wU91/URCO03ruvjpSNUBBQBRaDTIdC3WzrqJMpN3RKJgPXYB41JEcV5ue7XL6PuVBEiJCv08cG2VU6OlGY9b67zzp1gokBn3k+3mUd+t/vEOfcjif6zqOoYCuuEwKgEjwCJBp2jAwnDn6q0OwI0r3okeRYGLz3k7kvl1oP47u5kXBU/2F3W5jv2aFe+OrBANJu+8qAwlxETqaooAi1AQJdKWgCeXqoIKAKKQGdAgFF5oiXiTd1vXmkkH2bHs4+h/ra/I+Y3N2Nj39PoBxsJoY087cL9yZbDhuOuj7j/R2pL8WjZFuyoldXXBomVteBzY/vhGwmjENMRQpGaHevIW4balefllUjP7PPADAnJ29M80m07I1BaUoLdqze6e1En5l7L3v4Q502f4y5r8x36vzDfib/vNEnKePGHmSxEaeMBIyIWTbeoKWKSRiab9fFdb/Px6A07LQJKQDrto9OOKwKKgCIQHAI0uIgV59fe37sSVZVVKK+tRsW/PkHCzWcjMSoO0bExiB7QS3I2OziV5nqHFO2TJPbzVqEdPf0THFZMmdzwrpI1OF3vqfFgkrZ3qw6jQMp/JuYqKkEgwCRv15wBvL7Wm0gOllwgX5kVRCNapa0QePHFF3HihPhMWWTFihWoqqpCbKzYPLaH0NTsjOHAJ1t9350kw/TrmiV1+VFRBEKMgBKQEAOqzSkCioAi0NEQGByVgoypo1E+RSYS5UIEZPVzz0srMOjieYajKR1wJTzpmCiZ4NrFwafgh+J74CUO9VjntYr9XuTDeu1ySdqWXVOIkdE2UmOtpPuNCIwQ2/sfXmQkIcwpAGJktZqmWf1lZVulQyGwbNkyr/7s378fb731Fr785S97nWuzgjmiSSsSjQbD7tpljJjwXagLAnZY9Dj0CCgBCT2m2qIioAgoAh0KgcSIaCyM7IN3Tu6QELqWSFcMpVsgmouySozp2R/Doh2iKo2ROP9cLTWdz51GxpX5tCSnM/isWkyGAshnVUeVgATAyOM0HacnZ3kU6UHHQmDnzp3YsGGDY6c+/fTT9iUgzIVy0WRgxlAxsTpoaC9pljVRNB/8LqsoAm2AgBKQNgBZb6EIKAKKQHsjcMuiUuxPq8U2BxeB3qdr8aOdYn51iUMvuyeLPfgA4ItGZ1qPWpzMMBSvg9TW16G4XsyzGqR8+0EUvr3KlRE67SvzEJ1qkBa7eZZZX7eKQGdF4NVXX0VZmWfYZHMsa9ascZlm9e7d2yxqn22GLDicO7597q13DXsElICE/SugACgCikCXR6BEMpx/cRT31Udh8aB6fDikDvuFbwwqBM46GIkL9kYgpS4HWFBhOJraAblsqoTulAu2irO5VbgSf8EEMQFyzoYcJc7l3eqisf+lj1H82SZUbD2A+krJMSBy+uXPkSgmYd2/Mh89Z8nKq4oi0IUQmDVrFgYNanyv33jjDVxxxRWuETKreG2tRRPZhcatQ1EEgkVACUiwSGk9RUARUAQ6KwJMIijhdGMRgfP28xOJDaXAYx9a/wWIq7qE5QVtwO3CqDhM2jZfsqSThDBRWbpoRiZIpJx4/860C6P64Llh/RAnH0r+sx+j+zULENEQRScyMc4VDct+Sz1WBDozAgsXLvTo/ubNm3HjjTd6lOmBIhDOCFj/+4QzDjp2RUARaAECixYtwqZNm9wtHDx4EI888ojrmKt9c+bMwcyZMoFVaR8E5BnYZVK6mFU1VRj//6yxTbrqyynDsWJGHnLqyl1+JMUfrUPipKGIbIiyc2Fsf2SJk7yKIqAIKAKKQPggoAQkfJ61jlQRaDUEMjMz8dOf/hT5+fnue5gOmP3798d1113nLteddkCA+SEYfpNJBRskJsr288/zzBEQYukWGYvfJUzD3/etxOp60cSUSRQuycackliDyxMH45oBY0J8R21OEVAEFAFFoKMjIP9xVBQBRUARaBkCo0aNwpVXXeXYCMkHCYpKOyLABGKBMmTT9ColIfSdFNKT/p91uPs/p/HUmxGYfjwC9y6NxLMv1eG6p/Yjcv3+0N9TW1QEFAFFQBHo0AgoAenQj0c7pwh0DgRK66tx4htzEDfK06wnQZyMj14/BVX16nDZ7k/yIont36+HczdYfrGcbw1ZuxfYd9LVckZ5BHqVRWDCyUjE1kn0LJqGvSeme8yyrKIIKAKKgCIQNggoAQmbR60DVQRaD4G/lG3DnuhypN9ynpEYTW4VITb+Gd+6BBvqTuNf5bta7+bacnAI0Fn8lvnAFdOALInFSyfwQWKaxWOWB3AmD+4mDrXW7XMotBTViVnYhgOWAt1VBBQBRUAR6OoIKAHp6k9Yx6cItDICueJczGzWlNRzpiJlgbGSnnr+NCQx87bIx5JorsySD8JVqH/aHgFGs5qUBdwshIMJBm9ZYByzvDWE5OJUsUfL6fFJiGTuEKuclHjAKoqAIqAIKAJhg4ASkLB51DpQRaB1EPiiJh+Nrs1AzzsvR9zIAej53cvdN6xALXbUFLiPdSdMEIiUfzE2cvO9iechPlq0L1aJaSUCZL2H7isCioAioAh0GASUgHSYR6EdUQQ6JwJixe8hsX0zMPDJH7qzXJsn62GvaZ7RbZdGYFTfwMMbbeQICVxRaygCioAioAh0BQSUgHSFp6hjUATaEYExUWmS3s5TohLiPApiEYnhUd08yvSgnRAoqwTWi1+GhMLF9iMeoXlbpUdzRhghgH013icNGKFR0nzBo+WKgCKgCHRFBGyB4LviEHVMioAi0JoI9I1KwrToDKytkSzaPmR+bCaYD0KlHRFgxKlPtgKr9wA1EpXs2GngpVUAQ/RePBloLS1EZnfgmjOA19ZKBnXJAWKVvnLuutkSscBOYa2VdF8RaD0EnnrqKWzcuNF9g0OHDuHOO+90HTOJ6le+8hWceeaZ7vO6owgoAqFBQAlIaHDUVhSBsEbg+4njcFfJWhyuK/XCYaRoPm5PGOVVrgVtjMDHW4AVDtHISiqAl1cDN84BhvRunU5Rw/HDi4Ath4Dj4gtEv5CRUja4V+vcT1tVBIJEYODAgXjwwQdRW9sYKnzLFvmuiPTt2xcPPPBAkC1pNUVAEWgKAkpAmoKW1lUEFAFHBNIi4/BIyixXtKvPqo6hoK4KGVJ2bmx/nCXaj9gIdTJ2BK6tCkkyqPnwJYxWtWh76xEQ3jdW/t1MHeKrBx23nNit2g1sFvK0+SDwyHvA5Cxg5jAgQbV6HffBBdezs88+G5MmTcL69eu9Lpg/fz5SUlK8yrVAEVAEWo6AEpCWY6gtKAKKgCCQEBGNy+IGuT4KSAdDIBhfj8N5QIFosNKSOljnm96d04UF+Gj/FhypKUG8vJdnpmdhwiAhDE019covAZ7+HChqSJTIOAqFZcBiIWtbDks443mtkj2+Tkx/1tbk4kBtsfQ/CrNieqN3ZCtkqW86tF3uigh5J84991wvApKYmIhrr722y41XB6QIdBQElIB0lCeh/VAEFAFFoLUQKK/2avmCgeO8ylAuPhqdnIC8vXU1/on9qKFyokFB8V5ZHsat34a7x5yLlMQmEKw31zWSDztaeZLfhFnc6d8SQmFY6z+WbkFuvWheGuSf5dlYEJOJ7ySORZxqE01YQra98cYb8fzzz+PwYSGVDTJz5kyMG+fwHTEr6FYRUARahIBGwWoRfHqxIqAIKAKdAIHu3pPusweM8ew4c3akdu5V9pV7tuH/IoV8OPxn25pYgd/u+NRzzP6OmBzxoO/ACq5Ls48LQRGNSIhkX20Rflmy3oN8sGnm2fms+jj+UPZFiO6kzVgRyI4uQ8yc0dYi1J4zDsdqvX3aPCrpQbMQoHP/SUlge0I+1PaphCcCDj/T4QmEjloRUAQUgS6LwOi+gf0VmK8jSSJidWJ5udDByd4yno0JZdhzrHGV23LKe5dRwmySYE+gSN+ZHCEqIZKXK/aj0iOtp2fDK6pPgiRFJXQIrKw6gV+UrkP9l2cighHhROJG9seJc0fixyWrcVRJSMjAJvF4p/IQvlm8DLcULcGt8vl68VK8XnFAiUjIUO48DSkB6TzPSnuqCCgCikDzEIgRa9sLJ/n2gUiSvC2y4tuZ5XRxIbITKgMOYeXJ/QHruCpEef97/PXMK72vdajnXSlwSVV9LVZUnwhYcXGVaF1UQoJATX0dHivf7qJ8cYMzkTR9pKvd5DPHI0Kea2F9NZ6q8E9qQ9KRMGnkb4L138t34Ghdo9aQWpB/VmS7tHskKCrhg4D6gITPs9aRKgKKQDgjMGGgLO3KT/7iHRIKt2F1n2ZXDIdL8tEjuVOjU1ldjeq8QuS/vrxxHNRQcIwNkjByACpnBBlqeEgvI1wwc6b4knhxMhmY7utsk8rLhYDUoHECVi99P/nIa0g5exISJw9zt1Uik+IuL1U1wFbRVJ0SP5u4GGBsPyAjNeTDXlOdi/z6Kne73S6agfItB9D92rPcZatF63S6rhLdJaqfSvMR2Fydh/erjvhs4PPqHMyryZSAC/K9UwkLBJSAhMVj1kEqAoqAIiAIjBQzK35OiRlPhUxk6XDeYHbS4fGpFTLhR9uQnpqG9G7dEfN1yTfiR3pHdwMnQzERkRghOWqiZesoNEebNAhYt8/xtKtwxlCA2qUQSEpEDFIkYldxvdAQIR/Hf/1vFL29CsWLNiHznq8iaYaxOp8ZmRiCu3XgJpgr5h1JDFhpIVqLtgkJ6Q9cMS1keBOBY5aVeB4nnzUJ3Q+eRHT3RjIubx1ypJ4SECLUfPnAD/kwW32v8rASEBOMMNiG5pczDIDSISoCioAi0GUQaIXV5FbBhpPQVZK/ZIOYTTH8LXOJjBsAzBkBpHvmZ4iJjsZ5db3wCnIcu1IbUY/i+Ag80S0XtaW5rjppEbG4QkJHfzlusETodcjGfsFEgHlAdh7zbnOikJMFno7L3pWCL4mU+58T2w+vle3H8V8+i6L31rgurjmej2NynPmLG5B2xlhXneBb7WQ194oJ2mtrASdTnG1HDBNC8dUIlSQL4bMK34GMW863Frn2k4UcqrQMgSO2JLXVuYWor6xCbP+e7obtddwndKdLIuBj6adLjlUHpQgoAoqAItBZEKgQ05inJAcHV79JPig0zSEZefwz4IjkLbHJtaNnYUSFt6lMnZCPY8JXYhISUGv5r1cg5jdPV+wWPwAxS3MSZmy/djZw6wJJojjY0B5NF63H7QuBK6d7mHc5Xd7UsiujBqLgF8+5yYd5fe2J0zj+q+cwddWprr0Sv0SegxP5MIEgCaH2LkQyW/KrxMLyQji0OzQqBQOiGjUiDlW0KAgEEiDfJYvkPvoaTsrHKkk2Qmg9p/tdDwFP+t/1xqcjUgQUAUVAEeiMCHyyVWxfCpx7Ts0IV8q/K6vVFs1FQlw8Hhx3Ed7MXof3644hN6YW0fViaRaVgKq4SMTHeJMT3uC9qsO4KG4ABstk01EGZoivh3xaWaLKqnDbnAuwYtZU7K4tRN4by9HtitnogThMi8nA/IR+rdyDdmyemiaHsMcFcfVY2a8epaKE6FcCzJCkmlHzbCGkm9nt1MhYXBo3EK9WHnBsgTqxG+KHOZ7TwqYhMDe2D7aVG9/nIjErLPpMzOzErLLg7ZVIu9TIpTNXCKFK+CCgBCR8nrWOVBFQBBSBjokAtR17xPyGmcfpIE+H+C/EF8CfsC5Ndob18agVHxuHa8bPwTVSWlFdidioGNwmoT7jzcR+9CUxHctp0tVAYD6qPIJvJobOpMqjU0EepKWl4bYbvobbpH5JXTV+uPXHuPtr/w8Du9AKfE5tmSvaVzlqkRWZjJnidOzyw7H6fMj468Qh/8lJdXh3WD2qLUqK9Pi9uKM6w3VdkLD6rXZz/AjXvRgettoSBID+OLcnjA7Zffx2IgxO0ryQ4XaPVxQh78kPDG2mjDv/2Y+RIr43GSndcH6smFeqhA0CSkDC5lHrQBUBRUAR6GAIMEoVNR1r9wHVYl51SMyq/iHJAukAfrpUto0ai+zTxzGyu0TssspxWVG1ERDraVPj4coqLsSjen8OSldsR9XhXEQmxCJuaF8knTEakT27uRKjWa9t7/3kyBikiu9BVyEflRLl689l2/C5JFQUpZRbeogfzg8Sx2OKBBFwRbxqICL/mFyHd4ZbaxqX5MXX44HSTbgveRrGR/dwt9PcHfrefD1hlMsPaKmEQS4Ws7w+4ug/R1bjNet8c1H1vi5RCN398sy++qe7ULmjcXGhal8Oyv76Du6//1GkiUZKJXwQsKwrhM+gdaSKgCKgCCgCHQCBtzcAK3YZ5MPaHWYh33QQKBfNSIM8sX2Judu4jQ7uX1iSNJP397eR+3/voFJISHn2YdRKBvPSdbuQ8/ArKHpnNWiOo9J6CDCL+2Ib+eDdGAb3N6UbsStCCCdDRYucSqjHe6L58BJqq4Q4Mlzxfyr2ep1uSUGahNmlOdb1YnJ1dmxfJR8tAdPHtbu378SJN5d6nS36YB1OrN/uVa4FXRsB1YB07eero1MEFAFFoGMikCvOxBsPOPctUcgAHcCpEWGeEifhZJQhhYOQc07G442r5rlr5vzjbWRcvxBRyQnusrOLJc9EF49w6x5sG+8wezuzuPuSKjGCerlyH37OqGL7TmJpeiHq6IBhlzR5QA0mc5tr8pEv+Tl6tGV+jkOngO1HjRDBGeIvNDlL3plGLZ29u3rciMCTORvx6D13obxYiCbDaTcEG2DksfLycjz00EN49dVXnaPRNTaje10IASUgXehh6lAUAUVAEeg0CFDD4Us4yRwo5jX0CxkhPh4Nk06P6qPFITvI5IlXLi3B4plAgVh2OcnU4xEYfzBfssUbK/BOdbQsAAJm9CqHZ7Wkyjk0srXFVUJQKrqNR/xtC1C8fbk8cwmV3NBm0YqtKNm4B+m3X4S4QY2OysWSlJEO+q0u9FF6aZWLHHnca5Gs2jNU87QhHsV64InAK8e34LWCbGT+8Mvi3GNotsq2H0R1Tj66nT0Z5ycNwvX9JnUo8sEElO9KXpK9Qp5jJFLazJieuCxuEPpFJXkOTo+ajYASkGZDpxcqAoqAIqAINBuBUol6ZJO5fYc1lmR2Fy9y8QvhhCXKthzOLOWXT22sG2Av42QFHlwUhYdn1mKP8Jr4rExEiIYlqg6YfygCd6yXFdnhDaF+A7TVJU/7IQ8BxytRqbBacrVQW0XJ6gnMkudo0U7Zs7eXrNqBYomC1Ocn1yAixgjPKo8CFeInEi8ahT7jRwASEazywAnkPvYWSpZscQUOKF2fjbQr5iLjtgvFXSQGGW2l/XhljTf54FgZzOBdieaUKpq0ET40dawXxlJdX4fXT+9yIRCT3s2NRFS3PNSVVSCmZxqWRRTj9l7p7nPtvfO3su2uyHjWfrwjkfI+qjqKu5MmY6pEpFNpOQJKQFqOoUcL9fJD/sgf/4Lly1YiKSkJ3/jmrTjzzNkedfRAEVAEFIGwRyDV297p8sFTPGGhluMbZxn+INtk5ZErzeMlUs4gmeQ2RcSka2BxJf70STSye9Rjd8YMxMicdmqOJJ4rbyA34WhKwyhiK3cbk2uSkP7CzpjdfXyQmqBPBMRl2Z5PYr+YWvGzYIzxkbN9LdnbC99fg5N/fBW1+cWoOVGAvg/cgqikBFcWeDPh35kSsvWhV5/G8Wc/kkl+HWIH9EJdRSUi4+NQ/PEGlK3Nxpd/exRs8N4AAEAASURBVBeS0togQSCjsu3xo8EhbsRACYjne9BwtOPUURRIfDF/UiUkZcORPZg/SN6ZdpbPq457kQ+zSzQVfFACIDzTbb5ZpNsWIKAEpAXgOV1K4nH40BH89+V/o7CgAHd8+weYMWMa4uLUwdEJLy1TBBSBMEVg0iBg6U63mY0jChNlIsyM5wvHAe/LquMlNoLieJFDIZ2bOdEWGZkf4fp41eK9wklWyqr0h194jviwaDHMz0WTPc/Zjw6IiVQD+aiIqscHQ+vx4eA6nBCemFoFnH1gCy492gPd+/URp+5+eK5iD47/+2Ocevxd1Ddov0qXbcWROx9D3wdvxTkDJhnheOU+CRIx6a4v3Yw/XzTdHTHr2L3PoO+vbnL1ortEzvqfZLGpawvZcSzwXegbwjExepuKBwKV4vNRvueoK+9HPbWZQtgqD5+UKHRxLg0II9IlzxqNyonDPa5rr4O3Kw/6vTXDR39aFcQ74bcVPUkElIAICAUFhbjqymvx2usvIi2tUUVYVVWFv/7l/7B40RLUyRdn3rw5+M6d30JioqhbfUhu7ilcdPEFiBb1fnpGOrpJe/l5+cjsK3bMKoqAIqAIKAIGAvTfmCmmOqsMYuAFC81a5o70Km5WwRkyudlyWJJreJt9udobLr/PTdWqNKsjHeQiBgD4SLQXvmSNRJhieGN/q/rr9rmuLo2px8/mG6ZtZnO5MrP475h6fFK6Gg/WnuOym898cgW2v74IUSmJgHzqJexyREy0+AGcxokfPI6FTz0vzMNsATgvrj+YGZvRrvbXlbhORCHCZYt/W/xI9ImSdtpCGB46GKkWcywVLwQGxaYiaWg/JAzr53GuZNNeVB8/he4XGkQyy1cSUI+rWvegTsjRTkkAapXq3EJEpyW53lWzfEeNhP9WaTECYU9A8k7l4e+PPYE6JqeyyWN/fRzr1m3AL391t0uD8ac/PYbf//aPuPdXP7fVbDy88qrL3Adr1qxDcVExevZqormAuwXdUQQUAUWggyLAFd8NB4CTMpmlHf/ovsak1cEJ2ecIzp8AJIsTMbUTpZVGNV4/TByNL5YV+BTLjNRnI0GcoLnXzfOA19cBR8XZ3JRI8f2YICZdvFc4CckDTYf8yVohIf4ICHOwiPxrQp3Lr8apqTxU4fcSfvfRlDPw2I/uxdLvfhMvSbSrfbXFOHbPMxj861uwIDYTX5NkgE45IOaIKRY/B2tLcH/0e/hd6nyp1wZO59bB9G5clLQWe+zTfC9U76pHw53/oFe/TEw7EIs1PUQt5kOGFUVixDQx/WtnoTEmP/xmVB466UqSWLJ4M6LTU5FywXR0v/4sRIk1S6SrVjt3tgvcPqwJyMN/+BPefus9x8dYXFyCd9/9APfdfy+mTJ3kqnPHHd/ED77/U5w+XYDu3dMcr2NhZWUl/vnE01i+fCV+9ZtfuLQhPivbTvDFLykxVntsp6SdaMTHN6p4fdXjdZHyjzUxsXGFqCl1y8rKROPjTcic2g1VXbadnCwrog3ir11WsdatqKhATY3vVaqm1CVmxI4SqN3m1qVmjR9fYm03UF2+D3wvKB2hLp8DcfMlsbGx4IfSEeryPee75kus/Q1U1/r9bK267Ke/77K1D4HqtuQ3onz5DkR+sBkR1oWbVdmo69MNddeegcRePdyQ+vsuu/owdxRwxgjgYC7Ki0pRmyG/Awy3ymmA5bfQ/h0vk8UdV6hWH4TH63sfL9/r62Yg4thpROTIKqeEAq2jM3tKPJJlJd6U1vreN6Vd87vMMTs975b+RkRLLpRIy29QeXUVTlWWYHBaL/fvX42YYlVY8DfxMbcJ8nzKRfvxWZY8JyEz9H/0kvpIZFedxvbKPIyJSwd9O86IzMCB8tN4KOJtPBg1HQl1gr04nJcIWaFYv3PmbwTdk5PqIhFdVi31ql31fNV1n7TtOLVrq+I+tNatE2Jd/ZZMTBkJy0GioiSYweQs433y83tijsX8H97VfyOs3/ubEkZgT+kXyDPXEyzf2RSB9Vt1Q0Q5We6Arvdcxtqu0wXW731T6prfz1Hl8fjol39BxfZDLi0d3+qawlIU/Hcxit5bI0EQ5mDcTd+C6FOVhjg9gCaUNf7qNuGirlL1xq9eh8suvwTZ2bvwh9896jGsrVu3uX5QTfLBk2PGjkKUmFZt2rgZx4/n4KOPPvW4Zu7c2bjxq9fi+3f+BMOGD8U/n/y7X3Mtj4sbDmpra/Hwww87nXIRip/85Cfuc77qsUJcXBzuuuuuoOrGSDSRn/3sZ+66f/jDH5z/mUgN/tjefffd7rp//OMfwT47CeN733PPPe5Tjz76KKqrG/95uE807Nx7773uoj//+c8uIucusO1Y6/7lL3/xO4m01n3sscdQXFxsa63x8Ec/+pGb3Dz++ONCNsUB0Yd8+9vfRs+ehnbrX//6F3JzxSbah9xyyy0YOHCg6+zTT4tz5fHjPmoC11xzDUaNkkmZyAsvvICDB33bpF5++eWYNMkgyC+//DL27JFoND7k/PPPx6xZs1xn33zzTWzfvt1HTYi54TycddZZrvMffPABNm7c6LMu22TblE8//RSrVq3yWXfy5Mm47DJDS7h06VIsWbLEZ90xY8bg6quvdp1ft24dPvzwQ591hw0bhhtuuMF1fuvWreD4fMmgQYNw8803u07v2rUL//3vf31VRWZmJm6//XbX+SNHjuCpp57yWZfvAt8JSl5eHviu+ZLu3bvjzjvvdJ3mP0l/3+WUlBT88Ic/dDflry4npq3+GyGOy6vv/rvPFfTSzz7DxW80/oYF9RvBvABDeuORBx7w+Ruxbds2I2EhIy6t248N73yIKpnw5faMxeGBCShN9vx3Zv3ed7bfiNcf+htiNh3GyX0bsfQrdyM3IxbH+sWjMl40TSIt/Y2YuKkQaacbf4uPV5VgTfkx/Gjqhejfv7/rHlt3bMebD29y7Tv9uTx5KKLS4lAlXaoQB3Hzt722uMwws5KLqmIjUXWiFK/tXY4xM4zvvfkbcXB7Nh7745+8mvb1G8Hnb3/32+Q3Yv8+fJK7EWO3FSHCYV0usn865t19lWsc/n4j2H/+nwiL3whBwz6PmFxYjaMDk7BlcnfXexwrWA7Pj8Rvqsbhyc/eQO3H73q9Cyxo63lEWe94RH3vYogrk0vK/vYeEm47B32HZLmOMyLisPWfr7nmPdEyH1JpPgKev9jNb6dTXtm7dy/w47TCdOzocWSIDwcn56ZwP61bN5cG5PobrgE/dnnpv69i+Ihh+NGPv2c/pceKgCKgCHR+BJZny8qfrHj7GElKkUxsGQVpsGgXQigRvOEzS4Ej4ijdIJHim9f7RCV6nqrClnEpKOhhaNfM851uSy3Cm+swbO1JWSipRlRtPRLKajHwUDn6HqvAlgmpKOrW+D+pueM7lR7rQUCc2inuR420xVzNVqloZE/0PFompY0LULUl5Tj1mxfQ/ZsXI2ZYJqpjaNAiq9j1xtZ10IQ/UaVVGLy3FL1yq7D7RAUmry/A8b7xONE7DvWRzWuzCbd3V80TArhxcjfXc0iXd43vYlVcJI5nxqN6Rh/Mi2v5M3HfrC13ThZiwKEyF7EqTo3G6e4yDot2IpRdKZb3tlt+JS5/+ZA4H0dizKypODSyBJkzxok/0huhvFWL2uol79m4TaexdWJ3LxUHgx/cmzwFb9RtaNE99GIDgQhRm/r6PxI2GG0UjcYPvvdTvPHWS24n9OeefQGffLwIzzz3hAcOX7vx6zjv/IWi6bjOo9w8uO/XD2HDhs2IlwgPpjzy6O9cRMc89rX93v/7leuf+gO/+JFjlbYyr/CntrSbbYSqLgfcUtWpI2i2dk01q6+6VtOG1qprmlcE04dAddUEy0DRajJhmjr4wtdaN5AZRFPqWr+fgdptbl2OyWnBxByrtd1Ade3fZX/tuutW1QAPvulyHKYpE0rEb0NydNSLQ3l93zRJsBHjWrGMmTtakvoZmrlQ/Ub84uvfwSOjLjGH6lpxt/77qhc7/OrvnusyhWEl6+9JoO9yU+q26m/EhgPAOxtcq6vULN+1+lU8NPNL7jHXS5Sl6jsWIjE1xW0qZf5G7KwrxGd1J5BfX4luiMX8qF6YENndZbbL94Ji1kVFNWL+sQgRDdGo9hfl4t1DW/D9SecZ7YpJWtWt81CV4pvQ8ben/mgebi5YjILoOpfW/Phf30DRx+uROHEo+v31DkTIxJz28o+nzEW/2BRXH8zvJzXp9913n6vM+sf9ncspQO3Tn6NWzPIo/ytYPNiARd3gnqi5egZiJSAM61PMdl0HDn/c7Taxrtd3mbk/6HAu7zon69Z2vepa+vGLX/wCDz74oNuM2l9dXmb9LjelLq/19112tSumcXh1jSu8MN8JU/g9rrlyKuob/F7c3/uGCv7atdcN9L3ftGkT9u/f79JcB6rL75wp/uqyjvW73JS69t+Io3Vl+LDuON544C+Y9P3rsSB9KM6RaG6JEhiBdX96729dJlh/+u29Ztd020QEwloD4g8rvsQV4sthF35ZU1K4MuQsd9/TaPbkXMN/Kdd0rF8gf7WDrcc2mlLX+mX3d3+e6wh1TZvaQH3l+Y5Q1/oPK1CfO1td/nML9l3rCHX5TzPY/naEunxfgu1vq9Slz0f2McSQfJjCBXD6VOSK7xpzdNB/g5O0BgnJb4TcN6rQ07fIqp123aqmHnGHChxzWLTm976grhK5dRVIjYxF70jTyN0cfeM2qD4w+pSIy69AzDv4zvE3wC3VdTJGwXpCN3dRlJCFv1XvwJK6HKOsQTGwrO4Upoq/xd1RBhHkSffvCf+F3XY28PxyoLjcpennPXk/yfAHXD0TsZk9hMYEEMlKfln6FDxbuAOlK7eheOkW1wVlm/ei4LXlSL9xIebE9HaTD540v/fm1vEOXBd9eTWihChFNYw/MjKqEYujgsHGI8BZY92X+23PXcvYaUrdUH3veU/rOxCqdm1Dcx36/Y0Qs0U8udgdjMHj/SqpQtyrsrr/zYVAt8ZJv3kPv+2alRq2Ifne29rkYWu1a302vM/InYUYubYIJ7dX4mfPFSBxnGgDZ4pWJCPV9RzbTv/G3nRNUQLi47nS/Co/P9+1ymb+o6uRf6p5Uta7t0RoUVEEFAFFINwQEPKBfGNF2mvo9AXbJpNCZsHulWr4iLTEnCNfCA0jLTELuo3UeN3bLCARGm8etO72kERmeqZ8F9ZUnZQoijJ2MQkaG5uBryYMw/joRif8oHtRLivRYhJjlUgn/JhzgnlNGuRZya+xpLqBfJiFDdv1Nafwj/Kd+G5i40TdXaVPGvC9C7A5ewc+3lmOLVGxWHnlYMwcMc6Vo8FdL8DO1UnDwNXiJ1/4C+otjtp02p1+wVn4/tBxAVpwOM0EiXm+ffVcV6zfL85qommj/5BK8AjsEv9DayQ4+5VlsvDK0NjnT7SfCZ9j0UKiIcy0azGlSBY/GBVu00HgKzPFeSUzfLBoxZEqAfEB7qTJ8uWTRZjNm7dg2rQprlpfyD7LJk6a4OMqLVYEFAFFoAsjwBV6mlrtO+k9SPltBEnD0myDfHwov5fMrzF7eNNybBQIwXlnI8BJqGkhzLaLZRLAY6dJudmb6LaZjDIs7P87vcIVZp3mTKZsiy3D3Sm5uLvHDEyP6WkWB7d1WFK9b6bh3OzRgGX8FfU1eK/ykMdp+8FnkjTtq/HDvcLcnqgrx/3lG7G3XzEqRbNSLL799w06hd7Vq/GzmEkYFi0kMgghSYr81yJUbN7nUbv6WB6i/vohEh+90KM8qAMmQ7RJVEN0Qncxc7qclvdNVqRVmoDAVlkkCCSsE64EZIt8n0zyYceJOWFeWQP8oBnvtL0tPRbzTBVHBGhmde65Z+PPjz6GzZu2YPWqtfjtQw9LBJ+LkZAQ73iNFioCioAi0GURoFkVTa/6y+p+dzNGTMNoSRCY3I4EJEEMdyRaoMTydplr4eklsnJ4IDhY6JPw1Ocu23Q3+eCVnJzT/yRQVupRfYO7Twtr/TP/CxTnChYW8uFqUvpYIyv3fzu1EUxq1iSJF9z6CbYWiY1yWCNk6OAG2SYJ0cosTuBmuXVbhTpsrvGc0FfW1+LuknXYK/k47EJicnfpOpwSs7JgZN++fXjxxRcdq3700UdgFL0mi51sSAP3O5Exh3pNvle4XWB7Zwsry/B89ipPFKiNC1dZLYss/qRSFhyoCVFpMQIOv24tbrPLNHDn97+Nv/z57/jZ/97jssk999yF+NYd3+gy49OBKAKKgCIQNALmyjsnfePFBIhmHMfERKpcTDZotkGSIHlA0C3Bs0lOxN/eAAwV09VAydqYkLCQkZUcJEkCe9BEaYBM0p3a4cQ8U2y0g5AdNaexu7YIdJGeFpOBnn58N+zNcYK+sUhM0fwQjNyiAmxIP4VpsU3UgjBj+yur7bdsPGb2+JGN5h81Qi5MoUP+6RcXo/CtlUg5dwrSbz4PEQ0TdGs91v+86jg2//W/KF29wzBhEh+burIKlKze6fLfiRvaF+/c3w83J440m/e5pS8Dw5ebQjJy7bXXmofNM1keKs9y0TZ3G9zx0oCki1O7nQh7XKEHjgj08Fw8qKqrxaFiT4IKvmfhKFw0sZmnRTuR3CPy26fSYgSUgAiEk8XcavGSD73ApFPST376A9fH66QWKAKKgCIQTgjQ1n5QhiQMFB8EhkAdkG58+E+b9vhmJnOnSSG1J2+uF/MtIQi8lhm2uW8XfyuLjDo0UEjMCdG02AnIQOnX1bPsrXkdH5AV/4fLtrgycZsnI8vFlSAmU/wkxiBeItwEkpzCfJTvPIyCD9ainr4fNTJ5FxIWIRqMCMkIHyHan+QZo3AsXibvg5pIQMYNMDLLLxFiYJdUIXbXzxb8Gg0XhkWlQu6IsoMnkPvIKyhZtlWIkSTD3XUEZet2odf3r0L8iP4YESXE0CLLxGek57cvRfL88ch//lOULNmCenlGSTNHofs1ZyF59hgsrzmJmxGYgGRlZYEfU9asWePO32OWubcMYrBTyNuOo0ao5k/ETG/qYCEStgmv5NYAnyn9XXwJfY1MUuyrjpZ7IzBF8G4IdsCTp+PqUSYJJSWOmStimesCPpNwFL5P/FgWF+6edimiJQCCh+h75wFHcw8C/9o2t2W9ThFQBBQBRaBrIcAVehIQq/CfseRrcAkjKPVMtZ51RVnCNplw8jOuv3Fu8XaDzJA0JDeYtPKfPu36/QlJDyem1KbQ5CtO/oWNlTYliWEgOSmai/8tWYui+kafDV5DHcLi6uMokjH8JnlaoGaQXFiF+MGZ6POty9x1T728GBlXL3AfcyeZ+VCaI2eLwzhNyWiHfkI0PrEyRsnGjYmDjAhVljbTI+MxNLsQH//2WZkz1SN+/GDUSVSrSCFoJEU5D/4Hs75zAwYs9Jzgl4nvCCVhbBb6PXAbyrcecIW7TZ7d6Kxu1rHcrmW7RaLZem6Z8dzYUlE5sCwbWL4LOHe8+AqN8GxfInG56tsc812VZg4Dpg/1rK9HwSHA4AOzhmPxsWy8NrIO2WLCl1dWj0OX1OKCfZH4ckkGYsKZgFCTuifHjaUX+eCZYfJ7I64gKi1DQH7ZVBQBRUARUAQUgSAQGNXPCH1qNY8hAaFWg34fNM3ivimMirT5kBGWlyv4ViGR+bdMSG8/21jVZzskI4FICHMUzB9tbSmo/TcqDniRD+uFG8RP4ouafEwIEMFqaFwa+sv85IiFZ9nJR7zM72fB05/Dei/HfRIwOvfTAZtYTMkSfxshXAHk3umXoezpTBypK3XVPHbvM+j7q5tc+70i4vFgygyvFvpHJWNHrZCbBkkYl2Xuurf9Iz1NddwngtlhAIEN+4ECIR2J4tvC8MwkGiSNduG4P/oCoGkQ3y9TqOViONjtRwA6RdP2nqZBnBzbfGXMS3QbHALPL0jCC3li0sg8Pg3rCaeSIvDvmTHYkZaCeyTyXNhODrnIYiEgXojyd4yLHiotRiBs37EWI6cNKAKKgCIQjghw8k8/BIalZNhbMTtyrdLTD4QkxCpHxFGb5leUjBRja/0ryeZcJjljGv6hTxpkrIpb69j3J2fZS4I6/ky0HIFkkUSMCkRA6Gdy47JkPDS2xGdzV+2JRuJFTZikcJX/5dWeE3SSPJdpmWgC7CZnljunRcbhjykzJRrWYXxcdRQ5YpLFfCQLY/viktiB6Cb5SexyUewAV117ufX4ojghDcEKI5fRrIdhmJfulAhmzxsmduYzp2PvfiFXDB/M98VJVuz2JCCsQ7M/klp+VEKCwGGJ4PZChTwPSWoJSd6J+jojcAT9t4T4rq/Pd70bFzbl+YekZx2kEWpXL5gIfCikmOTYKvwe3jDX+3fOWkf3g0ZACUjQUGlFRUARUAQUARcCNOO4dGojGHTcfHKxEfmqsdTwZ+AxI2OZk1Hree5zddskIFx93HLYtyM6J6JOviP2Nm3HNE8qbjC94n7p8m0o+mQDosX3oNvlcxCXJZMOkaI60dgEIWeOnojyNSvx5KQ6lFjm97G1wJXZEbg+fZRkPbWc8NcmNT7PLnXW/NAHgueoCbCTO0ubSRExuDp+iOvzk9i38PvUeZaz3rsjorvhyrhBeL3yoPdJKZkd0wtnxvRxPOdVeCAX+M8KQ0NBDQ59gRgNjR8GBSBZ5b6YhrnIJrUhTsKxUmMWLG5ObWhZQAQ+qDqC/BcXoei9NagV4lgvyjZGmCv+fDOiJMJnwpRhePcnNyNsCQgRFBM1l5nVOtHiHZdFFH73+B47mEEGBFwr+ERACYhPaPSEIqAIKAKKQFAI0CTmS2Lq88Y6gLHyTaGTdoKssk6QSafVNMs8zy1Na0zhquytC4yoWdY8IPSDoG/JldPMmk3aRsjKbnp1FLY/+h+UbdiN6hOieZG+RUj270KZiMX274lul52B3ldfG1y74ix+nvR7npgOrehZhZOJQKrMnecei0Lq1BHAgkZfioANUpPkz+yMZkvULHDyE0L5esIoDIxMFhJyAIcazLd6isnWxbLyfVVcljwuzkwDCEMj/3el8QzpYM4wzVbh5I1R0eoaVpLzhIgwxKsQ0jvGi+mdXdiGSqsiQA1Ij2vPkmADC1CyfCuKP1yP2pJyJJ85DmmXniGBFKJxFEIiw12YX4aaEJVWQ0AJSKtBqw0rAoqAIhBGCNAuenBPI0Y+J6JmhmqaMfibzKYne4LUTWbzN87Fus+W4OmnnkEUTXaEmBwsy8P3fvADd92JEyfi1ltvdR8H2rkwOQu5d17prnbi4VfQ8/aLxGFb7id9jBCCdF6cjCFYmTpEnL4H4mySA4YOpq/DVXI9SVRThBqgQLL1cMgJCG/J8fLDnB+MgpQhBCQo4mH2l0nbzJwRJFGmuZ15nlua4fUTTYhL5F04LeZaQkAGp8q7YhVGT6NJkEqrImBGeiMpT5k73vWx3zAhQr5zKopAKyOgBKSVAdbmFQFFQBEIGwQ4gbRGM2LUqnc2+B++TOSdZNK82Tj6l0fwxRdii90gW7Zsce2lpqbiG9/4hlkc1Pay+EFYWn0CB6sKXWZCEdWiAcktRmSpaGAkg/olB2KQFbEHmDNSVu2FlAQj1Mw00yfF3TzNjgKJLXmcz+r0xTBNoJqQyyFDomk1S6wZyxuUHF7tyOo6MgaKg71gRe0YCamTTJP3wB9RdbpGy5qMwNyY3lgu3wN/ErT5nb9G9JwiEACByADn9bQioAgoAoqAItA8BDg5H9zL97Wc7DOqlYNER0e7NBxRYiZll4suugjjxo2zF/s9pp/EQ9npOGdNCWILZFJM0y9ZvU8/WY5bX8nF/3wmK/h0pH7iM4kMJGZPbSVMqBdIApEJ+uA8swR49H1gdw7w5w/EJ2cRQP+M1hQrYUgW8mlqvez3ZPmYfka0Mydyx7wwtLtXaXUEZgsBGSSmd74kQTLLXC7+QSqKQGsjoASktRHW9hUBRUARCFcEOPG8YY5k+hstpkkyQTWFDumXTjHyP5hlDtv082cgxZKbglVi+qaj37cud+W9cLjEd5FEYUp9bxt+sCYSz/72BOZsKcP9T5zEUw8ew5cWFSCC5kT0QaAp0VsBtDa+79L0M8HkXKB2wJccyQOeXmJEmbLWoXbiuaUSkcr/arf1kibvM2eCKXTUdSKTaWJaRf8fmlhdIT48jKLGoAR8N+ikzvfg2jN8kxez/c66JZllYkmaJW464Okj1Q5jio6IxH2S72akLTklu9IjIha/Tp6KvlHyrFQUgVZGQE2wWhlgbV4RUAQUgbBGgBNTJtfjxPO0OCFz4mnPfO0A0KbqPDxYtgndbjsfhRt3o56mPCJ0Fn83+TQSKnbjlgRx+A5WVu42zH9E65FyrATpRbUYfrRauiOTYQodqk/KZDFTInwxIhOTADpNqI3aofvLqFD08aDmwklIUGjK5kve3+x7UktC9d4m4DvntY55E6OXfbK1MWoZQ5hm26YV/XsYPScBuWmeYd5mjaDma1ydvZzmZgzKQB8hCt8tHjO8K0mXGfnNONumf3u4QjfPwraa01hbnYsa8QAaIYSE2hESlFYVhmNetUfCbS+T90a+Z/WibZk5FBguWjCVsEKgld+0sMJSB6sIKAKKgCLgCwESD0aWCYJ8sIl/C8GQ6TMSJLt3ytmTXK3GjRqA9JvPd+2/JSFkC4MMm+u6wNQE0EdCHK4ZjtdLGC7WFOYoaQuJFFyunW0QNKuWiBN2RuG5RCarvoQkieZX/iSv2Dt7vb/6TTlnarjMPCUucin9ZshSM2EbgxMw0zlDCTuZXzXlfp2p7usW8mHtN532X1kjzyTXWtou+2Oju+NmIfGMiDYvNrP1yceKXYapYPYxCVgg3+66WiPp3/PLgcXb2wUDvWn7IWBbqmi/juidFQFFQBFQBBQBIpBTW+aRqbvn/1yKstU70f36syRMqGhURKqEntCZNuiEeSbfaAgH/J3UiUgWvxAPMeuw0E/eDY9rQnHAiftZYw1TNZIgRsClb4jVx8LpPnQ6t8nItD62Ejlk5KksW9Qp71rNK+klPjx3nGtkvN8pE8tN4tBODQfNxpgvJhyFiSWZwd2X1Mnke8lO4Kut9Ex83bc9y0noPzaCSDh2gwSEUfQGhREmjkCET6ESkPB51jpSRUARUAQ6BQJFDUkDzc7G9E5D759dh+Q5Mkm3SHF9EBGkzPoDehiaAK7CC7nIQIJ5pnHLnBUUyYWAoRb/BqO09f+SiDDfSbBCXwqbfH2smDnZhSGCW1OYPHDmMOOz9W3/WpvW7EdHads0u/LXHyZtpDbE4Rn6u6zTnmO+Gyeto3VAa/cpAbHi0cX35ddORRFQBBQBRUAR6DgI9JKwsFEuNUBjn1LmjhOFgGdyvN6RDiSi8RLPvRkyQaZwkm/6JRgltMiSLNwSFcvM1k2SwnpOUiYmXPRlsSZcdKrXFmX0DaGplj+hWRd9M1TaDoFK8f+wyZVDbaZ0nIzT7yiAUBu4pSYfhySBYKeWY54mjVHiaxITaVsDtyey7NQD1s4HQsD29ANV1/OKgCKgCCgCikDrIpAmTrIzY3piRbWsEvuQFDGfotNs0DJcTJP42XQQGCgTd07+OOGRfCAuB2FO5OkoTMfzXDGheeR94CuzGk2XaLP/+Q6JNiVbTh6ZA2TCQMl6PgZIbmYejaA776MiCRlNt15b46OCFDMCWVuak/nuSec6Q4LJJJGnioE4edb0ZQkmZDJHaU+uKUWz+wzzHD+1RlafH8+z2FVTiH9VZAv5kHe0QYZHpeKm+OGYHJNhFnWebYPpo9nhGb0Hgx8PsdXxOKcHXQ4B+VapKAKKgCKgCCgCHQuBm+NHuCZfxTZzLPaSepDbxXE2NpiMzcz38dk2g3hwn5oOOm/T1ImRd9bsEed48begI3UfIR8mmaCm4wVxjv2fc4SYSP2XVovTrNjum0ICs05MRujcfttZjdeZ59tqSxLEDOS0r6dJjylx4t/CyGM0jVJpGgKMSvbORnlXLHguEh+FcQOAy6cGJnR8Jnwe/jQckwb5bIfk439L1qIC8lwtsru2CPeWbsDPkyYJQW8HE0FLX5q8y1wvloAJdm2mqz3WUQkbBJSAhM2j1oEqAoqAItB5EOgnuQj+kDwT/yrPxtqaXFdELPZ+SFQKbowfFtwEjKvYzy71mPi4VqfNFWqSEH8TdE4gGb6XNv1W8mGFkQ7eJDiXycS0vWSKrCRz0ksn8KJyY2V9dD9DS9Nefeqs990nhPK1td7Pm1ov5oqhfGmGsfX1l+TvoknAm+ud/R5IeOeN8nU1Hi/f4UU+zMq1Yi/4j/KdmB7dU9KrkIp3EmE4aX6XrKTO2nX6XU0fYi3R/S6OgBKQLv6AdXiKgCKgCHRWBPoLCbkneQry6ipwsq4czGY+MCo5+OHQqdWy6up1IXNYDBMzLj+mMC6zq0BO3Ftkxfz8CWKqIxPP9hKaWXGFXqVlCDA6lS+yyZapHVkgmqVA5liTsgytGNtjXhkK34+JQhRptpdoScxpnHX9pa/HjlrRuPmRE/Jd2FSThymdyRSLmsXrzgBeXOmpqeM4ac54jZwLMkS3H2j0VCdCQAlIJ3pY2lVFQBFQBMIRgXRxSuenybJ+v/9LONE8Ls6xJCG+pLBMJosBokhR08J6DEmr0nkRKKkADoiPjy+hRozhZP/yoUH2aDJE3xBfAQuG9ZF3Sz4MbsBrmRuFK/1+hETbLkWfbEDqOZ5O7CQhnU4YYvf7FxrmkExIKEolDBJ/lslZ4RMNrNM9tNbrsP9vQuvdV1tWBBQBRUARUARaFwGaR/kTrspa/Sac6gYbFrc9tR9O/daypiPgz2eDAQpo4kbSWi0fCrUhNL+7cY6RZNMo9f5rJmr0PuNVkhrhSXZL12Yj5/4XUC/+S90unumun2rPYeM+08F3+D0xQzZ38K5q91oXAR9xBlv3ptq6IqAIKAKKgCLQ6gjEBzCJ6ttdHIED/Bu8ZHLghID908Mry3erP7h2ukGKEFKaA9mFGowdRxtNs6waMSaD/PdyIxCA/bpmHDPSVf/IRNeV9RKhLfext1BXVIa8pz5ETZFBqFMiojFNosSpKAKdGYEAv7ydeWjad0VAEVAEFIGwRmCcmMf4E/p+XDHddw1GKuJqLR28fQkdgf04FPu6TMs7IAI0j3J61ofzG53J6WvTS4IXWIUkJJjkg9ZrfOwzOtRXJdQu3ctPPfEuKr4wzAir9ucg909vuK66Nm4o4oKJAOfjHlqsCHQEBJSAdISnoH1QBBQBRUARCD0CZwz3b1s+UOzPrxXnV35oi24Kc4FcKjb3l08ztB/c58TUHnWIq+UMy6rhQ03kOv/2LHEQtzuY55U0jEtoAXPJOPl8ZB8P2djnxvbBVw4novB10axYpOjDtZizrhBXxGdZSjvoLqOG7ckBlu6U6Fe7gHwTww7aX+1WmyPgoGts8z7oDRUBRUARUAQUgdAjwKg6XzsTeGUNkFfs2T5Jw1Wi/SCpGCUha/mhMzkdY+1mOFz1vkpCrzKvBpPTMZ8IQ/ky6pT6fgC14hPxxSFgg6zWUxPw948NwsbwwAmePg2eD6EDHiWJGdat84HFO4wx8VnT7yMtSRJYCkntIVsnIQYhknqZvC/6479Qk+/5ztaLv9Lav/0HlWdejrg45yhaIeqC0QzHTr8YRuxyIl2+bnYkzwhlbCUdH20BGBr6CiH19u+Xr3a0vEsjoASkSz9eHZwioAgoAmGOQKb4eXznPGCfRN1h5nNOpEbIKnaGzYyGMAWIUORaGScJUWlEgBPU55cBBxtCzTKzPBM9MhEfEzXeLJP5boZPQ+NFHXyPJORi8f05b7yRV4WBCHLFCd2fZKb5O9ukcx9//DHy8vIwYcIE13XFxcVISZHcISJ1QoZefPFF3HTTTa7jVvlzWAjEEiFge04YpmckkTRHnCfvfiBCeUpwek7eB5IXq1Ajsl3IKcu/KosCwQiv4fvFBYCmEKBg2tY67Y6AEpB2fwTaAUVAEVAEFIFWRYBajqG9jU+r3igMG/9EiIZJPuzDZxSy10T7dMsC+5nOcUxCSnOsM0cZ4/DVa06OmWgvRHLeeeeBH1N+/OMf4w9/+IN52Lrb7GPAS6sMrZZ5J0aKYxJBEpJb5vvMYeKqvkLq2cmH2Q63e6WNgxLqmCF5fQmTFbIdatQYGpn4jukPzB0J0DxSpUsgoASkSzxGHYQioAgoAoqAItDGCHCiuemg/5uSnDB3Rp9maghoOndKPjR1G5gORMpkNFTCifWmAzIpFu0YzawGSPskEqk2jc14MbXjxHmzw1jZH/oINSHUbqi6H/J2akR7xeztvszJqAVatN3QDvm6OUMTBxIm7vRFQPhMnvocOClaNFPYH2ahZxjk62cDg3uZZ3TbiRFQAtKJH552XRFQBBQBRaALIECbeWZtp4kYzU1oIjZtSMef1JJY2HJnREY4PA9mAm8qAeEE9L1NnokBmciP2ojpQx1u0sQimhm9IE7enPCaQjO9ZdnAleIbZM0qTw0afReGyMR3zV6LKZ/4ETHQAYlLV5DtR4GySv8joa8PTdOczBVJFGzvg2NjFUJcfcmnWz3Jh7UefbReX2skMwwlEbXeQ/fbDAElIG0Gtd5IEVAEFAFFQBGwIbBYVpT5scpxISKrZaLL1V46PndUsUcFk37+ZuZV3r11qOddyVJCrQdXwa3kgKeLyoF3NwKcwJKImMKJKSfGDBDAa3okA1OyDJM7p3tzkm0nH2ZbnERzkku/D6u5D9uZOMj40DfBqV2zjbbcMnM7Hf858c9IMbKKM8FmcySQnwvbpNarsMzZh4qmUiSJfE7+pHuS81mOgc/Rn7DtXRJxjEEjVDo1AkpAOvXj084rAoqAIqAIdFoEaG9vJx/mYGgH/+JKY7W3o0YNYiJHOiVbiEJslG1awYk6NQdNEZr5WNr0uvTzHYapFKMzSZI+PLvUMNMyK1IzQ4dnajEY6cy+Wr7xgP/2SUJW7wEum2q26LntCOSD+Ly4wtv/hu/T+eK8PmOYZ5+DOQr2PfNXb+oQMdPa5vtuxI7k0EnoMxSMBiVHtGNKQJwQ7FRlQldVFAFFQBFQBBQBRaDNEVglk1x/wpX6QCvC/q5v7XM0FwtkDsW8Gfa8Gv76ReLFrOP+hL4K9COgMMQyfUSchP4INKmyC52pA8nunEA12vf8y6u8yQd7RPJE0zWS26bK6L6Br+if7u0jY71qlhAfq+bIeo77TNrJ8NhOEiPvUzASbL1g2tI67YaAEpB2g15vrAgoAoqAIhC2CNCMx1f0KCso+8UvoSPLgtFGhCKnPlJDQt+JpkipkC5OogMJzYDoM0P/En9C3xo6mFvFfmw9Z+7z+XRU4bjpr+JPnIiXv/o8x9DUY/v7rkXtxZkSicqfMFgAQy9PE02IVVNCEkpn/bPG+r6apnO9uvk+zzPsw6ggiJL/VvRsB0DApivtAD3SLigCioAioAgoAopA50CA5k1Xz5QJ8WAjbGqBEINEMcti5niGTm1q/gaaVbHNQCSBfg77gtBkFIvPQK5oSKyr8lzFD0T++vfouPgH0hCx53SyL5UQtsxp0hQhYawT8mW/B53OL5wIjAxi8k+zvEuEbJwrzupMRkhNGf1TgjFdI8F5VbRavoTJDJuiUfPVjpa3OwJKQNr9EWgHFAFFQBFQBMIOAU7GBomDeSANR1bP0EFDzQJXzzm554Q8XiaKoRCOJVR5Vjh5ZRQwhlz1JSQ1DI3rFBbX6Rq7NmOakCXmtfBHcmYMdWqpY5TRBC0YYVLIpgqJxjVnGMkkacJGp3NO+CcKoWzq+0JtCBOBNkXGy33oaP6p+JHYnw/N+ZqqUWvKvbVumyKgBKRN4dabKQKKgCKgCCgCDQjQXt4fAeFknJGXWiqcgC/daThW08SJwonmBJnEc5W6qRNLo4XW+7tgjGFi5MshedZwI0Sxr1wS1p4liUaFq+9WoQ/CZbJC/9YG70ku6zHj95De1is61n4wIY057pbkJiFBtWqN2hKBOaIFoQZt4wFDg8L3c5xo06i5UukyCCgB6TKPUgeiCCgCioAi0KkQoDnLfJnsMqqTXTjpum62px29vU6wx2+u804YyNC16/cDxyViFLNbO+V1CLb9UNfjBPtrZwJvC0E4IRGPTCEmzLtBR2YK82/Qz4RaHV/CqEw0AbLLpCwj1C6jXTHJIM2O2B41H8Nkpb0jC/00PvzCf86OyTK+ppq/daQxkzyRCHYkoQZx/T5gnXxvuN+Z8e0AuCoB6QAPQbugCCgCioAiEKYI0CmXE961e42JNCfLIzOdM3I3ByImOfSXrZyTdxIRahU6knC1+1vnGr4MzAtCh2biZHVsZn/pf/LMUqBAQrjaZUQmVs9Ox7sl67GvtgixEVE4I6YXLokdiMyoRKCf+HlcNcN+Vcc/5jtypfhq/HcV4GSORew62uS946Pqv4fEmbljAjn/+29Fz1oQUAJiAUN3FQFFQBFQBBSBNkeAK++tlU17w4HAw2GdjkZAzF77wobEimGMGVKXfgrUYHBFupsQix6S6E40H3/NKsD7FZvNlgCp8kblQXxQeQT3JE3GxBjBvbPKcCGpty4Almcb/jJckefYp4p/C7VEHUmj1VkxtvZ7+S4lH1Y8QrCvBCQEIGoTioAioAgoAopAh0TASTNg72gwdezXtOcxfQPeWi+EQhiFKZHiCM/jMRIl6bwJ+KzqGN4vO2qe9dhWoBYPlm3CU6nzkRDRiadBND+7epbhx1IjBMSuHfIYtR40GwE6w9P0SiWkCMhygYoioAgoAoqAIqAIdEkEGNY2kARTJ1AbbXX+tIR1pW+IlXxY771CVqp3HcdbounwJ8X1NVhUddxflc5zjmGLlXy03vMqqTAic7XeHcKyZSUgYfnYddCKgCKgCCgCYYEAowkFkmDqBGqjrc7TX8UentV27+p1e7BbfD6sUlNYgnrbdTtq/DivWy/W/fBGQJ3NW+X5d2LdY6vgoY0qAoqAIqAIKAJdBwHmThgo+UZ8ZQxntKGOnPPC/iSOBiYNkUfyEYF4uny4pGTpFpx4+BXEDclEn3tuRHSahOF1iZht+ZLyKiMwAM29imUFnIkPJw0ysOpMGiNf49NyLwRq6uuwsvokdtYWIFLeoKnRGZgY3QMRTObIgAVH872u0YLmI6AEpPnY6ZWKgCKgCCgCikDHRoBJAm+YA7wpPhPMbm01XXJFgZpuTK479igae0dfjwASFRmFCTJx3FSdh7wn30f+c5+irqQc1Ydzcfhbf0bvu65F4sQhmOrLCZ0mN099DjD6lin0k1m83Uh+ePN8w+HbPNfVtyRjG0TztO0IwNwsPVOBaUOM5JNdZOzZNYV4oHQjTtU35MmRcb1WeQCDI5NxtwQs6DNnBPDSqi4y2o4xDCUgHeM5aC8UAUVAEVAEFIHWQYAZqb8yC6D/BKNGMWJUf1nRJQHpbEKNDvN2+BOpc2F9b7xz529QukpIA8fbIJW7juDoj/4PA2+5GHO+fa5Z7Ll9R3xMrOTDeva0EBH6oNw411radfdzxZTtWQlzXCzZyU05JcSMZJa5Ri6bCpDkdmI5WVeOe0rXoUT8guyyv64Evyhdj7+Ono04Ju38ZKsnibdfoMdBI6AEJGiotKIioAgoAoqAItCJEWAG8Omm+VEnHQfNoJbs9J2Ej/b6M4fhjIRkfPue/4dXZRWbcvLPr6Pnty5BREwMukXE4H97TENMhIMbbGGZOLHnuK7x+YcEiAQlPcVnlS5xgtqyF1d6kg/rwDYeADIlaeSMYdbSTrf/duUhg3ww10epaECo5SGpipMpspjbHUMZllTl4FxmaGeUNfohfbil042zo3VYCUhHeyLaH0VAEVAEFAFFQBFwRoDZ0Kl9eH6ZMVm01nIl6BOTMsmkzsnN/wyfgwtqJ+C9ysN4tdsiTB00AnOS+mFhbF8kCQlxFCZmtDmre9XjxJz1ujoB2S1EzJcmyARltSTQnD409FoQalzWSehbkkE+D4Yc5n24DbEsrxZCWSbEo0DIp1VIREqkXPLKLIsWAhIn5IMk/hzRhHz8mrWm7jcDASUgzQBNL1EEFAFFQBFQBBSBdkKAk9A7LwC+OARwkkxCwOzfU7IAOtVbJCsqBd9OHIMjkgH93qSpiIsLEJY42IhHwdaz9KXT7R7IDdxlEhSShVRJghgqOSj3fWGFkWDSbPNEIbDxgEz+xwFzR5mlIdmWVZSj4L+fo3z3EVTnFqK2oASRYrYYmZSAmD7dkThhKMqvkvdNJaQIKAEJKZzamCKgCCgCioAioAi0OgL0a+GKOD+hlEESMYw5Nbj67UuoaRncy9dZLW8JAhXi8P4fMftidnsnoQ9GphDQob2dzjarbOCJGhSfPx1p8qHk/vsTdFs4GbGZQmobZGCO9Cv0yhez+bDcKgEJy8eug1YEFAFFQBFQBBQBLwRIbBjhiQkNfQmdrxPEFKwthBGoKmQyzshcDAVsFxIlZunedNBIlmeGC546GKC5Wkskq6d/HNh2hvjB2LROLbklNotWiyTEn6za7UxAqAnbf1I0JcRCzKkYPnfiQGBEpl8TsYu2VmPbxMYb1luCFpilF24T/5DR5pFuQ4GAEpBQoKhtKAKKgCKgCCgCikDXQGChmPnQH2D7Ee/xjOwLnD/BuzzUJack+tRn24Gdx4Bs+Tz8rjHpPmtMY/Qy+i08swSgeZIpJCwfb5GwuQeAm+cFTw5IZDiBJwEzhRHH6Ofizw+EOWRCGQWLBCKQ7HcwDasVP5GXVxl4Wa/nMySRun6Od7Z4jnffScz7KAfLxWtoxSgxz4uJRo8r5yAqodFU7+odERhaotNlK6yh2FdEQ4GitqEIKAKKgCKgCCgCbYcAJ5wMBZtTANAkapQQA3E+D4nQv4Nhi5m80a1ZkAnppCxjMhuSm/hp5KQQCuYhIZkwhZPlPTkA/TJunGv0492NnuTDrMstSQPDBXPi7U+2HgZW7QGO5Bm1endzRRFzhdglsbj2DO8wvGZ71ASF2gTObLup20/FNItkzUmIGUMrXzWj8SzJ239WAIfzECmJJu96ogivn5mC985IwYk+ojmRd2qIvFpXZEdi4UF5H+aJaZ5KSBFQAhJSOLUxRUARUAQUAUVAEWhVBPZJ1KLX1hpmSeaNmCRwmKzYf1kmmS01PTLbZAZ5ftpa3t/sST6s92eoWBKLm84UAuZjwm3Wp4N+folEcZLITU7CSfvSnZ5nqE15a70QknwjxweTDjJfysYDjYkIaXbVWokI6YPji0iYPaVGwyr0F2FoXH+yVTQhzONhmou9vNpFPlyX9O+OKNE4ffnzYly1pBj5KVGIHtEXackyTgoJKU3aVEKKgKCqoggoAoqAIqAIKAKKQCdAgBoPOinTJ8Iuu48Dzy0FqB0xhZNThnOlNuMjMU0KxsTHvLY9tiQMgfpI7cZaCX8bTLhgEgknYRhhO/mw1mPm812CJ4X+LrNHAN84G7jjPOAa0YqE0AncuEnDX2pVrGZgHicbDmaK2ZdVOEZfTutmPWJlmm4dlfpWjNOS3EEFIkXRlFFUi7RseV8oJB/UnHQLYZQvo+Ww/6sakLB/BRQARUARUAQUAUWgkyCwfBdQLf4KVqH/wqE8wxyLGoJsWfk/cyRAc6JFohnh5DRXJu1rxNRo/QEjZC9Ni5ycuq3ttsc+CYhNslLSbSVyWGjJTO59trEkUsyonIQEJpCQuNGBuy2F2is+G5pH8bna5ayxwHBbnwIRMbMNs152A7Eyy7ml5oUkg+SkSLCtlvdobH9gvnie95L3SCXkCCgBCTmk2qAioAgoAoqAIqAIhBwB+kHYHcMZIYrmQdYV8GMyifx8B7BF/BsmDBSzm3jPrtDf4YXlxop+KB2oPe/ifFRQavhxyFBck167eZTD6v93Jpzj3ZZpquQ0STdrc/V+sM1cyTxndVw3y+zbYOrYrwnFMUMcU9NCksREhNRo9etu+JsMcCBjzAvDsVo1X0796N/DKCVJdZI0ISD8mEKTLWpHVFoFASUgrQKrNqoIKAKKgCKgCCgCIUWAE0f7JHOP+INYyQdvWCMTVnEudmlK6E8wfYh3N2iCtFeupd9IWwgdyulbwf6QSFFIfhhp6vKpRshYlnGSzEkviYovIUkZL8TqpETKWi1aHV9C8sVQtE4SE+VU6lkWTB3PKzyPSI6YLJI4M7TtABnbFPGlSIzzrOd0RG0EM47zE0g4RmoreC9fQpOxjFTjbDDBCpKkj6a/iK82tbxFCAhlVFEEFAFFQBFQBBQBRaCDIyAhUj1s8StlgusUIpY+C6fE5IpSKr4ivsyVtksUrbYQEif6pjBql0k+eF/u08/iGTlnajJISmj240/oj8FkiVyh92UiNUS0CBdN8t3K6H6+z5lngqlj1rVvSfD+9L4RfYrjZihhJhF8RMq4H2q5UMbqi1hQy0SSZ8oYGTsJhj8hUaJWRaXVEFB0Ww1abVgRUAQUAUVAEVAEQoqANRpRaaXnhJ434gS+j6x0Wyf6QkKuHT4DMZG2KQ/t/NtCth0BOCH3JQy7a129pyP2BRO981ZwQjx3pISEHWW0xPDD180GvnomMG6AYdJFTcANc4wyEjZfMmmQ/xV++mIw0lVzhIkE/71MyJ88H7vQf4cRqHJFexNKIem8dQFgEhEeM4LXOeOA288GUi2mVcSNjuXcOgnNvEyMnc5rWUgQ8PN2hqR9bUQRUAQUAUVAEVAEFIHQIDBruKygi9aAzsJRQjbswpV/JpHjBNTMoyHEY0KGTNDt0qvBJMdeHurjzQcDt8h8I9YJP8dJksDwsXSK5oo9yYXdcZ6Ei+ZFTY1KRYLx1bniC7PC29yL92CkK2vkJ5q5sY/0qyGu3cVMbEqWkX/FTuw2HgCYZ8OXUCNE07FLpviq0bxyaoVmDjM+gVogXozqtTxb/IpEQ8M+cUx8Bkyu6I+8BWpbzweFgBKQoGDSSoqAIqAIKAKKgCLQ7ghwknnTPMPJnKFiY2PEfEkmx7TXHygr11z1ptAxmb4HnByniwmOXahNoKahLcRJE2C/L03F7NISLYS9LadjRne683zDL0Uygru0Rsx7QqJj1Q4UlhkZ160Rumj6xsSINAEjWbGaK9FxPJCYIX4D1WvN84ySRk3IlWIKRx8V6xj+f3vnAS5Febb/h1CkS0eaFEF6R6Ix5rOXxKggiEasRMHYRcV89v9nVzRqoiKIClGwgdhr7A0sERRFRSlKr4IICPh/7lnmnN09ezi7B/Yw7P6e6zrs7DvvzLzzm2F37n2fks3jsu+AAAKEGwECEIAABCAAgR2HQBj/sF+H2CyBihAmZ49S1qSlntJWMwfJwdSaNfhT96KzCdkiUNPFUUkZpeJnG7I1jlT7lUDr4IJDf8XZ4+4yFS8+4vtJSIj/Ae7qFFqY7jZ8n+o1OZlAqj5l1ab7IdVsWlkdP0+P43ceBgEIQAACEIAABHYwAvqV/hCPldDDrx4i400P1oqFkJtN+HCvPnLRGvj7WDam+P7ZXE5npiWdPtkcY3H7VuyKMoptyVSFXC5MoWn2qSRr4hmxsLwmwAxIXl9+Th4CEIAABCCwgxNQqlb57itGQelrlZa1q6egDQvIKauU4hYkWDR7UtbWrnFM+MjNKZXJ7UlB5FG0WYtTj0ouS8o0tmKNiz/v8u5XXvyxXUwI6lq8/01iIoDkvaRKjZzch/c5TWA7/E/MaZ6cHAQgAAEIQAACZU1AtTP2dZesVKaZj3RqT6Tadlu0aTbmLz4b89LUmEgKU+4q0LmLCw/N4uxI8QcKildmr/j6K5M+NPt0jmfl8ngQ1duQi9uzn6QWIXt5gH1yNfNtwZl97FAEECA71OVisBCAAAQgAAEI7HAENPvyR38ol7vY957BS2mC5YakbF3b0uQyNdlnH3QMCR8VOtRsQ2mfCTtqAAAka0lEQVQreidXUpfomOpCI97lSkJKsTYKTB/zVqyKuWZB6teIzYQUFCL0JAHKMFVcfREJMwXji4kC8LGcJoAAyenLy8lBAAIQgAAEIBAZAgqWzzRlbrqDV0rZl6cl9laNkckzPVPVnqWr+t7I4zmau4vY7CWx/c5bkSg+1Nq4VkzsaFmzI3KFUzrc5vVjf2rfki33ZAGvfxGbVZGwkXBq69m15DpXXHHBLe2PdTsEAb/KGAQgAAEIQAACEIBA1glo5kMzBUt+9NSvm7bd4RSrkSw+wr2r+N+j78dmF8K2TF6P7u1uVT6bIUsuIKh2CY14U+XzdE0sRr3m7lsuWsJZFXHRPka/XnIAfLrHoV/kCDADErlLwoAgAAEIQAACEMgpAhIeKr6n4GwFystUu0SV3ZUyeKYHqCs1rZZVhyPTQnjvfx3bZ3H/yr3pk1leSd0DxTM1VRE//YCY69WX82Jby02qkc98qMZKcgayMMYlneM8/2nqiunaVvt56qOYS1c6+4rv8/3SWBFHVWWv6yKppMrv8duyXCYEECBlgpmDQAACEIAABCCQtwSe/thMhRPjTbMJtzzj8Q7uliXRoQf5Kd7hJXej6uezDq28Wne6FrpIban/dz5LUhoBon0qe5jiOv7cw+zrBVs6imcf8yD0dExCTPEhWzIxmu3jTp5lKW4biZbHfLYnfoyrPK7k/jdildsP6RJzRUsWTcXtj/asEcAFK2to2TEEIAABCEAAAnlPQO5RyeJDaWwVzL3aH46Vznax/4W2Zp3ZuPeKujuF60v7ui0euiVCSrJ0+mgfOm/NDJVk6peuPenZuELxITGieJSPvjX71oWOCire+pzZnS+azfdgfWy7EkCAbFf8HBwCEIAABCAAgZwmoEJ9yaaHagmN0JIfiBW3UZJbVbitXlskxWHErwuXkzNahe2ZvLb1miZyZyrOfre7WdO6xa1NbE+uXp+4tvBdurVbFFcTxp9I2EydW+juFu5tjrtmqar72LfNVnoNE2y7EUCAbDf0HBgCEIAABCAAgZwnoEDrZEsO5l7jsQrJNt0DsTVD8qZniJJb0ZPunzXDYzBSzRrs2bpoLEb8/vSwv62qrR/ZK1bno36cq5WyZfXZw+xgd3FK1xTvElapL24biQ+lEk7HFJ8SspHAW+0ZuZJNaX5VlFLiTzE52HYj4FcWgwAEIAABCEAAAhDICoFUv/Qr4DzeKqT4PVhxHbe5y1B8X7kUNdzZ7HgvbKjg8NAUI3Fw51j8SPgQHq7TQ/wxe267Yoxy5drD63noTw/yep+qnonGoTgPf7FaPlal1403vVf19Gc+jm9NXFY633RrgmyIY7rIZ0OKs5DnZz5DkolgKm5/tJeKAAKkVNjYCAIQgAAEIAABCKRBoFNTs+88y1W8VasccwUK2xq4qIi35f7gPtfdhVIFdC9cafbwu2aDD0ic9djL3Z9aNojV/VAhQlVXb+2B7IrJKGmmIf7YmSynqjAv4THFa48o45fcnWQ1PeOXBMvePsZ4IaKxaUbiDZ/lCdPwqr/6qIDi/h31Lj2TMAstfl9hm17Lly8US+vczQ3bbgQQINsNPQeGAAQgAAEIQCDnCXTe1exdT5Mb74ql4n0SGJoeqOTuUUppG29apz7F2YIVsQxSrZPck1S474iexW1VNu3PfmL2oQd+x5sKFL76mdkPLowG7JUonDQL0qOF2TSfkVBchqqqi1mmoknFC5XaeJUfq4rvQyIu2RrWjAkztdfxFMLYdiPgEhODAAQgAAEIQAACEMgKAblAnbiPCwqPeQhNLkutfLZCMwhd/WE7PtBaGbLk1lRSFfAZ88O9RedVKXOTxUf86BSnodiWZNOM0J5tzA7pGksVnKn40P40a9J3j1gNlVTiTcJGM0ShqQYLtt0IMAOy3dBzYAhAAAIQgAAE8oKAHqhVzG+Ox3V86+5YclPatZ4X2/vF7D13VVK7rHY1FyTNXYD4cklpc4tzMwp2tJ3+SZXxK3koEiiqe5INk8AYtK/ZO1+ZKQ5EXCXuNMPUrK5ZBXfBkilrWPcWwSL/bB8CCJDtw52jQgACEIAABCCQbwQkOvQXb+39YVwVuxUcrRkRCY+pcwrjJ+L7xi8nu23Fr0tnWSJILk96reXCpyTBk84+l64uuVe8K1rJvTPvoZmjo3ubHdXLxZ0LEYmi0B1LfOXu9T/tC12xwiOIhWJWJOx+WB4TL2Kym8fRSKykCrQPt+U1YwIIkIyRsQEEIAABCEAAAhDYhgSSMz0pAPvFqcUfQL/qa6akNCbBMdmDxJWGNgwSlwDRMfdyN6j4IPFM979TGo+VqbKCZXqc4vorvbHiTeRuJSGiyu97t42dp1zbNMMUzoKE+1D9ELH+ZqHPmniA/xfuJqbq9M1dKCqwXdXa3/zS7DiPXUm3Inu4b16LJZDGnVLstqyAAAQgAAEIQAACENjWBHq3jrlqhVW94/ev7FaquVHaB/mnPe1tcmV2pct9eZpXCF8Rmz0o7WyIXKvkYrYl69RsS2tLt06uVi/5+L9XYP9mkwA5oKPXEfHg9Lo1wtbEV83GjH4jlk74p3Wx+BQJNKUXVlFDpfZVvRLNUCnz2NmHmFX3eBVsqwn4XYxBAAIQgAAEIAABCESGgETGsb8zO6ybWVjwT216eD91X7P2TUo3VKUDThYf8XtSbQwVOyytdfGA+i1ll9LD+7YO/pb4GPNWovjQ+JUpbNx7Zl+6kCjO/vN5TGxovTJ0SXzEm8RUWF9kncfrbIld/HYsl0iAGZASEdEBAhCAAAQgAAEIlDEBCQ4V4tPfJv8lXrMSpZ2ZCIeeTpC4+rQrpcCp6I+Vyvj16Ptm8zyOIt40CzHACyJu6xmEFz5NrCESf0xxe8Hdq9o2LspO9UeUlSu0ZT4LlGwbN5rJrSuMt5Gb1h88fgTbagIIkK1GyA4gAAEIQAACEIBAFglsTVxG/LCWuMtRSZZOny3tQ/EkyvillLwzN2f8UjyFgrm3VkAlH1dFGZOFTnIfuZdpJkPHjzfFioRV0dWePPsR9l3rMx+hKY4E2yYEECDbBCM7gQAEIAABCEAAAhEnUJZB4grYznbQtjJXFWcSC3LDWuAiZaWLjd29aKMC93u08CDzSp5xzP/WbzBbsXkfypAlN6tkq1i+sKVpncJllraKAAJkq/CxMQQgAAEIQAACENhBCChIfPbmmiPFDTlbNTqKO97WtEtEpDLFbSiV8Y+bxcUvLjQ0W/KSu2OpDsmxntHqrRnugjXfM2RtnhVa5300K1K3umcCc3c3mWZsGnj1dJlmoXq1jC3z71YTcJoYBCAAAQhAAAIQgEDOE9AMgFykirMaVUoXJC73pbmegUoB3/OTYj+KO9a2aG/iMxKpMlwpdW4oPhSXEh8YLxezYePMprlAaV630C1Ms0Oa7dCMiZ9OYJrxUMpjCZE/eUKAepvFyLYYe57vgxmQPL8BOH0IQAACEIAABPKEgFL3Kkj8Ec8OpRmBeKunIHGfGZArUiY2/XuzVz4rrCmibZUC99CusYrjmewr074SBkq1+9gHhTEcKiQYf24t3RUsnNHQ/lXrQ9nAdL6qUN+5mdlXC2Kpdmv5ewkR/cl9rLXHjSh2ZM/WZk1drGDbjIATxiAAAQhAAAIQgAAE8oKAZgPOOCj2EK7gbM1etPCH7dIEiWsWYcKUwof/EKBiL8Z6atwTXOxo39m0Du5WdrSfg4oJrnIXqlVrY1nDNPPRwoPfJTQU26GsYhImU9wFS/0UI9K2UUws/Xa3WLV0ZcZSP6UKPu2AbI467/eNAMn7WwAAEIAABCAAAQjkHYGWDcz0V1pTilsV/ysue5QyTKm44Wn7l/YI6W+n+igdPHWw0uROdzcwzYJIYPzg7mAq5qixLFkdm9lY7QJF71V4UOtUfFGuafFuWooHwbJKwGUeBgEIQAACEIAABCAAgQwI6GFfMwlbMhX3k8tTWZiCxHf3GY0/eqyGxIcqmYdxIEtdfPzsgkMpeSU8fLVVcXc0mQRJcsV5xcJgWSWAAMkqXnYOAQhAAAIQgAAEcpCAMkalY+n2S2df6fRZ4wJDIiM0zYascdeq0DxsJIgJqeAB56Gp2GB8Ct7uLcI1vGaJAAIkS2DZLQQgAAEIQAACEMhZAtXTDFbf1pXPSwL68axY3IliP2SBO5WmPDZbdZ/dSA60lxtZKJSaebD5jpSKODyvHeyVGJAd7IIxXAhAAAIQgAAEILDdCbT2wn7VXITEzzYkD0rZsPRXlqbZDGW9kohY7i5XX86LFSJUcLlEk8SHBEdDH5fcw8IYFq3v1tzssG6xQPSyHHMeHgsBkocXnVOGAAQgAAEIQAACW0VALkz7ewrcpz9OvRvFZBzYKfW6bLaqbodMKXoVWN6rldkv7oYVCg2t09jbN/bMXx6EryrpFXysl/ehzofYlJE5cQwCEIAABCAAAQhAAAIZEujpD/dH9PSZhcqJG9b2YocD9vQ6Gj5LUtambFjxJkHScOf4FrP6mwsKal19d9WSUKLIYCKjLL9jBiTLgNk9BCAAAQhAAAIQyFkCPbxmhtLYfutZseSOpeJ+qv2hGYjtYcqE1ah2YkX2Ni6E1notEGXB0syM4jxCa+WzICqaiJUpAQRImeLmYBCAAAQgAAEIQCDHCCh+oo0/+EfBJHyO3ztW7X3u0tiINL6uu8YEkiqaV61kVtOD0RXzIcEiUYKVKQEESJni5mAQgAAEIAABCEAAAlklIJewQfuZzVliNmN+rPBgY58VkXtWfPrdrA6CnW+JAAJkS3RYBwEIQAACEIAABCCwYxLYtZ6Z/pJN2a+mfGs22wWKTG5Ye7Qyq7s5dW+slX+zSAABkkW47BoCEIAABCAAAQhAIEIEPpkVy9y1aVPhoAJBMtOsb29qgBRSyeoSTm9ZxcvOIQABCEAAAhCAAAQiQWChz3wobXC8+AgHttEFyYTJXjtkddjCaxYJIECyCJddQwACEIAABCAAAQhEhMDkb1KLj3B4EiFyzcKyTgAXrKwjTv8AGzZ6oRy3c4ddnf5G9IQABCAAAQhAAAIQKJmABEZJ9vI0s1cnbrFX+Ly2xU6s3CIBBMgW8bASAhCAAAQgAAEIQCAnCCgdLxYJAuV+dYvESBgEBCAAAQhAAAIQgAAEIJDzBJCCOX+JOUEIQAACEIAABCAAAQhEhwACJDrXgpFAAAIQgAAEIAABCEAg5wkgQHL+EnOCEIAABCAAAQhAAAIQiA4BBEh0rgUjgQAEIAABCEAAAhCAQM4TQIDk/CXmBCEAAQhAAAIQgAAEIBAdAgiQ6FwLRgIBCEAAAhCAAAQgAIGcJ4AAyflLzAlCAAIQgAAEIAABCEAgOgQQING5FowEAhCAAAQgAAEIQAACOU+ASug5f4l37BNcsWKl9e1zrE2YON5q1dp5xz6ZMhj98uUr7M477rbJH3xo69evt/bt29pZ55xhbdrslvLoEyc8ZePHPWYrV660Dh3b2/kXnG3NmjVN2TeXGzPllsss0j23+fMW2K3D77Bp0z6zqlWrWa89utsZfzvdateulXIX3GsxLJlySwkzzxtffOFlu/66W+zJpx5N+b2g+sr3jx5jTz/9vK39ea316tXDzh96ttWpUzuvyZXELa/hbOXJ8/mWOUAqoWfOjC3KiMDSJUvt7rtG2iuvvFbsF42G8u4779uVV15TZFQvvDjJypcvX6Q9lxvOPftCW/3TT3bW2UOsSuXKNnbsOJvx5Vf274dHW2V/H2+vv/Zm8CU+9MJzbLfWrezR8U/Yp59OswfHjrSddtopvmvOL2fCbebMb23I4HOKMHlwzEhr3LhRkfZcbNAD3qknD7Gda9W0004/1datXWe33Xan7dKwod08/Loip8y9FkOSKTfutSK3ki1evMROOWmwrV69utjvBf2oMu7hx+ziYedbvfr17L5RD9iqVavt7ntuL7rDPGlJhxvfpYU3w4QnJtndd48sbPCl+n4vPTzugYQ2veHzrQiStBqYAUkLE53KmsDwW263p596Lq3Dzp49J/iFa8gZf03on2/iY+7c7wMBcZd/yXbo0C5gcellw+zIP/e3t9961w48aP8EPvqS7tv3CDv4kAOD9gtciKjve+9Ntn333Sehby6/yZTbnNlzrUXz5nbZFcMSsDRoUD/hfS6/kaj97rtZNm78g9ao8S7BqQ4ePMiuuPz/bN26dUUELPda7G7IlBv3WtH/RTffdFswo/vJJ58WXektEnmPPPKEnTroBNv793sFfYZeeK4N6H+Cfen3bbt2u6fcLtcbS+Km8+e7tPAuEItDDz3I+vXvU9BYoULqR2Y+3woQZbRADEhGuOhcVgQGnnCcjbzvLrvw4vNKPOTcOd8HD9zNm+9q8X8lbphjHZb4L4P6ta+1z2aEVrVqleBhcOnSZWFT8PqTz5J89dU31vu3vQraNevRvn07++Tj/xa05cNCJtzEQ4Jl97atE+413XfFfTnlIsOf1qyxzl06FogPnaPOf9OmTYHrX/w5c68V0siEm7biXitkp6Vnnn7O9Fl2/MABiSvi3s2aNduWL1tuvXvvUdDasGEDa9Rol7z7bAsBpMNNffkuDYnFWHTp0jnhc75Jk8aFHTYv8flWBEnaDanlXNqb0xEC2SGgLwz9aZq9JJvjD4SLlyyxEwf+1afZVwViRL7oTZs1KWnTnFrfvUc3e/yJhxLO6dVXXw8YtmnTOqF9wYKFwcNioySXIQkYfXnnk2XCTVzmuOCVO8OgU4bYkiXLbLfdWtrpg0+1dh5vky/Ws2d3019oK1assPHjH7OuXTtbjRo1wubglXutEEcm3LQV91ohO91H944YbcNvu3GL3wvzfphvv/nNb6zhLg0KN/alevXr5t1nmwCky019+S4VhZiJxeuvvWH33z/G1q9bb/qeGDJkkNWtVzfsErzy+ZaAI6M3zIBkhIvOUSQwZ85c2/DLhmC25KqrL3MXkPV29tlDTQ9F+WobNmy0h/493q6/9mbbZ5+9rUfPbgko1qz5OXifHOtRpUplC9clbJAnb0riJgy631a70D3jzNPtuhuuDgJbzzv3oqA9TzAlnObg08+2o44YYJ9Nm24nnTwwYZ3ehPcT91oimpK4qTf3WoyZ3KpuuuFW69P3yGITaoR0db9VrFgxECFhm16rVKlia36Ofe7Ft+fycibcxIHv0tjdoHtIM+MVK1W0yy+/xIZdMtRm+8za0AsuCZ4v4u8ZPt/iaWS2zAxIZrzoHUECI+69MwgOC11gdm97pfv7DrRXX3ndju53VARHnN0hfTXja7vh+uE2a/ZsGzCgnw3660lFDli9erWgbe3atQnrlDmrRo3qCW358iYdbmJxzbVX2s471yyIc1CmMQXFKmbpzLMG5wuugvO86qpLbeGiRTbpyWfs75dcYfc/OCIhGJ97rQBVwkJJ3NSZey2G7MmJT9vKH3+0E048LoFhqjfVa1QL3ADlDqiZkNCCz7bq+fXZlgk3ceK7NHa3VKpUycY/OibwwihXrlzQ2KJlczum30D7cMpHBbFFWsHnW4xZaf4t/N9Zmq3ZBgIRICDf3lB8aDj6FV/ZiJLjHiIw1KwP4d1337ezzrzAKjuDkaP+ZYN9yjieTTiAunXrBIuLFi4Om2LvFy1214WGCW358CZdbmKhYPP4X/P1kNOyVfO8ut++/nqmTfWMaTIFoXfr1sUuu3yYlftNOZviX9Dxxr1WSCMTbtqKey3G7sMPP7ZZ3822ww49yg468HC7aOj/Biv69zs+yJQY6xX7t17dukEgutwk421RHn62ZcJNrPgujd0xFSqUt138ezAUH2pVBiz98JT8XMHnW4xZaf5FgJSGGttEhoACpo864hhbFhe3oKCwue6/2bJli8iMsywGssYDg2/w3PjK/HLHncM9NqFVsYetWbNmUCMk/mFR3L6YPsPrOfQodrtcXJEJtx9+mGdHeKawGT7LFNrGjRuDgP6W/gtZvtg7b79nV191XfCgF56z3Nd+3fSr1aldO2wKXrnXCnFkwo17rZDbeeefZaMfuMdGeWIS/V20OTnJP26/2Y49rn9hR19SSnE9FMZ/ts2bN98UG5Jvn22ZcOO7tPA2Ur2U4wacZBs2bChoVP2elSt/9B+bWhS0aYHPtwQcGb3BBSsjXHSOAoHwly39ItHOszbp1+hr/t8NduLJxwd1P8Y8+JD/UrGz7btf/qSS1XX5cMrH9rMX3TrOv5AXLFiQcKlq1qxhGzduClKk6pcdWR9PwXvrrXdaK/9AVcD/aC/c1bRpE+vhwXb5ZJlwUxYU8bvphuE25IzTgun3iROfsh9XrrI/H/GnvMF24EH7BTFGt9z8Dzv88MNsg4swxRyp0FtPL/qmwo5Kx8u9lnhLZMKNe62QnT7r4y38wUmMVKA2/jtBM5JHHnW41/540OrXq2eVdqpk/7zzHtt77z2Dz7f4/eT6cibc+C4tvBu6d+9qd3hB32uvucn6uRu34krvuWeUdercwTp37sjnWyGqrVqiEOFW4WPjbBNQrvfzz704oeDUuedcFBz29jtuDl4VOKeChXIJ8VhF69qtc+CLr4fpfDLlIr/n7lEpT1nBwcrW8d//TrVH3Lc1tEfGP26PPTohyCrTzT90L7zoPKuXlOUj7Jurr5lyCwtkTp4cqzav7FcSI/lWX0D/N5WVaPasOYHbY5cunTwb2KDAJUtVqrnXUv+PyYQb91rxDOO/F5K/EzQrOWrkA/bssy8ECUp+5+Lj/AvOsmrVYrFvqfea+63J36fJ3PguLbwHvpj+pY0YcV9QO6aSJzXo3buXnekFfmvXrhUU8OXzrZBVaZcQIKUlx3YQgAAEIAABCEAAAhCAQMYEiAHJGBkbQAACEIAABCAAAQhAAAKlJYAAKS05toMABCAAAQhAAAIQgAAEMiaAAMkYGRtAAAIQgAAEIAABCEAAAqUlgAApLTm2gwAEIAABCEAAAhCAAAQyJoAAyRgZG0AAAhCAAAQgAAEIQAACpSWAACktObaDAAQgAAEIQAACEIAABDImgADJGBkbQAACEIAABCAAAQhAAAKlJYAAKS05toMABCCQAwTmz19g+/7hEFORsvtHjw2WN2zYmNaZaVttM2/e/LT60wkCEIAABCAgAhXAAAEIQAACEBCBgw7e3zp0bGfly6f329SCBQvtwQf+bZ27dLTGjRsBEQIQgAAEIJAWAQRIWpjoBAEIQCD3CTRt2sT0h0EAAhCAAASySQABkk267BsCEIBAhAjIteqB+8fYC8+/bD/+uMp23721HXtc/4IRyp1KMxqv/Oc5q1ChvC1ZstTuuXuUffTRJ7Z69WrbdddmduKJf7H/2Xcfe/75l+zG64cH2154wd/tkEMPsr//74W2bt16d8saY6+99qYtW7bMateqZXvu1dtOHzzIqlevFvS//rpb7JtvZtqZZw62ESPus2+//S7op7H0PfrIgvEsXrzE7r5rpH3wwZSgre3ubWzQaSdbx47tC/pMmvSMTXh8ks2bP98a1K9vRxz5J+vXv4/P4pQv6MMCBCAAAQhEiwACJFrXg9FAAAIQyBqBe/1h/7FHJ1ifvkdYly6dbPr0L+3aa24q9niXX3q1/fTTGjvjb6dZBX+gf/PNt+2qK6+1O/853Hr16mGDhwyyEffcZ6edfqrt5SJDdve/7rWXXnrVTjjxOGvWrKnNnj3HRc1DtsoFz5VXX1pwrAUeP3LN/91ox/2lv9Wte7Q98fiTdsftd7k7Vydr02Y3W7VqtZ1z1lCrULGCnXX2EKtUsaI96mMfev4wG/vQaKtfv14gdMaOHWf9+/e1Tp062Ndff2OjRj5g8+ctsPMuOKvgWCxAAAIQgEC0CCBAonU9GA0EIACBrBDQbMbEiU/Z8QOPtb/6LIJs3/3+YDvttJONHfNw8D7+n1WrVtkXX8zwmYtT7eCDDwhWqf915W8yxX506tzR2rVvG7S3bdfGWu3WMlhWYPrJpwy0YwYcHbz//T6/s1mz5tjUqZ8F78N/JGyuvf5q69atS9DUxmdjTjh+kE39dFogQCZOmGQLFy2yhx663xo13iXo09X7HtNvoL35xtu2j+/332PH26BBJ/s5DQjW7/OHvYPzuW/Ug/aX44+xBg0bBO38AwEIQAAC0SKAAInW9WA0EIAABLJC4NP/TrVf1v9ih7qrVLzt56IilQCpUaOGtWjZPHjIX7PmZ+vZq3vg+nTZFZfEb15k+cabrwnaFi5cZBIj8z1DlkTFxk2bEvpWc3esUHxoRaNGMZEhVy/ZlCkfWbt2bQvEh9rq1atrE54cZ5Uq7WSv/ecN27hxYzDzovGFtscePW3kvffb559/gQAJofAKAQhAIGIEECARuyAMBwIQgEA2CCxYsCjYbV1/iI+3nWvtHP82Yfkft99sj4x/3N5+6x0XIuOC2QXFc5xz7t/cbapOQt/wzauvvm4jPG5k6dJltssuDa1lqxamYyxbtjzsErxWqVIl4b1ZueD9pk2/Bq/Ll62w1m1aJfUxq+UxJTLFl8hOPWVI8Jr8z8qVPyY38R4CEIAABCJCAAESkQvBMCAAAQhkk0DVqrEHfj24N2nSuOBQS901K5X9+uuvHjRePYjzUKzHihUr7L13P7B//nOE3Tr8Drv2uquKbDZ37vceU3KjHXnk4cF2lStXDvoo1iNZgBTZOKmhdp1aQRxIUrNNnvxhMFuiscluvOkaq7L53OL7khY4ngbLEIAABKJFIL1k79EaM6OBAAQgAIEMCXTrHou1eOXl/yRsqYDxVPbB+1PswP3/6IHdM4PVmnk47I+HWKeOHWzRwsWpNrGZM7+zTRs32WGHHWyh+Fi7dq19/tn0lP231NihQ3v7bNp0Fz4rC7p9NeNru/jCS4OYEsWDyNb/8ksQUK+gev2tW7suyJy1Zs2agu1YgAAEIACBaBFgBiRa14PRQAACEMgKgZYtWwSpcpWRSjET7T2AfNq0z+2tN99JebwuXTtZnTp17KorrrFjjj06WP7M+ys249RBJwbbVKtaNXh9+613rXbtWkHweIUKFeyuu+61vn2PtOXLl9tTk54N+vy0+qcgne5vf7tHyuMlNyo71rPPvGAXDv279evXJ4j3UKxKy5YtrHfvXu4OVik4n5tuGG7f+8yL6pdIAD36yBPWo2e3IGVw8j55DwEIQAAC0SCAAInGdWAUEIAABLJO4KKLz3MhUduef+5Fm/Tk09a1axdT0PgpJw0ucuyqLi6uu/6qIM3uPXeNsk0eRK6YDrlj9T+mb9C/tafLlaCQUChXrpyde96Zdtnlw0xZqOR21aLFrkHWLYmDYRdfZveOGB30L3KwFA2acfnHHTfZv+6MuXwpaL1nz+5BVi6JD9lFF5/vsSm72MQJTwUuXopv6dP3z3biScen2CNNEIAABCAQFQLl3M83FvEXlRExDghAAAIQgAAEIAABCEAgZwkQA5Kzl5YTgwAEIAABCEAAAhCAQPQIIECid00YEQQgAAEIQAACEIAABHKWAAIkZy8tJwYBCEAAAhCAAAQgAIHoEUCARO+aMCIIQAACEIAABCAAAQjkLAEESM5eWk4MAhCAAAQgAAEIQAAC0SOAAIneNWFEEIAABCAAAQhAAAIQyFkCCJCcvbScGAQgAAEIQAACEIAABKJHAAESvWvCiCAAAQhAAAIQgAAEIJCzBBAgOXtpOTEIQAACEIAABCAAAQhEjwACJHrXhBFBAAIQgAAEIAABCEAgZwkgQHL20nJiEIAABCAAAQhAAAIQiB4BBEj0rgkjggAEIAABCEAAAhCAQM4SQIDk7KXlxCAAAQhAAAIQgAAEIBA9AgiQ6F0TRgQBCEAAAhCAAAQgAIGcJYAAydlLy4lBAAIQgAAEIAABCEAgegQQING7JowIAhCAAAQgAAEIQAACOUsAAZKzl5YTgwAEIAABCEAAAhCAQPQIIECid00YEQQgAAEIQAACEIAABHKWAAIkZy8tJwYBCEAAAhCAAAQgAIHoEUCARO+aMCIIQAACEIAABCAAAQjkLAEESM5eWk4MAhCAAAQgAAEIQAAC0SOAAIneNWFEEIAABCAAAQhAAAIQyFkCCJCcvbScGAQgAAEIQAACEIAABKJHAAESvWvCiCAAAQhAAAIQgAAEIJCzBBAgOXtpOTEIQAACEIAABCAAAQhEjwACJHrXhBFBAAIQgAAEIAABCEAgZwkgQHL20nJiEIAABCAAAQhAAAIQiB4BBEj0rgkjggAEIAABCEAAAhCAQM4SQIDk7KXlxCAAAQhAAAIQgAAEIBA9AgiQ6F0TRgQBCEAAAhCAAAQgAIGcJYAAydlLy4lBAAIQgAAEIAABCEAgegQQING7JowIAhCAAAQgAAEIQAACOUsAAZKzl5YTgwAEIAABCEAAAhCAQPQIIECid00YEQQgAAEIQAACEIAABHKWAAIkZy8tJwYBCEAAAhCAAAQgAIHoEfj/n5Q/1enFN5IAAAAASUVORK5CYII=\" width=\"800\">"
      ],
      "text/plain": [
       "<IPython.core.display.HTML object>"
      ]
     },
     "metadata": {},
     "output_type": "display_data"
    }
   ],
   "source": [
    "population.display_fluxes(obs_color=green, true_color=red);"
   ]
  },
  {
   "cell_type": "markdown",
   "metadata": {},
   "source": [
    "For fun, we can display the fluxes on in a simulated universe in 3D"
   ]
  },
  {
   "cell_type": "code",
   "execution_count": 7,
   "metadata": {
    "ExecuteTime": {
     "end_time": "2020-04-06T08:08:40.806761Z",
     "start_time": "2020-04-06T08:08:40.725974Z"
    }
   },
   "outputs": [
    {
     "data": {
      "application/vnd.jupyter.widget-view+json": {
       "model_id": "8369011745be49c7b479735f03da6450",
       "version_major": 2,
       "version_minor": 0
      },
      "text/plain": [
       "VBox(children=(Figure(camera=PerspectiveCamera(fov=45.0, position=(0.0, 0.0, 2.0), quaternion=(0.0, 0.0, 0.0, …"
      ]
     },
     "metadata": {},
     "output_type": "display_data"
    },
    {
     "data": {
      "application/vnd.jupyter.widget-view+json": {
       "model_id": "41c313b739e5465eb4a23f414cba1fac",
       "version_major": 2,
       "version_minor": 0
      },
      "text/plain": [
       "ToggleButton(value=False, description='Rotate')"
      ]
     },
     "metadata": {},
     "output_type": "display_data"
    }
   ],
   "source": [
    "population.display_obs_fluxes_sphere()"
   ]
  },
  {
   "cell_type": "markdown",
   "metadata": {},
   "source": [
    "The population object stores a lot of information. For example, an array of selection booleans:"
   ]
  },
  {
   "cell_type": "code",
   "execution_count": null,
   "metadata": {
    "ExecuteTime": {
     "end_time": "2020-03-31T18:05:24.203346Z",
     "start_time": "2020-03-31T18:05:24.199542Z"
    }
   },
   "outputs": [],
   "source": [
    "population.selection"
   ]
  },
  {
   "cell_type": "markdown",
   "metadata": {},
   "source": [
    "We can retrieve selected and non-selected distances:"
   ]
  },
  {
   "cell_type": "code",
   "execution_count": null,
   "metadata": {
    "ExecuteTime": {
     "end_time": "2020-03-31T18:05:24.211852Z",
     "start_time": "2020-03-31T18:05:24.207688Z"
    }
   },
   "outputs": [],
   "source": [
    "population.selected_distances"
   ]
  },
  {
   "cell_type": "code",
   "execution_count": null,
   "metadata": {
    "ExecuteTime": {
     "end_time": "2020-03-31T18:05:24.218895Z",
     "start_time": "2020-03-31T18:05:24.214388Z"
    }
   },
   "outputs": [],
   "source": [
    "population.hidden_distances"
   ]
  },
  {
   "cell_type": "markdown",
   "metadata": {},
   "source": [
    "## Saving the population\n",
    "We can record the results of a population synth to an HDF5 file that maintains all the information from the run. The true values of the population parameters are always stored in the truth dictionary:\n"
   ]
  },
  {
   "cell_type": "code",
   "execution_count": null,
   "metadata": {
    "ExecuteTime": {
     "end_time": "2020-03-31T18:05:24.224150Z",
     "start_time": "2020-03-31T18:05:24.220914Z"
    }
   },
   "outputs": [],
   "source": [
    "population.truth"
   ]
  },
  {
   "cell_type": "code",
   "execution_count": null,
   "metadata": {
    "ExecuteTime": {
     "end_time": "2020-03-31T18:05:24.236652Z",
     "start_time": "2020-03-31T18:05:24.225566Z"
    }
   },
   "outputs": [],
   "source": [
    "population.writeto('saved_pop.h5')"
   ]
  },
  {
   "cell_type": "code",
   "execution_count": null,
   "metadata": {
    "ExecuteTime": {
     "end_time": "2020-03-31T18:05:24.248670Z",
     "start_time": "2020-03-31T18:05:24.238228Z"
    }
   },
   "outputs": [],
   "source": [
    "reloaded_population = popsynth.Population.from_file('saved_pop.h5')"
   ]
  },
  {
   "cell_type": "code",
   "execution_count": null,
   "metadata": {
    "ExecuteTime": {
     "end_time": "2020-03-31T18:05:24.254699Z",
     "start_time": "2020-03-31T18:05:24.250444Z"
    }
   },
   "outputs": [],
   "source": [
    "reloaded_population.truth"
   ]
  },
  {
   "cell_type": "code",
   "execution_count": null,
   "metadata": {},
   "outputs": [],
   "source": []
  }
 ],
 "metadata": {
  "kernelspec": {
   "display_name": "popsynth",
   "language": "python",
   "name": "popsynth"
  },
  "language_info": {
   "codemirror_mode": {
    "name": "ipython",
    "version": 3
   },
   "file_extension": ".py",
   "mimetype": "text/x-python",
   "name": "python",
   "nbconvert_exporter": "python",
   "pygments_lexer": "ipython3",
   "version": "3.7.7"
  }
 },
 "nbformat": 4,
 "nbformat_minor": 2
}
